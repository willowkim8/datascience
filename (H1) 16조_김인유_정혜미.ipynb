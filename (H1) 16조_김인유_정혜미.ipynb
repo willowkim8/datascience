{
 "cells": [
  {
   "cell_type": "code",
   "execution_count": 1,
   "id": "formal-cleaning",
   "metadata": {},
   "outputs": [],
   "source": [
    "import matplotlib.pyplot as plt\n",
    "%matplotlib inline\n",
    "%config InlineBackend.figure_format = 'retina'\n",
    "\n",
    "import warnings\n",
    "warnings.filterwarnings(\"ignore\")\n",
    "\n",
    "import os\n",
    "from os.path import join\n",
    "\n",
    "import pandas as pd\n",
    "import numpy as np\n",
    "\n",
    "import missingno as msno\n",
    "\n",
    "from sklearn.ensemble import GradientBoostingRegressor\n",
    "from sklearn.model_selection import KFold, cross_val_score\n",
    "import xgboost as xgb\n",
    "import lightgbm as lgb\n",
    "\n",
    "import matplotlib.pyplot as plt\n",
    "import seaborn as sns"
   ]
  },
  {
   "cell_type": "code",
   "execution_count": 2,
   "id": "encouraging-subscription",
   "metadata": {},
   "outputs": [],
   "source": [
    "data_dir = os.getenv('HOME')+'/aiffel/Exploration/1st_hackathon' \n",
    "\n",
    "train_data_path = join(data_dir, 'sales_train.csv') "
   ]
  },
  {
   "cell_type": "markdown",
   "id": "controlled-stone",
   "metadata": {},
   "source": [
    "# data 읽어보기"
   ]
  },
  {
   "cell_type": "markdown",
   "id": "moving-creation",
   "metadata": {},
   "source": [
    "sales_train.csv 데이터를 확인해보자"
   ]
  },
  {
   "cell_type": "code",
   "execution_count": 3,
   "id": "regulated-spell",
   "metadata": {},
   "outputs": [
    {
     "name": "stdout",
     "output_type": "stream",
     "text": [
      "train data dim : (2935849, 6)\n"
     ]
    }
   ],
   "source": [
    "data = pd.read_csv(train_data_path)\n",
    "print('train data dim : {}'.format(data.shape))"
   ]
  },
  {
   "cell_type": "code",
   "execution_count": 4,
   "id": "beautiful-career",
   "metadata": {},
   "outputs": [
    {
     "name": "stdout",
     "output_type": "stream",
     "text": [
      "Index(['date', 'date_block_num', 'shop_id', 'item_id', 'item_price',\n",
      "       'item_cnt_day'],\n",
      "      dtype='object')\n"
     ]
    }
   ],
   "source": [
    "print(data.columns)"
   ]
  },
  {
   "cell_type": "markdown",
   "id": "optical-devon",
   "metadata": {},
   "source": [
    "# item 확인하기"
   ]
  },
  {
   "cell_type": "markdown",
   "id": "analyzed-blogger",
   "metadata": {},
   "source": [
    "아이템 품명을 확인했더니 러시아 제품임을 알 수 있었다.  \n",
    "번역을 통해 어떤 물품에 대한 데이터 인지 알면 더 특징적으로 분석할 수 도 있겠지만,  \n",
    "이번에는 시간 관계상 짚고 넘어가지 않았다.  "
   ]
  },
  {
   "cell_type": "code",
   "execution_count": 5,
   "id": "geological-proposal",
   "metadata": {},
   "outputs": [
    {
     "data": {
      "text/html": [
       "<div>\n",
       "<style scoped>\n",
       "    .dataframe tbody tr th:only-of-type {\n",
       "        vertical-align: middle;\n",
       "    }\n",
       "\n",
       "    .dataframe tbody tr th {\n",
       "        vertical-align: top;\n",
       "    }\n",
       "\n",
       "    .dataframe thead th {\n",
       "        text-align: right;\n",
       "    }\n",
       "</style>\n",
       "<table border=\"1\" class=\"dataframe\">\n",
       "  <thead>\n",
       "    <tr style=\"text-align: right;\">\n",
       "      <th></th>\n",
       "      <th>item_name</th>\n",
       "      <th>item_id</th>\n",
       "      <th>item_category_id</th>\n",
       "    </tr>\n",
       "  </thead>\n",
       "  <tbody>\n",
       "    <tr>\n",
       "      <th>0</th>\n",
       "      <td>! ВО ВЛАСТИ НАВАЖДЕНИЯ (ПЛАСТ.)         D</td>\n",
       "      <td>0</td>\n",
       "      <td>40</td>\n",
       "    </tr>\n",
       "    <tr>\n",
       "      <th>1</th>\n",
       "      <td>!ABBYY FineReader 12 Professional Edition Full...</td>\n",
       "      <td>1</td>\n",
       "      <td>76</td>\n",
       "    </tr>\n",
       "    <tr>\n",
       "      <th>2</th>\n",
       "      <td>***В ЛУЧАХ СЛАВЫ   (UNV)                    D</td>\n",
       "      <td>2</td>\n",
       "      <td>40</td>\n",
       "    </tr>\n",
       "    <tr>\n",
       "      <th>3</th>\n",
       "      <td>***ГОЛУБАЯ ВОЛНА  (Univ)                      D</td>\n",
       "      <td>3</td>\n",
       "      <td>40</td>\n",
       "    </tr>\n",
       "    <tr>\n",
       "      <th>4</th>\n",
       "      <td>***КОРОБКА (СТЕКЛО)                       D</td>\n",
       "      <td>4</td>\n",
       "      <td>40</td>\n",
       "    </tr>\n",
       "    <tr>\n",
       "      <th>5</th>\n",
       "      <td>***НОВЫЕ АМЕРИКАНСКИЕ ГРАФФИТИ  (UNI)         ...</td>\n",
       "      <td>5</td>\n",
       "      <td>40</td>\n",
       "    </tr>\n",
       "    <tr>\n",
       "      <th>6</th>\n",
       "      <td>***УДАР ПО ВОРОТАМ (UNI)               D</td>\n",
       "      <td>6</td>\n",
       "      <td>40</td>\n",
       "    </tr>\n",
       "    <tr>\n",
       "      <th>7</th>\n",
       "      <td>***УДАР ПО ВОРОТАМ-2 (UNI)               D</td>\n",
       "      <td>7</td>\n",
       "      <td>40</td>\n",
       "    </tr>\n",
       "    <tr>\n",
       "      <th>8</th>\n",
       "      <td>***ЧАЙ С МУССОЛИНИ                     D</td>\n",
       "      <td>8</td>\n",
       "      <td>40</td>\n",
       "    </tr>\n",
       "    <tr>\n",
       "      <th>9</th>\n",
       "      <td>***ШУГАРЛЭНДСКИЙ ЭКСПРЕСС (UNI)             D</td>\n",
       "      <td>9</td>\n",
       "      <td>40</td>\n",
       "    </tr>\n",
       "  </tbody>\n",
       "</table>\n",
       "</div>"
      ],
      "text/plain": [
       "                                           item_name  item_id  \\\n",
       "0          ! ВО ВЛАСТИ НАВАЖДЕНИЯ (ПЛАСТ.)         D        0   \n",
       "1  !ABBYY FineReader 12 Professional Edition Full...        1   \n",
       "2      ***В ЛУЧАХ СЛАВЫ   (UNV)                    D        2   \n",
       "3    ***ГОЛУБАЯ ВОЛНА  (Univ)                      D        3   \n",
       "4        ***КОРОБКА (СТЕКЛО)                       D        4   \n",
       "5  ***НОВЫЕ АМЕРИКАНСКИЕ ГРАФФИТИ  (UNI)         ...        5   \n",
       "6           ***УДАР ПО ВОРОТАМ (UNI)               D        6   \n",
       "7         ***УДАР ПО ВОРОТАМ-2 (UNI)               D        7   \n",
       "8           ***ЧАЙ С МУССОЛИНИ                     D        8   \n",
       "9      ***ШУГАРЛЭНДСКИЙ ЭКСПРЕСС (UNI)             D        9   \n",
       "\n",
       "   item_category_id  \n",
       "0                40  \n",
       "1                76  \n",
       "2                40  \n",
       "3                40  \n",
       "4                40  \n",
       "5                40  \n",
       "6                40  \n",
       "7                40  \n",
       "8                40  \n",
       "9                40  "
      ]
     },
     "execution_count": 5,
     "metadata": {},
     "output_type": "execute_result"
    }
   ],
   "source": [
    "# 확인하기\n",
    "items = pd.read_csv('items.csv')\n",
    "items.head(10)"
   ]
  },
  {
   "cell_type": "markdown",
   "id": "wireless-grammar",
   "metadata": {},
   "source": [
    "# test 와 data와의 관계들"
   ]
  },
  {
   "cell_type": "code",
   "execution_count": 6,
   "id": "welsh-basin",
   "metadata": {},
   "outputs": [
    {
     "name": "stdout",
     "output_type": "stream",
     "text": [
      "214200\n"
     ]
    },
    {
     "data": {
      "text/html": [
       "<div>\n",
       "<style scoped>\n",
       "    .dataframe tbody tr th:only-of-type {\n",
       "        vertical-align: middle;\n",
       "    }\n",
       "\n",
       "    .dataframe tbody tr th {\n",
       "        vertical-align: top;\n",
       "    }\n",
       "\n",
       "    .dataframe thead th {\n",
       "        text-align: right;\n",
       "    }\n",
       "</style>\n",
       "<table border=\"1\" class=\"dataframe\">\n",
       "  <thead>\n",
       "    <tr style=\"text-align: right;\">\n",
       "      <th></th>\n",
       "      <th>ID</th>\n",
       "      <th>item_cnt_month</th>\n",
       "    </tr>\n",
       "  </thead>\n",
       "  <tbody>\n",
       "    <tr>\n",
       "      <th>0</th>\n",
       "      <td>0</td>\n",
       "      <td>0.5</td>\n",
       "    </tr>\n",
       "    <tr>\n",
       "      <th>1</th>\n",
       "      <td>1</td>\n",
       "      <td>0.5</td>\n",
       "    </tr>\n",
       "    <tr>\n",
       "      <th>2</th>\n",
       "      <td>2</td>\n",
       "      <td>0.5</td>\n",
       "    </tr>\n",
       "    <tr>\n",
       "      <th>3</th>\n",
       "      <td>3</td>\n",
       "      <td>0.5</td>\n",
       "    </tr>\n",
       "    <tr>\n",
       "      <th>4</th>\n",
       "      <td>4</td>\n",
       "      <td>0.5</td>\n",
       "    </tr>\n",
       "    <tr>\n",
       "      <th>...</th>\n",
       "      <td>...</td>\n",
       "      <td>...</td>\n",
       "    </tr>\n",
       "    <tr>\n",
       "      <th>214195</th>\n",
       "      <td>214195</td>\n",
       "      <td>0.5</td>\n",
       "    </tr>\n",
       "    <tr>\n",
       "      <th>214196</th>\n",
       "      <td>214196</td>\n",
       "      <td>0.5</td>\n",
       "    </tr>\n",
       "    <tr>\n",
       "      <th>214197</th>\n",
       "      <td>214197</td>\n",
       "      <td>0.5</td>\n",
       "    </tr>\n",
       "    <tr>\n",
       "      <th>214198</th>\n",
       "      <td>214198</td>\n",
       "      <td>0.5</td>\n",
       "    </tr>\n",
       "    <tr>\n",
       "      <th>214199</th>\n",
       "      <td>214199</td>\n",
       "      <td>0.5</td>\n",
       "    </tr>\n",
       "  </tbody>\n",
       "</table>\n",
       "<p>214200 rows × 2 columns</p>\n",
       "</div>"
      ],
      "text/plain": [
       "            ID  item_cnt_month\n",
       "0            0             0.5\n",
       "1            1             0.5\n",
       "2            2             0.5\n",
       "3            3             0.5\n",
       "4            4             0.5\n",
       "...        ...             ...\n",
       "214195  214195             0.5\n",
       "214196  214196             0.5\n",
       "214197  214197             0.5\n",
       "214198  214198             0.5\n",
       "214199  214199             0.5\n",
       "\n",
       "[214200 rows x 2 columns]"
      ]
     },
     "execution_count": 6,
     "metadata": {},
     "output_type": "execute_result"
    }
   ],
   "source": [
    "sample = pd.read_csv('sample_submission.csv')\n",
    "print(len(sample)) \n",
    "sample"
   ]
  },
  {
   "cell_type": "code",
   "execution_count": 7,
   "id": "random-photograph",
   "metadata": {},
   "outputs": [
    {
     "name": "stdout",
     "output_type": "stream",
     "text": [
      "214200\n"
     ]
    },
    {
     "data": {
      "text/html": [
       "<div>\n",
       "<style scoped>\n",
       "    .dataframe tbody tr th:only-of-type {\n",
       "        vertical-align: middle;\n",
       "    }\n",
       "\n",
       "    .dataframe tbody tr th {\n",
       "        vertical-align: top;\n",
       "    }\n",
       "\n",
       "    .dataframe thead th {\n",
       "        text-align: right;\n",
       "    }\n",
       "</style>\n",
       "<table border=\"1\" class=\"dataframe\">\n",
       "  <thead>\n",
       "    <tr style=\"text-align: right;\">\n",
       "      <th></th>\n",
       "      <th>ID</th>\n",
       "      <th>shop_id</th>\n",
       "      <th>item_id</th>\n",
       "    </tr>\n",
       "  </thead>\n",
       "  <tbody>\n",
       "    <tr>\n",
       "      <th>0</th>\n",
       "      <td>0</td>\n",
       "      <td>5</td>\n",
       "      <td>5037</td>\n",
       "    </tr>\n",
       "    <tr>\n",
       "      <th>1</th>\n",
       "      <td>1</td>\n",
       "      <td>5</td>\n",
       "      <td>5320</td>\n",
       "    </tr>\n",
       "    <tr>\n",
       "      <th>2</th>\n",
       "      <td>2</td>\n",
       "      <td>5</td>\n",
       "      <td>5233</td>\n",
       "    </tr>\n",
       "    <tr>\n",
       "      <th>3</th>\n",
       "      <td>3</td>\n",
       "      <td>5</td>\n",
       "      <td>5232</td>\n",
       "    </tr>\n",
       "    <tr>\n",
       "      <th>4</th>\n",
       "      <td>4</td>\n",
       "      <td>5</td>\n",
       "      <td>5268</td>\n",
       "    </tr>\n",
       "    <tr>\n",
       "      <th>...</th>\n",
       "      <td>...</td>\n",
       "      <td>...</td>\n",
       "      <td>...</td>\n",
       "    </tr>\n",
       "    <tr>\n",
       "      <th>214195</th>\n",
       "      <td>214195</td>\n",
       "      <td>45</td>\n",
       "      <td>18454</td>\n",
       "    </tr>\n",
       "    <tr>\n",
       "      <th>214196</th>\n",
       "      <td>214196</td>\n",
       "      <td>45</td>\n",
       "      <td>16188</td>\n",
       "    </tr>\n",
       "    <tr>\n",
       "      <th>214197</th>\n",
       "      <td>214197</td>\n",
       "      <td>45</td>\n",
       "      <td>15757</td>\n",
       "    </tr>\n",
       "    <tr>\n",
       "      <th>214198</th>\n",
       "      <td>214198</td>\n",
       "      <td>45</td>\n",
       "      <td>19648</td>\n",
       "    </tr>\n",
       "    <tr>\n",
       "      <th>214199</th>\n",
       "      <td>214199</td>\n",
       "      <td>45</td>\n",
       "      <td>969</td>\n",
       "    </tr>\n",
       "  </tbody>\n",
       "</table>\n",
       "<p>214200 rows × 3 columns</p>\n",
       "</div>"
      ],
      "text/plain": [
       "            ID  shop_id  item_id\n",
       "0            0        5     5037\n",
       "1            1        5     5320\n",
       "2            2        5     5233\n",
       "3            3        5     5232\n",
       "4            4        5     5268\n",
       "...        ...      ...      ...\n",
       "214195  214195       45    18454\n",
       "214196  214196       45    16188\n",
       "214197  214197       45    15757\n",
       "214198  214198       45    19648\n",
       "214199  214199       45      969\n",
       "\n",
       "[214200 rows x 3 columns]"
      ]
     },
     "execution_count": 7,
     "metadata": {},
     "output_type": "execute_result"
    }
   ],
   "source": [
    "test = pd.read_csv('test.csv')\n",
    "print(len(test)) # test 개수가 바로 추측해야하는 아이템 개수\n",
    "test"
   ]
  },
  {
   "cell_type": "markdown",
   "id": "introductory-press",
   "metadata": {},
   "source": [
    "> len(sample) == len(test)  \n",
    "동일함 확인"
   ]
  },
  {
   "cell_type": "code",
   "execution_count": 8,
   "id": "flying-award",
   "metadata": {},
   "outputs": [
    {
     "data": {
      "text/plain": [
       "array([[     0,      5,   5037],\n",
       "       [     1,      5,   5320],\n",
       "       [     2,      5,   5233],\n",
       "       ...,\n",
       "       [214197,     45,  15757],\n",
       "       [214198,     45,  19648],\n",
       "       [214199,     45,    969]])"
      ]
     },
     "execution_count": 8,
     "metadata": {},
     "output_type": "execute_result"
    }
   ],
   "source": [
    "test_ndarray = test.values\n",
    "test_ndarray"
   ]
  },
  {
   "cell_type": "code",
   "execution_count": 9,
   "id": "spare-religious",
   "metadata": {},
   "outputs": [
    {
     "data": {
      "text/plain": [
       "array([ 5037,  5320,  5233, ..., 15757, 19648,   969])"
      ]
     },
     "execution_count": 9,
     "metadata": {},
     "output_type": "execute_result"
    }
   ],
   "source": [
    "test_item_id = test_ndarray[:, 2]\n",
    "test_item_id"
   ]
  },
  {
   "cell_type": "code",
   "execution_count": 10,
   "id": "stunning-franklin",
   "metadata": {},
   "outputs": [
    {
     "name": "stdout",
     "output_type": "stream",
     "text": [
      "5100\n"
     ]
    },
    {
     "data": {
      "text/plain": [
       "array([   30,    31,    32, ..., 22164, 22166, 22167])"
      ]
     },
     "execution_count": 10,
     "metadata": {},
     "output_type": "execute_result"
    }
   ],
   "source": [
    "test_item_id_uniq = np.unique(test_item_id)\n",
    "print(len(test_item_id_uniq))\n",
    "test_item_id_uniq"
   ]
  },
  {
   "cell_type": "code",
   "execution_count": 11,
   "id": "played-combine",
   "metadata": {},
   "outputs": [
    {
     "data": {
      "text/plain": [
       "array([['02.01.2013', 0, 59, 22154, 999.0, 1.0],\n",
       "       ['03.01.2013', 0, 25, 2552, 899.0, 1.0],\n",
       "       ['05.01.2013', 0, 25, 2552, 899.0, -1.0],\n",
       "       ...,\n",
       "       ['14.10.2015', 33, 25, 7459, 349.0, 1.0],\n",
       "       ['22.10.2015', 33, 25, 7440, 299.0, 1.0],\n",
       "       ['03.10.2015', 33, 25, 7460, 299.0, 1.0]], dtype=object)"
      ]
     },
     "execution_count": 11,
     "metadata": {},
     "output_type": "execute_result"
    }
   ],
   "source": [
    "data_ndarray = data.values\n",
    "data_ndarray"
   ]
  },
  {
   "cell_type": "code",
   "execution_count": 12,
   "id": "applicable-discrimination",
   "metadata": {},
   "outputs": [
    {
     "name": "stdout",
     "output_type": "stream",
     "text": [
      "2935849\n"
     ]
    },
    {
     "data": {
      "text/plain": [
       "array([22154, 2552, 2552, ..., 7459, 7440, 7460], dtype=object)"
      ]
     },
     "execution_count": 12,
     "metadata": {},
     "output_type": "execute_result"
    }
   ],
   "source": [
    "# item_id만 array로\n",
    "data_item_id = data_ndarray[:, 3]\n",
    "print(len(data_item_id))\n",
    "data_item_id"
   ]
  },
  {
   "cell_type": "code",
   "execution_count": 13,
   "id": "smart-membership",
   "metadata": {},
   "outputs": [
    {
     "name": "stdout",
     "output_type": "stream",
     "text": [
      "21807\n"
     ]
    },
    {
     "data": {
      "text/plain": [
       "array([0, 1, 2, ..., 22167, 22168, 22169], dtype=object)"
      ]
     },
     "execution_count": 13,
     "metadata": {},
     "output_type": "execute_result"
    }
   ],
   "source": [
    "item_id_uniq = np.unique(data_item_id)\n",
    "print(len(item_id_uniq))\n",
    "item_id_uniq"
   ]
  },
  {
   "cell_type": "code",
   "execution_count": 14,
   "id": "mysterious-banking",
   "metadata": {
    "scrolled": true
   },
   "outputs": [
    {
     "name": "stdout",
     "output_type": "stream",
     "text": [
      "363\n"
     ]
    }
   ],
   "source": [
    "test_only = set(test_item_id_uniq) - set(item_id_uniq)\n",
    "print(len(test_only))\n",
    "# test_only"
   ]
  },
  {
   "cell_type": "markdown",
   "id": "confidential-cabin",
   "metadata": {},
   "source": [
    "위를 통해 2015년에 새롭게 판매되는 제품이 있다는 것을 알게 되었다.  \n",
    "  \n",
    "test에만 있고 train에만 있는 것,   \n",
    "11월 신상품이 363개라고 해석할 수 있다.     \n",
    "    \n",
    "어떻게 해야 신상품의 첫 달 판매량을 구할 수 있을까 고민하다가   \n",
    "10 -> 15년 11월  \n",
    "21 -> 16년 11월   \n",
    "신상품의 평균 판매량을 확인하게 되었다.  \n",
    "이땐 몰랐다. 이걸 알게 되어도 어떻게 써먹어야하는 줄 모르는 줄은 ㅎ "
   ]
  },
  {
   "cell_type": "markdown",
   "id": "structural-complement",
   "metadata": {},
   "source": [
    "# 13년 11월 신상품"
   ]
  },
  {
   "cell_type": "code",
   "execution_count": 15,
   "id": "formal-prediction",
   "metadata": {},
   "outputs": [
    {
     "data": {
      "text/html": [
       "<div>\n",
       "<style scoped>\n",
       "    .dataframe tbody tr th:only-of-type {\n",
       "        vertical-align: middle;\n",
       "    }\n",
       "\n",
       "    .dataframe tbody tr th {\n",
       "        vertical-align: top;\n",
       "    }\n",
       "\n",
       "    .dataframe thead th {\n",
       "        text-align: right;\n",
       "    }\n",
       "</style>\n",
       "<table border=\"1\" class=\"dataframe\">\n",
       "  <thead>\n",
       "    <tr style=\"text-align: right;\">\n",
       "      <th></th>\n",
       "      <th>date</th>\n",
       "      <th>date_block_num</th>\n",
       "      <th>shop_id</th>\n",
       "      <th>item_id</th>\n",
       "      <th>item_price</th>\n",
       "      <th>item_cnt_day</th>\n",
       "    </tr>\n",
       "  </thead>\n",
       "  <tbody>\n",
       "    <tr>\n",
       "      <th>0</th>\n",
       "      <td>02.01.2013</td>\n",
       "      <td>0</td>\n",
       "      <td>59</td>\n",
       "      <td>22154</td>\n",
       "      <td>999.00</td>\n",
       "      <td>1.0</td>\n",
       "    </tr>\n",
       "    <tr>\n",
       "      <th>1</th>\n",
       "      <td>03.01.2013</td>\n",
       "      <td>0</td>\n",
       "      <td>25</td>\n",
       "      <td>2552</td>\n",
       "      <td>899.00</td>\n",
       "      <td>1.0</td>\n",
       "    </tr>\n",
       "    <tr>\n",
       "      <th>2</th>\n",
       "      <td>05.01.2013</td>\n",
       "      <td>0</td>\n",
       "      <td>25</td>\n",
       "      <td>2552</td>\n",
       "      <td>899.00</td>\n",
       "      <td>-1.0</td>\n",
       "    </tr>\n",
       "    <tr>\n",
       "      <th>3</th>\n",
       "      <td>06.01.2013</td>\n",
       "      <td>0</td>\n",
       "      <td>25</td>\n",
       "      <td>2554</td>\n",
       "      <td>1709.05</td>\n",
       "      <td>1.0</td>\n",
       "    </tr>\n",
       "    <tr>\n",
       "      <th>4</th>\n",
       "      <td>15.01.2013</td>\n",
       "      <td>0</td>\n",
       "      <td>25</td>\n",
       "      <td>2555</td>\n",
       "      <td>1099.00</td>\n",
       "      <td>1.0</td>\n",
       "    </tr>\n",
       "    <tr>\n",
       "      <th>...</th>\n",
       "      <td>...</td>\n",
       "      <td>...</td>\n",
       "      <td>...</td>\n",
       "      <td>...</td>\n",
       "      <td>...</td>\n",
       "      <td>...</td>\n",
       "    </tr>\n",
       "    <tr>\n",
       "      <th>2935844</th>\n",
       "      <td>10.10.2015</td>\n",
       "      <td>33</td>\n",
       "      <td>25</td>\n",
       "      <td>7409</td>\n",
       "      <td>299.00</td>\n",
       "      <td>1.0</td>\n",
       "    </tr>\n",
       "    <tr>\n",
       "      <th>2935845</th>\n",
       "      <td>09.10.2015</td>\n",
       "      <td>33</td>\n",
       "      <td>25</td>\n",
       "      <td>7460</td>\n",
       "      <td>299.00</td>\n",
       "      <td>1.0</td>\n",
       "    </tr>\n",
       "    <tr>\n",
       "      <th>2935846</th>\n",
       "      <td>14.10.2015</td>\n",
       "      <td>33</td>\n",
       "      <td>25</td>\n",
       "      <td>7459</td>\n",
       "      <td>349.00</td>\n",
       "      <td>1.0</td>\n",
       "    </tr>\n",
       "    <tr>\n",
       "      <th>2935847</th>\n",
       "      <td>22.10.2015</td>\n",
       "      <td>33</td>\n",
       "      <td>25</td>\n",
       "      <td>7440</td>\n",
       "      <td>299.00</td>\n",
       "      <td>1.0</td>\n",
       "    </tr>\n",
       "    <tr>\n",
       "      <th>2935848</th>\n",
       "      <td>03.10.2015</td>\n",
       "      <td>33</td>\n",
       "      <td>25</td>\n",
       "      <td>7460</td>\n",
       "      <td>299.00</td>\n",
       "      <td>1.0</td>\n",
       "    </tr>\n",
       "  </tbody>\n",
       "</table>\n",
       "<p>2935849 rows × 6 columns</p>\n",
       "</div>"
      ],
      "text/plain": [
       "               date  date_block_num  shop_id  item_id  item_price  \\\n",
       "0        02.01.2013               0       59    22154      999.00   \n",
       "1        03.01.2013               0       25     2552      899.00   \n",
       "2        05.01.2013               0       25     2552      899.00   \n",
       "3        06.01.2013               0       25     2554     1709.05   \n",
       "4        15.01.2013               0       25     2555     1099.00   \n",
       "...             ...             ...      ...      ...         ...   \n",
       "2935844  10.10.2015              33       25     7409      299.00   \n",
       "2935845  09.10.2015              33       25     7460      299.00   \n",
       "2935846  14.10.2015              33       25     7459      349.00   \n",
       "2935847  22.10.2015              33       25     7440      299.00   \n",
       "2935848  03.10.2015              33       25     7460      299.00   \n",
       "\n",
       "         item_cnt_day  \n",
       "0                 1.0  \n",
       "1                 1.0  \n",
       "2                -1.0  \n",
       "3                 1.0  \n",
       "4                 1.0  \n",
       "...               ...  \n",
       "2935844           1.0  \n",
       "2935845           1.0  \n",
       "2935846           1.0  \n",
       "2935847           1.0  \n",
       "2935848           1.0  \n",
       "\n",
       "[2935849 rows x 6 columns]"
      ]
     },
     "execution_count": 15,
     "metadata": {},
     "output_type": "execute_result"
    }
   ],
   "source": [
    "data"
   ]
  },
  {
   "cell_type": "code",
   "execution_count": 16,
   "id": "broad-cambodia",
   "metadata": {},
   "outputs": [
    {
     "data": {
      "text/html": [
       "<div>\n",
       "<style scoped>\n",
       "    .dataframe tbody tr th:only-of-type {\n",
       "        vertical-align: middle;\n",
       "    }\n",
       "\n",
       "    .dataframe tbody tr th {\n",
       "        vertical-align: top;\n",
       "    }\n",
       "\n",
       "    .dataframe thead th {\n",
       "        text-align: right;\n",
       "    }\n",
       "</style>\n",
       "<table border=\"1\" class=\"dataframe\">\n",
       "  <thead>\n",
       "    <tr style=\"text-align: right;\">\n",
       "      <th></th>\n",
       "      <th>date_block_num</th>\n",
       "      <th>item_id</th>\n",
       "    </tr>\n",
       "  </thead>\n",
       "  <tbody>\n",
       "    <tr>\n",
       "      <th>0</th>\n",
       "      <td>0</td>\n",
       "      <td>22154</td>\n",
       "    </tr>\n",
       "    <tr>\n",
       "      <th>1</th>\n",
       "      <td>0</td>\n",
       "      <td>2552</td>\n",
       "    </tr>\n",
       "    <tr>\n",
       "      <th>2</th>\n",
       "      <td>0</td>\n",
       "      <td>2552</td>\n",
       "    </tr>\n",
       "    <tr>\n",
       "      <th>3</th>\n",
       "      <td>0</td>\n",
       "      <td>2554</td>\n",
       "    </tr>\n",
       "    <tr>\n",
       "      <th>4</th>\n",
       "      <td>0</td>\n",
       "      <td>2555</td>\n",
       "    </tr>\n",
       "    <tr>\n",
       "      <th>...</th>\n",
       "      <td>...</td>\n",
       "      <td>...</td>\n",
       "    </tr>\n",
       "    <tr>\n",
       "      <th>2935844</th>\n",
       "      <td>33</td>\n",
       "      <td>7409</td>\n",
       "    </tr>\n",
       "    <tr>\n",
       "      <th>2935845</th>\n",
       "      <td>33</td>\n",
       "      <td>7460</td>\n",
       "    </tr>\n",
       "    <tr>\n",
       "      <th>2935846</th>\n",
       "      <td>33</td>\n",
       "      <td>7459</td>\n",
       "    </tr>\n",
       "    <tr>\n",
       "      <th>2935847</th>\n",
       "      <td>33</td>\n",
       "      <td>7440</td>\n",
       "    </tr>\n",
       "    <tr>\n",
       "      <th>2935848</th>\n",
       "      <td>33</td>\n",
       "      <td>7460</td>\n",
       "    </tr>\n",
       "  </tbody>\n",
       "</table>\n",
       "<p>2935849 rows × 2 columns</p>\n",
       "</div>"
      ],
      "text/plain": [
       "         date_block_num  item_id\n",
       "0                     0    22154\n",
       "1                     0     2552\n",
       "2                     0     2552\n",
       "3                     0     2554\n",
       "4                     0     2555\n",
       "...                 ...      ...\n",
       "2935844              33     7409\n",
       "2935845              33     7460\n",
       "2935846              33     7459\n",
       "2935847              33     7440\n",
       "2935848              33     7460\n",
       "\n",
       "[2935849 rows x 2 columns]"
      ]
     },
     "execution_count": 16,
     "metadata": {},
     "output_type": "execute_result"
    }
   ],
   "source": [
    "num_item_id = data.loc[:, ['date_block_num', 'item_id']]\n",
    "num_item_id"
   ]
  },
  {
   "cell_type": "markdown",
   "id": "according-sector",
   "metadata": {},
   "source": [
    "## 13년 10월"
   ]
  },
  {
   "cell_type": "code",
   "execution_count": 17,
   "id": "colored-dispute",
   "metadata": {},
   "outputs": [
    {
     "data": {
      "text/html": [
       "<div>\n",
       "<style scoped>\n",
       "    .dataframe tbody tr th:only-of-type {\n",
       "        vertical-align: middle;\n",
       "    }\n",
       "\n",
       "    .dataframe tbody tr th {\n",
       "        vertical-align: top;\n",
       "    }\n",
       "\n",
       "    .dataframe thead th {\n",
       "        text-align: right;\n",
       "    }\n",
       "</style>\n",
       "<table border=\"1\" class=\"dataframe\">\n",
       "  <thead>\n",
       "    <tr style=\"text-align: right;\">\n",
       "      <th></th>\n",
       "      <th>date_block_num</th>\n",
       "      <th>item_id</th>\n",
       "    </tr>\n",
       "  </thead>\n",
       "  <tbody>\n",
       "    <tr>\n",
       "      <th>0</th>\n",
       "      <td>0</td>\n",
       "      <td>22154</td>\n",
       "    </tr>\n",
       "    <tr>\n",
       "      <th>1</th>\n",
       "      <td>0</td>\n",
       "      <td>2552</td>\n",
       "    </tr>\n",
       "    <tr>\n",
       "      <th>2</th>\n",
       "      <td>0</td>\n",
       "      <td>2552</td>\n",
       "    </tr>\n",
       "    <tr>\n",
       "      <th>3</th>\n",
       "      <td>0</td>\n",
       "      <td>2554</td>\n",
       "    </tr>\n",
       "    <tr>\n",
       "      <th>4</th>\n",
       "      <td>0</td>\n",
       "      <td>2555</td>\n",
       "    </tr>\n",
       "    <tr>\n",
       "      <th>...</th>\n",
       "      <td>...</td>\n",
       "      <td>...</td>\n",
       "    </tr>\n",
       "    <tr>\n",
       "      <th>1027575</th>\n",
       "      <td>9</td>\n",
       "      <td>11812</td>\n",
       "    </tr>\n",
       "    <tr>\n",
       "      <th>1027576</th>\n",
       "      <td>9</td>\n",
       "      <td>11811</td>\n",
       "    </tr>\n",
       "    <tr>\n",
       "      <th>1027577</th>\n",
       "      <td>9</td>\n",
       "      <td>11623</td>\n",
       "    </tr>\n",
       "    <tr>\n",
       "      <th>1027578</th>\n",
       "      <td>9</td>\n",
       "      <td>5680</td>\n",
       "    </tr>\n",
       "    <tr>\n",
       "      <th>1027579</th>\n",
       "      <td>9</td>\n",
       "      <td>5682</td>\n",
       "    </tr>\n",
       "  </tbody>\n",
       "</table>\n",
       "<p>1027580 rows × 2 columns</p>\n",
       "</div>"
      ],
      "text/plain": [
       "         date_block_num  item_id\n",
       "0                     0    22154\n",
       "1                     0     2552\n",
       "2                     0     2552\n",
       "3                     0     2554\n",
       "4                     0     2555\n",
       "...                 ...      ...\n",
       "1027575               9    11812\n",
       "1027576               9    11811\n",
       "1027577               9    11623\n",
       "1027578               9     5680\n",
       "1027579               9     5682\n",
       "\n",
       "[1027580 rows x 2 columns]"
      ]
     },
     "execution_count": 17,
     "metadata": {},
     "output_type": "execute_result"
    }
   ],
   "source": [
    "# 13년 10월\n",
    "tt_oct = num_item_id[num_item_id['date_block_num'].isin([0,1,2,3,4,5,6,7,8,9])]\n",
    "tt_oct"
   ]
  },
  {
   "cell_type": "code",
   "execution_count": 18,
   "id": "strong-democrat",
   "metadata": {},
   "outputs": [
    {
     "data": {
      "text/plain": [
       "array([[    0, 22154],\n",
       "       [    0,  2552],\n",
       "       [    0,  2552],\n",
       "       ...,\n",
       "       [    9, 11623],\n",
       "       [    9,  5680],\n",
       "       [    9,  5682]])"
      ]
     },
     "execution_count": 18,
     "metadata": {},
     "output_type": "execute_result"
    }
   ],
   "source": [
    "# 13 oct -> array\n",
    "tt_oct_array = tt_oct.values\n",
    "tt_oct_array"
   ]
  },
  {
   "cell_type": "code",
   "execution_count": 19,
   "id": "biblical-dressing",
   "metadata": {},
   "outputs": [
    {
     "name": "stdout",
     "output_type": "stream",
     "text": [
      "1027580\n"
     ]
    },
    {
     "data": {
      "text/plain": [
       "array([22154,  2552,  2552, ..., 11623,  5680,  5682])"
      ]
     },
     "execution_count": 19,
     "metadata": {},
     "output_type": "execute_result"
    }
   ],
   "source": [
    "# 13 oct array에서 추출 \n",
    "tt_oct_item = tt_oct_array[:, 1]\n",
    "print(len(tt_oct_item))\n",
    "tt_oct_item"
   ]
  },
  {
   "cell_type": "code",
   "execution_count": 20,
   "id": "hybrid-spiritual",
   "metadata": {},
   "outputs": [
    {
     "name": "stdout",
     "output_type": "stream",
     "text": [
      "13946\n"
     ]
    },
    {
     "data": {
      "text/plain": [
       "array([   12,    19,    27, ..., 22166, 22167, 22168])"
      ]
     },
     "execution_count": 20,
     "metadata": {},
     "output_type": "execute_result"
    }
   ],
   "source": [
    "# 중복제거\n",
    "tt_oct_item_uniq = np.unique(tt_oct_item)\n",
    "print(len(tt_oct_item_uniq))\n",
    "tt_oct_item_uniq"
   ]
  },
  {
   "cell_type": "markdown",
   "id": "logical-anchor",
   "metadata": {},
   "source": [
    "13년 10월까지 판매된 제품의 종류 개수는 13946개이다. "
   ]
  },
  {
   "cell_type": "markdown",
   "id": "embedded-investment",
   "metadata": {},
   "source": [
    "## 13년 11월"
   ]
  },
  {
   "cell_type": "code",
   "execution_count": 21,
   "id": "comfortable-somewhere",
   "metadata": {},
   "outputs": [
    {
     "data": {
      "text/html": [
       "<div>\n",
       "<style scoped>\n",
       "    .dataframe tbody tr th:only-of-type {\n",
       "        vertical-align: middle;\n",
       "    }\n",
       "\n",
       "    .dataframe tbody tr th {\n",
       "        vertical-align: top;\n",
       "    }\n",
       "\n",
       "    .dataframe thead th {\n",
       "        text-align: right;\n",
       "    }\n",
       "</style>\n",
       "<table border=\"1\" class=\"dataframe\">\n",
       "  <thead>\n",
       "    <tr style=\"text-align: right;\">\n",
       "      <th></th>\n",
       "      <th>date_block_num</th>\n",
       "      <th>item_id</th>\n",
       "    </tr>\n",
       "  </thead>\n",
       "  <tbody>\n",
       "    <tr>\n",
       "      <th>1027580</th>\n",
       "      <td>10</td>\n",
       "      <td>4420</td>\n",
       "    </tr>\n",
       "    <tr>\n",
       "      <th>1027581</th>\n",
       "      <td>10</td>\n",
       "      <td>10033</td>\n",
       "    </tr>\n",
       "    <tr>\n",
       "      <th>1027582</th>\n",
       "      <td>10</td>\n",
       "      <td>10051</td>\n",
       "    </tr>\n",
       "    <tr>\n",
       "      <th>1027583</th>\n",
       "      <td>10</td>\n",
       "      <td>10051</td>\n",
       "    </tr>\n",
       "    <tr>\n",
       "      <th>1027584</th>\n",
       "      <td>10</td>\n",
       "      <td>10051</td>\n",
       "    </tr>\n",
       "    <tr>\n",
       "      <th>...</th>\n",
       "      <td>...</td>\n",
       "      <td>...</td>\n",
       "    </tr>\n",
       "    <tr>\n",
       "      <th>1124311</th>\n",
       "      <td>10</td>\n",
       "      <td>3734</td>\n",
       "    </tr>\n",
       "    <tr>\n",
       "      <th>1124312</th>\n",
       "      <td>10</td>\n",
       "      <td>3734</td>\n",
       "    </tr>\n",
       "    <tr>\n",
       "      <th>1124313</th>\n",
       "      <td>10</td>\n",
       "      <td>3743</td>\n",
       "    </tr>\n",
       "    <tr>\n",
       "      <th>1124314</th>\n",
       "      <td>10</td>\n",
       "      <td>3743</td>\n",
       "    </tr>\n",
       "    <tr>\n",
       "      <th>1124315</th>\n",
       "      <td>10</td>\n",
       "      <td>3734</td>\n",
       "    </tr>\n",
       "  </tbody>\n",
       "</table>\n",
       "<p>96736 rows × 2 columns</p>\n",
       "</div>"
      ],
      "text/plain": [
       "         date_block_num  item_id\n",
       "1027580              10     4420\n",
       "1027581              10    10033\n",
       "1027582              10    10051\n",
       "1027583              10    10051\n",
       "1027584              10    10051\n",
       "...                 ...      ...\n",
       "1124311              10     3734\n",
       "1124312              10     3734\n",
       "1124313              10     3743\n",
       "1124314              10     3743\n",
       "1124315              10     3734\n",
       "\n",
       "[96736 rows x 2 columns]"
      ]
     },
     "execution_count": 21,
     "metadata": {},
     "output_type": "execute_result"
    }
   ],
   "source": [
    "# 13년 11월\n",
    "tt_nov = num_item_id[num_item_id['date_block_num'] == 10]\n",
    "tt_nov"
   ]
  },
  {
   "cell_type": "code",
   "execution_count": 22,
   "id": "selective-shoulder",
   "metadata": {},
   "outputs": [
    {
     "data": {
      "text/plain": [
       "array([[   10,  4420],\n",
       "       [   10, 10033],\n",
       "       [   10, 10051],\n",
       "       ...,\n",
       "       [   10,  3743],\n",
       "       [   10,  3743],\n",
       "       [   10,  3734]])"
      ]
     },
     "execution_count": 22,
     "metadata": {},
     "output_type": "execute_result"
    }
   ],
   "source": [
    "# 13 nov -> array\n",
    "tt_nov_array = tt_nov.values\n",
    "tt_nov_array"
   ]
  },
  {
   "cell_type": "code",
   "execution_count": 23,
   "id": "parental-apartment",
   "metadata": {},
   "outputs": [
    {
     "name": "stdout",
     "output_type": "stream",
     "text": [
      "96736\n"
     ]
    },
    {
     "data": {
      "text/plain": [
       "array([ 4420, 10033, 10051, ...,  3743,  3743,  3734])"
      ]
     },
     "execution_count": 23,
     "metadata": {},
     "output_type": "execute_result"
    }
   ],
   "source": [
    "# 13 nov array에서 추출 \n",
    "tt_nov_item = tt_nov_array[:, 1]\n",
    "print(len(tt_nov_item))\n",
    "tt_nov_item"
   ]
  },
  {
   "cell_type": "code",
   "execution_count": 24,
   "id": "sophisticated-omaha",
   "metadata": {},
   "outputs": [
    {
     "name": "stdout",
     "output_type": "stream",
     "text": [
      "8089\n"
     ]
    },
    {
     "data": {
      "text/plain": [
       "array([   27,    28,    30, ..., 22155, 22166, 22167])"
      ]
     },
     "execution_count": 24,
     "metadata": {},
     "output_type": "execute_result"
    }
   ],
   "source": [
    "# 중복제거\n",
    "tt_nov_item_uniq = np.unique(tt_nov_item)\n",
    "print(len(tt_nov_item_uniq))\n",
    "tt_nov_item_uniq"
   ]
  },
  {
   "cell_type": "code",
   "execution_count": 25,
   "id": "uniform-vintage",
   "metadata": {},
   "outputs": [
    {
     "name": "stdout",
     "output_type": "stream",
     "text": [
      "13년 11월 신상품 : 489\n",
      "<class 'set'>\n"
     ]
    }
   ],
   "source": [
    "# tt nov only\n",
    "tt_nov_only = set(tt_nov_item_uniq) - set(tt_oct_item_uniq)\n",
    "print('13년 11월 신상품 :', len(tt_nov_only))\n",
    "print(type(tt_nov_only))\n",
    "# tt_nov_only"
   ]
  },
  {
   "cell_type": "code",
   "execution_count": 26,
   "id": "norman-status",
   "metadata": {},
   "outputs": [],
   "source": [
    "# set -> list\n",
    "lst_tt_nov_only = list(tt_nov_only)\n",
    "# lst_tt_nov_only"
   ]
  },
  {
   "cell_type": "markdown",
   "id": "laughing-privilege",
   "metadata": {},
   "source": [
    "## 13년 11월 신상품 얼마인지 dict이나 dataframe으로 그리고 가격"
   ]
  },
  {
   "cell_type": "code",
   "execution_count": 27,
   "id": "focused-coast",
   "metadata": {},
   "outputs": [
    {
     "data": {
      "text/html": [
       "<div>\n",
       "<style scoped>\n",
       "    .dataframe tbody tr th:only-of-type {\n",
       "        vertical-align: middle;\n",
       "    }\n",
       "\n",
       "    .dataframe tbody tr th {\n",
       "        vertical-align: top;\n",
       "    }\n",
       "\n",
       "    .dataframe thead th {\n",
       "        text-align: right;\n",
       "    }\n",
       "</style>\n",
       "<table border=\"1\" class=\"dataframe\">\n",
       "  <thead>\n",
       "    <tr style=\"text-align: right;\">\n",
       "      <th></th>\n",
       "      <th>date</th>\n",
       "      <th>date_block_num</th>\n",
       "      <th>shop_id</th>\n",
       "      <th>item_id</th>\n",
       "      <th>item_price</th>\n",
       "      <th>item_cnt_day</th>\n",
       "    </tr>\n",
       "  </thead>\n",
       "  <tbody>\n",
       "    <tr>\n",
       "      <th>1027637</th>\n",
       "      <td>30.11.2013</td>\n",
       "      <td>10</td>\n",
       "      <td>28</td>\n",
       "      <td>10297</td>\n",
       "      <td>749.0</td>\n",
       "      <td>1.0</td>\n",
       "    </tr>\n",
       "    <tr>\n",
       "      <th>1027690</th>\n",
       "      <td>30.11.2013</td>\n",
       "      <td>10</td>\n",
       "      <td>28</td>\n",
       "      <td>10299</td>\n",
       "      <td>1399.0</td>\n",
       "      <td>1.0</td>\n",
       "    </tr>\n",
       "    <tr>\n",
       "      <th>1027713</th>\n",
       "      <td>21.11.2013</td>\n",
       "      <td>10</td>\n",
       "      <td>28</td>\n",
       "      <td>9077</td>\n",
       "      <td>299.0</td>\n",
       "      <td>1.0</td>\n",
       "    </tr>\n",
       "    <tr>\n",
       "      <th>1027714</th>\n",
       "      <td>24.11.2013</td>\n",
       "      <td>10</td>\n",
       "      <td>28</td>\n",
       "      <td>9077</td>\n",
       "      <td>299.0</td>\n",
       "      <td>1.0</td>\n",
       "    </tr>\n",
       "    <tr>\n",
       "      <th>1027715</th>\n",
       "      <td>30.11.2013</td>\n",
       "      <td>10</td>\n",
       "      <td>28</td>\n",
       "      <td>9077</td>\n",
       "      <td>299.0</td>\n",
       "      <td>1.0</td>\n",
       "    </tr>\n",
       "    <tr>\n",
       "      <th>...</th>\n",
       "      <td>...</td>\n",
       "      <td>...</td>\n",
       "      <td>...</td>\n",
       "      <td>...</td>\n",
       "      <td>...</td>\n",
       "      <td>...</td>\n",
       "    </tr>\n",
       "    <tr>\n",
       "      <th>1124068</th>\n",
       "      <td>29.11.2013</td>\n",
       "      <td>10</td>\n",
       "      <td>50</td>\n",
       "      <td>3333</td>\n",
       "      <td>2599.0</td>\n",
       "      <td>8.0</td>\n",
       "    </tr>\n",
       "    <tr>\n",
       "      <th>1124125</th>\n",
       "      <td>29.11.2013</td>\n",
       "      <td>10</td>\n",
       "      <td>50</td>\n",
       "      <td>4271</td>\n",
       "      <td>2799.0</td>\n",
       "      <td>7.0</td>\n",
       "    </tr>\n",
       "    <tr>\n",
       "      <th>1124196</th>\n",
       "      <td>30.11.2013</td>\n",
       "      <td>10</td>\n",
       "      <td>50</td>\n",
       "      <td>3899</td>\n",
       "      <td>299.0</td>\n",
       "      <td>1.0</td>\n",
       "    </tr>\n",
       "    <tr>\n",
       "      <th>1124234</th>\n",
       "      <td>29.11.2013</td>\n",
       "      <td>10</td>\n",
       "      <td>50</td>\n",
       "      <td>4231</td>\n",
       "      <td>2799.0</td>\n",
       "      <td>25.0</td>\n",
       "    </tr>\n",
       "    <tr>\n",
       "      <th>1124235</th>\n",
       "      <td>30.11.2013</td>\n",
       "      <td>10</td>\n",
       "      <td>50</td>\n",
       "      <td>4231</td>\n",
       "      <td>2799.0</td>\n",
       "      <td>6.0</td>\n",
       "    </tr>\n",
       "  </tbody>\n",
       "</table>\n",
       "<p>13760 rows × 6 columns</p>\n",
       "</div>"
      ],
      "text/plain": [
       "               date  date_block_num  shop_id  item_id  item_price  \\\n",
       "1027637  30.11.2013              10       28    10297       749.0   \n",
       "1027690  30.11.2013              10       28    10299      1399.0   \n",
       "1027713  21.11.2013              10       28     9077       299.0   \n",
       "1027714  24.11.2013              10       28     9077       299.0   \n",
       "1027715  30.11.2013              10       28     9077       299.0   \n",
       "...             ...             ...      ...      ...         ...   \n",
       "1124068  29.11.2013              10       50     3333      2599.0   \n",
       "1124125  29.11.2013              10       50     4271      2799.0   \n",
       "1124196  30.11.2013              10       50     3899       299.0   \n",
       "1124234  29.11.2013              10       50     4231      2799.0   \n",
       "1124235  30.11.2013              10       50     4231      2799.0   \n",
       "\n",
       "         item_cnt_day  \n",
       "1027637           1.0  \n",
       "1027690           1.0  \n",
       "1027713           1.0  \n",
       "1027714           1.0  \n",
       "1027715           1.0  \n",
       "...               ...  \n",
       "1124068           8.0  \n",
       "1124125           7.0  \n",
       "1124196           1.0  \n",
       "1124234          25.0  \n",
       "1124235           6.0  \n",
       "\n",
       "[13760 rows x 6 columns]"
      ]
     },
     "execution_count": 27,
     "metadata": {},
     "output_type": "execute_result"
    }
   ],
   "source": [
    "# 13년 11월\n",
    "tt_nov_new = data[data['item_id'].isin(lst_tt_nov_only)]\n",
    "tt_nov_new = tt_nov_new[tt_nov_new['date_block_num'] == 10]\n",
    "tt_nov_new"
   ]
  },
  {
   "cell_type": "code",
   "execution_count": 28,
   "id": "sacred-melissa",
   "metadata": {},
   "outputs": [
    {
     "data": {
      "text/plain": [
       "82976"
      ]
     },
     "execution_count": 28,
     "metadata": {},
     "output_type": "execute_result"
    }
   ],
   "source": [
    "len(tt_nov_item) - len(tt_nov_new)"
   ]
  },
  {
   "cell_type": "markdown",
   "id": "fossil-concern",
   "metadata": {},
   "source": [
    "82976개는 기존에도 팔던거,  \n",
    "13760개는 11월 신상품"
   ]
  },
  {
   "cell_type": "code",
   "execution_count": 29,
   "id": "greatest-wonder",
   "metadata": {},
   "outputs": [
    {
     "name": "stdout",
     "output_type": "stream",
     "text": [
      "count    13760.000000\n",
      "mean      1128.557608\n",
      "std       1693.105961\n",
      "min         22.400000\n",
      "25%        399.000000\n",
      "50%        699.000000\n",
      "75%       1399.000000\n",
      "max      18665.000000\n",
      "Name: item_price, dtype: float64\n"
     ]
    }
   ],
   "source": [
    "print(tt_nov_new['item_price'].describe())"
   ]
  },
  {
   "cell_type": "markdown",
   "id": "blocked-murray",
   "metadata": {},
   "source": [
    "13년 11월 신상품의 가격 평균은 1128.56 이다."
   ]
  },
  {
   "cell_type": "markdown",
   "id": "convinced-height",
   "metadata": {},
   "source": [
    "# 14년 11월 신상품"
   ]
  },
  {
   "cell_type": "markdown",
   "id": "polish-accent",
   "metadata": {},
   "source": [
    "## 14년 10월까지 팔렸던 상품들"
   ]
  },
  {
   "cell_type": "code",
   "execution_count": 30,
   "id": "after-preliminary",
   "metadata": {},
   "outputs": [
    {
     "data": {
      "text/html": [
       "<div>\n",
       "<style scoped>\n",
       "    .dataframe tbody tr th:only-of-type {\n",
       "        vertical-align: middle;\n",
       "    }\n",
       "\n",
       "    .dataframe tbody tr th {\n",
       "        vertical-align: top;\n",
       "    }\n",
       "\n",
       "    .dataframe thead th {\n",
       "        text-align: right;\n",
       "    }\n",
       "</style>\n",
       "<table border=\"1\" class=\"dataframe\">\n",
       "  <thead>\n",
       "    <tr style=\"text-align: right;\">\n",
       "      <th></th>\n",
       "      <th>date_block_num</th>\n",
       "      <th>item_id</th>\n",
       "    </tr>\n",
       "  </thead>\n",
       "  <tbody>\n",
       "    <tr>\n",
       "      <th>0</th>\n",
       "      <td>0</td>\n",
       "      <td>22154</td>\n",
       "    </tr>\n",
       "    <tr>\n",
       "      <th>1</th>\n",
       "      <td>0</td>\n",
       "      <td>2552</td>\n",
       "    </tr>\n",
       "    <tr>\n",
       "      <th>2</th>\n",
       "      <td>0</td>\n",
       "      <td>2552</td>\n",
       "    </tr>\n",
       "    <tr>\n",
       "      <th>3</th>\n",
       "      <td>0</td>\n",
       "      <td>2554</td>\n",
       "    </tr>\n",
       "    <tr>\n",
       "      <th>4</th>\n",
       "      <td>0</td>\n",
       "      <td>2555</td>\n",
       "    </tr>\n",
       "    <tr>\n",
       "      <th>...</th>\n",
       "      <td>...</td>\n",
       "      <td>...</td>\n",
       "    </tr>\n",
       "    <tr>\n",
       "      <th>2106204</th>\n",
       "      <td>21</td>\n",
       "      <td>7351</td>\n",
       "    </tr>\n",
       "    <tr>\n",
       "      <th>2106205</th>\n",
       "      <td>21</td>\n",
       "      <td>7492</td>\n",
       "    </tr>\n",
       "    <tr>\n",
       "      <th>2106206</th>\n",
       "      <td>21</td>\n",
       "      <td>7215</td>\n",
       "    </tr>\n",
       "    <tr>\n",
       "      <th>2106207</th>\n",
       "      <td>21</td>\n",
       "      <td>12596</td>\n",
       "    </tr>\n",
       "    <tr>\n",
       "      <th>2106208</th>\n",
       "      <td>21</td>\n",
       "      <td>18335</td>\n",
       "    </tr>\n",
       "  </tbody>\n",
       "</table>\n",
       "<p>2106209 rows × 2 columns</p>\n",
       "</div>"
      ],
      "text/plain": [
       "         date_block_num  item_id\n",
       "0                     0    22154\n",
       "1                     0     2552\n",
       "2                     0     2552\n",
       "3                     0     2554\n",
       "4                     0     2555\n",
       "...                 ...      ...\n",
       "2106204              21     7351\n",
       "2106205              21     7492\n",
       "2106206              21     7215\n",
       "2106207              21    12596\n",
       "2106208              21    18335\n",
       "\n",
       "[2106209 rows x 2 columns]"
      ]
     },
     "execution_count": 30,
     "metadata": {},
     "output_type": "execute_result"
    }
   ],
   "source": [
    "# 14년 10월까지\n",
    "ft_oct = num_item_id[num_item_id['date_block_num'].isin([0,1,2,3,4,5,6,7,8,9,10,11,\n",
    "                                                         12,13,14,15,16,17,18,19,20,21])]\n",
    "ft_oct"
   ]
  },
  {
   "cell_type": "code",
   "execution_count": 31,
   "id": "coupled-peter",
   "metadata": {},
   "outputs": [
    {
     "data": {
      "text/plain": [
       "array([[    0, 22154],\n",
       "       [    0,  2552],\n",
       "       [    0,  2552],\n",
       "       ...,\n",
       "       [   21,  7215],\n",
       "       [   21, 12596],\n",
       "       [   21, 18335]])"
      ]
     },
     "execution_count": 31,
     "metadata": {},
     "output_type": "execute_result"
    }
   ],
   "source": [
    "# 14 oct -> array\n",
    "ft_oct_array = ft_oct.values\n",
    "ft_oct_array"
   ]
  },
  {
   "cell_type": "code",
   "execution_count": 32,
   "id": "seeing-adaptation",
   "metadata": {},
   "outputs": [
    {
     "name": "stdout",
     "output_type": "stream",
     "text": [
      "2106209\n"
     ]
    },
    {
     "data": {
      "text/plain": [
       "array([22154,  2552,  2552, ...,  7215, 12596, 18335])"
      ]
     },
     "execution_count": 32,
     "metadata": {},
     "output_type": "execute_result"
    }
   ],
   "source": [
    "# 14 oct array에서 추출 \n",
    "ft_oct_item = ft_oct_array[:, 1]\n",
    "print(len(ft_oct_item))\n",
    "ft_oct_item"
   ]
  },
  {
   "cell_type": "code",
   "execution_count": 33,
   "id": "communist-christopher",
   "metadata": {},
   "outputs": [
    {
     "name": "stdout",
     "output_type": "stream",
     "text": [
      "18115\n"
     ]
    },
    {
     "data": {
      "text/plain": [
       "array([    0,     1,     2, ..., 22167, 22168, 22169])"
      ]
     },
     "execution_count": 33,
     "metadata": {},
     "output_type": "execute_result"
    }
   ],
   "source": [
    "# 중복제거\n",
    "ft_oct_item_uniq = np.unique(ft_oct_item)\n",
    "print(len(ft_oct_item_uniq))\n",
    "ft_oct_item_uniq"
   ]
  },
  {
   "cell_type": "markdown",
   "id": "shared-lewis",
   "metadata": {},
   "source": [
    "13년 1월부터 14년 10월까지 팔린 상품 종류 개수는 18115개"
   ]
  },
  {
   "cell_type": "markdown",
   "id": "sound-mountain",
   "metadata": {},
   "source": [
    "## 14년 11월 신상품"
   ]
  },
  {
   "cell_type": "code",
   "execution_count": 34,
   "id": "entertaining-taiwan",
   "metadata": {},
   "outputs": [
    {
     "data": {
      "text/html": [
       "<div>\n",
       "<style scoped>\n",
       "    .dataframe tbody tr th:only-of-type {\n",
       "        vertical-align: middle;\n",
       "    }\n",
       "\n",
       "    .dataframe tbody tr th {\n",
       "        vertical-align: top;\n",
       "    }\n",
       "\n",
       "    .dataframe thead th {\n",
       "        text-align: right;\n",
       "    }\n",
       "</style>\n",
       "<table border=\"1\" class=\"dataframe\">\n",
       "  <thead>\n",
       "    <tr style=\"text-align: right;\">\n",
       "      <th></th>\n",
       "      <th>date_block_num</th>\n",
       "      <th>item_id</th>\n",
       "    </tr>\n",
       "  </thead>\n",
       "  <tbody>\n",
       "    <tr>\n",
       "      <th>2106209</th>\n",
       "      <td>22</td>\n",
       "      <td>3460</td>\n",
       "    </tr>\n",
       "    <tr>\n",
       "      <th>2106210</th>\n",
       "      <td>22</td>\n",
       "      <td>4615</td>\n",
       "    </tr>\n",
       "    <tr>\n",
       "      <th>2106211</th>\n",
       "      <td>22</td>\n",
       "      <td>4870</td>\n",
       "    </tr>\n",
       "    <tr>\n",
       "      <th>2106212</th>\n",
       "      <td>22</td>\n",
       "      <td>4870</td>\n",
       "    </tr>\n",
       "    <tr>\n",
       "      <th>2106213</th>\n",
       "      <td>22</td>\n",
       "      <td>4870</td>\n",
       "    </tr>\n",
       "    <tr>\n",
       "      <th>...</th>\n",
       "      <td>...</td>\n",
       "      <td>...</td>\n",
       "    </tr>\n",
       "    <tr>\n",
       "      <th>2192632</th>\n",
       "      <td>22</td>\n",
       "      <td>59</td>\n",
       "    </tr>\n",
       "    <tr>\n",
       "      <th>2192633</th>\n",
       "      <td>22</td>\n",
       "      <td>59</td>\n",
       "    </tr>\n",
       "    <tr>\n",
       "      <th>2192634</th>\n",
       "      <td>22</td>\n",
       "      <td>77</td>\n",
       "    </tr>\n",
       "    <tr>\n",
       "      <th>2192635</th>\n",
       "      <td>22</td>\n",
       "      <td>32</td>\n",
       "    </tr>\n",
       "    <tr>\n",
       "      <th>2192636</th>\n",
       "      <td>22</td>\n",
       "      <td>32</td>\n",
       "    </tr>\n",
       "  </tbody>\n",
       "</table>\n",
       "<p>86428 rows × 2 columns</p>\n",
       "</div>"
      ],
      "text/plain": [
       "         date_block_num  item_id\n",
       "2106209              22     3460\n",
       "2106210              22     4615\n",
       "2106211              22     4870\n",
       "2106212              22     4870\n",
       "2106213              22     4870\n",
       "...                 ...      ...\n",
       "2192632              22       59\n",
       "2192633              22       59\n",
       "2192634              22       77\n",
       "2192635              22       32\n",
       "2192636              22       32\n",
       "\n",
       "[86428 rows x 2 columns]"
      ]
     },
     "execution_count": 34,
     "metadata": {},
     "output_type": "execute_result"
    }
   ],
   "source": [
    "# 14년 11월\n",
    "ft_nov = num_item_id[num_item_id['date_block_num'] == 22]\n",
    "ft_nov"
   ]
  },
  {
   "cell_type": "code",
   "execution_count": 35,
   "id": "coastal-democrat",
   "metadata": {},
   "outputs": [
    {
     "data": {
      "text/plain": [
       "array([[  22, 3460],\n",
       "       [  22, 4615],\n",
       "       [  22, 4870],\n",
       "       ...,\n",
       "       [  22,   77],\n",
       "       [  22,   32],\n",
       "       [  22,   32]])"
      ]
     },
     "execution_count": 35,
     "metadata": {},
     "output_type": "execute_result"
    }
   ],
   "source": [
    "# 14 nov -> array\n",
    "ft_nov_array = ft_nov.values\n",
    "ft_nov_array"
   ]
  },
  {
   "cell_type": "code",
   "execution_count": 36,
   "id": "wired-wrapping",
   "metadata": {},
   "outputs": [
    {
     "name": "stdout",
     "output_type": "stream",
     "text": [
      "86428\n"
     ]
    },
    {
     "data": {
      "text/plain": [
       "array([3460, 4615, 4870, ...,   77,   32,   32])"
      ]
     },
     "execution_count": 36,
     "metadata": {},
     "output_type": "execute_result"
    }
   ],
   "source": [
    "# 14 nov array에서 추출 \n",
    "ft_nov_item = ft_nov_array[:, 1]\n",
    "print(len(ft_nov_item))\n",
    "ft_nov_item"
   ]
  },
  {
   "cell_type": "code",
   "execution_count": 37,
   "id": "devoted-society",
   "metadata": {},
   "outputs": [
    {
     "name": "stdout",
     "output_type": "stream",
     "text": [
      "6322\n"
     ]
    },
    {
     "data": {
      "text/plain": [
       "array([    2,    11,    15, ..., 22146, 22166, 22167])"
      ]
     },
     "execution_count": 37,
     "metadata": {},
     "output_type": "execute_result"
    }
   ],
   "source": [
    "# 중복제거\n",
    "ft_nov_item_uniq = np.unique(ft_nov_item)\n",
    "print(len(ft_nov_item_uniq))\n",
    "ft_nov_item_uniq"
   ]
  },
  {
   "cell_type": "code",
   "execution_count": 38,
   "id": "unlikely-championship",
   "metadata": {},
   "outputs": [
    {
     "name": "stdout",
     "output_type": "stream",
     "text": [
      "14년 11월 신상품 : 460\n",
      "<class 'set'>\n"
     ]
    }
   ],
   "source": [
    "# ft nov only\n",
    "ft_nov_only = set(ft_nov_item_uniq) - set(ft_oct_item_uniq)\n",
    "print('14년 11월 신상품 :', len(ft_nov_only))\n",
    "print(type(ft_nov_only))\n",
    "# ft_nov_only"
   ]
  },
  {
   "cell_type": "code",
   "execution_count": 39,
   "id": "announced-stage",
   "metadata": {},
   "outputs": [],
   "source": [
    "# list로 만들기 \n",
    "lst_ft_nov_only = list(ft_nov_only)\n",
    "# lst_ft_nov_only"
   ]
  },
  {
   "cell_type": "markdown",
   "id": "junior-hazard",
   "metadata": {},
   "source": [
    "## 14년 11월 신상품 얼마인지 dict이나 dataframe으로 그리고 가격"
   ]
  },
  {
   "cell_type": "code",
   "execution_count": 40,
   "id": "greenhouse-breach",
   "metadata": {},
   "outputs": [
    {
     "data": {
      "text/html": [
       "<div>\n",
       "<style scoped>\n",
       "    .dataframe tbody tr th:only-of-type {\n",
       "        vertical-align: middle;\n",
       "    }\n",
       "\n",
       "    .dataframe tbody tr th {\n",
       "        vertical-align: top;\n",
       "    }\n",
       "\n",
       "    .dataframe thead th {\n",
       "        text-align: right;\n",
       "    }\n",
       "</style>\n",
       "<table border=\"1\" class=\"dataframe\">\n",
       "  <thead>\n",
       "    <tr style=\"text-align: right;\">\n",
       "      <th></th>\n",
       "      <th>date</th>\n",
       "      <th>date_block_num</th>\n",
       "      <th>shop_id</th>\n",
       "      <th>item_id</th>\n",
       "      <th>item_price</th>\n",
       "      <th>item_cnt_day</th>\n",
       "    </tr>\n",
       "  </thead>\n",
       "  <tbody>\n",
       "    <tr>\n",
       "      <th>2106209</th>\n",
       "      <td>19.11.2014</td>\n",
       "      <td>22</td>\n",
       "      <td>37</td>\n",
       "      <td>3460</td>\n",
       "      <td>1299.0</td>\n",
       "      <td>3.0</td>\n",
       "    </tr>\n",
       "    <tr>\n",
       "      <th>2106256</th>\n",
       "      <td>21.11.2014</td>\n",
       "      <td>22</td>\n",
       "      <td>33</td>\n",
       "      <td>4334</td>\n",
       "      <td>799.0</td>\n",
       "      <td>1.0</td>\n",
       "    </tr>\n",
       "    <tr>\n",
       "      <th>2106257</th>\n",
       "      <td>28.11.2014</td>\n",
       "      <td>22</td>\n",
       "      <td>33</td>\n",
       "      <td>4334</td>\n",
       "      <td>799.0</td>\n",
       "      <td>1.0</td>\n",
       "    </tr>\n",
       "    <tr>\n",
       "      <th>2106259</th>\n",
       "      <td>23.11.2014</td>\n",
       "      <td>22</td>\n",
       "      <td>33</td>\n",
       "      <td>4337</td>\n",
       "      <td>2999.0</td>\n",
       "      <td>1.0</td>\n",
       "    </tr>\n",
       "    <tr>\n",
       "      <th>2106270</th>\n",
       "      <td>26.11.2014</td>\n",
       "      <td>22</td>\n",
       "      <td>33</td>\n",
       "      <td>4478</td>\n",
       "      <td>2499.0</td>\n",
       "      <td>1.0</td>\n",
       "    </tr>\n",
       "    <tr>\n",
       "      <th>...</th>\n",
       "      <td>...</td>\n",
       "      <td>...</td>\n",
       "      <td>...</td>\n",
       "      <td>...</td>\n",
       "      <td>...</td>\n",
       "      <td>...</td>\n",
       "    </tr>\n",
       "    <tr>\n",
       "      <th>2192494</th>\n",
       "      <td>21.11.2014</td>\n",
       "      <td>22</td>\n",
       "      <td>46</td>\n",
       "      <td>21387</td>\n",
       "      <td>1529.0</td>\n",
       "      <td>1.0</td>\n",
       "    </tr>\n",
       "    <tr>\n",
       "      <th>2192495</th>\n",
       "      <td>20.11.2014</td>\n",
       "      <td>22</td>\n",
       "      <td>46</td>\n",
       "      <td>21387</td>\n",
       "      <td>1444.0</td>\n",
       "      <td>2.0</td>\n",
       "    </tr>\n",
       "    <tr>\n",
       "      <th>2192498</th>\n",
       "      <td>21.11.2014</td>\n",
       "      <td>22</td>\n",
       "      <td>46</td>\n",
       "      <td>21430</td>\n",
       "      <td>799.0</td>\n",
       "      <td>1.0</td>\n",
       "    </tr>\n",
       "    <tr>\n",
       "      <th>2192500</th>\n",
       "      <td>28.11.2014</td>\n",
       "      <td>22</td>\n",
       "      <td>46</td>\n",
       "      <td>21976</td>\n",
       "      <td>1349.0</td>\n",
       "      <td>1.0</td>\n",
       "    </tr>\n",
       "    <tr>\n",
       "      <th>2192501</th>\n",
       "      <td>22.11.2014</td>\n",
       "      <td>22</td>\n",
       "      <td>46</td>\n",
       "      <td>21976</td>\n",
       "      <td>1349.0</td>\n",
       "      <td>1.0</td>\n",
       "    </tr>\n",
       "  </tbody>\n",
       "</table>\n",
       "<p>15644 rows × 6 columns</p>\n",
       "</div>"
      ],
      "text/plain": [
       "               date  date_block_num  shop_id  item_id  item_price  \\\n",
       "2106209  19.11.2014              22       37     3460      1299.0   \n",
       "2106256  21.11.2014              22       33     4334       799.0   \n",
       "2106257  28.11.2014              22       33     4334       799.0   \n",
       "2106259  23.11.2014              22       33     4337      2999.0   \n",
       "2106270  26.11.2014              22       33     4478      2499.0   \n",
       "...             ...             ...      ...      ...         ...   \n",
       "2192494  21.11.2014              22       46    21387      1529.0   \n",
       "2192495  20.11.2014              22       46    21387      1444.0   \n",
       "2192498  21.11.2014              22       46    21430       799.0   \n",
       "2192500  28.11.2014              22       46    21976      1349.0   \n",
       "2192501  22.11.2014              22       46    21976      1349.0   \n",
       "\n",
       "         item_cnt_day  \n",
       "2106209           3.0  \n",
       "2106256           1.0  \n",
       "2106257           1.0  \n",
       "2106259           1.0  \n",
       "2106270           1.0  \n",
       "...               ...  \n",
       "2192494           1.0  \n",
       "2192495           2.0  \n",
       "2192498           1.0  \n",
       "2192500           1.0  \n",
       "2192501           1.0  \n",
       "\n",
       "[15644 rows x 6 columns]"
      ]
     },
     "execution_count": 40,
     "metadata": {},
     "output_type": "execute_result"
    }
   ],
   "source": [
    "# 14년 11월\n",
    "ft_nov_new = data[data['item_id'].isin(lst_ft_nov_only)]\n",
    "ft_nov_new = ft_nov_new[ft_nov_new['date_block_num'] == 22]\n",
    "ft_nov_new"
   ]
  },
  {
   "cell_type": "code",
   "execution_count": 41,
   "id": "aggregate-friend",
   "metadata": {},
   "outputs": [
    {
     "data": {
      "text/plain": [
       "70784"
      ]
     },
     "execution_count": 41,
     "metadata": {},
     "output_type": "execute_result"
    }
   ],
   "source": [
    "len(ft_nov_item) - len(ft_nov_new)"
   ]
  },
  {
   "cell_type": "markdown",
   "id": "civic-fundamentals",
   "metadata": {},
   "source": [
    "70784 기존 제품 판매량  \n",
    "15644 신상품 460개에 대한 판매량"
   ]
  },
  {
   "cell_type": "code",
   "execution_count": 42,
   "id": "light-concert",
   "metadata": {},
   "outputs": [
    {
     "name": "stdout",
     "output_type": "stream",
     "text": [
      "count    15644.000000\n",
      "mean      2096.400350\n",
      "std       2606.630176\n",
      "min         10.000000\n",
      "25%        699.000000\n",
      "50%       1619.000000\n",
      "75%       2999.000000\n",
      "max      40900.000000\n",
      "Name: item_price, dtype: float64\n"
     ]
    }
   ],
   "source": [
    "print(ft_nov_new['item_price'].describe())"
   ]
  },
  {
   "cell_type": "code",
   "execution_count": 43,
   "id": "according-german",
   "metadata": {},
   "outputs": [
    {
     "name": "stdout",
     "output_type": "stream",
     "text": [
      "count    15644.000000\n",
      "mean      2096.400350\n",
      "std       2606.630176\n",
      "min         10.000000\n",
      "25%        699.000000\n",
      "50%       1619.000000\n",
      "75%       2999.000000\n",
      "max      40900.000000\n",
      "Name: item_price, dtype: float64\n"
     ]
    }
   ],
   "source": [
    "print(ft_nov_new['item_price'].describe())"
   ]
  },
  {
   "cell_type": "markdown",
   "id": "least-sauce",
   "metadata": {},
   "source": [
    "각 년도의 11월 신상품에 대한 평균 가격 차이가 많이 난다."
   ]
  },
  {
   "cell_type": "markdown",
   "id": "continental-bidder",
   "metadata": {},
   "source": [
    "# 신상품에 대한 평균적 판매량"
   ]
  },
  {
   "cell_type": "code",
   "execution_count": 44,
   "id": "unique-providence",
   "metadata": {},
   "outputs": [
    {
     "name": "stdout",
     "output_type": "stream",
     "text": [
      "count    13760.000000\n",
      "mean         2.039026\n",
      "std          3.889715\n",
      "min         -2.000000\n",
      "25%          1.000000\n",
      "50%          1.000000\n",
      "75%          2.000000\n",
      "max        126.000000\n",
      "Name: item_cnt_day, dtype: float64\n"
     ]
    }
   ],
   "source": [
    "print(tt_nov_new['item_cnt_day'].describe())"
   ]
  },
  {
   "cell_type": "code",
   "execution_count": 45,
   "id": "upset-clearing",
   "metadata": {},
   "outputs": [
    {
     "name": "stdout",
     "output_type": "stream",
     "text": [
      "count    15644.000000\n",
      "mean         2.006328\n",
      "std          4.250637\n",
      "min         -1.000000\n",
      "25%          1.000000\n",
      "50%          1.000000\n",
      "75%          2.000000\n",
      "max        167.000000\n",
      "Name: item_cnt_day, dtype: float64\n"
     ]
    }
   ],
   "source": [
    "print(ft_nov_new['item_cnt_day'].describe())"
   ]
  },
  {
   "cell_type": "markdown",
   "id": "answering-tower",
   "metadata": {},
   "source": [
    "다행히 판매량의 평균은 2개로 동일   \n",
    "하지만 이렇게 신상품의 평균 판매 개수를 학습단계에서 어떻게 적용하는지 몰랐다.  \n",
    "부분적으로 학습시키는 모델에 대해 더 공부가 필요함을 느꼈다."
   ]
  },
  {
   "cell_type": "markdown",
   "id": "applied-explosion",
   "metadata": {},
   "source": [
    "# 34개월 동안 판매량 describe"
   ]
  },
  {
   "cell_type": "code",
   "execution_count": 46,
   "id": "economic-headquarters",
   "metadata": {},
   "outputs": [
    {
     "name": "stdout",
     "output_type": "stream",
     "text": [
      "count    2.935849e+06\n",
      "mean     1.242641e+00\n",
      "std      2.618834e+00\n",
      "min     -2.200000e+01\n",
      "25%      1.000000e+00\n",
      "50%      1.000000e+00\n",
      "75%      1.000000e+00\n",
      "max      2.169000e+03\n",
      "Name: item_cnt_day, dtype: float64\n"
     ]
    }
   ],
   "source": [
    "print(data['item_cnt_day'].describe())"
   ]
  },
  {
   "cell_type": "markdown",
   "id": "institutional-rating",
   "metadata": {},
   "source": [
    "아이템 별 판매 수량이 -22 부터 2169가 팔린것을 확인 할 수 있다.   \n",
    "음수인 data를 어떻게 처리할까하다가 다른 조원과 이야기하면서 반품일 수도 있다는 의견을 수용해서  \n",
    "따로 전처리하지 않고 그대로 사용했다.  "
   ]
  },
  {
   "cell_type": "markdown",
   "id": "central-messenger",
   "metadata": {},
   "source": [
    "# 어떤 아이템이 제일 많이 팔렸는지 궁금해"
   ]
  },
  {
   "cell_type": "code",
   "execution_count": 47,
   "id": "responsible-tomato",
   "metadata": {},
   "outputs": [
    {
     "data": {
      "text/plain": [
       "array([['02.01.2013', 0, 59, 22154, 999.0, 1.0],\n",
       "       ['03.01.2013', 0, 25, 2552, 899.0, 1.0],\n",
       "       ['05.01.2013', 0, 25, 2552, 899.0, -1.0],\n",
       "       ...,\n",
       "       ['14.10.2015', 33, 25, 7459, 349.0, 1.0],\n",
       "       ['22.10.2015', 33, 25, 7440, 299.0, 1.0],\n",
       "       ['03.10.2015', 33, 25, 7460, 299.0, 1.0]], dtype=object)"
      ]
     },
     "execution_count": 47,
     "metadata": {},
     "output_type": "execute_result"
    }
   ],
   "source": [
    "# dataframe -> ndarray\n",
    "data_ndarray = data.values\n",
    "data_ndarray"
   ]
  },
  {
   "cell_type": "code",
   "execution_count": 48,
   "id": "drawn-motor",
   "metadata": {},
   "outputs": [],
   "source": [
    "org_data = data\n",
    "del data['date']\n",
    "del data['date_block_num']\n",
    "del data['shop_id']\n",
    "del data['item_cnt_day']\n",
    "\n",
    "id_and_price = data"
   ]
  },
  {
   "cell_type": "code",
   "execution_count": 49,
   "id": "comprehensive-poland",
   "metadata": {},
   "outputs": [
    {
     "data": {
      "text/html": [
       "<div>\n",
       "<style scoped>\n",
       "    .dataframe tbody tr th:only-of-type {\n",
       "        vertical-align: middle;\n",
       "    }\n",
       "\n",
       "    .dataframe tbody tr th {\n",
       "        vertical-align: top;\n",
       "    }\n",
       "\n",
       "    .dataframe thead th {\n",
       "        text-align: right;\n",
       "    }\n",
       "</style>\n",
       "<table border=\"1\" class=\"dataframe\">\n",
       "  <thead>\n",
       "    <tr style=\"text-align: right;\">\n",
       "      <th></th>\n",
       "      <th>item_id</th>\n",
       "      <th>item_price</th>\n",
       "    </tr>\n",
       "  </thead>\n",
       "  <tbody>\n",
       "    <tr>\n",
       "      <th>0</th>\n",
       "      <td>22154</td>\n",
       "      <td>999.00</td>\n",
       "    </tr>\n",
       "    <tr>\n",
       "      <th>1</th>\n",
       "      <td>2552</td>\n",
       "      <td>899.00</td>\n",
       "    </tr>\n",
       "    <tr>\n",
       "      <th>2</th>\n",
       "      <td>2552</td>\n",
       "      <td>899.00</td>\n",
       "    </tr>\n",
       "    <tr>\n",
       "      <th>3</th>\n",
       "      <td>2554</td>\n",
       "      <td>1709.05</td>\n",
       "    </tr>\n",
       "    <tr>\n",
       "      <th>4</th>\n",
       "      <td>2555</td>\n",
       "      <td>1099.00</td>\n",
       "    </tr>\n",
       "  </tbody>\n",
       "</table>\n",
       "</div>"
      ],
      "text/plain": [
       "   item_id  item_price\n",
       "0    22154      999.00\n",
       "1     2552      899.00\n",
       "2     2552      899.00\n",
       "3     2554     1709.05\n",
       "4     2555     1099.00"
      ]
     },
     "execution_count": 49,
     "metadata": {},
     "output_type": "execute_result"
    }
   ],
   "source": [
    "id_and_price.head()"
   ]
  },
  {
   "cell_type": "code",
   "execution_count": 50,
   "id": "suburban-protein",
   "metadata": {},
   "outputs": [
    {
     "name": "stdout",
     "output_type": "stream",
     "text": [
      "         item_price\n",
      "item_id            \n",
      "20949         31340\n",
      "5822           9408\n",
      "17717          9067\n",
      "2808           7479\n",
      "4181           6853\n",
      "...             ...\n",
      "10752             1\n",
      "10753             1\n",
      "10799             1\n",
      "10835             1\n",
      "22169             1\n",
      "\n",
      "[21807 rows x 1 columns]\n"
     ]
    }
   ],
   "source": [
    "print(id_and_price.groupby(data['item_id']).count().sort_values(['item_price'], ascending=False))"
   ]
  },
  {
   "cell_type": "markdown",
   "id": "industrial-pixel",
   "metadata": {},
   "source": [
    "\\#20949가 압도적으로 많이 팔렸다."
   ]
  },
  {
   "cell_type": "markdown",
   "id": "earlier-prague",
   "metadata": {},
   "source": [
    "# 각 년도별 판매 추이 \n",
    "- 사실 2015년은 메르스가 유행했던 시절이다. 러시아 사람들이 공공보건을 잘 지켰을 지는 모르겠지만 판매품들은 대부분 소프트웨어와 하드웨어와 관련된 제품들이다. 이에 **년도와 판매 추이의 관련성**이 존재하는지 증명하려고 한다. "
   ]
  },
  {
   "cell_type": "markdown",
   "id": "ordinary-enclosure",
   "metadata": {},
   "source": [
    "## 13년도"
   ]
  },
  {
   "cell_type": "code",
   "execution_count": 51,
   "id": "specific-joseph",
   "metadata": {},
   "outputs": [
    {
     "data": {
      "text/html": [
       "<div>\n",
       "<style scoped>\n",
       "    .dataframe tbody tr th:only-of-type {\n",
       "        vertical-align: middle;\n",
       "    }\n",
       "\n",
       "    .dataframe tbody tr th {\n",
       "        vertical-align: top;\n",
       "    }\n",
       "\n",
       "    .dataframe thead th {\n",
       "        text-align: right;\n",
       "    }\n",
       "</style>\n",
       "<table border=\"1\" class=\"dataframe\">\n",
       "  <thead>\n",
       "    <tr style=\"text-align: right;\">\n",
       "      <th></th>\n",
       "      <th>date_block_num</th>\n",
       "      <th>item_id</th>\n",
       "      <th>item_cnt_day</th>\n",
       "    </tr>\n",
       "  </thead>\n",
       "  <tbody>\n",
       "    <tr>\n",
       "      <th>0</th>\n",
       "      <td>0</td>\n",
       "      <td>22154</td>\n",
       "      <td>1.0</td>\n",
       "    </tr>\n",
       "    <tr>\n",
       "      <th>1</th>\n",
       "      <td>0</td>\n",
       "      <td>2552</td>\n",
       "      <td>1.0</td>\n",
       "    </tr>\n",
       "    <tr>\n",
       "      <th>2</th>\n",
       "      <td>0</td>\n",
       "      <td>2552</td>\n",
       "      <td>-1.0</td>\n",
       "    </tr>\n",
       "    <tr>\n",
       "      <th>3</th>\n",
       "      <td>0</td>\n",
       "      <td>2554</td>\n",
       "      <td>1.0</td>\n",
       "    </tr>\n",
       "    <tr>\n",
       "      <th>4</th>\n",
       "      <td>0</td>\n",
       "      <td>2555</td>\n",
       "      <td>1.0</td>\n",
       "    </tr>\n",
       "    <tr>\n",
       "      <th>...</th>\n",
       "      <td>...</td>\n",
       "      <td>...</td>\n",
       "      <td>...</td>\n",
       "    </tr>\n",
       "    <tr>\n",
       "      <th>2935844</th>\n",
       "      <td>33</td>\n",
       "      <td>7409</td>\n",
       "      <td>1.0</td>\n",
       "    </tr>\n",
       "    <tr>\n",
       "      <th>2935845</th>\n",
       "      <td>33</td>\n",
       "      <td>7460</td>\n",
       "      <td>1.0</td>\n",
       "    </tr>\n",
       "    <tr>\n",
       "      <th>2935846</th>\n",
       "      <td>33</td>\n",
       "      <td>7459</td>\n",
       "      <td>1.0</td>\n",
       "    </tr>\n",
       "    <tr>\n",
       "      <th>2935847</th>\n",
       "      <td>33</td>\n",
       "      <td>7440</td>\n",
       "      <td>1.0</td>\n",
       "    </tr>\n",
       "    <tr>\n",
       "      <th>2935848</th>\n",
       "      <td>33</td>\n",
       "      <td>7460</td>\n",
       "      <td>1.0</td>\n",
       "    </tr>\n",
       "  </tbody>\n",
       "</table>\n",
       "<p>2935849 rows × 3 columns</p>\n",
       "</div>"
      ],
      "text/plain": [
       "         date_block_num  item_id  item_cnt_day\n",
       "0                     0    22154           1.0\n",
       "1                     0     2552           1.0\n",
       "2                     0     2552          -1.0\n",
       "3                     0     2554           1.0\n",
       "4                     0     2555           1.0\n",
       "...                 ...      ...           ...\n",
       "2935844              33     7409           1.0\n",
       "2935845              33     7460           1.0\n",
       "2935846              33     7459           1.0\n",
       "2935847              33     7440           1.0\n",
       "2935848              33     7460           1.0\n",
       "\n",
       "[2935849 rows x 3 columns]"
      ]
     },
     "execution_count": 51,
     "metadata": {},
     "output_type": "execute_result"
    }
   ],
   "source": [
    "data = pd.read_csv(train_data_path)\n",
    "num_item_cnt = data.loc[:, ['date_block_num', 'item_id', 'item_cnt_day']]\n",
    "num_item_cnt"
   ]
  },
  {
   "cell_type": "code",
   "execution_count": 52,
   "id": "double-boutique",
   "metadata": {},
   "outputs": [
    {
     "data": {
      "text/plain": [
       "131479.0"
      ]
     },
     "execution_count": 52,
     "metadata": {},
     "output_type": "execute_result"
    }
   ],
   "source": [
    "# 13_jan\n",
    "tt_cnt_jan = num_item_cnt[num_item_cnt['date_block_num'].isin([0])]\n",
    "num_item_cnt_jan = tt_cnt_jan['item_cnt_day'].sum(axis=0) # axis=0 -> 세로합\n",
    "num_item_cnt_jan"
   ]
  },
  {
   "cell_type": "code",
   "execution_count": 53,
   "id": "liberal-exemption",
   "metadata": {
    "code_folding": []
   },
   "outputs": [
    {
     "data": {
      "text/plain": [
       "128090.0"
      ]
     },
     "execution_count": 53,
     "metadata": {},
     "output_type": "execute_result"
    }
   ],
   "source": [
    "# 13_feb\n",
    "tt_cnt_feb = num_item_cnt[num_item_cnt['date_block_num'].isin([1])]\n",
    "num_item_cnt_feb = tt_cnt_feb['item_cnt_day'].sum(axis=0) # axis=0 -> 세로합\n",
    "num_item_cnt_feb"
   ]
  },
  {
   "cell_type": "code",
   "execution_count": 54,
   "id": "accepting-chinese",
   "metadata": {},
   "outputs": [
    {
     "data": {
      "text/plain": [
       "147142.0"
      ]
     },
     "execution_count": 54,
     "metadata": {},
     "output_type": "execute_result"
    }
   ],
   "source": [
    "# 13_mar\n",
    "tt_cnt_mar = num_item_cnt[num_item_cnt['date_block_num'].isin([2])]\n",
    "num_item_cnt_mar = tt_cnt_mar['item_cnt_day'].sum(axis=0) # axis=0 -> 세로합\n",
    "num_item_cnt_mar"
   ]
  },
  {
   "cell_type": "code",
   "execution_count": 55,
   "id": "advance-bowling",
   "metadata": {},
   "outputs": [
    {
     "data": {
      "text/plain": [
       "107190.0"
      ]
     },
     "execution_count": 55,
     "metadata": {},
     "output_type": "execute_result"
    }
   ],
   "source": [
    "# 13_apr\n",
    "tt_cnt_apr = num_item_cnt[num_item_cnt['date_block_num'].isin([3])]\n",
    "num_item_cnt_apr = tt_cnt_apr['item_cnt_day'].sum(axis=0) # axis=0 -> 세로합\n",
    "num_item_cnt_apr"
   ]
  },
  {
   "cell_type": "code",
   "execution_count": 56,
   "id": "ignored-sequence",
   "metadata": {},
   "outputs": [
    {
     "data": {
      "text/plain": [
       "106970.0"
      ]
     },
     "execution_count": 56,
     "metadata": {},
     "output_type": "execute_result"
    }
   ],
   "source": [
    "# 13_may\n",
    "tt_cnt_may = num_item_cnt[num_item_cnt['date_block_num'].isin([4])]\n",
    "num_item_cnt_may = tt_cnt_may['item_cnt_day'].sum(axis=0) # axis=0 -> 세로합\n",
    "num_item_cnt_may"
   ]
  },
  {
   "cell_type": "code",
   "execution_count": 57,
   "id": "racial-passage",
   "metadata": {},
   "outputs": [
    {
     "data": {
      "text/plain": [
       "125381.0"
      ]
     },
     "execution_count": 57,
     "metadata": {},
     "output_type": "execute_result"
    }
   ],
   "source": [
    "# 13_jun\n",
    "tt_cnt_jun = num_item_cnt[num_item_cnt['date_block_num'].isin([5])]\n",
    "num_item_cnt_jun = tt_cnt_jun['item_cnt_day'].sum(axis=0) # axis=0 -> 세로합\n",
    "num_item_cnt_jun"
   ]
  },
  {
   "cell_type": "code",
   "execution_count": 58,
   "id": "engaging-lyric",
   "metadata": {},
   "outputs": [
    {
     "data": {
      "text/plain": [
       "116966.0"
      ]
     },
     "execution_count": 58,
     "metadata": {},
     "output_type": "execute_result"
    }
   ],
   "source": [
    "# 13_jul\n",
    "tt_cnt_jul = num_item_cnt[num_item_cnt['date_block_num'].isin([6])]\n",
    "num_item_cnt_jul = tt_cnt_jul['item_cnt_day'].sum(axis=0) # axis=0 -> 세로합\n",
    "num_item_cnt_jul"
   ]
  },
  {
   "cell_type": "code",
   "execution_count": 59,
   "id": "boxed-charity",
   "metadata": {
    "scrolled": true
   },
   "outputs": [
    {
     "data": {
      "text/plain": [
       "125291.0"
      ]
     },
     "execution_count": 59,
     "metadata": {},
     "output_type": "execute_result"
    }
   ],
   "source": [
    "# 13_aug\n",
    "tt_cnt_aug = num_item_cnt[num_item_cnt['date_block_num'].isin([7])]\n",
    "num_item_cnt_aug = tt_cnt_aug['item_cnt_day'].sum(axis=0) # axis=0 -> 세로합\n",
    "num_item_cnt_aug"
   ]
  },
  {
   "cell_type": "code",
   "execution_count": 60,
   "id": "classical-optics",
   "metadata": {},
   "outputs": [
    {
     "data": {
      "text/plain": [
       "133332.0"
      ]
     },
     "execution_count": 60,
     "metadata": {},
     "output_type": "execute_result"
    }
   ],
   "source": [
    "# 13_sep\n",
    "tt_cnt_sep = num_item_cnt[num_item_cnt['date_block_num'].isin([8])]\n",
    "num_item_cnt_sep = tt_cnt_sep['item_cnt_day'].sum(axis=0) # axis=0 -> 세로합\n",
    "num_item_cnt_sep"
   ]
  },
  {
   "cell_type": "code",
   "execution_count": 61,
   "id": "sunset-buying",
   "metadata": {},
   "outputs": [
    {
     "data": {
      "text/plain": [
       "127541.0"
      ]
     },
     "execution_count": 61,
     "metadata": {},
     "output_type": "execute_result"
    }
   ],
   "source": [
    "# 13_oct\n",
    "tt_cnt_oct = num_item_cnt[num_item_cnt['date_block_num'].isin([9])]\n",
    "num_item_cnt_oct = tt_cnt_oct['item_cnt_day'].sum(axis=0) # axis=0 -> 세로합\n",
    "num_item_cnt_oct"
   ]
  },
  {
   "cell_type": "code",
   "execution_count": 62,
   "id": "stone-farming",
   "metadata": {},
   "outputs": [
    {
     "data": {
      "text/plain": [
       "130009.0"
      ]
     },
     "execution_count": 62,
     "metadata": {},
     "output_type": "execute_result"
    }
   ],
   "source": [
    "# 13_nov\n",
    "tt_cnt_nov = num_item_cnt[num_item_cnt['date_block_num'].isin([10])]\n",
    "num_item_cnt_nov = tt_cnt_nov['item_cnt_day'].sum(axis=0) # axis=0 -> 세로합\n",
    "num_item_cnt_nov"
   ]
  },
  {
   "cell_type": "code",
   "execution_count": 63,
   "id": "sapphire-england",
   "metadata": {},
   "outputs": [
    {
     "data": {
      "text/plain": [
       "183342.0"
      ]
     },
     "execution_count": 63,
     "metadata": {},
     "output_type": "execute_result"
    }
   ],
   "source": [
    "# 13_dec\n",
    "tt_cnt_dec = num_item_cnt[num_item_cnt['date_block_num'].isin([11])]\n",
    "num_item_cnt_dec = tt_cnt_dec['item_cnt_day'].sum(axis=0) # axis=0 -> 세로합\n",
    "num_item_cnt_dec"
   ]
  },
  {
   "cell_type": "code",
   "execution_count": 64,
   "id": "musical-formula",
   "metadata": {},
   "outputs": [],
   "source": [
    "cnt_per_month = (num_item_cnt_jan,\n",
    "                     num_item_cnt_feb,\n",
    "                     num_item_cnt_mar,\n",
    "                     num_item_cnt_apr,\n",
    "                     num_item_cnt_may,\n",
    "                     num_item_cnt_jun,\n",
    "                     num_item_cnt_jul,\n",
    "                     num_item_cnt_aug,\n",
    "                     num_item_cnt_sep,\n",
    "                     num_item_cnt_oct,\n",
    "                     num_item_cnt_nov,\n",
    "                     num_item_cnt_dec)"
   ]
  },
  {
   "cell_type": "code",
   "execution_count": 65,
   "id": "entire-service",
   "metadata": {},
   "outputs": [
    {
     "data": {
      "text/plain": [
       "tuple"
      ]
     },
     "execution_count": 65,
     "metadata": {},
     "output_type": "execute_result"
    }
   ],
   "source": [
    "type(cnt_per_month)"
   ]
  },
  {
   "cell_type": "code",
   "execution_count": 66,
   "id": "vulnerable-resistance",
   "metadata": {},
   "outputs": [
    {
     "data": {
      "text/plain": [
       "list"
      ]
     },
     "execution_count": 66,
     "metadata": {},
     "output_type": "execute_result"
    }
   ],
   "source": [
    "cnt_per_month = list(cnt_per_month)\n",
    "type(cnt_per_month)"
   ]
  },
  {
   "cell_type": "code",
   "execution_count": 67,
   "id": "offensive-danger",
   "metadata": {},
   "outputs": [
    {
     "data": {
      "image/png": "[encoded data removed]",
      "text/plain": [
       "<Figure size 432x288 with 1 Axes>"
      ]
     },
     "metadata": {
      "image/png": {
       "height": 248,
       "width": 394
      },
      "needs_background": "light"
     },
     "output_type": "display_data"
    }
   ],
   "source": [
    "plt.plot(cnt_per_month)\n",
    "plt.show()"
   ]
  },
  {
   "cell_type": "markdown",
   "id": "compliant-booth",
   "metadata": {},
   "source": [
    "## 14년도"
   ]
  },
  {
   "cell_type": "code",
   "execution_count": 68,
   "id": "former-mathematics",
   "metadata": {},
   "outputs": [
    {
     "data": {
      "text/plain": [
       "116899.0"
      ]
     },
     "execution_count": 68,
     "metadata": {},
     "output_type": "execute_result"
    }
   ],
   "source": [
    "# 14_jan\n",
    "ft_cnt_jan = num_item_cnt[num_item_cnt['date_block_num'].isin([12])]\n",
    "ft_num_item_cnt_jan = ft_cnt_jan['item_cnt_day'].sum(axis=0) # axis=0 -> 세로합\n",
    "ft_num_item_cnt_jan"
   ]
  },
  {
   "cell_type": "code",
   "execution_count": 69,
   "id": "starting-source",
   "metadata": {
    "code_folding": []
   },
   "outputs": [
    {
     "data": {
      "text/plain": [
       "109687.0"
      ]
     },
     "execution_count": 69,
     "metadata": {},
     "output_type": "execute_result"
    }
   ],
   "source": [
    "# 14_feb\n",
    "ft_cnt_feb = num_item_cnt[num_item_cnt['date_block_num'].isin([13])]\n",
    "ft_num_item_cnt_feb = ft_cnt_feb['item_cnt_day'].sum(axis=0) # axis=0 -> 세로합\n",
    "ft_num_item_cnt_feb"
   ]
  },
  {
   "cell_type": "code",
   "execution_count": 70,
   "id": "handmade-roommate",
   "metadata": {
    "scrolled": true
   },
   "outputs": [
    {
     "data": {
      "text/plain": [
       "115297.0"
      ]
     },
     "execution_count": 70,
     "metadata": {},
     "output_type": "execute_result"
    }
   ],
   "source": [
    "# 14_mar\n",
    "ft_cnt_mar = num_item_cnt[num_item_cnt['date_block_num'].isin([14])]\n",
    "ft_num_item_cnt_mar = ft_cnt_mar['item_cnt_day'].sum(axis=0) # axis=0 -> 세로합\n",
    "ft_num_item_cnt_mar"
   ]
  },
  {
   "cell_type": "code",
   "execution_count": 71,
   "id": "accepted-pittsburgh",
   "metadata": {
    "scrolled": true
   },
   "outputs": [
    {
     "data": {
      "text/plain": [
       "96556.0"
      ]
     },
     "execution_count": 71,
     "metadata": {},
     "output_type": "execute_result"
    }
   ],
   "source": [
    "# 14_apr\n",
    "ft_cnt_apr = num_item_cnt[num_item_cnt['date_block_num'].isin([15])]\n",
    "ft_num_item_cnt_apr = ft_cnt_apr['item_cnt_day'].sum(axis=0) # axis=0 -> 세로합\n",
    "ft_num_item_cnt_apr"
   ]
  },
  {
   "cell_type": "code",
   "execution_count": 72,
   "id": "continued-universe",
   "metadata": {},
   "outputs": [
    {
     "data": {
      "text/plain": [
       "97790.0"
      ]
     },
     "execution_count": 72,
     "metadata": {},
     "output_type": "execute_result"
    }
   ],
   "source": [
    "# 14_may\n",
    "ft_cnt_may = num_item_cnt[num_item_cnt['date_block_num'].isin([16])]\n",
    "ft_num_item_cnt_may = ft_cnt_may['item_cnt_day'].sum(axis=0) # axis=0 -> 세로합\n",
    "ft_num_item_cnt_may"
   ]
  },
  {
   "cell_type": "code",
   "execution_count": 73,
   "id": "contemporary-honduras",
   "metadata": {},
   "outputs": [
    {
     "data": {
      "text/plain": [
       "97429.0"
      ]
     },
     "execution_count": 73,
     "metadata": {},
     "output_type": "execute_result"
    }
   ],
   "source": [
    "# 14_jun\n",
    "ft_cnt_jun = num_item_cnt[num_item_cnt['date_block_num'].isin([17])]\n",
    "ft_num_item_cnt_jun = ft_cnt_jun['item_cnt_day'].sum(axis=0) # axis=0 -> 세로합\n",
    "ft_num_item_cnt_jun"
   ]
  },
  {
   "cell_type": "code",
   "execution_count": 74,
   "id": "brief-helen",
   "metadata": {},
   "outputs": [
    {
     "data": {
      "text/plain": [
       "91280.0"
      ]
     },
     "execution_count": 74,
     "metadata": {},
     "output_type": "execute_result"
    }
   ],
   "source": [
    "# 14_jul\n",
    "ft_cnt_jul = num_item_cnt[num_item_cnt['date_block_num'].isin([18])]\n",
    "ft_num_item_cnt_jul = ft_cnt_jul['item_cnt_day'].sum(axis=0) # axis=0 -> 세로합\n",
    "ft_num_item_cnt_jul"
   ]
  },
  {
   "cell_type": "code",
   "execution_count": 75,
   "id": "occasional-command",
   "metadata": {
    "scrolled": true
   },
   "outputs": [
    {
     "data": {
      "text/plain": [
       "102721.0"
      ]
     },
     "execution_count": 75,
     "metadata": {},
     "output_type": "execute_result"
    }
   ],
   "source": [
    "# 14_aug\n",
    "ft_cnt_aug = num_item_cnt[num_item_cnt['date_block_num'].isin([19])]\n",
    "ft_num_item_cnt_aug = ft_cnt_aug['item_cnt_day'].sum(axis=0) # axis=0 -> 세로합\n",
    "ft_num_item_cnt_aug"
   ]
  },
  {
   "cell_type": "code",
   "execution_count": 76,
   "id": "illegal-issue",
   "metadata": {},
   "outputs": [
    {
     "data": {
      "text/plain": [
       "99208.0"
      ]
     },
     "execution_count": 76,
     "metadata": {},
     "output_type": "execute_result"
    }
   ],
   "source": [
    "# 14_sep\n",
    "ft_cnt_sep = num_item_cnt[num_item_cnt['date_block_num'].isin([20])]\n",
    "ft_num_item_cnt_sep = ft_cnt_sep['item_cnt_day'].sum(axis=0) # axis=0 -> 세로합\n",
    "ft_num_item_cnt_sep"
   ]
  },
  {
   "cell_type": "code",
   "execution_count": 77,
   "id": "beneficial-melissa",
   "metadata": {},
   "outputs": [
    {
     "data": {
      "text/plain": [
       "107422.0"
      ]
     },
     "execution_count": 77,
     "metadata": {},
     "output_type": "execute_result"
    }
   ],
   "source": [
    "# 14_oct\n",
    "ft_cnt_oct = num_item_cnt[num_item_cnt['date_block_num'].isin([21])]\n",
    "ft_num_item_cnt_oct = ft_cnt_oct['item_cnt_day'].sum(axis=0) # axis=0 -> 세로합\n",
    "ft_num_item_cnt_oct"
   ]
  },
  {
   "cell_type": "code",
   "execution_count": 78,
   "id": "ethical-rugby",
   "metadata": {
    "scrolled": true
   },
   "outputs": [
    {
     "data": {
      "text/plain": [
       "117845.0"
      ]
     },
     "execution_count": 78,
     "metadata": {},
     "output_type": "execute_result"
    }
   ],
   "source": [
    "# 14_nov\n",
    "ft_cnt_nov = num_item_cnt[num_item_cnt['date_block_num'].isin([22])]\n",
    "ft_num_item_cnt_nov = ft_cnt_nov['item_cnt_day'].sum(axis=0) # axis=0 -> 세로합\n",
    "ft_num_item_cnt_nov"
   ]
  },
  {
   "cell_type": "code",
   "execution_count": 79,
   "id": "imperial-infrared",
   "metadata": {},
   "outputs": [
    {
     "data": {
      "text/plain": [
       "168755.0"
      ]
     },
     "execution_count": 79,
     "metadata": {},
     "output_type": "execute_result"
    }
   ],
   "source": [
    "# 14_dec\n",
    "ft_cnt_dec = num_item_cnt[num_item_cnt['date_block_num'].isin([23])]\n",
    "ft_num_item_cnt_dec = ft_cnt_dec['item_cnt_day'].sum(axis=0) # axis=0 -> 세로합\n",
    "ft_num_item_cnt_dec"
   ]
  },
  {
   "cell_type": "code",
   "execution_count": 80,
   "id": "indian-tractor",
   "metadata": {},
   "outputs": [],
   "source": [
    "ft_cnt_per_month = (ft_num_item_cnt_jan,\n",
    "                     ft_num_item_cnt_feb,\n",
    "                     ft_num_item_cnt_mar,\n",
    "                     ft_num_item_cnt_apr,\n",
    "                     ft_num_item_cnt_may,\n",
    "                     ft_num_item_cnt_jun,\n",
    "                     ft_num_item_cnt_jul,\n",
    "                     ft_num_item_cnt_aug,\n",
    "                     ft_num_item_cnt_sep,\n",
    "                     ft_num_item_cnt_oct,\n",
    "                     ft_num_item_cnt_nov,\n",
    "                     ft_num_item_cnt_dec)"
   ]
  },
  {
   "cell_type": "code",
   "execution_count": 81,
   "id": "complimentary-therapy",
   "metadata": {},
   "outputs": [
    {
     "data": {
      "text/plain": [
       "tuple"
      ]
     },
     "execution_count": 81,
     "metadata": {},
     "output_type": "execute_result"
    }
   ],
   "source": [
    "type(ft_cnt_per_month)"
   ]
  },
  {
   "cell_type": "code",
   "execution_count": 82,
   "id": "fifth-frederick",
   "metadata": {
    "scrolled": true
   },
   "outputs": [
    {
     "data": {
      "text/plain": [
       "list"
      ]
     },
     "execution_count": 82,
     "metadata": {},
     "output_type": "execute_result"
    }
   ],
   "source": [
    "ft_cnt_per_month = list(ft_cnt_per_month)\n",
    "type(ft_cnt_per_month)"
   ]
  },
  {
   "cell_type": "code",
   "execution_count": 83,
   "id": "extraordinary-siemens",
   "metadata": {},
   "outputs": [
    {
     "data": {
      "image/png": "[encoded data removed]",
      "text/plain": [
       "<Figure size 432x288 with 1 Axes>"
      ]
     },
     "metadata": {
      "image/png": {
       "height": 248,
       "width": 394
      },
      "needs_background": "light"
     },
     "output_type": "display_data"
    }
   ],
   "source": [
    "plt.plot(ft_cnt_per_month)\n",
    "plt.show()"
   ]
  },
  {
   "cell_type": "markdown",
   "id": "manual-genetics",
   "metadata": {},
   "source": [
    "## 15년도"
   ]
  },
  {
   "cell_type": "code",
   "execution_count": 84,
   "id": "generic-nomination",
   "metadata": {},
   "outputs": [
    {
     "data": {
      "text/plain": [
       "110971.0"
      ]
     },
     "execution_count": 84,
     "metadata": {},
     "output_type": "execute_result"
    }
   ],
   "source": [
    "# 15_jan\n",
    "fft_cnt_jan = num_item_cnt[num_item_cnt['date_block_num'].isin([24])]\n",
    "fft_num_item_cnt_jan = fft_cnt_jan['item_cnt_day'].sum(axis=0) # axis=0 -> 세로합\n",
    "fft_num_item_cnt_jan"
   ]
  },
  {
   "cell_type": "code",
   "execution_count": 85,
   "id": "apart-guidance",
   "metadata": {
    "code_folding": []
   },
   "outputs": [
    {
     "data": {
      "text/plain": [
       "84198.0"
      ]
     },
     "execution_count": 85,
     "metadata": {},
     "output_type": "execute_result"
    }
   ],
   "source": [
    "# 15_feb\n",
    "fft_cnt_feb = num_item_cnt[num_item_cnt['date_block_num'].isin([25])]\n",
    "fft_num_item_cnt_feb = fft_cnt_feb['item_cnt_day'].sum(axis=0) # axis=0 -> 세로합\n",
    "fft_num_item_cnt_feb"
   ]
  },
  {
   "cell_type": "code",
   "execution_count": 86,
   "id": "floating-constant",
   "metadata": {
    "scrolled": true
   },
   "outputs": [
    {
     "data": {
      "text/plain": [
       "82014.0"
      ]
     },
     "execution_count": 86,
     "metadata": {},
     "output_type": "execute_result"
    }
   ],
   "source": [
    "# 15_mar\n",
    "fft_cnt_mar = num_item_cnt[num_item_cnt['date_block_num'].isin([26])]\n",
    "fft_num_item_cnt_mar = fft_cnt_mar['item_cnt_day'].sum(axis=0) # axis=0 -> 세로합\n",
    "fft_num_item_cnt_mar"
   ]
  },
  {
   "cell_type": "code",
   "execution_count": 87,
   "id": "lesser-alcohol",
   "metadata": {
    "scrolled": true
   },
   "outputs": [
    {
     "data": {
      "text/plain": [
       "77827.0"
      ]
     },
     "execution_count": 87,
     "metadata": {},
     "output_type": "execute_result"
    }
   ],
   "source": [
    "# 15_apr\n",
    "fft_cnt_apr = num_item_cnt[num_item_cnt['date_block_num'].isin([27])]\n",
    "fft_num_item_cnt_apr = fft_cnt_apr['item_cnt_day'].sum(axis=0) # axis=0 -> 세로합\n",
    "fft_num_item_cnt_apr"
   ]
  },
  {
   "cell_type": "code",
   "execution_count": 88,
   "id": "renewable-selection",
   "metadata": {},
   "outputs": [
    {
     "data": {
      "text/plain": [
       "72295.0"
      ]
     },
     "execution_count": 88,
     "metadata": {},
     "output_type": "execute_result"
    }
   ],
   "source": [
    "# 15_may\n",
    "fft_cnt_may = num_item_cnt[num_item_cnt['date_block_num'].isin([28])]\n",
    "fft_num_item_cnt_may = fft_cnt_may['item_cnt_day'].sum(axis=0) # axis=0 -> 세로합\n",
    "fft_num_item_cnt_may"
   ]
  },
  {
   "cell_type": "code",
   "execution_count": 89,
   "id": "preceding-genesis",
   "metadata": {},
   "outputs": [
    {
     "data": {
      "text/plain": [
       "64114.0"
      ]
     },
     "execution_count": 89,
     "metadata": {},
     "output_type": "execute_result"
    }
   ],
   "source": [
    "# 15_jun\n",
    "fft_cnt_jun = num_item_cnt[num_item_cnt['date_block_num'].isin([29])]\n",
    "fft_num_item_cnt_jun = fft_cnt_jun['item_cnt_day'].sum(axis=0) # axis=0 -> 세로합\n",
    "fft_num_item_cnt_jun"
   ]
  },
  {
   "cell_type": "code",
   "execution_count": 90,
   "id": "ordered-pharmacology",
   "metadata": {},
   "outputs": [
    {
     "data": {
      "text/plain": [
       "63187.0"
      ]
     },
     "execution_count": 90,
     "metadata": {},
     "output_type": "execute_result"
    }
   ],
   "source": [
    "# 15_jul\n",
    "fft_cnt_jul = num_item_cnt[num_item_cnt['date_block_num'].isin([30])]\n",
    "fft_num_item_cnt_jul = fft_cnt_jul['item_cnt_day'].sum(axis=0) # axis=0 -> 세로합\n",
    "fft_num_item_cnt_jul"
   ]
  },
  {
   "cell_type": "code",
   "execution_count": 91,
   "id": "complete-correction",
   "metadata": {
    "scrolled": true
   },
   "outputs": [
    {
     "data": {
      "text/plain": [
       "66079.0"
      ]
     },
     "execution_count": 91,
     "metadata": {},
     "output_type": "execute_result"
    }
   ],
   "source": [
    "# 15_aug\n",
    "fft_cnt_aug = num_item_cnt[num_item_cnt['date_block_num'].isin([31])]\n",
    "fft_num_item_cnt_aug = fft_cnt_aug['item_cnt_day'].sum(axis=0) # axis=0 -> 세로합\n",
    "fft_num_item_cnt_aug"
   ]
  },
  {
   "cell_type": "code",
   "execution_count": 92,
   "id": "widespread-claim",
   "metadata": {},
   "outputs": [
    {
     "data": {
      "text/plain": [
       "72843.0"
      ]
     },
     "execution_count": 92,
     "metadata": {},
     "output_type": "execute_result"
    }
   ],
   "source": [
    "# 15_sep\n",
    "fft_cnt_sep = num_item_cnt[num_item_cnt['date_block_num'].isin([32])]\n",
    "fft_num_item_cnt_sep = fft_cnt_sep['item_cnt_day'].sum(axis=0) # axis=0 -> 세로합\n",
    "fft_num_item_cnt_sep"
   ]
  },
  {
   "cell_type": "code",
   "execution_count": 93,
   "id": "civic-difficulty",
   "metadata": {},
   "outputs": [
    {
     "data": {
      "text/plain": [
       "71056.0"
      ]
     },
     "execution_count": 93,
     "metadata": {},
     "output_type": "execute_result"
    }
   ],
   "source": [
    "# 15_oct\n",
    "fft_cnt_oct = num_item_cnt[num_item_cnt['date_block_num'].isin([33])]\n",
    "fft_num_item_cnt_oct = fft_cnt_oct['item_cnt_day'].sum(axis=0) # axis=0 -> 세로합\n",
    "fft_num_item_cnt_oct"
   ]
  },
  {
   "cell_type": "code",
   "execution_count": 94,
   "id": "running-setup",
   "metadata": {},
   "outputs": [],
   "source": [
    "fft_cnt_per_month = (fft_num_item_cnt_jan,\n",
    "                     fft_num_item_cnt_feb,\n",
    "                     fft_num_item_cnt_mar,\n",
    "                     fft_num_item_cnt_apr,\n",
    "                     fft_num_item_cnt_may,\n",
    "                     fft_num_item_cnt_jun,\n",
    "                     fft_num_item_cnt_jul,\n",
    "                     fft_num_item_cnt_aug,\n",
    "                     fft_num_item_cnt_sep,\n",
    "                     fft_num_item_cnt_oct)"
   ]
  },
  {
   "cell_type": "code",
   "execution_count": 95,
   "id": "fixed-registrar",
   "metadata": {},
   "outputs": [
    {
     "data": {
      "text/plain": [
       "tuple"
      ]
     },
     "execution_count": 95,
     "metadata": {},
     "output_type": "execute_result"
    }
   ],
   "source": [
    "type(fft_cnt_per_month)"
   ]
  },
  {
   "cell_type": "code",
   "execution_count": 96,
   "id": "aboriginal-divorce",
   "metadata": {
    "scrolled": true
   },
   "outputs": [
    {
     "data": {
      "text/plain": [
       "list"
      ]
     },
     "execution_count": 96,
     "metadata": {},
     "output_type": "execute_result"
    }
   ],
   "source": [
    "fft_cnt_per_month = list(fft_cnt_per_month)\n",
    "type(fft_cnt_per_month)"
   ]
  },
  {
   "cell_type": "code",
   "execution_count": 97,
   "id": "combined-blackjack",
   "metadata": {},
   "outputs": [
    {
     "data": {
      "image/png": "[encoded data removed]",
      "text/plain": [
       "<Figure size 432x288 with 1 Axes>"
      ]
     },
     "metadata": {
      "image/png": {
       "height": 248,
       "width": 394
      },
      "needs_background": "light"
     },
     "output_type": "display_data"
    }
   ],
   "source": [
    "plt.plot(fft_cnt_per_month)\n",
    "plt.show()"
   ]
  },
  {
   "cell_type": "markdown",
   "id": "fabulous-science",
   "metadata": {},
   "source": [
    "## 모음"
   ]
  },
  {
   "cell_type": "code",
   "execution_count": 98,
   "id": "talented-score",
   "metadata": {},
   "outputs": [
    {
     "data": {
      "image/png": "[encoded data removed]",
      "text/plain": [
       "<Figure size 432x288 with 1 Axes>"
      ]
     },
     "metadata": {
      "image/png": {
       "height": 277,
       "width": 407
      },
      "needs_background": "light"
     },
     "output_type": "display_data"
    }
   ],
   "source": [
    "plt.plot(cnt_per_month)\n",
    "plt.xlabel('2013')\n",
    "plt.ylabel('cnt per month')\n",
    "plt.title('2013 cnt per month')\n",
    "plt.show()"
   ]
  },
  {
   "cell_type": "code",
   "execution_count": 99,
   "id": "seeing-marriage",
   "metadata": {},
   "outputs": [
    {
     "data": {
      "image/png": "[encoded data removed]",
      "text/plain": [
       "<Figure size 432x288 with 1 Axes>"
      ]
     },
     "metadata": {
      "image/png": {
       "height": 277,
       "width": 407
      },
      "needs_background": "light"
     },
     "output_type": "display_data"
    }
   ],
   "source": [
    "plt.plot(ft_cnt_per_month)\n",
    "plt.xlabel('2014')\n",
    "plt.ylabel('cnt per month')\n",
    "plt.title('2014 cnt per month')\n",
    "plt.show()"
   ]
  },
  {
   "cell_type": "markdown",
   "id": "annual-celebration",
   "metadata": {},
   "source": [
    "13년도의 월판매량과 14년도의 월판매량이 아주 비슷한 그래프를 보였다. 특히 12월에 판매량이 급증했기 때문에 이를 이상치를 두기로했다.  \n",
    "이상치의 첫번째 방법은 12월 data를 모두 무시하는 것이었고,  \n",
    "두번째는 12월과 1월에 sale 날짜를 세심하게 제외하는 것이다.  "
   ]
  },
  {
   "cell_type": "code",
   "execution_count": 100,
   "id": "hollywood-virginia",
   "metadata": {},
   "outputs": [
    {
     "data": {
      "image/png": "[encoded data removed]",
      "text/plain": [
       "<Figure size 432x288 with 1 Axes>"
      ]
     },
     "metadata": {
      "image/png": {
       "height": 277,
       "width": 407
      },
      "needs_background": "light"
     },
     "output_type": "display_data"
    }
   ],
   "source": [
    "plt.plot(fft_cnt_per_month)\n",
    "plt.xlabel('2015')\n",
    "plt.ylabel('cnt per month')\n",
    "plt.title('2015 cnt per month')\n",
    "plt.show()"
   ]
  },
  {
   "cell_type": "markdown",
   "id": "assured-asthma",
   "metadata": {},
   "source": [
    "# 5가지 다른 방법으로 전처리한 데이터"
   ]
  },
  {
   "cell_type": "markdown",
   "id": "purple-athletics",
   "metadata": {},
   "source": [
    "**1. pure data + 3가지 모델의 AveragingBlending**  \n",
    "아무것도 처리하지 않고 3가지 모델의 돌렸을 때 score는 2.14473가 나왔다.  \n",
    "데이터를 살펴보면서 이상치가 많았던 부분들을 처리하며 다른 시도를 했다.  \n",
    "  \n",
    "**2. 12월 데이터를 모두 지우고 1가지 모델(lightGBM)**  \n",
    "이상치가 가장 많았던 13년, 14년 12월 데이터를 모두 지우고 모델을 돌렸더니 score가 2.36042으로 처음보다 높게 나왔다.  \n",
    "그래서 꼼꼼하게 세일기간의 data만 지우고 다시 시도했다.   \n",
    "  \n",
    "**3. 세일 기간 데이터 지우고 1가지 모델(lightGBM)**  \n",
    "kaggle score : 1.54639 \n",
    "sale 기간만 지웠더니 성능이 많이 좋아졌다.  \n",
    "앞으로도 이상치를 대할 때 뭉텅이로 잡는 것 보다는 데이터를 자세히 보고 세심하게 분리해야겠다고 느꼈다.  \n",
    "\n",
    "**4. 3번 + 'shuffle = False'**  \n",
    "스코어가 가장 좋은 3번의 조건에 random_state를 지우고 'shuffle = False' 를 추가했다.  \n",
    "이유는 시계열 데이터이기 때문에 순서대로 학습되는 것이 더 좋을 것이라고 예상했기 때문이다.  \n",
    "kaggle score : 1.62635  \n",
    "random없이 돌리면 더 성능이 좋아질 것 이라고 기대했는데,  오히려 더 안좋아졌다.  \n",
    "이상치를 제거하고 나서는 random한 학습이 더 좋은 것이라고 추측해 볼 수 있다. "
   ]
  },
  {
   "cell_type": "markdown",
   "id": "willing-circular",
   "metadata": {},
   "source": [
    "# baseline model"
   ]
  },
  {
   "cell_type": "code",
   "execution_count": 101,
   "id": "pursuant-adult",
   "metadata": {},
   "outputs": [
    {
     "name": "stdout",
     "output_type": "stream",
     "text": [
      "Index(['date', 'date_block_num', 'shop_id', 'item_id', 'item_price'], dtype='object')\n"
     ]
    }
   ],
   "source": [
    "y = data['item_cnt_day']\n",
    "\n",
    "del data['item_cnt_day']\n",
    "\n",
    "print(data.columns)"
   ]
  },
  {
   "cell_type": "code",
   "execution_count": 102,
   "id": "sufficient-parent",
   "metadata": {},
   "outputs": [
    {
     "name": "stdout",
     "output_type": "stream",
     "text": [
      "Index(['date_block_num', 'shop_id', 'item_id', 'item_price'], dtype='object')\n"
     ]
    }
   ],
   "source": [
    "del data['date']\n",
    "\n",
    "print(data.columns)"
   ]
  },
  {
   "cell_type": "markdown",
   "id": "known-reverse",
   "metadata": {},
   "source": [
    "##  Average Blending\n",
    "우리는 이번에 회귀 문제를 풀고 있으므로, 위 분류기의 앙상블처럼 투표로 정하는 대신 예측 결과를 평균 내어 활용할 예정입니다.  \n",
    "여러 가지 모델의 결과를 산술평균하여 블렌딩 모델을 만들겠습니다.\n",
    "모델은 부스팅 계열인 gboost, xgboost, lightgbm 세 가지를 사용합니다."
   ]
  },
  {
   "cell_type": "code",
   "execution_count": 103,
   "id": "studied-affair",
   "metadata": {},
   "outputs": [
    {
     "name": "stdout",
     "output_type": "stream",
     "text": [
      "얍💢\n"
     ]
    }
   ],
   "source": [
    "gboost = GradientBoostingRegressor(random_state=2021)\n",
    "xgboost = xgb.XGBRegressor(random_state=2021)\n",
    "lightgbm = lgb.LGBMRegressor(random_state=2021)\n",
    "\n",
    "models = [{'model':gboost, 'name':'GradientBoosting'}, {'model':xgboost, 'name':'XGBoost'},\n",
    "          {'model':lightgbm, 'name':'LightGBM'}]\n",
    "\n",
    "print('얍💢')"
   ]
  },
  {
   "cell_type": "code",
   "execution_count": 106,
   "id": "administrative-decline",
   "metadata": {},
   "outputs": [],
   "source": [
    "models = [{'model':lightgbm, 'name':'LightGBM'}]"
   ]
  },
  {
   "cell_type": "markdown",
   "id": "incorporated-accreditation",
   "metadata": {},
   "source": [
    "## Cross Validation  \n",
    "교차 검증을 통해 모델의 성능을 간단히 평가하겠습니다."
   ]
  },
  {
   "cell_type": "code",
   "execution_count": 107,
   "id": "lesbian-class",
   "metadata": {},
   "outputs": [
    {
     "name": "stdout",
     "output_type": "stream",
     "text": [
      "얍💢\n"
     ]
    }
   ],
   "source": [
    "def get_cv_score(models):\n",
    "    kfold = KFold(n_splits=5, random_state=2021).get_n_splits(data.values)\n",
    "    for m in models:\n",
    "        print(\"Model {} CV score : {:.4f}\".format(m['name'], \n",
    "                                                  np.mean(cross_val_score(m['model'],  #  R^2점수를 반환\n",
    "                                                                          data.values, \n",
    "                                                                          y)), \n",
    "                                                  kf=kfold))\n",
    "print('얍💢')"
   ]
  },
  {
   "cell_type": "code",
   "execution_count": 108,
   "id": "possible-hospital",
   "metadata": {},
   "outputs": [
    {
     "name": "stdout",
     "output_type": "stream",
     "text": [
      "Model LightGBM CV score : 0.0560\n"
     ]
    }
   ],
   "source": [
    "get_cv_score(models)"
   ]
  },
  {
   "cell_type": "markdown",
   "id": "intellectual-connectivity",
   "metadata": {},
   "source": [
    "## Make Submission File\n",
    "cross_val_score() 함수는 회귀모델을 전달할 경우 R^2점수를 반환합니다.  \n",
    "다음과 같이 여러 모델을 입력하면 각 모델에 대한 예측 결과를 평균 내어 주는 AgeragingBlending() 함수를 만들어 사용합니다.  AgeragingBlending() 함수는 models 딕셔너리 안에 있는 모델을 모두 x와 y로 학습시킨 뒤 predictions에 그 예측 결괏값을 모아서 평균한 값을 반환합니다.  "
   ]
  },
  {
   "cell_type": "code",
   "execution_count": 109,
   "id": "extraordinary-theology",
   "metadata": {},
   "outputs": [],
   "source": [
    "def AveragingBlending(models, data, y, sub_x):\n",
    "    for m in models : \n",
    "        m['model'].fit(data.values, y)\n",
    "    \n",
    "    predictions = np.column_stack([\n",
    "        m['model'].predict(sub_x.values) for m in models\n",
    "    ])\n",
    "    return np.mean(predictions, axis=1)"
   ]
  },
  {
   "cell_type": "markdown",
   "id": "wired-douglas",
   "metadata": {},
   "source": [
    "함수를 활용해서 예측값을 생성"
   ]
  },
  {
   "cell_type": "code",
   "execution_count": 110,
   "id": "composite-declaration",
   "metadata": {},
   "outputs": [
    {
     "data": {
      "text/html": [
       "<div>\n",
       "<style scoped>\n",
       "    .dataframe tbody tr th:only-of-type {\n",
       "        vertical-align: middle;\n",
       "    }\n",
       "\n",
       "    .dataframe tbody tr th {\n",
       "        vertical-align: top;\n",
       "    }\n",
       "\n",
       "    .dataframe thead th {\n",
       "        text-align: right;\n",
       "    }\n",
       "</style>\n",
       "<table border=\"1\" class=\"dataframe\">\n",
       "  <thead>\n",
       "    <tr style=\"text-align: right;\">\n",
       "      <th></th>\n",
       "      <th>shop_id</th>\n",
       "      <th>item_id</th>\n",
       "      <th>item_price</th>\n",
       "    </tr>\n",
       "  </thead>\n",
       "  <tbody>\n",
       "    <tr>\n",
       "      <th>0</th>\n",
       "      <td>59</td>\n",
       "      <td>22154</td>\n",
       "      <td>999.00</td>\n",
       "    </tr>\n",
       "    <tr>\n",
       "      <th>1</th>\n",
       "      <td>25</td>\n",
       "      <td>2552</td>\n",
       "      <td>899.00</td>\n",
       "    </tr>\n",
       "    <tr>\n",
       "      <th>2</th>\n",
       "      <td>25</td>\n",
       "      <td>2552</td>\n",
       "      <td>899.00</td>\n",
       "    </tr>\n",
       "    <tr>\n",
       "      <th>3</th>\n",
       "      <td>25</td>\n",
       "      <td>2554</td>\n",
       "      <td>1709.05</td>\n",
       "    </tr>\n",
       "    <tr>\n",
       "      <th>4</th>\n",
       "      <td>25</td>\n",
       "      <td>2555</td>\n",
       "      <td>1099.00</td>\n",
       "    </tr>\n",
       "    <tr>\n",
       "      <th>...</th>\n",
       "      <td>...</td>\n",
       "      <td>...</td>\n",
       "      <td>...</td>\n",
       "    </tr>\n",
       "    <tr>\n",
       "      <th>2935844</th>\n",
       "      <td>25</td>\n",
       "      <td>7409</td>\n",
       "      <td>299.00</td>\n",
       "    </tr>\n",
       "    <tr>\n",
       "      <th>2935845</th>\n",
       "      <td>25</td>\n",
       "      <td>7460</td>\n",
       "      <td>299.00</td>\n",
       "    </tr>\n",
       "    <tr>\n",
       "      <th>2935846</th>\n",
       "      <td>25</td>\n",
       "      <td>7459</td>\n",
       "      <td>349.00</td>\n",
       "    </tr>\n",
       "    <tr>\n",
       "      <th>2935847</th>\n",
       "      <td>25</td>\n",
       "      <td>7440</td>\n",
       "      <td>299.00</td>\n",
       "    </tr>\n",
       "    <tr>\n",
       "      <th>2935848</th>\n",
       "      <td>25</td>\n",
       "      <td>7460</td>\n",
       "      <td>299.00</td>\n",
       "    </tr>\n",
       "  </tbody>\n",
       "</table>\n",
       "<p>2935849 rows × 3 columns</p>\n",
       "</div>"
      ],
      "text/plain": [
       "         shop_id  item_id  item_price\n",
       "0             59    22154      999.00\n",
       "1             25     2552      899.00\n",
       "2             25     2552      899.00\n",
       "3             25     2554     1709.05\n",
       "4             25     2555     1099.00\n",
       "...          ...      ...         ...\n",
       "2935844       25     7409      299.00\n",
       "2935845       25     7460      299.00\n",
       "2935846       25     7459      349.00\n",
       "2935847       25     7440      299.00\n",
       "2935848       25     7460      299.00\n",
       "\n",
       "[2935849 rows x 3 columns]"
      ]
     },
     "execution_count": 110,
     "metadata": {},
     "output_type": "execute_result"
    }
   ],
   "source": [
    "test_data_path = join(data_dir, 'test.csv')\n",
    "sub = pd.read_csv(test_data_path)\n",
    "\n",
    "data = pd.read_csv(train_data_path) \n",
    "del data['date']\n",
    "del data['item_cnt_day']\n",
    "del data['date_block_num']\n",
    "\n",
    "data_models = data\n",
    "data_models"
   ]
  },
  {
   "cell_type": "code",
   "execution_count": 111,
   "id": "preliminary-heart",
   "metadata": {},
   "outputs": [
    {
     "name": "stdout",
     "output_type": "stream",
     "text": [
      "214200\n"
     ]
    },
    {
     "data": {
      "text/plain": [
       "array([1.04777584, 1.02315981, 1.02315981, ..., 1.14722235, 1.22082714,\n",
       "       1.12374012])"
      ]
     },
     "execution_count": 111,
     "metadata": {},
     "output_type": "execute_result"
    }
   ],
   "source": [
    "y_pred = AveragingBlending(models, data_models, y, sub)\n",
    "print(len(y_pred))\n",
    "y_pred"
   ]
  },
  {
   "cell_type": "code",
   "execution_count": 112,
   "id": "liable-cause",
   "metadata": {},
   "outputs": [
    {
     "name": "stdout",
     "output_type": "stream",
     "text": [
      "Index(['shop_id', 'item_id', 'item_price'], dtype='object')\n",
      "Index(['ID', 'shop_id', 'item_id'], dtype='object')\n"
     ]
    }
   ],
   "source": [
    "print(data.columns)\n",
    "print(test.columns)"
   ]
  },
  {
   "cell_type": "markdown",
   "id": "cellular-civilian",
   "metadata": {},
   "source": [
    "## 캐글에 제출"
   ]
  },
  {
   "cell_type": "code",
   "execution_count": 113,
   "id": "international-threshold",
   "metadata": {},
   "outputs": [
    {
     "data": {
      "text/html": [
       "<div>\n",
       "<style scoped>\n",
       "    .dataframe tbody tr th:only-of-type {\n",
       "        vertical-align: middle;\n",
       "    }\n",
       "\n",
       "    .dataframe tbody tr th {\n",
       "        vertical-align: top;\n",
       "    }\n",
       "\n",
       "    .dataframe thead th {\n",
       "        text-align: right;\n",
       "    }\n",
       "</style>\n",
       "<table border=\"1\" class=\"dataframe\">\n",
       "  <thead>\n",
       "    <tr style=\"text-align: right;\">\n",
       "      <th></th>\n",
       "      <th>ID</th>\n",
       "      <th>item_cnt_month</th>\n",
       "    </tr>\n",
       "  </thead>\n",
       "  <tbody>\n",
       "    <tr>\n",
       "      <th>0</th>\n",
       "      <td>0</td>\n",
       "      <td>0.5</td>\n",
       "    </tr>\n",
       "    <tr>\n",
       "      <th>1</th>\n",
       "      <td>1</td>\n",
       "      <td>0.5</td>\n",
       "    </tr>\n",
       "    <tr>\n",
       "      <th>2</th>\n",
       "      <td>2</td>\n",
       "      <td>0.5</td>\n",
       "    </tr>\n",
       "    <tr>\n",
       "      <th>3</th>\n",
       "      <td>3</td>\n",
       "      <td>0.5</td>\n",
       "    </tr>\n",
       "    <tr>\n",
       "      <th>4</th>\n",
       "      <td>4</td>\n",
       "      <td>0.5</td>\n",
       "    </tr>\n",
       "  </tbody>\n",
       "</table>\n",
       "</div>"
      ],
      "text/plain": [
       "   ID  item_cnt_month\n",
       "0   0             0.5\n",
       "1   1             0.5\n",
       "2   2             0.5\n",
       "3   3             0.5\n",
       "4   4             0.5"
      ]
     },
     "execution_count": 113,
     "metadata": {},
     "output_type": "execute_result"
    }
   ],
   "source": [
    "data_dir = os.getenv('HOME')+'/aiffel/Exploration/1st_hackathon'\n",
    "\n",
    "submission_path = join(data_dir, 'sample_submission.csv')\n",
    "submission = pd.read_csv(submission_path)\n",
    "submission.head()"
   ]
  },
  {
   "cell_type": "code",
   "execution_count": 114,
   "id": "medical-binary",
   "metadata": {},
   "outputs": [
    {
     "data": {
      "text/html": [
       "<div>\n",
       "<style scoped>\n",
       "    .dataframe tbody tr th:only-of-type {\n",
       "        vertical-align: middle;\n",
       "    }\n",
       "\n",
       "    .dataframe tbody tr th {\n",
       "        vertical-align: top;\n",
       "    }\n",
       "\n",
       "    .dataframe thead th {\n",
       "        text-align: right;\n",
       "    }\n",
       "</style>\n",
       "<table border=\"1\" class=\"dataframe\">\n",
       "  <thead>\n",
       "    <tr style=\"text-align: right;\">\n",
       "      <th></th>\n",
       "      <th>ID</th>\n",
       "      <th>item_cnt_month</th>\n",
       "    </tr>\n",
       "  </thead>\n",
       "  <tbody>\n",
       "    <tr>\n",
       "      <th>0</th>\n",
       "      <td>0</td>\n",
       "      <td>1.047776</td>\n",
       "    </tr>\n",
       "    <tr>\n",
       "      <th>1</th>\n",
       "      <td>1</td>\n",
       "      <td>1.023160</td>\n",
       "    </tr>\n",
       "    <tr>\n",
       "      <th>2</th>\n",
       "      <td>2</td>\n",
       "      <td>1.023160</td>\n",
       "    </tr>\n",
       "    <tr>\n",
       "      <th>3</th>\n",
       "      <td>3</td>\n",
       "      <td>1.023160</td>\n",
       "    </tr>\n",
       "    <tr>\n",
       "      <th>4</th>\n",
       "      <td>4</td>\n",
       "      <td>1.023160</td>\n",
       "    </tr>\n",
       "  </tbody>\n",
       "</table>\n",
       "</div>"
      ],
      "text/plain": [
       "   ID  item_cnt_month\n",
       "0   0        1.047776\n",
       "1   1        1.023160\n",
       "2   2        1.023160\n",
       "3   3        1.023160\n",
       "4   4        1.023160"
      ]
     },
     "execution_count": 114,
     "metadata": {},
     "output_type": "execute_result"
    }
   ],
   "source": [
    "result = pd.DataFrame({'ID' : submission['ID'], 'item_cnt_month' : y_pred})\n",
    "\n",
    "result.head()"
   ]
  },
  {
   "cell_type": "code",
   "execution_count": 115,
   "id": "precious-testing",
   "metadata": {},
   "outputs": [
    {
     "name": "stdout",
     "output_type": "stream",
     "text": [
      "/home/aiffel-dj35/aiffel/Exploration/1st_hackathon/submission_lightGBM.csv\n"
     ]
    }
   ],
   "source": [
    "my_submission_path = join(data_dir, 'submission_lightGBM.csv')\n",
    "result.to_csv(my_submission_path, index=False)\n",
    "\n",
    "print(my_submission_path)"
   ]
  },
  {
   "cell_type": "markdown",
   "id": "norman-nylon",
   "metadata": {},
   "source": [
    "kaggle score : 2.14473  \n",
    "특별한 전처리 없이 3개의 모델을 적절히 섞어서 진행했을 때의 score이다.  \n"
   ]
  },
  {
   "cell_type": "markdown",
   "id": "coordinated-involvement",
   "metadata": {},
   "source": [
    "# 이상치 12월 데이터 모두를 지우고"
   ]
  },
  {
   "cell_type": "code",
   "execution_count": 117,
   "id": "beginning-friendship",
   "metadata": {},
   "outputs": [
    {
     "name": "stdout",
     "output_type": "stream",
     "text": [
      "Index(['shop_id', 'item_id', 'item_price'], dtype='object')\n"
     ]
    }
   ],
   "source": [
    "print(data.columns)"
   ]
  },
  {
   "cell_type": "code",
   "execution_count": 118,
   "id": "southern-newman",
   "metadata": {},
   "outputs": [
    {
     "data": {
      "text/html": [
       "<div>\n",
       "<style scoped>\n",
       "    .dataframe tbody tr th:only-of-type {\n",
       "        vertical-align: middle;\n",
       "    }\n",
       "\n",
       "    .dataframe tbody tr th {\n",
       "        vertical-align: top;\n",
       "    }\n",
       "\n",
       "    .dataframe thead th {\n",
       "        text-align: right;\n",
       "    }\n",
       "</style>\n",
       "<table border=\"1\" class=\"dataframe\">\n",
       "  <thead>\n",
       "    <tr style=\"text-align: right;\">\n",
       "      <th></th>\n",
       "      <th>date</th>\n",
       "      <th>date_block_num</th>\n",
       "      <th>shop_id</th>\n",
       "      <th>item_id</th>\n",
       "      <th>item_price</th>\n",
       "      <th>item_cnt_day</th>\n",
       "    </tr>\n",
       "  </thead>\n",
       "  <tbody>\n",
       "    <tr>\n",
       "      <th>0</th>\n",
       "      <td>02.01.2013</td>\n",
       "      <td>0</td>\n",
       "      <td>59</td>\n",
       "      <td>22154</td>\n",
       "      <td>999.00</td>\n",
       "      <td>1.0</td>\n",
       "    </tr>\n",
       "    <tr>\n",
       "      <th>1</th>\n",
       "      <td>03.01.2013</td>\n",
       "      <td>0</td>\n",
       "      <td>25</td>\n",
       "      <td>2552</td>\n",
       "      <td>899.00</td>\n",
       "      <td>1.0</td>\n",
       "    </tr>\n",
       "    <tr>\n",
       "      <th>2</th>\n",
       "      <td>05.01.2013</td>\n",
       "      <td>0</td>\n",
       "      <td>25</td>\n",
       "      <td>2552</td>\n",
       "      <td>899.00</td>\n",
       "      <td>-1.0</td>\n",
       "    </tr>\n",
       "    <tr>\n",
       "      <th>3</th>\n",
       "      <td>06.01.2013</td>\n",
       "      <td>0</td>\n",
       "      <td>25</td>\n",
       "      <td>2554</td>\n",
       "      <td>1709.05</td>\n",
       "      <td>1.0</td>\n",
       "    </tr>\n",
       "    <tr>\n",
       "      <th>4</th>\n",
       "      <td>15.01.2013</td>\n",
       "      <td>0</td>\n",
       "      <td>25</td>\n",
       "      <td>2555</td>\n",
       "      <td>1099.00</td>\n",
       "      <td>1.0</td>\n",
       "    </tr>\n",
       "    <tr>\n",
       "      <th>...</th>\n",
       "      <td>...</td>\n",
       "      <td>...</td>\n",
       "      <td>...</td>\n",
       "      <td>...</td>\n",
       "      <td>...</td>\n",
       "      <td>...</td>\n",
       "    </tr>\n",
       "    <tr>\n",
       "      <th>2935844</th>\n",
       "      <td>10.10.2015</td>\n",
       "      <td>33</td>\n",
       "      <td>25</td>\n",
       "      <td>7409</td>\n",
       "      <td>299.00</td>\n",
       "      <td>1.0</td>\n",
       "    </tr>\n",
       "    <tr>\n",
       "      <th>2935845</th>\n",
       "      <td>09.10.2015</td>\n",
       "      <td>33</td>\n",
       "      <td>25</td>\n",
       "      <td>7460</td>\n",
       "      <td>299.00</td>\n",
       "      <td>1.0</td>\n",
       "    </tr>\n",
       "    <tr>\n",
       "      <th>2935846</th>\n",
       "      <td>14.10.2015</td>\n",
       "      <td>33</td>\n",
       "      <td>25</td>\n",
       "      <td>7459</td>\n",
       "      <td>349.00</td>\n",
       "      <td>1.0</td>\n",
       "    </tr>\n",
       "    <tr>\n",
       "      <th>2935847</th>\n",
       "      <td>22.10.2015</td>\n",
       "      <td>33</td>\n",
       "      <td>25</td>\n",
       "      <td>7440</td>\n",
       "      <td>299.00</td>\n",
       "      <td>1.0</td>\n",
       "    </tr>\n",
       "    <tr>\n",
       "      <th>2935848</th>\n",
       "      <td>03.10.2015</td>\n",
       "      <td>33</td>\n",
       "      <td>25</td>\n",
       "      <td>7460</td>\n",
       "      <td>299.00</td>\n",
       "      <td>1.0</td>\n",
       "    </tr>\n",
       "  </tbody>\n",
       "</table>\n",
       "<p>2661817 rows × 6 columns</p>\n",
       "</div>"
      ],
      "text/plain": [
       "               date  date_block_num  shop_id  item_id  item_price  \\\n",
       "0        02.01.2013               0       59    22154      999.00   \n",
       "1        03.01.2013               0       25     2552      899.00   \n",
       "2        05.01.2013               0       25     2552      899.00   \n",
       "3        06.01.2013               0       25     2554     1709.05   \n",
       "4        15.01.2013               0       25     2555     1099.00   \n",
       "...             ...             ...      ...      ...         ...   \n",
       "2935844  10.10.2015              33       25     7409      299.00   \n",
       "2935845  09.10.2015              33       25     7460      299.00   \n",
       "2935846  14.10.2015              33       25     7459      349.00   \n",
       "2935847  22.10.2015              33       25     7440      299.00   \n",
       "2935848  03.10.2015              33       25     7460      299.00   \n",
       "\n",
       "         item_cnt_day  \n",
       "0                 1.0  \n",
       "1                 1.0  \n",
       "2                -1.0  \n",
       "3                 1.0  \n",
       "4                 1.0  \n",
       "...               ...  \n",
       "2935844           1.0  \n",
       "2935845           1.0  \n",
       "2935846           1.0  \n",
       "2935847           1.0  \n",
       "2935848           1.0  \n",
       "\n",
       "[2661817 rows x 6 columns]"
      ]
     },
     "execution_count": 118,
     "metadata": {},
     "output_type": "execute_result"
    }
   ],
   "source": [
    "# 12월을 제외한 data\n",
    "data = pd.read_csv(train_data_path)\n",
    "except_data = data[data['date_block_num'].isin([0,1,2,3,4,5,6,7,8,9,10,\n",
    "                                          12,13,14,15,16,17,18,19,20,21,22,\n",
    "                                          24,25,26,27,28,29,30,31,32,33])]\n",
    "except_data"
   ]
  },
  {
   "cell_type": "code",
   "execution_count": 119,
   "id": "placed-think",
   "metadata": {},
   "outputs": [],
   "source": [
    "y = except_data['item_cnt_day']"
   ]
  },
  {
   "cell_type": "code",
   "execution_count": 120,
   "id": "promotional-fever",
   "metadata": {},
   "outputs": [
    {
     "name": "stdout",
     "output_type": "stream",
     "text": [
      "Index(['date_block_num', 'shop_id', 'item_id', 'item_price'], dtype='object')\n"
     ]
    }
   ],
   "source": [
    "del except_data['item_cnt_day'] \n",
    "del except_data['date']\n",
    "\n",
    "print(except_data.columns)"
   ]
  },
  {
   "cell_type": "markdown",
   "id": "characteristic-flavor",
   "metadata": {},
   "source": [
    "##  Average Blending & Cross Validation & Make Submission File"
   ]
  },
  {
   "cell_type": "code",
   "execution_count": 121,
   "id": "collective-nigeria",
   "metadata": {},
   "outputs": [
    {
     "name": "stdout",
     "output_type": "stream",
     "text": [
      "얍💢\n"
     ]
    }
   ],
   "source": [
    "def except_get_cv_score(models):\n",
    "    kfold = KFold(n_splits=5, random_state=2021).get_n_splits(except_data.values)\n",
    "    for m in models:\n",
    "        print(\"Model {} CV score : {:.4f}\".format(m['name'], \n",
    "                                                  np.mean(cross_val_score(m['model'],  #  R^2점수를 반환\n",
    "                                                                          except_data.values, \n",
    "                                                                          y)), \n",
    "                                                  kf=kfold))\n",
    "print('얍💢')"
   ]
  },
  {
   "cell_type": "code",
   "execution_count": 123,
   "id": "collective-legislation",
   "metadata": {},
   "outputs": [],
   "source": [
    "models = [{'model':lightgbm, 'name':'LightGBM'}]"
   ]
  },
  {
   "cell_type": "code",
   "execution_count": 124,
   "id": "shaped-redhead",
   "metadata": {},
   "outputs": [
    {
     "name": "stdout",
     "output_type": "stream",
     "text": [
      "Model LightGBM CV score : -0.1344\n"
     ]
    }
   ],
   "source": [
    "except_get_cv_score(models)"
   ]
  },
  {
   "cell_type": "code",
   "execution_count": 125,
   "id": "automotive-charity",
   "metadata": {},
   "outputs": [
    {
     "data": {
      "text/html": [
       "<div>\n",
       "<style scoped>\n",
       "    .dataframe tbody tr th:only-of-type {\n",
       "        vertical-align: middle;\n",
       "    }\n",
       "\n",
       "    .dataframe tbody tr th {\n",
       "        vertical-align: top;\n",
       "    }\n",
       "\n",
       "    .dataframe thead th {\n",
       "        text-align: right;\n",
       "    }\n",
       "</style>\n",
       "<table border=\"1\" class=\"dataframe\">\n",
       "  <thead>\n",
       "    <tr style=\"text-align: right;\">\n",
       "      <th></th>\n",
       "      <th>shop_id</th>\n",
       "      <th>item_id</th>\n",
       "      <th>item_price</th>\n",
       "    </tr>\n",
       "  </thead>\n",
       "  <tbody>\n",
       "    <tr>\n",
       "      <th>0</th>\n",
       "      <td>59</td>\n",
       "      <td>22154</td>\n",
       "      <td>999.00</td>\n",
       "    </tr>\n",
       "    <tr>\n",
       "      <th>1</th>\n",
       "      <td>25</td>\n",
       "      <td>2552</td>\n",
       "      <td>899.00</td>\n",
       "    </tr>\n",
       "    <tr>\n",
       "      <th>2</th>\n",
       "      <td>25</td>\n",
       "      <td>2552</td>\n",
       "      <td>899.00</td>\n",
       "    </tr>\n",
       "    <tr>\n",
       "      <th>3</th>\n",
       "      <td>25</td>\n",
       "      <td>2554</td>\n",
       "      <td>1709.05</td>\n",
       "    </tr>\n",
       "    <tr>\n",
       "      <th>4</th>\n",
       "      <td>25</td>\n",
       "      <td>2555</td>\n",
       "      <td>1099.00</td>\n",
       "    </tr>\n",
       "    <tr>\n",
       "      <th>...</th>\n",
       "      <td>...</td>\n",
       "      <td>...</td>\n",
       "      <td>...</td>\n",
       "    </tr>\n",
       "    <tr>\n",
       "      <th>2935844</th>\n",
       "      <td>25</td>\n",
       "      <td>7409</td>\n",
       "      <td>299.00</td>\n",
       "    </tr>\n",
       "    <tr>\n",
       "      <th>2935845</th>\n",
       "      <td>25</td>\n",
       "      <td>7460</td>\n",
       "      <td>299.00</td>\n",
       "    </tr>\n",
       "    <tr>\n",
       "      <th>2935846</th>\n",
       "      <td>25</td>\n",
       "      <td>7459</td>\n",
       "      <td>349.00</td>\n",
       "    </tr>\n",
       "    <tr>\n",
       "      <th>2935847</th>\n",
       "      <td>25</td>\n",
       "      <td>7440</td>\n",
       "      <td>299.00</td>\n",
       "    </tr>\n",
       "    <tr>\n",
       "      <th>2935848</th>\n",
       "      <td>25</td>\n",
       "      <td>7460</td>\n",
       "      <td>299.00</td>\n",
       "    </tr>\n",
       "  </tbody>\n",
       "</table>\n",
       "<p>2661817 rows × 3 columns</p>\n",
       "</div>"
      ],
      "text/plain": [
       "         shop_id  item_id  item_price\n",
       "0             59    22154      999.00\n",
       "1             25     2552      899.00\n",
       "2             25     2552      899.00\n",
       "3             25     2554     1709.05\n",
       "4             25     2555     1099.00\n",
       "...          ...      ...         ...\n",
       "2935844       25     7409      299.00\n",
       "2935845       25     7460      299.00\n",
       "2935846       25     7459      349.00\n",
       "2935847       25     7440      299.00\n",
       "2935848       25     7460      299.00\n",
       "\n",
       "[2661817 rows x 3 columns]"
      ]
     },
     "execution_count": 125,
     "metadata": {},
     "output_type": "execute_result"
    }
   ],
   "source": [
    "test_data_path = join(data_dir, 'test.csv')\n",
    "sub = pd.read_csv(test_data_path)\n",
    "\n",
    "del except_data['date_block_num']\n",
    "\n",
    "except_data_models = except_data\n",
    "except_data_models"
   ]
  },
  {
   "cell_type": "code",
   "execution_count": 126,
   "id": "swiss-cherry",
   "metadata": {},
   "outputs": [
    {
     "name": "stdout",
     "output_type": "stream",
     "text": [
      "214200\n"
     ]
    },
    {
     "data": {
      "text/plain": [
       "array([1.01114329, 0.97452104, 0.97452104, ..., 0.98577829, 1.01763632,\n",
       "       1.08737327])"
      ]
     },
     "execution_count": 126,
     "metadata": {},
     "output_type": "execute_result"
    }
   ],
   "source": [
    "except_y_pred = AveragingBlending(models, except_data_models, y, sub)\n",
    "print(len(except_y_pred))\n",
    "except_y_pred"
   ]
  },
  {
   "cell_type": "markdown",
   "id": "saving-budget",
   "metadata": {},
   "source": [
    "## 캐글에 제출"
   ]
  },
  {
   "cell_type": "code",
   "execution_count": 127,
   "id": "metropolitan-mystery",
   "metadata": {},
   "outputs": [
    {
     "data": {
      "text/html": [
       "<div>\n",
       "<style scoped>\n",
       "    .dataframe tbody tr th:only-of-type {\n",
       "        vertical-align: middle;\n",
       "    }\n",
       "\n",
       "    .dataframe tbody tr th {\n",
       "        vertical-align: top;\n",
       "    }\n",
       "\n",
       "    .dataframe thead th {\n",
       "        text-align: right;\n",
       "    }\n",
       "</style>\n",
       "<table border=\"1\" class=\"dataframe\">\n",
       "  <thead>\n",
       "    <tr style=\"text-align: right;\">\n",
       "      <th></th>\n",
       "      <th>ID</th>\n",
       "      <th>item_cnt_month</th>\n",
       "    </tr>\n",
       "  </thead>\n",
       "  <tbody>\n",
       "    <tr>\n",
       "      <th>0</th>\n",
       "      <td>0</td>\n",
       "      <td>0.5</td>\n",
       "    </tr>\n",
       "    <tr>\n",
       "      <th>1</th>\n",
       "      <td>1</td>\n",
       "      <td>0.5</td>\n",
       "    </tr>\n",
       "    <tr>\n",
       "      <th>2</th>\n",
       "      <td>2</td>\n",
       "      <td>0.5</td>\n",
       "    </tr>\n",
       "    <tr>\n",
       "      <th>3</th>\n",
       "      <td>3</td>\n",
       "      <td>0.5</td>\n",
       "    </tr>\n",
       "    <tr>\n",
       "      <th>4</th>\n",
       "      <td>4</td>\n",
       "      <td>0.5</td>\n",
       "    </tr>\n",
       "  </tbody>\n",
       "</table>\n",
       "</div>"
      ],
      "text/plain": [
       "   ID  item_cnt_month\n",
       "0   0             0.5\n",
       "1   1             0.5\n",
       "2   2             0.5\n",
       "3   3             0.5\n",
       "4   4             0.5"
      ]
     },
     "execution_count": 127,
     "metadata": {},
     "output_type": "execute_result"
    }
   ],
   "source": [
    "data_dir = os.getenv('HOME')+'/aiffel/Exploration/1st_hackathon'\n",
    "\n",
    "submission_path = join(data_dir, 'sample_submission.csv')\n",
    "submission = pd.read_csv(submission_path)\n",
    "submission.head()"
   ]
  },
  {
   "cell_type": "code",
   "execution_count": 128,
   "id": "completed-blackjack",
   "metadata": {},
   "outputs": [
    {
     "data": {
      "text/html": [
       "<div>\n",
       "<style scoped>\n",
       "    .dataframe tbody tr th:only-of-type {\n",
       "        vertical-align: middle;\n",
       "    }\n",
       "\n",
       "    .dataframe tbody tr th {\n",
       "        vertical-align: top;\n",
       "    }\n",
       "\n",
       "    .dataframe thead th {\n",
       "        text-align: right;\n",
       "    }\n",
       "</style>\n",
       "<table border=\"1\" class=\"dataframe\">\n",
       "  <thead>\n",
       "    <tr style=\"text-align: right;\">\n",
       "      <th></th>\n",
       "      <th>ID</th>\n",
       "      <th>item_cnt_month</th>\n",
       "    </tr>\n",
       "  </thead>\n",
       "  <tbody>\n",
       "    <tr>\n",
       "      <th>0</th>\n",
       "      <td>0</td>\n",
       "      <td>1.011143</td>\n",
       "    </tr>\n",
       "    <tr>\n",
       "      <th>1</th>\n",
       "      <td>1</td>\n",
       "      <td>0.974521</td>\n",
       "    </tr>\n",
       "    <tr>\n",
       "      <th>2</th>\n",
       "      <td>2</td>\n",
       "      <td>0.974521</td>\n",
       "    </tr>\n",
       "    <tr>\n",
       "      <th>3</th>\n",
       "      <td>3</td>\n",
       "      <td>0.974521</td>\n",
       "    </tr>\n",
       "    <tr>\n",
       "      <th>4</th>\n",
       "      <td>4</td>\n",
       "      <td>0.974521</td>\n",
       "    </tr>\n",
       "  </tbody>\n",
       "</table>\n",
       "</div>"
      ],
      "text/plain": [
       "   ID  item_cnt_month\n",
       "0   0        1.011143\n",
       "1   1        0.974521\n",
       "2   2        0.974521\n",
       "3   3        0.974521\n",
       "4   4        0.974521"
      ]
     },
     "execution_count": 128,
     "metadata": {},
     "output_type": "execute_result"
    }
   ],
   "source": [
    "result = pd.DataFrame({'ID' : submission['ID'], 'item_cnt_month' : except_y_pred})\n",
    "\n",
    "result.head()"
   ]
  },
  {
   "cell_type": "code",
   "execution_count": 129,
   "id": "dental-likelihood",
   "metadata": {},
   "outputs": [
    {
     "name": "stdout",
     "output_type": "stream",
     "text": [
      "/home/aiffel-dj35/aiffel/Exploration/1st_hackathon/except_submission.csv\n"
     ]
    }
   ],
   "source": [
    "except_submission_path = join(data_dir, 'except_submission.csv')\n",
    "result.to_csv(except_submission_path, index=False)\n",
    "\n",
    "print(except_submission_path)"
   ]
  },
  {
   "cell_type": "markdown",
   "id": "nominated-crystal",
   "metadata": {},
   "source": [
    "kaggle score : 2.36042  \n",
    "이상치가 많은 12월 데이터를 모두 지웠더니 오히려 이상치가 올라갔다.  \n",
    "그래서 꼼꼼하게 세일기간의 data만 지우고 다시 시도했다.  "
   ]
  },
  {
   "cell_type": "markdown",
   "id": "built-laptop",
   "metadata": {},
   "source": [
    "# 세일 기간 데이터 지우고 & only lightGBM"
   ]
  },
  {
   "cell_type": "code",
   "execution_count": 130,
   "id": "fifth-title",
   "metadata": {},
   "outputs": [
    {
     "data": {
      "text/html": [
       "<div>\n",
       "<style scoped>\n",
       "    .dataframe tbody tr th:only-of-type {\n",
       "        vertical-align: middle;\n",
       "    }\n",
       "\n",
       "    .dataframe tbody tr th {\n",
       "        vertical-align: top;\n",
       "    }\n",
       "\n",
       "    .dataframe thead th {\n",
       "        text-align: right;\n",
       "    }\n",
       "</style>\n",
       "<table border=\"1\" class=\"dataframe\">\n",
       "  <thead>\n",
       "    <tr style=\"text-align: right;\">\n",
       "      <th></th>\n",
       "      <th>date</th>\n",
       "      <th>date_block_num</th>\n",
       "      <th>shop_id</th>\n",
       "      <th>item_id</th>\n",
       "      <th>item_price</th>\n",
       "      <th>item_cnt_day</th>\n",
       "    </tr>\n",
       "  </thead>\n",
       "  <tbody>\n",
       "    <tr>\n",
       "      <th>0</th>\n",
       "      <td>02.01.2013</td>\n",
       "      <td>0</td>\n",
       "      <td>59</td>\n",
       "      <td>22154</td>\n",
       "      <td>999.00</td>\n",
       "      <td>1.0</td>\n",
       "    </tr>\n",
       "    <tr>\n",
       "      <th>1</th>\n",
       "      <td>03.01.2013</td>\n",
       "      <td>0</td>\n",
       "      <td>25</td>\n",
       "      <td>2552</td>\n",
       "      <td>899.00</td>\n",
       "      <td>1.0</td>\n",
       "    </tr>\n",
       "    <tr>\n",
       "      <th>2</th>\n",
       "      <td>05.01.2013</td>\n",
       "      <td>0</td>\n",
       "      <td>25</td>\n",
       "      <td>2552</td>\n",
       "      <td>899.00</td>\n",
       "      <td>-1.0</td>\n",
       "    </tr>\n",
       "    <tr>\n",
       "      <th>3</th>\n",
       "      <td>06.01.2013</td>\n",
       "      <td>0</td>\n",
       "      <td>25</td>\n",
       "      <td>2554</td>\n",
       "      <td>1709.05</td>\n",
       "      <td>1.0</td>\n",
       "    </tr>\n",
       "    <tr>\n",
       "      <th>4</th>\n",
       "      <td>15.01.2013</td>\n",
       "      <td>0</td>\n",
       "      <td>25</td>\n",
       "      <td>2555</td>\n",
       "      <td>1099.00</td>\n",
       "      <td>1.0</td>\n",
       "    </tr>\n",
       "    <tr>\n",
       "      <th>...</th>\n",
       "      <td>...</td>\n",
       "      <td>...</td>\n",
       "      <td>...</td>\n",
       "      <td>...</td>\n",
       "      <td>...</td>\n",
       "      <td>...</td>\n",
       "    </tr>\n",
       "    <tr>\n",
       "      <th>2935844</th>\n",
       "      <td>10.10.2015</td>\n",
       "      <td>33</td>\n",
       "      <td>25</td>\n",
       "      <td>7409</td>\n",
       "      <td>299.00</td>\n",
       "      <td>1.0</td>\n",
       "    </tr>\n",
       "    <tr>\n",
       "      <th>2935845</th>\n",
       "      <td>09.10.2015</td>\n",
       "      <td>33</td>\n",
       "      <td>25</td>\n",
       "      <td>7460</td>\n",
       "      <td>299.00</td>\n",
       "      <td>1.0</td>\n",
       "    </tr>\n",
       "    <tr>\n",
       "      <th>2935846</th>\n",
       "      <td>14.10.2015</td>\n",
       "      <td>33</td>\n",
       "      <td>25</td>\n",
       "      <td>7459</td>\n",
       "      <td>349.00</td>\n",
       "      <td>1.0</td>\n",
       "    </tr>\n",
       "    <tr>\n",
       "      <th>2935847</th>\n",
       "      <td>22.10.2015</td>\n",
       "      <td>33</td>\n",
       "      <td>25</td>\n",
       "      <td>7440</td>\n",
       "      <td>299.00</td>\n",
       "      <td>1.0</td>\n",
       "    </tr>\n",
       "    <tr>\n",
       "      <th>2935848</th>\n",
       "      <td>03.10.2015</td>\n",
       "      <td>33</td>\n",
       "      <td>25</td>\n",
       "      <td>7460</td>\n",
       "      <td>299.00</td>\n",
       "      <td>1.0</td>\n",
       "    </tr>\n",
       "  </tbody>\n",
       "</table>\n",
       "<p>2935849 rows × 6 columns</p>\n",
       "</div>"
      ],
      "text/plain": [
       "               date  date_block_num  shop_id  item_id  item_price  \\\n",
       "0        02.01.2013               0       59    22154      999.00   \n",
       "1        03.01.2013               0       25     2552      899.00   \n",
       "2        05.01.2013               0       25     2552      899.00   \n",
       "3        06.01.2013               0       25     2554     1709.05   \n",
       "4        15.01.2013               0       25     2555     1099.00   \n",
       "...             ...             ...      ...      ...         ...   \n",
       "2935844  10.10.2015              33       25     7409      299.00   \n",
       "2935845  09.10.2015              33       25     7460      299.00   \n",
       "2935846  14.10.2015              33       25     7459      349.00   \n",
       "2935847  22.10.2015              33       25     7440      299.00   \n",
       "2935848  03.10.2015              33       25     7460      299.00   \n",
       "\n",
       "         item_cnt_day  \n",
       "0                 1.0  \n",
       "1                 1.0  \n",
       "2                -1.0  \n",
       "3                 1.0  \n",
       "4                 1.0  \n",
       "...               ...  \n",
       "2935844           1.0  \n",
       "2935845           1.0  \n",
       "2935846           1.0  \n",
       "2935847           1.0  \n",
       "2935848           1.0  \n",
       "\n",
       "[2935849 rows x 6 columns]"
      ]
     },
     "execution_count": 130,
     "metadata": {},
     "output_type": "execute_result"
    }
   ],
   "source": [
    "data = pd.read_csv(train_data_path)\n",
    "data"
   ]
  },
  {
   "cell_type": "code",
   "execution_count": 137,
   "id": "separated-messaging",
   "metadata": {},
   "outputs": [
    {
     "data": {
      "text/html": [
       "<div>\n",
       "<style scoped>\n",
       "    .dataframe tbody tr th:only-of-type {\n",
       "        vertical-align: middle;\n",
       "    }\n",
       "\n",
       "    .dataframe tbody tr th {\n",
       "        vertical-align: top;\n",
       "    }\n",
       "\n",
       "    .dataframe thead th {\n",
       "        text-align: right;\n",
       "    }\n",
       "</style>\n",
       "<table border=\"1\" class=\"dataframe\">\n",
       "  <thead>\n",
       "    <tr style=\"text-align: right;\">\n",
       "      <th></th>\n",
       "      <th>date</th>\n",
       "      <th>date_block_num</th>\n",
       "      <th>shop_id</th>\n",
       "      <th>item_id</th>\n",
       "      <th>item_price</th>\n",
       "      <th>item_cnt_day</th>\n",
       "    </tr>\n",
       "  </thead>\n",
       "  <tbody>\n",
       "    <tr>\n",
       "      <th>109593</th>\n",
       "      <td>2013-01-01</td>\n",
       "      <td>0</td>\n",
       "      <td>46</td>\n",
       "      <td>18616</td>\n",
       "      <td>349.0</td>\n",
       "      <td>1.0</td>\n",
       "    </tr>\n",
       "    <tr>\n",
       "      <th>85162</th>\n",
       "      <td>2013-01-01</td>\n",
       "      <td>0</td>\n",
       "      <td>54</td>\n",
       "      <td>11854</td>\n",
       "      <td>199.0</td>\n",
       "      <td>1.0</td>\n",
       "    </tr>\n",
       "    <tr>\n",
       "      <th>18128</th>\n",
       "      <td>2013-01-01</td>\n",
       "      <td>0</td>\n",
       "      <td>28</td>\n",
       "      <td>4906</td>\n",
       "      <td>1799.0</td>\n",
       "      <td>1.0</td>\n",
       "    </tr>\n",
       "    <tr>\n",
       "      <th>112216</th>\n",
       "      <td>2013-01-01</td>\n",
       "      <td>0</td>\n",
       "      <td>42</td>\n",
       "      <td>2931</td>\n",
       "      <td>99.0</td>\n",
       "      <td>1.0</td>\n",
       "    </tr>\n",
       "    <tr>\n",
       "      <th>85141</th>\n",
       "      <td>2013-01-01</td>\n",
       "      <td>0</td>\n",
       "      <td>54</td>\n",
       "      <td>11604</td>\n",
       "      <td>349.0</td>\n",
       "      <td>1.0</td>\n",
       "    </tr>\n",
       "    <tr>\n",
       "      <th>...</th>\n",
       "      <td>...</td>\n",
       "      <td>...</td>\n",
       "      <td>...</td>\n",
       "      <td>...</td>\n",
       "      <td>...</td>\n",
       "      <td>...</td>\n",
       "    </tr>\n",
       "    <tr>\n",
       "      <th>2915898</th>\n",
       "      <td>2015-12-10</td>\n",
       "      <td>33</td>\n",
       "      <td>6</td>\n",
       "      <td>7390</td>\n",
       "      <td>349.0</td>\n",
       "      <td>1.0</td>\n",
       "    </tr>\n",
       "    <tr>\n",
       "      <th>2915896</th>\n",
       "      <td>2015-12-10</td>\n",
       "      <td>33</td>\n",
       "      <td>6</td>\n",
       "      <td>7350</td>\n",
       "      <td>349.0</td>\n",
       "      <td>1.0</td>\n",
       "    </tr>\n",
       "    <tr>\n",
       "      <th>2922604</th>\n",
       "      <td>2015-12-10</td>\n",
       "      <td>33</td>\n",
       "      <td>28</td>\n",
       "      <td>10304</td>\n",
       "      <td>199.0</td>\n",
       "      <td>1.0</td>\n",
       "    </tr>\n",
       "    <tr>\n",
       "      <th>2915871</th>\n",
       "      <td>2015-12-10</td>\n",
       "      <td>33</td>\n",
       "      <td>6</td>\n",
       "      <td>6798</td>\n",
       "      <td>1849.0</td>\n",
       "      <td>1.0</td>\n",
       "    </tr>\n",
       "    <tr>\n",
       "      <th>2898514</th>\n",
       "      <td>2015-12-10</td>\n",
       "      <td>33</td>\n",
       "      <td>58</td>\n",
       "      <td>10207</td>\n",
       "      <td>1199.0</td>\n",
       "      <td>1.0</td>\n",
       "    </tr>\n",
       "  </tbody>\n",
       "</table>\n",
       "<p>2935849 rows × 6 columns</p>\n",
       "</div>"
      ],
      "text/plain": [
       "              date  date_block_num  shop_id  item_id  item_price  item_cnt_day\n",
       "109593  2013-01-01               0       46    18616       349.0           1.0\n",
       "85162   2013-01-01               0       54    11854       199.0           1.0\n",
       "18128   2013-01-01               0       28     4906      1799.0           1.0\n",
       "112216  2013-01-01               0       42     2931        99.0           1.0\n",
       "85141   2013-01-01               0       54    11604       349.0           1.0\n",
       "...            ...             ...      ...      ...         ...           ...\n",
       "2915898 2015-12-10              33        6     7390       349.0           1.0\n",
       "2915896 2015-12-10              33        6     7350       349.0           1.0\n",
       "2922604 2015-12-10              33       28    10304       199.0           1.0\n",
       "2915871 2015-12-10              33        6     6798      1849.0           1.0\n",
       "2898514 2015-12-10              33       58    10207      1199.0           1.0\n",
       "\n",
       "[2935849 rows x 6 columns]"
      ]
     },
     "execution_count": 137,
     "metadata": {},
     "output_type": "execute_result"
    }
   ],
   "source": [
    "data['date'] = pd.to_datetime(data[\"date\"])\n",
    "data = data.sort_values(by = ['date'])\n",
    "data"
   ]
  },
  {
   "cell_type": "code",
   "execution_count": 138,
   "id": "neither-scratch",
   "metadata": {},
   "outputs": [],
   "source": [
    "# 세일 기간만 자르기 \n",
    "data['date'] = pd.to_datetime(data[\"date\"])\n",
    "data = data.sort_values(by = ['date'])\n",
    "\n",
    "\n",
    "from datetime import datetime, timedelta\n",
    "\n",
    "year_end_start1 = datetime(2013,12,25)\n",
    "year_end_end1 = datetime(2014,1,7)\n",
    "\n",
    "year_end_start2 = datetime(2014,12,25)\n",
    "year_end_end2 = datetime(2015,1,7)\n",
    "\n",
    "\n",
    "def del_vargen_period(data) :  \n",
    "    if (year_end_start1 <= data['date'] <= year_end_end1) or (year_end_start2 <= data['date'] <= year_end_end2) :\n",
    "        return False\n",
    "    return True\n",
    "train_data_del_dec = data[data.apply(lambda x : del_vargen_period(x), axis = 1)]\n"
   ]
  },
  {
   "cell_type": "code",
   "execution_count": 139,
   "id": "legitimate-strain",
   "metadata": {},
   "outputs": [
    {
     "data": {
      "text/html": [
       "<div>\n",
       "<style scoped>\n",
       "    .dataframe tbody tr th:only-of-type {\n",
       "        vertical-align: middle;\n",
       "    }\n",
       "\n",
       "    .dataframe tbody tr th {\n",
       "        vertical-align: top;\n",
       "    }\n",
       "\n",
       "    .dataframe thead th {\n",
       "        text-align: right;\n",
       "    }\n",
       "</style>\n",
       "<table border=\"1\" class=\"dataframe\">\n",
       "  <thead>\n",
       "    <tr style=\"text-align: right;\">\n",
       "      <th></th>\n",
       "      <th>date</th>\n",
       "      <th>date_block_num</th>\n",
       "      <th>shop_id</th>\n",
       "      <th>item_id</th>\n",
       "      <th>item_price</th>\n",
       "      <th>item_cnt_day</th>\n",
       "    </tr>\n",
       "  </thead>\n",
       "  <tbody>\n",
       "    <tr>\n",
       "      <th>109593</th>\n",
       "      <td>2013-01-01</td>\n",
       "      <td>0</td>\n",
       "      <td>46</td>\n",
       "      <td>18616</td>\n",
       "      <td>349.0</td>\n",
       "      <td>1.0</td>\n",
       "    </tr>\n",
       "    <tr>\n",
       "      <th>85162</th>\n",
       "      <td>2013-01-01</td>\n",
       "      <td>0</td>\n",
       "      <td>54</td>\n",
       "      <td>11854</td>\n",
       "      <td>199.0</td>\n",
       "      <td>1.0</td>\n",
       "    </tr>\n",
       "    <tr>\n",
       "      <th>18128</th>\n",
       "      <td>2013-01-01</td>\n",
       "      <td>0</td>\n",
       "      <td>28</td>\n",
       "      <td>4906</td>\n",
       "      <td>1799.0</td>\n",
       "      <td>1.0</td>\n",
       "    </tr>\n",
       "    <tr>\n",
       "      <th>112216</th>\n",
       "      <td>2013-01-01</td>\n",
       "      <td>0</td>\n",
       "      <td>42</td>\n",
       "      <td>2931</td>\n",
       "      <td>99.0</td>\n",
       "      <td>1.0</td>\n",
       "    </tr>\n",
       "    <tr>\n",
       "      <th>85141</th>\n",
       "      <td>2013-01-01</td>\n",
       "      <td>0</td>\n",
       "      <td>54</td>\n",
       "      <td>11604</td>\n",
       "      <td>349.0</td>\n",
       "      <td>1.0</td>\n",
       "    </tr>\n",
       "    <tr>\n",
       "      <th>...</th>\n",
       "      <td>...</td>\n",
       "      <td>...</td>\n",
       "      <td>...</td>\n",
       "      <td>...</td>\n",
       "      <td>...</td>\n",
       "      <td>...</td>\n",
       "    </tr>\n",
       "    <tr>\n",
       "      <th>2915898</th>\n",
       "      <td>2015-12-10</td>\n",
       "      <td>33</td>\n",
       "      <td>6</td>\n",
       "      <td>7390</td>\n",
       "      <td>349.0</td>\n",
       "      <td>1.0</td>\n",
       "    </tr>\n",
       "    <tr>\n",
       "      <th>2915896</th>\n",
       "      <td>2015-12-10</td>\n",
       "      <td>33</td>\n",
       "      <td>6</td>\n",
       "      <td>7350</td>\n",
       "      <td>349.0</td>\n",
       "      <td>1.0</td>\n",
       "    </tr>\n",
       "    <tr>\n",
       "      <th>2922604</th>\n",
       "      <td>2015-12-10</td>\n",
       "      <td>33</td>\n",
       "      <td>28</td>\n",
       "      <td>10304</td>\n",
       "      <td>199.0</td>\n",
       "      <td>1.0</td>\n",
       "    </tr>\n",
       "    <tr>\n",
       "      <th>2915871</th>\n",
       "      <td>2015-12-10</td>\n",
       "      <td>33</td>\n",
       "      <td>6</td>\n",
       "      <td>6798</td>\n",
       "      <td>1849.0</td>\n",
       "      <td>1.0</td>\n",
       "    </tr>\n",
       "    <tr>\n",
       "      <th>2898514</th>\n",
       "      <td>2015-12-10</td>\n",
       "      <td>33</td>\n",
       "      <td>58</td>\n",
       "      <td>10207</td>\n",
       "      <td>1199.0</td>\n",
       "      <td>1.0</td>\n",
       "    </tr>\n",
       "  </tbody>\n",
       "</table>\n",
       "<p>2797472 rows × 6 columns</p>\n",
       "</div>"
      ],
      "text/plain": [
       "              date  date_block_num  shop_id  item_id  item_price  item_cnt_day\n",
       "109593  2013-01-01               0       46    18616       349.0           1.0\n",
       "85162   2013-01-01               0       54    11854       199.0           1.0\n",
       "18128   2013-01-01               0       28     4906      1799.0           1.0\n",
       "112216  2013-01-01               0       42     2931        99.0           1.0\n",
       "85141   2013-01-01               0       54    11604       349.0           1.0\n",
       "...            ...             ...      ...      ...         ...           ...\n",
       "2915898 2015-12-10              33        6     7390       349.0           1.0\n",
       "2915896 2015-12-10              33        6     7350       349.0           1.0\n",
       "2922604 2015-12-10              33       28    10304       199.0           1.0\n",
       "2915871 2015-12-10              33        6     6798      1849.0           1.0\n",
       "2898514 2015-12-10              33       58    10207      1199.0           1.0\n",
       "\n",
       "[2797472 rows x 6 columns]"
      ]
     },
     "execution_count": 139,
     "metadata": {},
     "output_type": "execute_result"
    }
   ],
   "source": [
    "train_data_del_dec"
   ]
  },
  {
   "cell_type": "code",
   "execution_count": 140,
   "id": "complimentary-kansas",
   "metadata": {},
   "outputs": [
    {
     "data": {
      "text/html": [
       "<div>\n",
       "<style scoped>\n",
       "    .dataframe tbody tr th:only-of-type {\n",
       "        vertical-align: middle;\n",
       "    }\n",
       "\n",
       "    .dataframe tbody tr th {\n",
       "        vertical-align: top;\n",
       "    }\n",
       "\n",
       "    .dataframe thead th {\n",
       "        text-align: right;\n",
       "    }\n",
       "</style>\n",
       "<table border=\"1\" class=\"dataframe\">\n",
       "  <thead>\n",
       "    <tr style=\"text-align: right;\">\n",
       "      <th></th>\n",
       "      <th>date_block_num</th>\n",
       "      <th>shop_id</th>\n",
       "      <th>item_id</th>\n",
       "      <th>item_price</th>\n",
       "    </tr>\n",
       "  </thead>\n",
       "  <tbody>\n",
       "    <tr>\n",
       "      <th>109593</th>\n",
       "      <td>0</td>\n",
       "      <td>46</td>\n",
       "      <td>18616</td>\n",
       "      <td>349.0</td>\n",
       "    </tr>\n",
       "    <tr>\n",
       "      <th>85162</th>\n",
       "      <td>0</td>\n",
       "      <td>54</td>\n",
       "      <td>11854</td>\n",
       "      <td>199.0</td>\n",
       "    </tr>\n",
       "    <tr>\n",
       "      <th>18128</th>\n",
       "      <td>0</td>\n",
       "      <td>28</td>\n",
       "      <td>4906</td>\n",
       "      <td>1799.0</td>\n",
       "    </tr>\n",
       "    <tr>\n",
       "      <th>112216</th>\n",
       "      <td>0</td>\n",
       "      <td>42</td>\n",
       "      <td>2931</td>\n",
       "      <td>99.0</td>\n",
       "    </tr>\n",
       "    <tr>\n",
       "      <th>85141</th>\n",
       "      <td>0</td>\n",
       "      <td>54</td>\n",
       "      <td>11604</td>\n",
       "      <td>349.0</td>\n",
       "    </tr>\n",
       "    <tr>\n",
       "      <th>...</th>\n",
       "      <td>...</td>\n",
       "      <td>...</td>\n",
       "      <td>...</td>\n",
       "      <td>...</td>\n",
       "    </tr>\n",
       "    <tr>\n",
       "      <th>2915898</th>\n",
       "      <td>33</td>\n",
       "      <td>6</td>\n",
       "      <td>7390</td>\n",
       "      <td>349.0</td>\n",
       "    </tr>\n",
       "    <tr>\n",
       "      <th>2915896</th>\n",
       "      <td>33</td>\n",
       "      <td>6</td>\n",
       "      <td>7350</td>\n",
       "      <td>349.0</td>\n",
       "    </tr>\n",
       "    <tr>\n",
       "      <th>2922604</th>\n",
       "      <td>33</td>\n",
       "      <td>28</td>\n",
       "      <td>10304</td>\n",
       "      <td>199.0</td>\n",
       "    </tr>\n",
       "    <tr>\n",
       "      <th>2915871</th>\n",
       "      <td>33</td>\n",
       "      <td>6</td>\n",
       "      <td>6798</td>\n",
       "      <td>1849.0</td>\n",
       "    </tr>\n",
       "    <tr>\n",
       "      <th>2898514</th>\n",
       "      <td>33</td>\n",
       "      <td>58</td>\n",
       "      <td>10207</td>\n",
       "      <td>1199.0</td>\n",
       "    </tr>\n",
       "  </tbody>\n",
       "</table>\n",
       "<p>2797472 rows × 4 columns</p>\n",
       "</div>"
      ],
      "text/plain": [
       "         date_block_num  shop_id  item_id  item_price\n",
       "109593                0       46    18616       349.0\n",
       "85162                 0       54    11854       199.0\n",
       "18128                 0       28     4906      1799.0\n",
       "112216                0       42     2931        99.0\n",
       "85141                 0       54    11604       349.0\n",
       "...                 ...      ...      ...         ...\n",
       "2915898              33        6     7390       349.0\n",
       "2915896              33        6     7350       349.0\n",
       "2922604              33       28    10304       199.0\n",
       "2915871              33        6     6798      1849.0\n",
       "2898514              33       58    10207      1199.0\n",
       "\n",
       "[2797472 rows x 4 columns]"
      ]
     },
     "execution_count": 140,
     "metadata": {},
     "output_type": "execute_result"
    }
   ],
   "source": [
    "y = train_data_del_dec['item_cnt_day']\n",
    "\n",
    "del train_data_del_dec['date']\n",
    "del train_data_del_dec['item_cnt_day']\n",
    "train_data_del_dec"
   ]
  },
  {
   "cell_type": "code",
   "execution_count": 141,
   "id": "lined-print",
   "metadata": {},
   "outputs": [
    {
     "name": "stdout",
     "output_type": "stream",
     "text": [
      "얍💢\n"
     ]
    }
   ],
   "source": [
    "gboost = GradientBoostingRegressor(random_state=2021)\n",
    "xgboost = xgb.XGBRegressor(random_state=2021)\n",
    "lightgbm = lgb.LGBMRegressor(random_state=2021)\n",
    "\n",
    "models = [{'model':gboost, 'name':'GradientBoosting'}, {'model':xgboost, 'name':'XGBoost'},\n",
    "          {'model':lightgbm, 'name':'LightGBM'}]\n",
    "\n",
    "print('얍💢')"
   ]
  },
  {
   "cell_type": "code",
   "execution_count": 142,
   "id": "funky-questionnaire",
   "metadata": {},
   "outputs": [
    {
     "name": "stdout",
     "output_type": "stream",
     "text": [
      "얍💢\n"
     ]
    }
   ],
   "source": [
    "def del_get_cv_score(models):\n",
    "    kfold = KFold(n_splits=5, random_state=2021).get_n_splits(train_data_del_dec.values)\n",
    "    for m in models:\n",
    "        print(\"Model {} CV score : {:.4f}\".format(m['name'], \n",
    "                                                  np.mean(cross_val_score(m['model'],  #  R^2점수를 반환\n",
    "                                                                          train_data_del_dec.values, \n",
    "                                                                          y)), \n",
    "                                                  kf=kfold))\n",
    "print('얍💢')"
   ]
  },
  {
   "cell_type": "code",
   "execution_count": 143,
   "id": "ambient-maximum",
   "metadata": {},
   "outputs": [],
   "source": [
    "models = [{'model':lightgbm, 'name':'LightGBM'}]"
   ]
  },
  {
   "cell_type": "code",
   "execution_count": 144,
   "id": "first-invite",
   "metadata": {},
   "outputs": [
    {
     "name": "stdout",
     "output_type": "stream",
     "text": [
      "Model LightGBM CV score : 0.1240\n"
     ]
    }
   ],
   "source": [
    "del_get_cv_score(models)"
   ]
  },
  {
   "cell_type": "code",
   "execution_count": 147,
   "id": "external-scheduling",
   "metadata": {},
   "outputs": [
    {
     "data": {
      "text/html": [
       "<div>\n",
       "<style scoped>\n",
       "    .dataframe tbody tr th:only-of-type {\n",
       "        vertical-align: middle;\n",
       "    }\n",
       "\n",
       "    .dataframe tbody tr th {\n",
       "        vertical-align: top;\n",
       "    }\n",
       "\n",
       "    .dataframe thead th {\n",
       "        text-align: right;\n",
       "    }\n",
       "</style>\n",
       "<table border=\"1\" class=\"dataframe\">\n",
       "  <thead>\n",
       "    <tr style=\"text-align: right;\">\n",
       "      <th></th>\n",
       "      <th>shop_id</th>\n",
       "      <th>item_id</th>\n",
       "      <th>item_price</th>\n",
       "    </tr>\n",
       "  </thead>\n",
       "  <tbody>\n",
       "    <tr>\n",
       "      <th>109593</th>\n",
       "      <td>46</td>\n",
       "      <td>18616</td>\n",
       "      <td>349.0</td>\n",
       "    </tr>\n",
       "    <tr>\n",
       "      <th>85162</th>\n",
       "      <td>54</td>\n",
       "      <td>11854</td>\n",
       "      <td>199.0</td>\n",
       "    </tr>\n",
       "    <tr>\n",
       "      <th>18128</th>\n",
       "      <td>28</td>\n",
       "      <td>4906</td>\n",
       "      <td>1799.0</td>\n",
       "    </tr>\n",
       "    <tr>\n",
       "      <th>112216</th>\n",
       "      <td>42</td>\n",
       "      <td>2931</td>\n",
       "      <td>99.0</td>\n",
       "    </tr>\n",
       "    <tr>\n",
       "      <th>85141</th>\n",
       "      <td>54</td>\n",
       "      <td>11604</td>\n",
       "      <td>349.0</td>\n",
       "    </tr>\n",
       "    <tr>\n",
       "      <th>...</th>\n",
       "      <td>...</td>\n",
       "      <td>...</td>\n",
       "      <td>...</td>\n",
       "    </tr>\n",
       "    <tr>\n",
       "      <th>2915898</th>\n",
       "      <td>6</td>\n",
       "      <td>7390</td>\n",
       "      <td>349.0</td>\n",
       "    </tr>\n",
       "    <tr>\n",
       "      <th>2915896</th>\n",
       "      <td>6</td>\n",
       "      <td>7350</td>\n",
       "      <td>349.0</td>\n",
       "    </tr>\n",
       "    <tr>\n",
       "      <th>2922604</th>\n",
       "      <td>28</td>\n",
       "      <td>10304</td>\n",
       "      <td>199.0</td>\n",
       "    </tr>\n",
       "    <tr>\n",
       "      <th>2915871</th>\n",
       "      <td>6</td>\n",
       "      <td>6798</td>\n",
       "      <td>1849.0</td>\n",
       "    </tr>\n",
       "    <tr>\n",
       "      <th>2898514</th>\n",
       "      <td>58</td>\n",
       "      <td>10207</td>\n",
       "      <td>1199.0</td>\n",
       "    </tr>\n",
       "  </tbody>\n",
       "</table>\n",
       "<p>2797472 rows × 3 columns</p>\n",
       "</div>"
      ],
      "text/plain": [
       "         shop_id  item_id  item_price\n",
       "109593        46    18616       349.0\n",
       "85162         54    11854       199.0\n",
       "18128         28     4906      1799.0\n",
       "112216        42     2931        99.0\n",
       "85141         54    11604       349.0\n",
       "...          ...      ...         ...\n",
       "2915898        6     7390       349.0\n",
       "2915896        6     7350       349.0\n",
       "2922604       28    10304       199.0\n",
       "2915871        6     6798      1849.0\n",
       "2898514       58    10207      1199.0\n",
       "\n",
       "[2797472 rows x 3 columns]"
      ]
     },
     "execution_count": 147,
     "metadata": {},
     "output_type": "execute_result"
    }
   ],
   "source": [
    "test_data_path = join(data_dir, 'test.csv')\n",
    "sub = pd.read_csv(test_data_path)\n",
    "\n",
    "# del train_data_del_dec['date']\n",
    "del train_data_del_dec['date_block_num']\n",
    "# del train_data_del_dec['item_price']\n",
    "# del train_data_del_dec['item_cnt_day']\n",
    "\n",
    "train_data_del_dec"
   ]
  },
  {
   "cell_type": "code",
   "execution_count": 148,
   "id": "sealed-manual",
   "metadata": {},
   "outputs": [
    {
     "name": "stdout",
     "output_type": "stream",
     "text": [
      "214200\n"
     ]
    },
    {
     "data": {
      "text/plain": [
       "array([1.03128496, 0.99800748, 0.99800748, ..., 1.06033443, 1.13605409,\n",
       "       1.09334061])"
      ]
     },
     "execution_count": 148,
     "metadata": {},
     "output_type": "execute_result"
    }
   ],
   "source": [
    "del_y_pred = AveragingBlending(models, train_data_del_dec, y, sub)\n",
    "print(len(del_y_pred))\n",
    "del_y_predㄹ"
   ]
  },
  {
   "cell_type": "markdown",
   "id": "contained-monaco",
   "metadata": {},
   "source": [
    "## 캐글에 제출"
   ]
  },
  {
   "cell_type": "code",
   "execution_count": 153,
   "id": "white-vocabulary",
   "metadata": {},
   "outputs": [
    {
     "data": {
      "text/html": [
       "<div>\n",
       "<style scoped>\n",
       "    .dataframe tbody tr th:only-of-type {\n",
       "        vertical-align: middle;\n",
       "    }\n",
       "\n",
       "    .dataframe tbody tr th {\n",
       "        vertical-align: top;\n",
       "    }\n",
       "\n",
       "    .dataframe thead th {\n",
       "        text-align: right;\n",
       "    }\n",
       "</style>\n",
       "<table border=\"1\" class=\"dataframe\">\n",
       "  <thead>\n",
       "    <tr style=\"text-align: right;\">\n",
       "      <th></th>\n",
       "      <th>ID</th>\n",
       "      <th>item_cnt_month</th>\n",
       "    </tr>\n",
       "  </thead>\n",
       "  <tbody>\n",
       "    <tr>\n",
       "      <th>0</th>\n",
       "      <td>0</td>\n",
       "      <td>0.5</td>\n",
       "    </tr>\n",
       "    <tr>\n",
       "      <th>1</th>\n",
       "      <td>1</td>\n",
       "      <td>0.5</td>\n",
       "    </tr>\n",
       "    <tr>\n",
       "      <th>2</th>\n",
       "      <td>2</td>\n",
       "      <td>0.5</td>\n",
       "    </tr>\n",
       "    <tr>\n",
       "      <th>3</th>\n",
       "      <td>3</td>\n",
       "      <td>0.5</td>\n",
       "    </tr>\n",
       "    <tr>\n",
       "      <th>4</th>\n",
       "      <td>4</td>\n",
       "      <td>0.5</td>\n",
       "    </tr>\n",
       "  </tbody>\n",
       "</table>\n",
       "</div>"
      ],
      "text/plain": [
       "   ID  item_cnt_month\n",
       "0   0             0.5\n",
       "1   1             0.5\n",
       "2   2             0.5\n",
       "3   3             0.5\n",
       "4   4             0.5"
      ]
     },
     "execution_count": 153,
     "metadata": {},
     "output_type": "execute_result"
    }
   ],
   "source": [
    "data_dir = os.getenv('HOME')+'/aiffel/Exploration/1st_hackathon'\n",
    "\n",
    "submission_path = join(data_dir, 'sample_submission.csv')\n",
    "submission = pd.read_csv(submission_path)\n",
    "submission.head()"
   ]
  },
  {
   "cell_type": "code",
   "execution_count": 154,
   "id": "baking-playing",
   "metadata": {},
   "outputs": [
    {
     "data": {
      "text/html": [
       "<div>\n",
       "<style scoped>\n",
       "    .dataframe tbody tr th:only-of-type {\n",
       "        vertical-align: middle;\n",
       "    }\n",
       "\n",
       "    .dataframe tbody tr th {\n",
       "        vertical-align: top;\n",
       "    }\n",
       "\n",
       "    .dataframe thead th {\n",
       "        text-align: right;\n",
       "    }\n",
       "</style>\n",
       "<table border=\"1\" class=\"dataframe\">\n",
       "  <thead>\n",
       "    <tr style=\"text-align: right;\">\n",
       "      <th></th>\n",
       "      <th>ID</th>\n",
       "      <th>item_cnt_month</th>\n",
       "    </tr>\n",
       "  </thead>\n",
       "  <tbody>\n",
       "    <tr>\n",
       "      <th>0</th>\n",
       "      <td>0</td>\n",
       "      <td>1.031285</td>\n",
       "    </tr>\n",
       "    <tr>\n",
       "      <th>1</th>\n",
       "      <td>1</td>\n",
       "      <td>0.998007</td>\n",
       "    </tr>\n",
       "    <tr>\n",
       "      <th>2</th>\n",
       "      <td>2</td>\n",
       "      <td>0.998007</td>\n",
       "    </tr>\n",
       "    <tr>\n",
       "      <th>3</th>\n",
       "      <td>3</td>\n",
       "      <td>0.998007</td>\n",
       "    </tr>\n",
       "    <tr>\n",
       "      <th>4</th>\n",
       "      <td>4</td>\n",
       "      <td>0.998007</td>\n",
       "    </tr>\n",
       "  </tbody>\n",
       "</table>\n",
       "</div>"
      ],
      "text/plain": [
       "   ID  item_cnt_month\n",
       "0   0        1.031285\n",
       "1   1        0.998007\n",
       "2   2        0.998007\n",
       "3   3        0.998007\n",
       "4   4        0.998007"
      ]
     },
     "execution_count": 154,
     "metadata": {},
     "output_type": "execute_result"
    }
   ],
   "source": [
    "result = pd.DataFrame({'ID' : submission['ID'], 'item_cnt_month' : del_y_pred})\n",
    "\n",
    "result.head()"
   ]
  },
  {
   "cell_type": "code",
   "execution_count": 155,
   "id": "visible-digest",
   "metadata": {},
   "outputs": [
    {
     "name": "stdout",
     "output_type": "stream",
     "text": [
      "/home/aiffel-dj35/aiffel/Exploration/1st_hackathon/del_submission.csv\n"
     ]
    }
   ],
   "source": [
    "del_submission_path = join(data_dir, 'del_submission.csv')\n",
    "result.to_csv(del_submission_path, index=False)\n",
    "\n",
    "print(del_submission_path)"
   ]
  },
  {
   "cell_type": "markdown",
   "id": "present-break",
   "metadata": {},
   "source": [
    "kaggle score : 1.54639 \n",
    "sale 기간만 지웠더니 성능이 많이 좋아졌다.  \n",
    "앞으로도 이상치를 대할 때 뭉텅이로 잡는 것 보다는 데이터를 자세히 보고 세심하게 분리해야겠다고 느꼈다.  "
   ]
  },
  {
   "cell_type": "markdown",
   "id": "invisible-shade",
   "metadata": {},
   "source": [
    "## shuffle = False & lightGBM"
   ]
  },
  {
   "cell_type": "code",
   "execution_count": 156,
   "id": "accessible-acrobat",
   "metadata": {},
   "outputs": [
    {
     "name": "stdout",
     "output_type": "stream",
     "text": [
      "얍💢\n"
     ]
    }
   ],
   "source": [
    "# gboost = GradientBoostingRegressor(random_state=2021)\n",
    "# xgboost = xgb.XGBRegressor(random_state=2021)\n",
    "lightgbm = lgb.LGBMRegressor(random_state=2021)\n",
    "\n",
    "models = [{'model':lightgbm, 'name':'LightGBM'}]\n",
    "\n",
    "print('얍💢')"
   ]
  },
  {
   "cell_type": "code",
   "execution_count": 157,
   "id": "temporal-immigration",
   "metadata": {},
   "outputs": [
    {
     "name": "stdout",
     "output_type": "stream",
     "text": [
      "얍💢\n"
     ]
    }
   ],
   "source": [
    "def del_get_cv_score(models):\n",
    "    kfold = KFold(n_splits=2, shuffle = False).get_n_splits(train_data_del_dec.values)\n",
    "    for m in models:\n",
    "        print(\"Model {} CV score : {:.4f}\".format(m['name'], \n",
    "                                                  np.mean(cross_val_score(m['model'],  #  R^2점수를 반환\n",
    "                                                                          train_data_del_dec.values, \n",
    "                                                                          y))))\n",
    "print('얍💢')"
   ]
  },
  {
   "cell_type": "code",
   "execution_count": 158,
   "id": "valued-destiny",
   "metadata": {},
   "outputs": [
    {
     "name": "stdout",
     "output_type": "stream",
     "text": [
      "Model LightGBM CV score : 0.1246\n"
     ]
    }
   ],
   "source": [
    "del_get_cv_score(models)"
   ]
  },
  {
   "cell_type": "code",
   "execution_count": 159,
   "id": "confirmed-million",
   "metadata": {},
   "outputs": [
    {
     "name": "stdout",
     "output_type": "stream",
     "text": [
      "214200\n"
     ]
    },
    {
     "data": {
      "text/plain": [
       "array([1.03128496, 0.99800748, 0.99800748, ..., 1.06033443, 1.13605409,\n",
       "       1.09334061])"
      ]
     },
     "execution_count": 159,
     "metadata": {},
     "output_type": "execute_result"
    }
   ],
   "source": [
    "del_y_pred = AveragingBlending(models, train_data_del_dec, y, sub)\n",
    "print(len(del_y_pred))\n",
    "del_y_pred"
   ]
  },
  {
   "cell_type": "code",
   "execution_count": 160,
   "id": "friendly-profile",
   "metadata": {},
   "outputs": [
    {
     "data": {
      "text/html": [
       "<div>\n",
       "<style scoped>\n",
       "    .dataframe tbody tr th:only-of-type {\n",
       "        vertical-align: middle;\n",
       "    }\n",
       "\n",
       "    .dataframe tbody tr th {\n",
       "        vertical-align: top;\n",
       "    }\n",
       "\n",
       "    .dataframe thead th {\n",
       "        text-align: right;\n",
       "    }\n",
       "</style>\n",
       "<table border=\"1\" class=\"dataframe\">\n",
       "  <thead>\n",
       "    <tr style=\"text-align: right;\">\n",
       "      <th></th>\n",
       "      <th>ID</th>\n",
       "      <th>item_cnt_month</th>\n",
       "    </tr>\n",
       "  </thead>\n",
       "  <tbody>\n",
       "    <tr>\n",
       "      <th>0</th>\n",
       "      <td>0</td>\n",
       "      <td>0.5</td>\n",
       "    </tr>\n",
       "    <tr>\n",
       "      <th>1</th>\n",
       "      <td>1</td>\n",
       "      <td>0.5</td>\n",
       "    </tr>\n",
       "    <tr>\n",
       "      <th>2</th>\n",
       "      <td>2</td>\n",
       "      <td>0.5</td>\n",
       "    </tr>\n",
       "    <tr>\n",
       "      <th>3</th>\n",
       "      <td>3</td>\n",
       "      <td>0.5</td>\n",
       "    </tr>\n",
       "    <tr>\n",
       "      <th>4</th>\n",
       "      <td>4</td>\n",
       "      <td>0.5</td>\n",
       "    </tr>\n",
       "  </tbody>\n",
       "</table>\n",
       "</div>"
      ],
      "text/plain": [
       "   ID  item_cnt_month\n",
       "0   0             0.5\n",
       "1   1             0.5\n",
       "2   2             0.5\n",
       "3   3             0.5\n",
       "4   4             0.5"
      ]
     },
     "execution_count": 160,
     "metadata": {},
     "output_type": "execute_result"
    }
   ],
   "source": [
    "data_dir = os.getenv('HOME')+'/aiffel/Exploration/1st_hackathon'\n",
    "\n",
    "submission_path = join(data_dir, 'sample_submission.csv')\n",
    "submission = pd.read_csv(submission_path)\n",
    "submission.head()"
   ]
  },
  {
   "cell_type": "code",
   "execution_count": 161,
   "id": "durable-livestock",
   "metadata": {},
   "outputs": [
    {
     "data": {
      "text/html": [
       "<div>\n",
       "<style scoped>\n",
       "    .dataframe tbody tr th:only-of-type {\n",
       "        vertical-align: middle;\n",
       "    }\n",
       "\n",
       "    .dataframe tbody tr th {\n",
       "        vertical-align: top;\n",
       "    }\n",
       "\n",
       "    .dataframe thead th {\n",
       "        text-align: right;\n",
       "    }\n",
       "</style>\n",
       "<table border=\"1\" class=\"dataframe\">\n",
       "  <thead>\n",
       "    <tr style=\"text-align: right;\">\n",
       "      <th></th>\n",
       "      <th>ID</th>\n",
       "      <th>item_cnt_month</th>\n",
       "    </tr>\n",
       "  </thead>\n",
       "  <tbody>\n",
       "    <tr>\n",
       "      <th>0</th>\n",
       "      <td>0</td>\n",
       "      <td>1.031285</td>\n",
       "    </tr>\n",
       "    <tr>\n",
       "      <th>1</th>\n",
       "      <td>1</td>\n",
       "      <td>0.998007</td>\n",
       "    </tr>\n",
       "    <tr>\n",
       "      <th>2</th>\n",
       "      <td>2</td>\n",
       "      <td>0.998007</td>\n",
       "    </tr>\n",
       "    <tr>\n",
       "      <th>3</th>\n",
       "      <td>3</td>\n",
       "      <td>0.998007</td>\n",
       "    </tr>\n",
       "    <tr>\n",
       "      <th>4</th>\n",
       "      <td>4</td>\n",
       "      <td>0.998007</td>\n",
       "    </tr>\n",
       "  </tbody>\n",
       "</table>\n",
       "</div>"
      ],
      "text/plain": [
       "   ID  item_cnt_month\n",
       "0   0        1.031285\n",
       "1   1        0.998007\n",
       "2   2        0.998007\n",
       "3   3        0.998007\n",
       "4   4        0.998007"
      ]
     },
     "execution_count": 161,
     "metadata": {},
     "output_type": "execute_result"
    }
   ],
   "source": [
    "result = pd.DataFrame({'ID' : submission['ID'], 'item_cnt_month' : del_y_pred})\n",
    "\n",
    "result.head()"
   ]
  },
  {
   "cell_type": "code",
   "execution_count": 412,
   "id": "amended-somalia",
   "metadata": {},
   "outputs": [
    {
     "name": "stdout",
     "output_type": "stream",
     "text": [
      "/home/aiffel-dj35/aiffel/Exploration/1st_hackathon/line_del_submission.csv\n"
     ]
    }
   ],
   "source": [
    "line_del_submission_path = join(data_dir, 'line_del_submission.csv')\n",
    "result.to_csv(line_del_submission_path, index=False)\n",
    "\n",
    "print(line_del_submission_path)"
   ]
  },
  {
   "cell_type": "markdown",
   "id": "electric-vulnerability",
   "metadata": {},
   "source": [
    "kaggle score : 1.62635  \n",
    "random없이 돌리면 더 성능이 좋아질 것 이라고 기대했는데,  오히려 더 안좋아졌다.  \n",
    "왜이런 결과가 나왔는지 공부를 해야 될 것같다.  \n"
   ]
  },
  {
   "cell_type": "markdown",
   "id": "spectacular-hearts",
   "metadata": {},
   "source": [
    "# by 혜미님"
   ]
  },
  {
   "cell_type": "code",
   "execution_count": 167,
   "id": "induced-contamination",
   "metadata": {},
   "outputs": [],
   "source": [
    "data['date'] = pd.to_datetime(data[\"date\"])\n",
    "data = data.sort_values(by = ['date'])\n",
    "\n",
    "\n",
    "from datetime import datetime, timedelta\n",
    "\n",
    "year_end_start1 = datetime(2013,12,25)\n",
    "year_end_end1 = datetime(2014,1,7)\n",
    "\n",
    "year_end_start2 = datetime(2014,12,25)\n",
    "year_end_end2 = datetime(2015,1,7)\n",
    "\n",
    "\n",
    "def del_vargen_period(data) :  \n",
    "    if (year_end_start1 <= data['date'] <= year_end_end1) or (year_end_start2 <= data['date'] <= year_end_end2) :\n",
    "        return False\n",
    "    return True\n",
    "train_data_del_dec = data[data.apply(lambda x : del_vargen_period(x), axis = 1)]"
   ]
  },
  {
   "cell_type": "code",
   "execution_count": 168,
   "id": "configured-calcium",
   "metadata": {},
   "outputs": [],
   "source": [
    "from sklearn.model_selection import train_test_split\n",
    "\n",
    "train_label = train_data_del_dec['item_cnt_day']\n",
    "train_data_only = train_data_del_dec\n",
    "del train_data_only['date']\n",
    "del train_data_only['item_cnt_day']\n",
    "del train_data_only['date_block_num']\n"
   ]
  },
  {
   "cell_type": "code",
   "execution_count": 169,
   "id": "alternate-weapon",
   "metadata": {},
   "outputs": [],
   "source": [
    "X_train, X_test, y_train, y_test = train_test_split(train_data_only, train_label,test_size = 0.1, shuffle = False)"
   ]
  },
  {
   "cell_type": "code",
   "execution_count": 171,
   "id": "consecutive-disorder",
   "metadata": {},
   "outputs": [],
   "source": [
    "# with open('special_day.txt', 'w') as f:\n",
    "#     print(special_days, file=f)"
   ]
  },
  {
   "cell_type": "code",
   "execution_count": 172,
   "id": "empirical-mission",
   "metadata": {},
   "outputs": [],
   "source": [
    "from sklearn.ensemble import GradientBoostingRegressor\n",
    "from sklearn.model_selection import KFold, cross_val_score\n",
    "import xgboost as xgb\n",
    "import lightgbm as lgb"
   ]
  },
  {
   "cell_type": "code",
   "execution_count": 173,
   "id": "second-oliver",
   "metadata": {},
   "outputs": [],
   "source": [
    "xgboost = xgb.XGBRegressor(random_state=2019)\n",
    "\n",
    "models = [ {'model':xgboost, 'name':'XGBoost'}]"
   ]
  },
  {
   "cell_type": "code",
   "execution_count": null,
   "id": "determined-indiana",
   "metadata": {},
   "outputs": [],
   "source": []
  },
  {
   "cell_type": "code",
   "execution_count": 176,
   "id": "animal-buyer",
   "metadata": {},
   "outputs": [
    {
     "name": "stdout",
     "output_type": "stream",
     "text": [
      "[1.163512  1.2610828 1.2597486 ... 1.2183428 1.2422136 1.2591693]\n",
      "4.204905605312096\n"
     ]
    },
    {
     "data": {
      "text/html": [
       "<div>\n",
       "<style scoped>\n",
       "    .dataframe tbody tr th:only-of-type {\n",
       "        vertical-align: middle;\n",
       "    }\n",
       "\n",
       "    .dataframe tbody tr th {\n",
       "        vertical-align: top;\n",
       "    }\n",
       "\n",
       "    .dataframe thead th {\n",
       "        text-align: right;\n",
       "    }\n",
       "</style>\n",
       "<table border=\"1\" class=\"dataframe\">\n",
       "  <thead>\n",
       "    <tr style=\"text-align: right;\">\n",
       "      <th></th>\n",
       "      <th>RMSE</th>\n",
       "    </tr>\n",
       "  </thead>\n",
       "  <tbody>\n",
       "    <tr>\n",
       "      <th>XGBoost</th>\n",
       "      <td>4.204906</td>\n",
       "    </tr>\n",
       "  </tbody>\n",
       "</table>\n",
       "</div>"
      ],
      "text/plain": [
       "             RMSE\n",
       "XGBoost  4.204906"
      ]
     },
     "execution_count": 176,
     "metadata": {},
     "output_type": "execute_result"
    }
   ],
   "source": [
    "from sklearn.metrics import mean_squared_error\n",
    "\n",
    "df = {}\n",
    "def containNaN(list) :\n",
    "    list_array = np.array(list)\n",
    "    np.nan_to_num(list_array, copy=False)\n",
    "    return list_array.tolist()\n",
    "\n",
    "def rmse(y_test, y_pred):\n",
    "    return np.sqrt(mean_squared_error(y_test, y_pred))\n",
    "\n",
    "def get_scores(models, train, y):\n",
    "    for model in models:\n",
    "        model_name = model['name']\n",
    "        \n",
    "        X_train, X_test, y_train, y_test = train_test_split(train, y, shuffle=False, test_size=0.2)\n",
    "        \n",
    "        model['model'].fit(X_train, y_train)\n",
    "        \n",
    "        y_pred = model['model'].predict(X_test)\n",
    "        \n",
    "        containNaN(y_pred)        \n",
    "        \n",
    "        print(y_pred)\n",
    "        \n",
    "        df[model_name] = rmse(y_test, y_pred)\n",
    "        \n",
    "        print(df[model_name])\n",
    "        \n",
    "        score_df = pd.DataFrame(df, index=['RMSE']).T.sort_values('RMSE', ascending=False)\n",
    "        \n",
    "    return score_df \n",
    "\n",
    "get_scores(models,train_data_only, y)"
   ]
  },
  {
   "cell_type": "code",
   "execution_count": null,
   "id": "material-competition",
   "metadata": {},
   "outputs": [],
   "source": []
  },
  {
   "cell_type": "code",
   "execution_count": 179,
   "id": "unsigned-january",
   "metadata": {},
   "outputs": [
    {
     "name": "stdout",
     "output_type": "stream",
     "text": [
      "214200\n"
     ]
    },
    {
     "data": {
      "text/plain": [
       "array([0.96034205, 1.1295055 , 1.976069  , ..., 0.9605356 , 1.1685128 ,\n",
       "       1.281304  ], dtype=float32)"
      ]
     },
     "execution_count": 179,
     "metadata": {},
     "output_type": "execute_result"
    }
   ],
   "source": [
    "hm_y_pred = AveragingBlending(models, train_data_only, y, sub)\n",
    "print(len(hm_y_pred))\n",
    "hm_y_pred"
   ]
  },
  {
   "cell_type": "code",
   "execution_count": null,
   "id": "laughing-command",
   "metadata": {},
   "outputs": [],
   "source": []
  },
  {
   "cell_type": "code",
   "execution_count": null,
   "id": "dominican-integration",
   "metadata": {},
   "outputs": [],
   "source": []
  },
  {
   "cell_type": "markdown",
   "id": "lasting-duration",
   "metadata": {},
   "source": [
    "## 캐글에 제출하기"
   ]
  },
  {
   "cell_type": "code",
   "execution_count": 177,
   "id": "mechanical-basket",
   "metadata": {},
   "outputs": [
    {
     "data": {
      "text/html": [
       "<div>\n",
       "<style scoped>\n",
       "    .dataframe tbody tr th:only-of-type {\n",
       "        vertical-align: middle;\n",
       "    }\n",
       "\n",
       "    .dataframe tbody tr th {\n",
       "        vertical-align: top;\n",
       "    }\n",
       "\n",
       "    .dataframe thead th {\n",
       "        text-align: right;\n",
       "    }\n",
       "</style>\n",
       "<table border=\"1\" class=\"dataframe\">\n",
       "  <thead>\n",
       "    <tr style=\"text-align: right;\">\n",
       "      <th></th>\n",
       "      <th>ID</th>\n",
       "      <th>item_cnt_month</th>\n",
       "    </tr>\n",
       "  </thead>\n",
       "  <tbody>\n",
       "    <tr>\n",
       "      <th>0</th>\n",
       "      <td>0</td>\n",
       "      <td>0.5</td>\n",
       "    </tr>\n",
       "    <tr>\n",
       "      <th>1</th>\n",
       "      <td>1</td>\n",
       "      <td>0.5</td>\n",
       "    </tr>\n",
       "    <tr>\n",
       "      <th>2</th>\n",
       "      <td>2</td>\n",
       "      <td>0.5</td>\n",
       "    </tr>\n",
       "    <tr>\n",
       "      <th>3</th>\n",
       "      <td>3</td>\n",
       "      <td>0.5</td>\n",
       "    </tr>\n",
       "    <tr>\n",
       "      <th>4</th>\n",
       "      <td>4</td>\n",
       "      <td>0.5</td>\n",
       "    </tr>\n",
       "  </tbody>\n",
       "</table>\n",
       "</div>"
      ],
      "text/plain": [
       "   ID  item_cnt_month\n",
       "0   0             0.5\n",
       "1   1             0.5\n",
       "2   2             0.5\n",
       "3   3             0.5\n",
       "4   4             0.5"
      ]
     },
     "execution_count": 177,
     "metadata": {},
     "output_type": "execute_result"
    }
   ],
   "source": [
    "data_dir = os.getenv('HOME')+'/aiffel/Exploration/1st_hackathon'\n",
    "\n",
    "submission_path = join(data_dir, 'sample_submission.csv')\n",
    "submission = pd.read_csv(submission_path)\n",
    "submission.head()"
   ]
  },
  {
   "cell_type": "code",
   "execution_count": 181,
   "id": "wrapped-folder",
   "metadata": {},
   "outputs": [
    {
     "data": {
      "text/html": [
       "<div>\n",
       "<style scoped>\n",
       "    .dataframe tbody tr th:only-of-type {\n",
       "        vertical-align: middle;\n",
       "    }\n",
       "\n",
       "    .dataframe tbody tr th {\n",
       "        vertical-align: top;\n",
       "    }\n",
       "\n",
       "    .dataframe thead th {\n",
       "        text-align: right;\n",
       "    }\n",
       "</style>\n",
       "<table border=\"1\" class=\"dataframe\">\n",
       "  <thead>\n",
       "    <tr style=\"text-align: right;\">\n",
       "      <th></th>\n",
       "      <th>ID</th>\n",
       "      <th>item_cnt_month</th>\n",
       "    </tr>\n",
       "  </thead>\n",
       "  <tbody>\n",
       "    <tr>\n",
       "      <th>0</th>\n",
       "      <td>0</td>\n",
       "      <td>0.960342</td>\n",
       "    </tr>\n",
       "    <tr>\n",
       "      <th>1</th>\n",
       "      <td>1</td>\n",
       "      <td>1.129506</td>\n",
       "    </tr>\n",
       "    <tr>\n",
       "      <th>2</th>\n",
       "      <td>2</td>\n",
       "      <td>1.976069</td>\n",
       "    </tr>\n",
       "    <tr>\n",
       "      <th>3</th>\n",
       "      <td>3</td>\n",
       "      <td>1.876275</td>\n",
       "    </tr>\n",
       "    <tr>\n",
       "      <th>4</th>\n",
       "      <td>4</td>\n",
       "      <td>1.874744</td>\n",
       "    </tr>\n",
       "  </tbody>\n",
       "</table>\n",
       "</div>"
      ],
      "text/plain": [
       "   ID  item_cnt_month\n",
       "0   0        0.960342\n",
       "1   1        1.129506\n",
       "2   2        1.976069\n",
       "3   3        1.876275\n",
       "4   4        1.874744"
      ]
     },
     "execution_count": 181,
     "metadata": {},
     "output_type": "execute_result"
    }
   ],
   "source": [
    "result = pd.DataFrame({'ID' : submission['ID'], 'item_cnt_month' : hm_y_pred})\n",
    "\n",
    "result.head()"
   ]
  },
  {
   "cell_type": "code",
   "execution_count": 182,
   "id": "metropolitan-decision",
   "metadata": {},
   "outputs": [
    {
     "name": "stdout",
     "output_type": "stream",
     "text": [
      "/home/aiffel-dj35/aiffel/Exploration/1st_hackathon/hm_submission.csv\n"
     ]
    }
   ],
   "source": [
    "hm_submission_path = join(data_dir, 'hm_submission.csv')\n",
    "result.to_csv(hm_submission_path, index=False)\n",
    "\n",
    "print(hm_submission_path)"
   ]
  },
  {
   "cell_type": "markdown",
   "id": "christian-liver",
   "metadata": {},
   "source": [
    "kaggle score : 2.18450"
   ]
  },
  {
   "cell_type": "code",
   "execution_count": null,
   "id": "educational-workshop",
   "metadata": {},
   "outputs": [],
   "source": []
  },
  {
   "cell_type": "markdown",
   "id": "perfect-distance",
   "metadata": {},
   "source": [
    "\n",
    "## 2차원 graph"
   ]
  },
  {
   "cell_type": "code",
   "execution_count": 190,
   "id": "surrounded-mileage",
   "metadata": {},
   "outputs": [],
   "source": [
    "data = pd.read_csv(train_data_path)\n",
    "\n",
    "items = data.groupby(['item_id'])['item_cnt_day'].sum().sort_values(ascending=False)\n",
    "items_cnt_over_mean = items[items.apply(lambda x : x > 168.0)].index\n",
    "\n",
    "special_days = {}\n",
    "count = 0\n",
    "for i in items_cnt_over_mean : \n",
    "    #print(i)\n",
    "    item_record = data[data.apply(lambda x : x['item_id'] == i , axis = 1)]\n",
    "    item_record = item_record.groupby(['date']).sum(['item_cnt_day'])\n",
    "    special_day = item_record['item_cnt_day'].idxmax()\n",
    "    if special_day in special_days :\n",
    "        special_days[special_day] += 1\n",
    "    else :\n",
    "        special_days[special_day] = 1\n",
    "    count += 1\n",
    "    if count == 30 : \n",
    "        break"
   ]
  },
  {
   "cell_type": "code",
   "execution_count": 191,
   "id": "modern-biodiversity",
   "metadata": {},
   "outputs": [
    {
     "name": "stdout",
     "output_type": "stream",
     "text": [
      "{'15.01.2015': 1, '07.06.2013': 1, '17.09.2013': 2, '27.12.2014': 2, '29.11.2013': 4, '14.04.2015': 1, '29.10.2013': 1, '14.06.2013': 1, '14.12.2013': 1, '26.09.2013': 1, '21.02.2013': 1, '02.01.2013': 1, '30.12.2013': 1, '12.03.2013': 2, '15.04.2014': 1, '24.08.2013': 1, '28.10.2015': 1, '31.12.2014': 1, '18.11.2014': 1, '30.07.2014': 1, '19.05.2015': 1, '30.12.2014': 1, '03.09.2014': 1, '05.07.2013': 1}\n"
     ]
    }
   ],
   "source": [
    "print(special_days)"
   ]
  },
  {
   "cell_type": "code",
   "execution_count": 192,
   "id": "permanent-angel",
   "metadata": {},
   "outputs": [
    {
     "data": {
      "image/png": "[encoded data removed]",
      "text/plain": [
       "<Figure size 432x288 with 1 Axes>"
      ]
     },
     "metadata": {
      "image/png": {
       "height": 248,
       "width": 385
      },
      "needs_background": "light"
     },
     "output_type": "display_data"
    }
   ],
   "source": [
    "plt.plot(*zip(*sorted(special_days.items())))\n",
    "plt.show()"
   ]
  },
  {
   "cell_type": "code",
   "execution_count": null,
   "id": "obvious-inspection",
   "metadata": {},
   "outputs": [],
   "source": []
  },
  {
   "cell_type": "code",
   "execution_count": null,
   "id": "enabling-consensus",
   "metadata": {},
   "outputs": [],
   "source": []
  },
  {
   "cell_type": "code",
   "execution_count": null,
   "id": "binary-chemical",
   "metadata": {},
   "outputs": [],
   "source": []
  },
  {
   "cell_type": "code",
   "execution_count": null,
   "id": "acoustic-conference",
   "metadata": {},
   "outputs": [],
   "source": []
  },
  {
   "cell_type": "code",
   "execution_count": null,
   "id": "spread-tuesday",
   "metadata": {},
   "outputs": [],
   "source": []
  },
  {
   "cell_type": "code",
   "execution_count": null,
   "id": "dressed-quarter",
   "metadata": {},
   "outputs": [],
   "source": []
  },
  {
   "cell_type": "code",
   "execution_count": null,
   "id": "sought-quebec",
   "metadata": {},
   "outputs": [],
   "source": []
  },
  {
   "cell_type": "code",
   "execution_count": null,
   "id": "mobile-equivalent",
   "metadata": {},
   "outputs": [],
   "source": []
  },
  {
   "cell_type": "markdown",
   "id": "demonstrated-timing",
   "metadata": {},
   "source": [
    "# without kfold"
   ]
  },
  {
   "cell_type": "code",
   "execution_count": 418,
   "id": "artificial-riverside",
   "metadata": {},
   "outputs": [],
   "source": [
    "data = pd.read_csv(train_data_path)\n",
    "\n",
    "data['date'] = pd.to_datetime(data[\"date\"])\n",
    "data = data.sort_values(by = ['date'])"
   ]
  },
  {
   "cell_type": "code",
   "execution_count": 420,
   "id": "circular-shade",
   "metadata": {},
   "outputs": [
    {
     "data": {
      "text/html": [
       "<div>\n",
       "<style scoped>\n",
       "    .dataframe tbody tr th:only-of-type {\n",
       "        vertical-align: middle;\n",
       "    }\n",
       "\n",
       "    .dataframe tbody tr th {\n",
       "        vertical-align: top;\n",
       "    }\n",
       "\n",
       "    .dataframe thead th {\n",
       "        text-align: right;\n",
       "    }\n",
       "</style>\n",
       "<table border=\"1\" class=\"dataframe\">\n",
       "  <thead>\n",
       "    <tr style=\"text-align: right;\">\n",
       "      <th></th>\n",
       "      <th>date</th>\n",
       "      <th>date_block_num</th>\n",
       "      <th>shop_id</th>\n",
       "      <th>item_id</th>\n",
       "      <th>item_price</th>\n",
       "      <th>item_cnt_day</th>\n",
       "    </tr>\n",
       "  </thead>\n",
       "  <tbody>\n",
       "    <tr>\n",
       "      <th>109593</th>\n",
       "      <td>2013-01-01</td>\n",
       "      <td>0</td>\n",
       "      <td>46</td>\n",
       "      <td>18616</td>\n",
       "      <td>349.0</td>\n",
       "      <td>1.0</td>\n",
       "    </tr>\n",
       "    <tr>\n",
       "      <th>85162</th>\n",
       "      <td>2013-01-01</td>\n",
       "      <td>0</td>\n",
       "      <td>54</td>\n",
       "      <td>11854</td>\n",
       "      <td>199.0</td>\n",
       "      <td>1.0</td>\n",
       "    </tr>\n",
       "    <tr>\n",
       "      <th>18128</th>\n",
       "      <td>2013-01-01</td>\n",
       "      <td>0</td>\n",
       "      <td>28</td>\n",
       "      <td>4906</td>\n",
       "      <td>1799.0</td>\n",
       "      <td>1.0</td>\n",
       "    </tr>\n",
       "    <tr>\n",
       "      <th>112216</th>\n",
       "      <td>2013-01-01</td>\n",
       "      <td>0</td>\n",
       "      <td>42</td>\n",
       "      <td>2931</td>\n",
       "      <td>99.0</td>\n",
       "      <td>1.0</td>\n",
       "    </tr>\n",
       "    <tr>\n",
       "      <th>85141</th>\n",
       "      <td>2013-01-01</td>\n",
       "      <td>0</td>\n",
       "      <td>54</td>\n",
       "      <td>11604</td>\n",
       "      <td>349.0</td>\n",
       "      <td>1.0</td>\n",
       "    </tr>\n",
       "    <tr>\n",
       "      <th>...</th>\n",
       "      <td>...</td>\n",
       "      <td>...</td>\n",
       "      <td>...</td>\n",
       "      <td>...</td>\n",
       "      <td>...</td>\n",
       "      <td>...</td>\n",
       "    </tr>\n",
       "    <tr>\n",
       "      <th>2915898</th>\n",
       "      <td>2015-12-10</td>\n",
       "      <td>33</td>\n",
       "      <td>6</td>\n",
       "      <td>7390</td>\n",
       "      <td>349.0</td>\n",
       "      <td>1.0</td>\n",
       "    </tr>\n",
       "    <tr>\n",
       "      <th>2915896</th>\n",
       "      <td>2015-12-10</td>\n",
       "      <td>33</td>\n",
       "      <td>6</td>\n",
       "      <td>7350</td>\n",
       "      <td>349.0</td>\n",
       "      <td>1.0</td>\n",
       "    </tr>\n",
       "    <tr>\n",
       "      <th>2922604</th>\n",
       "      <td>2015-12-10</td>\n",
       "      <td>33</td>\n",
       "      <td>28</td>\n",
       "      <td>10304</td>\n",
       "      <td>199.0</td>\n",
       "      <td>1.0</td>\n",
       "    </tr>\n",
       "    <tr>\n",
       "      <th>2915871</th>\n",
       "      <td>2015-12-10</td>\n",
       "      <td>33</td>\n",
       "      <td>6</td>\n",
       "      <td>6798</td>\n",
       "      <td>1849.0</td>\n",
       "      <td>1.0</td>\n",
       "    </tr>\n",
       "    <tr>\n",
       "      <th>2898514</th>\n",
       "      <td>2015-12-10</td>\n",
       "      <td>33</td>\n",
       "      <td>58</td>\n",
       "      <td>10207</td>\n",
       "      <td>1199.0</td>\n",
       "      <td>1.0</td>\n",
       "    </tr>\n",
       "  </tbody>\n",
       "</table>\n",
       "<p>2797472 rows × 6 columns</p>\n",
       "</div>"
      ],
      "text/plain": [
       "              date  date_block_num  shop_id  item_id  item_price  item_cnt_day\n",
       "109593  2013-01-01               0       46    18616       349.0           1.0\n",
       "85162   2013-01-01               0       54    11854       199.0           1.0\n",
       "18128   2013-01-01               0       28     4906      1799.0           1.0\n",
       "112216  2013-01-01               0       42     2931        99.0           1.0\n",
       "85141   2013-01-01               0       54    11604       349.0           1.0\n",
       "...            ...             ...      ...      ...         ...           ...\n",
       "2915898 2015-12-10              33        6     7390       349.0           1.0\n",
       "2915896 2015-12-10              33        6     7350       349.0           1.0\n",
       "2922604 2015-12-10              33       28    10304       199.0           1.0\n",
       "2915871 2015-12-10              33        6     6798      1849.0           1.0\n",
       "2898514 2015-12-10              33       58    10207      1199.0           1.0\n",
       "\n",
       "[2797472 rows x 6 columns]"
      ]
     },
     "execution_count": 420,
     "metadata": {},
     "output_type": "execute_result"
    }
   ],
   "source": [
    "from datetime import datetime, timedelta\n",
    "\n",
    "year_end_start1 = datetime(2013,12,25)\n",
    "year_end_end1 = datetime(2014,1,7)\n",
    "\n",
    "year_end_start2 = datetime(2014,12,25)\n",
    "year_end_end2 = datetime(2015,1,7)\n",
    "\n",
    "\n",
    "def del_vargen_period(data) :  \n",
    "    if (year_end_start1 <= data['date'] <= year_end_end1) or (year_end_start2 <= data['date'] <= year_end_end2) :\n",
    "        return False\n",
    "    return True\n",
    "train_data_del_dec = data[data.apply(lambda x : del_vargen_period(x), axis = 1)]\n",
    "\n",
    "train_data_del_dec"
   ]
  },
  {
   "cell_type": "code",
   "execution_count": 421,
   "id": "composite-europe",
   "metadata": {},
   "outputs": [
    {
     "data": {
      "text/html": [
       "<div>\n",
       "<style scoped>\n",
       "    .dataframe tbody tr th:only-of-type {\n",
       "        vertical-align: middle;\n",
       "    }\n",
       "\n",
       "    .dataframe tbody tr th {\n",
       "        vertical-align: top;\n",
       "    }\n",
       "\n",
       "    .dataframe thead th {\n",
       "        text-align: right;\n",
       "    }\n",
       "</style>\n",
       "<table border=\"1\" class=\"dataframe\">\n",
       "  <thead>\n",
       "    <tr style=\"text-align: right;\">\n",
       "      <th></th>\n",
       "      <th>date_block_num</th>\n",
       "      <th>shop_id</th>\n",
       "      <th>item_id</th>\n",
       "    </tr>\n",
       "  </thead>\n",
       "  <tbody>\n",
       "    <tr>\n",
       "      <th>109593</th>\n",
       "      <td>0</td>\n",
       "      <td>46</td>\n",
       "      <td>18616</td>\n",
       "    </tr>\n",
       "    <tr>\n",
       "      <th>85162</th>\n",
       "      <td>0</td>\n",
       "      <td>54</td>\n",
       "      <td>11854</td>\n",
       "    </tr>\n",
       "    <tr>\n",
       "      <th>18128</th>\n",
       "      <td>0</td>\n",
       "      <td>28</td>\n",
       "      <td>4906</td>\n",
       "    </tr>\n",
       "    <tr>\n",
       "      <th>112216</th>\n",
       "      <td>0</td>\n",
       "      <td>42</td>\n",
       "      <td>2931</td>\n",
       "    </tr>\n",
       "    <tr>\n",
       "      <th>85141</th>\n",
       "      <td>0</td>\n",
       "      <td>54</td>\n",
       "      <td>11604</td>\n",
       "    </tr>\n",
       "    <tr>\n",
       "      <th>...</th>\n",
       "      <td>...</td>\n",
       "      <td>...</td>\n",
       "      <td>...</td>\n",
       "    </tr>\n",
       "    <tr>\n",
       "      <th>2915898</th>\n",
       "      <td>33</td>\n",
       "      <td>6</td>\n",
       "      <td>7390</td>\n",
       "    </tr>\n",
       "    <tr>\n",
       "      <th>2915896</th>\n",
       "      <td>33</td>\n",
       "      <td>6</td>\n",
       "      <td>7350</td>\n",
       "    </tr>\n",
       "    <tr>\n",
       "      <th>2922604</th>\n",
       "      <td>33</td>\n",
       "      <td>28</td>\n",
       "      <td>10304</td>\n",
       "    </tr>\n",
       "    <tr>\n",
       "      <th>2915871</th>\n",
       "      <td>33</td>\n",
       "      <td>6</td>\n",
       "      <td>6798</td>\n",
       "    </tr>\n",
       "    <tr>\n",
       "      <th>2898514</th>\n",
       "      <td>33</td>\n",
       "      <td>58</td>\n",
       "      <td>10207</td>\n",
       "    </tr>\n",
       "  </tbody>\n",
       "</table>\n",
       "<p>2797472 rows × 3 columns</p>\n",
       "</div>"
      ],
      "text/plain": [
       "         date_block_num  shop_id  item_id\n",
       "109593                0       46    18616\n",
       "85162                 0       54    11854\n",
       "18128                 0       28     4906\n",
       "112216                0       42     2931\n",
       "85141                 0       54    11604\n",
       "...                 ...      ...      ...\n",
       "2915898              33        6     7390\n",
       "2915896              33        6     7350\n",
       "2922604              33       28    10304\n",
       "2915871              33        6     6798\n",
       "2898514              33       58    10207\n",
       "\n",
       "[2797472 rows x 3 columns]"
      ]
     },
     "execution_count": 421,
     "metadata": {},
     "output_type": "execute_result"
    }
   ],
   "source": [
    "y = train_data_del_dec['item_cnt_day']\n",
    "\n",
    "del train_data_del_dec['date']\n",
    "del train_data_del_dec['item_price']\n",
    "del train_data_del_dec['item_cnt_day']\n",
    "\n",
    "train_data_del_dec"
   ]
  },
  {
   "cell_type": "code",
   "execution_count": 427,
   "id": "judicial-spare",
   "metadata": {},
   "outputs": [
    {
     "name": "stdout",
     "output_type": "stream",
     "text": [
      "얍💢\n"
     ]
    }
   ],
   "source": [
    "lightgbm = lgb.LGBMRegressor(random_state=2021)\n",
    "\n",
    "models = [{'model':lightgbm, 'name':'LightGBM'}]\n",
    "\n",
    "print('얍💢')"
   ]
  },
  {
   "cell_type": "code",
   "execution_count": 428,
   "id": "placed-intention",
   "metadata": {},
   "outputs": [
    {
     "name": "stdout",
     "output_type": "stream",
     "text": [
      "얍💢\n"
     ]
    }
   ],
   "source": [
    "def del_get_cv_score(models):\n",
    "    kfold = KFold(n_splits=5, shuffle = False).get_n_splits(train_data_del_dec.values)\n",
    "    for m in models:\n",
    "        print(\"Model {} CV score : {:.4f}\".format(m['name'], \n",
    "                                                  np.mean(cross_val_score(m['model'],  #  R^2점수를 반환\n",
    "                                                                          train_data_del_dec.values, \n",
    "                                                                          y))))\n",
    "print('얍💢')"
   ]
  },
  {
   "cell_type": "code",
   "execution_count": 429,
   "id": "governmental-attribute",
   "metadata": {},
   "outputs": [
    {
     "name": "stdout",
     "output_type": "stream",
     "text": [
      "Model LightGBM CV score : 0.1065\n"
     ]
    }
   ],
   "source": [
    "del_get_cv_score(models)"
   ]
  },
  {
   "cell_type": "code",
   "execution_count": null,
   "id": "forty-shift",
   "metadata": {},
   "outputs": [],
   "source": [
    "del_y_pred = AveragingBlending(models, train_data_del_dec, y, sub)\n",
    "print(len(del_y_pred))\n",
    "del_y_pred"
   ]
  },
  {
   "cell_type": "code",
   "execution_count": null,
   "id": "dressed-immune",
   "metadata": {},
   "outputs": [],
   "source": [
    "data_dir = os.getenv('HOME')+'/aiffel/Exploration/1st_hackathon'\n",
    "\n",
    "submission_path = join(data_dir, 'sample_submission.csv')\n",
    "submission = pd.read_csv(submission_path)\n",
    "submission.head()"
   ]
  },
  {
   "cell_type": "code",
   "execution_count": null,
   "id": "manufactured-surface",
   "metadata": {},
   "outputs": [],
   "source": [
    "result = pd.DataFrame({'ID' : submission['ID'], 'item_cnt_month' : del_y_pred})\n",
    "\n",
    "result.head()"
   ]
  },
  {
   "cell_type": "code",
   "execution_count": null,
   "id": "determined-robinson",
   "metadata": {},
   "outputs": [],
   "source": [
    "line_del_submission_path = join(data_dir, 'line_del_submission.csv')\n",
    "result.to_csv(line_del_submission_path, index=False)\n",
    "\n",
    "print(line_del_submission_path)"
   ]
  },
  {
   "cell_type": "code",
   "execution_count": null,
   "id": "activated-liberal",
   "metadata": {},
   "outputs": [],
   "source": [
    "kaggle score : "
   ]
  },
  {
   "cell_type": "code",
   "execution_count": null,
   "id": "hourly-conspiracy",
   "metadata": {},
   "outputs": [],
   "source": []
  },
  {
   "cell_type": "code",
   "execution_count": null,
   "id": "convertible-stationery",
   "metadata": {},
   "outputs": [],
   "source": []
  },
  {
   "cell_type": "code",
   "execution_count": null,
   "id": "medium-rings",
   "metadata": {},
   "outputs": [],
   "source": []
  },
  {
   "cell_type": "code",
   "execution_count": null,
   "id": "vietnamese-liberty",
   "metadata": {},
   "outputs": [],
   "source": []
  },
  {
   "cell_type": "code",
   "execution_count": null,
   "id": "impressed-complaint",
   "metadata": {},
   "outputs": [],
   "source": []
  },
  {
   "cell_type": "code",
   "execution_count": null,
   "id": "unable-smith",
   "metadata": {},
   "outputs": [],
   "source": []
  },
  {
   "cell_type": "code",
   "execution_count": null,
   "id": "different-riverside",
   "metadata": {},
   "outputs": [],
   "source": []
  },
  {
   "cell_type": "markdown",
   "id": "cubic-developer",
   "metadata": {},
   "source": [
    "# 점수를 올려보자"
   ]
  },
  {
   "cell_type": "code",
   "execution_count": 309,
   "id": "signed-antarctica",
   "metadata": {},
   "outputs": [
    {
     "name": "stdout",
     "output_type": "stream",
     "text": [
      "얍💢\n"
     ]
    }
   ],
   "source": [
    "data_dir = os.getenv('HOME')+'/aiffel/Exploration/1st_hackathon'\n",
    "\n",
    "train_data_path = join(data_dir, 'sales_train.csv')\n",
    "test_data_path = join(data_dir, 'test.csv') \n",
    "\n",
    "train = pd.read_csv(train_data_path)\n",
    "test = pd.read_csv(test_data_path)\n",
    "\n",
    "print('얍💢')"
   ]
  },
  {
   "cell_type": "code",
   "execution_count": null,
   "id": "looking-proposal",
   "metadata": {},
   "outputs": [],
   "source": [
    "y = train['item_price']\n",
    "del train['item_price']\n",
    "\n",
    "print(train.columns)\n",
    "print(test.columns)"
   ]
  },
  {
   "cell_type": "code",
   "execution_count": 310,
   "id": "prescription-current",
   "metadata": {},
   "outputs": [
    {
     "name": "stdout",
     "output_type": "stream",
     "text": [
      "Index(['date_block_num', 'shop_id', 'item_id', 'item_price'], dtype='object')\n",
      "Index(['ID', 'shop_id', 'item_id'], dtype='object')\n"
     ]
    }
   ],
   "source": [
    "del train['date']\n",
    "del train['item_cnt_day']\n",
    "\n",
    "print(train.columns)\n",
    "print(test.columns)"
   ]
  },
  {
   "cell_type": "code",
   "execution_count": 311,
   "id": "twenty-grenada",
   "metadata": {},
   "outputs": [
    {
     "data": {
      "image/png": "[encoded data removed]",
      "text/plain": [
       "<Figure size 432x288 with 1 Axes>"
      ]
     },
     "metadata": {
      "image/png": {
       "height": 262,
       "width": 376
      },
      "needs_background": "light"
     },
     "output_type": "display_data"
    }
   ],
   "source": [
    "sns.kdeplot(y)\n",
    "plt.show()"
   ]
  },
  {
   "cell_type": "code",
   "execution_count": 308,
   "id": "anticipated-haven",
   "metadata": {},
   "outputs": [
    {
     "data": {
      "text/plain": [
       "0          2.067844\n",
       "1          2.054431\n",
       "2          2.054431\n",
       "3          2.133489\n",
       "4          2.079825\n",
       "             ...   \n",
       "2935844    1.902672\n",
       "2935845    1.902672\n",
       "2935846    1.925406\n",
       "2935847    1.902672\n",
       "2935848    1.902672\n",
       "Name: item_price, Length: 2935849, dtype: float64"
      ]
     },
     "execution_count": 308,
     "metadata": {},
     "output_type": "execute_result"
    }
   ],
   "source": [
    "y = np.log1p(y)\n",
    "y"
   ]
  },
  {
   "cell_type": "code",
   "execution_count": 297,
   "id": "appropriate-condition",
   "metadata": {},
   "outputs": [
    {
     "data": {
      "image/png": "[encoded data removed]",
      "text/plain": [
       "<Figure size 432x288 with 1 Axes>"
      ]
     },
     "metadata": {
      "image/png": {
       "height": 262,
       "width": 400
      },
      "needs_background": "light"
     },
     "output_type": "display_data"
    }
   ],
   "source": [
    "sns.kdeplot(y)\n",
    "plt.show()"
   ]
  },
  {
   "cell_type": "code",
   "execution_count": 298,
   "id": "established-arrow",
   "metadata": {},
   "outputs": [
    {
     "name": "stdout",
     "output_type": "stream",
     "text": [
      "<class 'pandas.core.frame.DataFrame'>\n",
      "RangeIndex: 2935849 entries, 0 to 2935848\n",
      "Data columns (total 5 columns):\n",
      " #   Column          Dtype  \n",
      "---  ------          -----  \n",
      " 0   date            object \n",
      " 1   date_block_num  int64  \n",
      " 2   shop_id         int64  \n",
      " 3   item_id         int64  \n",
      " 4   item_cnt_day    float64\n",
      "dtypes: float64(1), int64(3), object(1)\n",
      "memory usage: 112.0+ MB\n"
     ]
    }
   ],
   "source": [
    "train.info()"
   ]
  },
  {
   "cell_type": "markdown",
   "id": "weighted-swing",
   "metadata": {},
   "source": [
    "# RMSE"
   ]
  },
  {
   "cell_type": "code",
   "execution_count": 300,
   "id": "intellectual-danger",
   "metadata": {},
   "outputs": [
    {
     "name": "stdout",
     "output_type": "stream",
     "text": [
      "얍💢\n"
     ]
    }
   ],
   "source": [
    "from sklearn.model_selection import train_test_split\n",
    "from sklearn.metrics import mean_squared_error\n",
    "\n",
    "print('얍💢')"
   ]
  },
  {
   "cell_type": "code",
   "execution_count": 301,
   "id": "adult-stylus",
   "metadata": {},
   "outputs": [
    {
     "name": "stdout",
     "output_type": "stream",
     "text": [
      "얍💢\n"
     ]
    }
   ],
   "source": [
    "def rmse(y_test, y_pred):\n",
    "    return np.sqrt(mean_squared_error(np.expm1(y_test), np.expm1(y_pred)))\n",
    "\n",
    "print('얍💢')"
   ]
  },
  {
   "cell_type": "code",
   "execution_count": 302,
   "id": "caring-performer",
   "metadata": {},
   "outputs": [
    {
     "name": "stdout",
     "output_type": "stream",
     "text": [
      "얍💢\n"
     ]
    }
   ],
   "source": [
    "from xgboost import XGBRegressor\n",
    "from lightgbm import LGBMRegressor\n",
    "from sklearn.ensemble import GradientBoostingRegressor, RandomForestRegressor\n",
    "\n",
    "print('얍💢')"
   ]
  },
  {
   "cell_type": "code",
   "execution_count": 303,
   "id": "reliable-isaac",
   "metadata": {},
   "outputs": [
    {
     "name": "stdout",
     "output_type": "stream",
     "text": [
      "얍💢\n"
     ]
    }
   ],
   "source": [
    "# random_state는 모델초기화나 데이터셋 구성에 사용되는 랜덤 시드값입니다. \n",
    "#random_state=None    # 이게 초기값입니다. 아무것도 지정하지 않고 None을 넘겨주면 모델 내부에서 임의로 선택합니다.  \n",
    "random_state=2021        # 하지만 우리는 이렇게 고정값을 세팅해 두겠습니다. \n",
    "\n",
    "gboost = GradientBoostingRegressor(random_state=random_state)\n",
    "xgboost = XGBRegressor(random_state=random_state)\n",
    "lightgbm = LGBMRegressor(random_state=random_state)\n",
    "rdforest = RandomForestRegressor(random_state=random_state)\n",
    "\n",
    "models = [gboost, xgboost, lightgbm, rdforest]\n",
    "\n",
    "print('얍💢')"
   ]
  },
  {
   "cell_type": "code",
   "execution_count": 304,
   "id": "mounted-skating",
   "metadata": {},
   "outputs": [
    {
     "data": {
      "text/plain": [
       "'GradientBoostingRegressor'"
      ]
     },
     "execution_count": 304,
     "metadata": {},
     "output_type": "execute_result"
    }
   ],
   "source": [
    "gboost.__class__.__name__"
   ]
  },
  {
   "cell_type": "code",
   "execution_count": 305,
   "id": "neural-durham",
   "metadata": {},
   "outputs": [
    {
     "ename": "ValueError",
     "evalue": "could not convert string to float: '18.08.2013'",
     "output_type": "error",
     "traceback": [
      "\u001b[0;31m---------------------------------------------------------------------------\u001b[0m",
      "\u001b[0;31mValueError\u001b[0m                                Traceback (most recent call last)",
      "\u001b[0;32m<ipython-input-305-cc41275ebd91>\u001b[0m in \u001b[0;36m<module>\u001b[0;34m\u001b[0m\n\u001b[1;32m      9\u001b[0m \u001b[0;34m\u001b[0m\u001b[0m\n\u001b[1;32m     10\u001b[0m     \u001b[0;31m# 모델 학습\u001b[0m\u001b[0;34m\u001b[0m\u001b[0;34m\u001b[0m\u001b[0;34m\u001b[0m\u001b[0m\n\u001b[0;32m---> 11\u001b[0;31m     \u001b[0mmodel\u001b[0m\u001b[0;34m.\u001b[0m\u001b[0mfit\u001b[0m\u001b[0;34m(\u001b[0m\u001b[0mX_train\u001b[0m\u001b[0;34m,\u001b[0m \u001b[0my_train\u001b[0m\u001b[0;34m)\u001b[0m\u001b[0;34m\u001b[0m\u001b[0;34m\u001b[0m\u001b[0m\n\u001b[0m\u001b[1;32m     12\u001b[0m \u001b[0;34m\u001b[0m\u001b[0m\n\u001b[1;32m     13\u001b[0m     \u001b[0;31m# 예측\u001b[0m\u001b[0;34m\u001b[0m\u001b[0;34m\u001b[0m\u001b[0;34m\u001b[0m\u001b[0m\n",
      "\u001b[0;32m~/anaconda3/envs/aiffel/lib/python3.7/site-packages/sklearn/ensemble/_gb.py\u001b[0m in \u001b[0;36mfit\u001b[0;34m(self, X, y, sample_weight, monitor)\u001b[0m\n\u001b[1;32m    408\u001b[0m \u001b[0;34m\u001b[0m\u001b[0m\n\u001b[1;32m    409\u001b[0m         X, y = self._validate_data(X, y, accept_sparse=['csr', 'csc', 'coo'],\n\u001b[0;32m--> 410\u001b[0;31m                                    dtype=DTYPE, multi_output=True)\n\u001b[0m\u001b[1;32m    411\u001b[0m         \u001b[0mn_samples\u001b[0m\u001b[0;34m,\u001b[0m \u001b[0mself\u001b[0m\u001b[0;34m.\u001b[0m\u001b[0mn_features_\u001b[0m \u001b[0;34m=\u001b[0m \u001b[0mX\u001b[0m\u001b[0;34m.\u001b[0m\u001b[0mshape\u001b[0m\u001b[0;34m\u001b[0m\u001b[0;34m\u001b[0m\u001b[0m\n\u001b[1;32m    412\u001b[0m \u001b[0;34m\u001b[0m\u001b[0m\n",
      "\u001b[0;32m~/anaconda3/envs/aiffel/lib/python3.7/site-packages/sklearn/base.py\u001b[0m in \u001b[0;36m_validate_data\u001b[0;34m(self, X, y, reset, validate_separately, **check_params)\u001b[0m\n\u001b[1;32m    430\u001b[0m                 \u001b[0my\u001b[0m \u001b[0;34m=\u001b[0m \u001b[0mcheck_array\u001b[0m\u001b[0;34m(\u001b[0m\u001b[0my\u001b[0m\u001b[0;34m,\u001b[0m \u001b[0;34m**\u001b[0m\u001b[0mcheck_y_params\u001b[0m\u001b[0;34m)\u001b[0m\u001b[0;34m\u001b[0m\u001b[0;34m\u001b[0m\u001b[0m\n\u001b[1;32m    431\u001b[0m             \u001b[0;32melse\u001b[0m\u001b[0;34m:\u001b[0m\u001b[0;34m\u001b[0m\u001b[0;34m\u001b[0m\u001b[0m\n\u001b[0;32m--> 432\u001b[0;31m                 \u001b[0mX\u001b[0m\u001b[0;34m,\u001b[0m \u001b[0my\u001b[0m \u001b[0;34m=\u001b[0m \u001b[0mcheck_X_y\u001b[0m\u001b[0;34m(\u001b[0m\u001b[0mX\u001b[0m\u001b[0;34m,\u001b[0m \u001b[0my\u001b[0m\u001b[0;34m,\u001b[0m \u001b[0;34m**\u001b[0m\u001b[0mcheck_params\u001b[0m\u001b[0;34m)\u001b[0m\u001b[0;34m\u001b[0m\u001b[0;34m\u001b[0m\u001b[0m\n\u001b[0m\u001b[1;32m    433\u001b[0m             \u001b[0mout\u001b[0m \u001b[0;34m=\u001b[0m \u001b[0mX\u001b[0m\u001b[0;34m,\u001b[0m \u001b[0my\u001b[0m\u001b[0;34m\u001b[0m\u001b[0;34m\u001b[0m\u001b[0m\n\u001b[1;32m    434\u001b[0m \u001b[0;34m\u001b[0m\u001b[0m\n",
      "\u001b[0;32m~/anaconda3/envs/aiffel/lib/python3.7/site-packages/sklearn/utils/validation.py\u001b[0m in \u001b[0;36minner_f\u001b[0;34m(*args, **kwargs)\u001b[0m\n\u001b[1;32m     71\u001b[0m                           FutureWarning)\n\u001b[1;32m     72\u001b[0m         \u001b[0mkwargs\u001b[0m\u001b[0;34m.\u001b[0m\u001b[0mupdate\u001b[0m\u001b[0;34m(\u001b[0m\u001b[0;34m{\u001b[0m\u001b[0mk\u001b[0m\u001b[0;34m:\u001b[0m \u001b[0marg\u001b[0m \u001b[0;32mfor\u001b[0m \u001b[0mk\u001b[0m\u001b[0;34m,\u001b[0m \u001b[0marg\u001b[0m \u001b[0;32min\u001b[0m \u001b[0mzip\u001b[0m\u001b[0;34m(\u001b[0m\u001b[0msig\u001b[0m\u001b[0;34m.\u001b[0m\u001b[0mparameters\u001b[0m\u001b[0;34m,\u001b[0m \u001b[0margs\u001b[0m\u001b[0;34m)\u001b[0m\u001b[0;34m}\u001b[0m\u001b[0;34m)\u001b[0m\u001b[0;34m\u001b[0m\u001b[0;34m\u001b[0m\u001b[0m\n\u001b[0;32m---> 73\u001b[0;31m         \u001b[0;32mreturn\u001b[0m \u001b[0mf\u001b[0m\u001b[0;34m(\u001b[0m\u001b[0;34m**\u001b[0m\u001b[0mkwargs\u001b[0m\u001b[0;34m)\u001b[0m\u001b[0;34m\u001b[0m\u001b[0;34m\u001b[0m\u001b[0m\n\u001b[0m\u001b[1;32m     74\u001b[0m     \u001b[0;32mreturn\u001b[0m \u001b[0minner_f\u001b[0m\u001b[0;34m\u001b[0m\u001b[0;34m\u001b[0m\u001b[0m\n\u001b[1;32m     75\u001b[0m \u001b[0;34m\u001b[0m\u001b[0m\n",
      "\u001b[0;32m~/anaconda3/envs/aiffel/lib/python3.7/site-packages/sklearn/utils/validation.py\u001b[0m in \u001b[0;36mcheck_X_y\u001b[0;34m(X, y, accept_sparse, accept_large_sparse, dtype, order, copy, force_all_finite, ensure_2d, allow_nd, multi_output, ensure_min_samples, ensure_min_features, y_numeric, estimator)\u001b[0m\n\u001b[1;32m    801\u001b[0m                     \u001b[0mensure_min_samples\u001b[0m\u001b[0;34m=\u001b[0m\u001b[0mensure_min_samples\u001b[0m\u001b[0;34m,\u001b[0m\u001b[0;34m\u001b[0m\u001b[0;34m\u001b[0m\u001b[0m\n\u001b[1;32m    802\u001b[0m                     \u001b[0mensure_min_features\u001b[0m\u001b[0;34m=\u001b[0m\u001b[0mensure_min_features\u001b[0m\u001b[0;34m,\u001b[0m\u001b[0;34m\u001b[0m\u001b[0;34m\u001b[0m\u001b[0m\n\u001b[0;32m--> 803\u001b[0;31m                     estimator=estimator)\n\u001b[0m\u001b[1;32m    804\u001b[0m     \u001b[0;32mif\u001b[0m \u001b[0mmulti_output\u001b[0m\u001b[0;34m:\u001b[0m\u001b[0;34m\u001b[0m\u001b[0;34m\u001b[0m\u001b[0m\n\u001b[1;32m    805\u001b[0m         y = check_array(y, accept_sparse='csr', force_all_finite=True,\n",
      "\u001b[0;32m~/anaconda3/envs/aiffel/lib/python3.7/site-packages/sklearn/utils/validation.py\u001b[0m in \u001b[0;36minner_f\u001b[0;34m(*args, **kwargs)\u001b[0m\n\u001b[1;32m     71\u001b[0m                           FutureWarning)\n\u001b[1;32m     72\u001b[0m         \u001b[0mkwargs\u001b[0m\u001b[0;34m.\u001b[0m\u001b[0mupdate\u001b[0m\u001b[0;34m(\u001b[0m\u001b[0;34m{\u001b[0m\u001b[0mk\u001b[0m\u001b[0;34m:\u001b[0m \u001b[0marg\u001b[0m \u001b[0;32mfor\u001b[0m \u001b[0mk\u001b[0m\u001b[0;34m,\u001b[0m \u001b[0marg\u001b[0m \u001b[0;32min\u001b[0m \u001b[0mzip\u001b[0m\u001b[0;34m(\u001b[0m\u001b[0msig\u001b[0m\u001b[0;34m.\u001b[0m\u001b[0mparameters\u001b[0m\u001b[0;34m,\u001b[0m \u001b[0margs\u001b[0m\u001b[0;34m)\u001b[0m\u001b[0;34m}\u001b[0m\u001b[0;34m)\u001b[0m\u001b[0;34m\u001b[0m\u001b[0;34m\u001b[0m\u001b[0m\n\u001b[0;32m---> 73\u001b[0;31m         \u001b[0;32mreturn\u001b[0m \u001b[0mf\u001b[0m\u001b[0;34m(\u001b[0m\u001b[0;34m**\u001b[0m\u001b[0mkwargs\u001b[0m\u001b[0;34m)\u001b[0m\u001b[0;34m\u001b[0m\u001b[0;34m\u001b[0m\u001b[0m\n\u001b[0m\u001b[1;32m     74\u001b[0m     \u001b[0;32mreturn\u001b[0m \u001b[0minner_f\u001b[0m\u001b[0;34m\u001b[0m\u001b[0;34m\u001b[0m\u001b[0m\n\u001b[1;32m     75\u001b[0m \u001b[0;34m\u001b[0m\u001b[0m\n",
      "\u001b[0;32m~/anaconda3/envs/aiffel/lib/python3.7/site-packages/sklearn/utils/validation.py\u001b[0m in \u001b[0;36mcheck_array\u001b[0;34m(array, accept_sparse, accept_large_sparse, dtype, order, copy, force_all_finite, ensure_2d, allow_nd, ensure_min_samples, ensure_min_features, estimator)\u001b[0m\n\u001b[1;32m    597\u001b[0m                     \u001b[0marray\u001b[0m \u001b[0;34m=\u001b[0m \u001b[0marray\u001b[0m\u001b[0;34m.\u001b[0m\u001b[0mastype\u001b[0m\u001b[0;34m(\u001b[0m\u001b[0mdtype\u001b[0m\u001b[0;34m,\u001b[0m \u001b[0mcasting\u001b[0m\u001b[0;34m=\u001b[0m\u001b[0;34m\"unsafe\"\u001b[0m\u001b[0;34m,\u001b[0m \u001b[0mcopy\u001b[0m\u001b[0;34m=\u001b[0m\u001b[0;32mFalse\u001b[0m\u001b[0;34m)\u001b[0m\u001b[0;34m\u001b[0m\u001b[0;34m\u001b[0m\u001b[0m\n\u001b[1;32m    598\u001b[0m                 \u001b[0;32melse\u001b[0m\u001b[0;34m:\u001b[0m\u001b[0;34m\u001b[0m\u001b[0;34m\u001b[0m\u001b[0m\n\u001b[0;32m--> 599\u001b[0;31m                     \u001b[0marray\u001b[0m \u001b[0;34m=\u001b[0m \u001b[0mnp\u001b[0m\u001b[0;34m.\u001b[0m\u001b[0masarray\u001b[0m\u001b[0;34m(\u001b[0m\u001b[0marray\u001b[0m\u001b[0;34m,\u001b[0m \u001b[0morder\u001b[0m\u001b[0;34m=\u001b[0m\u001b[0morder\u001b[0m\u001b[0;34m,\u001b[0m \u001b[0mdtype\u001b[0m\u001b[0;34m=\u001b[0m\u001b[0mdtype\u001b[0m\u001b[0;34m)\u001b[0m\u001b[0;34m\u001b[0m\u001b[0;34m\u001b[0m\u001b[0m\n\u001b[0m\u001b[1;32m    600\u001b[0m             \u001b[0;32mexcept\u001b[0m \u001b[0mComplexWarning\u001b[0m\u001b[0;34m:\u001b[0m\u001b[0;34m\u001b[0m\u001b[0;34m\u001b[0m\u001b[0m\n\u001b[1;32m    601\u001b[0m                 raise ValueError(\"Complex data not supported\\n\"\n",
      "\u001b[0;32m~/anaconda3/envs/aiffel/lib/python3.7/site-packages/numpy/core/_asarray.py\u001b[0m in \u001b[0;36masarray\u001b[0;34m(a, dtype, order)\u001b[0m\n\u001b[1;32m     83\u001b[0m \u001b[0;34m\u001b[0m\u001b[0m\n\u001b[1;32m     84\u001b[0m     \"\"\"\n\u001b[0;32m---> 85\u001b[0;31m     \u001b[0;32mreturn\u001b[0m \u001b[0marray\u001b[0m\u001b[0;34m(\u001b[0m\u001b[0ma\u001b[0m\u001b[0;34m,\u001b[0m \u001b[0mdtype\u001b[0m\u001b[0;34m,\u001b[0m \u001b[0mcopy\u001b[0m\u001b[0;34m=\u001b[0m\u001b[0;32mFalse\u001b[0m\u001b[0;34m,\u001b[0m \u001b[0morder\u001b[0m\u001b[0;34m=\u001b[0m\u001b[0morder\u001b[0m\u001b[0;34m)\u001b[0m\u001b[0;34m\u001b[0m\u001b[0;34m\u001b[0m\u001b[0m\n\u001b[0m\u001b[1;32m     86\u001b[0m \u001b[0;34m\u001b[0m\u001b[0m\n\u001b[1;32m     87\u001b[0m \u001b[0;34m\u001b[0m\u001b[0m\n",
      "\u001b[0;32m~/anaconda3/envs/aiffel/lib/python3.7/site-packages/pandas/core/generic.py\u001b[0m in \u001b[0;36m__array__\u001b[0;34m(self, dtype)\u001b[0m\n\u001b[1;32m   1779\u001b[0m \u001b[0;34m\u001b[0m\u001b[0m\n\u001b[1;32m   1780\u001b[0m     \u001b[0;32mdef\u001b[0m \u001b[0m__array__\u001b[0m\u001b[0;34m(\u001b[0m\u001b[0mself\u001b[0m\u001b[0;34m,\u001b[0m \u001b[0mdtype\u001b[0m\u001b[0;34m=\u001b[0m\u001b[0;32mNone\u001b[0m\u001b[0;34m)\u001b[0m \u001b[0;34m->\u001b[0m \u001b[0mnp\u001b[0m\u001b[0;34m.\u001b[0m\u001b[0mndarray\u001b[0m\u001b[0;34m:\u001b[0m\u001b[0;34m\u001b[0m\u001b[0;34m\u001b[0m\u001b[0m\n\u001b[0;32m-> 1781\u001b[0;31m         \u001b[0;32mreturn\u001b[0m \u001b[0mnp\u001b[0m\u001b[0;34m.\u001b[0m\u001b[0masarray\u001b[0m\u001b[0;34m(\u001b[0m\u001b[0mself\u001b[0m\u001b[0;34m.\u001b[0m\u001b[0m_values\u001b[0m\u001b[0;34m,\u001b[0m \u001b[0mdtype\u001b[0m\u001b[0;34m=\u001b[0m\u001b[0mdtype\u001b[0m\u001b[0;34m)\u001b[0m\u001b[0;34m\u001b[0m\u001b[0;34m\u001b[0m\u001b[0m\n\u001b[0m\u001b[1;32m   1782\u001b[0m \u001b[0;34m\u001b[0m\u001b[0m\n\u001b[1;32m   1783\u001b[0m     \u001b[0;32mdef\u001b[0m \u001b[0m__array_wrap__\u001b[0m\u001b[0;34m(\u001b[0m\u001b[0mself\u001b[0m\u001b[0;34m,\u001b[0m \u001b[0mresult\u001b[0m\u001b[0;34m,\u001b[0m \u001b[0mcontext\u001b[0m\u001b[0;34m=\u001b[0m\u001b[0;32mNone\u001b[0m\u001b[0;34m)\u001b[0m\u001b[0;34m:\u001b[0m\u001b[0;34m\u001b[0m\u001b[0;34m\u001b[0m\u001b[0m\n",
      "\u001b[0;32m~/anaconda3/envs/aiffel/lib/python3.7/site-packages/numpy/core/_asarray.py\u001b[0m in \u001b[0;36masarray\u001b[0;34m(a, dtype, order)\u001b[0m\n\u001b[1;32m     83\u001b[0m \u001b[0;34m\u001b[0m\u001b[0m\n\u001b[1;32m     84\u001b[0m     \"\"\"\n\u001b[0;32m---> 85\u001b[0;31m     \u001b[0;32mreturn\u001b[0m \u001b[0marray\u001b[0m\u001b[0;34m(\u001b[0m\u001b[0ma\u001b[0m\u001b[0;34m,\u001b[0m \u001b[0mdtype\u001b[0m\u001b[0;34m,\u001b[0m \u001b[0mcopy\u001b[0m\u001b[0;34m=\u001b[0m\u001b[0;32mFalse\u001b[0m\u001b[0;34m,\u001b[0m \u001b[0morder\u001b[0m\u001b[0;34m=\u001b[0m\u001b[0morder\u001b[0m\u001b[0;34m)\u001b[0m\u001b[0;34m\u001b[0m\u001b[0;34m\u001b[0m\u001b[0m\n\u001b[0m\u001b[1;32m     86\u001b[0m \u001b[0;34m\u001b[0m\u001b[0m\n\u001b[1;32m     87\u001b[0m \u001b[0;34m\u001b[0m\u001b[0m\n",
      "\u001b[0;31mValueError\u001b[0m: could not convert string to float: '18.08.2013'"
     ]
    }
   ],
   "source": [
    "df = {}\n",
    "\n",
    "for model in models:\n",
    "    # 모델 이름 획득\n",
    "    model_name = model.__class__.__name__\n",
    "\n",
    "    # train, test 데이터셋 분리 - 여기에도 random_state를 고정합니다. \n",
    "    X_train, X_test, y_train, y_test = train_test_split(train, y, random_state=random_state, test_size=0.2)\n",
    "\n",
    "    # 모델 학습\n",
    "    model.fit(X_train, y_train)\n",
    "    \n",
    "    # 예측\n",
    "    y_pred = model.predict(X_test)\n",
    "\n",
    "    # 예측 결과의 rmse값 저장\n",
    "    df[model_name] = rmse(y_test, y_pred)\n",
    "    \n",
    "    # data frame에 저장\n",
    "    score_df = pd.DataFrame(df, index=['RMSE']).T.sort_values('RMSE', ascending=False)\n",
    "    \n",
    "df"
   ]
  },
  {
   "cell_type": "code",
   "execution_count": null,
   "id": "annual-forwarding",
   "metadata": {},
   "outputs": [],
   "source": []
  },
  {
   "cell_type": "code",
   "execution_count": null,
   "id": "mechanical-houston",
   "metadata": {},
   "outputs": [],
   "source": []
  },
  {
   "cell_type": "code",
   "execution_count": 216,
   "id": "geological-medicare",
   "metadata": {},
   "outputs": [],
   "source": [
    "# E9-10참조  \n",
    "# RMSE 계산\n",
    "y = data['item_cnt_day']\n",
    "\n",
    "from sklearn.model_selection import train_test_split\n",
    "from sklearn.metrics import mean_squared_error"
   ]
  },
  {
   "cell_type": "code",
   "execution_count": null,
   "id": "driving-washer",
   "metadata": {},
   "outputs": [],
   "source": [
    "def rmse(y_test, y_pred):\n",
    "    return np.sqrt(mean_squared_error(np.expm1(y_test), np.expm1(y_pred)))\n",
    "\n",
    "print('얍💢')"
   ]
  },
  {
   "cell_type": "code",
   "execution_count": null,
   "id": "curious-kruger",
   "metadata": {},
   "outputs": [],
   "source": [
    "from xgboost import XGBRegressor\n",
    "from lightgbm import LGBMRegressor\n",
    "from sklearn.ensemble import GradientBoostingRegressor, RandomForestRegressor\n",
    "\n",
    "print('얍💢')"
   ]
  },
  {
   "cell_type": "code",
   "execution_count": null,
   "id": "enclosed-specialist",
   "metadata": {},
   "outputs": [],
   "source": [
    "# random_state는 모델초기화나 데이터셋 구성에 사용되는 랜덤 시드값입니다. \n",
    "#random_state=None    # 이게 초기값입니다. 아무것도 지정하지 않고 None을 넘겨주면 모델 내부에서 임의로 선택합니다.  \n",
    "random_state=2020        # 하지만 우리는 이렇게 고정값을 세팅해 두겠습니다. \n",
    "\n",
    "gboost = GradientBoostingRegressor(random_state=random_state)\n",
    "xgboost = XGBRegressor(random_state=random_state)\n",
    "lightgbm = LGBMRegressor(random_state=random_state)\n",
    "rdforest = RandomForestRegressor(random_state=random_state)\n",
    "\n",
    "models = [gboost, xgboost, lightgbm, rdforest]\n",
    "\n",
    "print('얍💢')"
   ]
  },
  {
   "cell_type": "code",
   "execution_count": null,
   "id": "sublime-temperature",
   "metadata": {},
   "outputs": [],
   "source": [
    "gboost.__class__.__name__"
   ]
  },
  {
   "cell_type": "code",
   "execution_count": null,
   "id": "optimum-communication",
   "metadata": {},
   "outputs": [],
   "source": [
    "df = {}\n",
    "\n",
    "for model in models:\n",
    "    # 모델 이름 획득\n",
    "    model_name = model.__class__.__name__\n",
    "\n",
    "    # train, test 데이터셋 분리 - 여기에도 random_state를 고정합니다. \n",
    "    X_train, X_test, y_train, y_test = train_test_split(train, y, random_state=random_state, test_size=0.2)\n",
    "\n",
    "    # 모델 학습\n",
    "    model.fit(X_train, y_train)\n",
    "    \n",
    "    # 예측\n",
    "    y_pred = model.predict(X_test)\n",
    "\n",
    "    # 예측 결과의 rmse값 저장\n",
    "    df[model_name] = rmse(y_test, y_pred)\n",
    "    \n",
    "    # data frame에 저장\n",
    "    score_df = pd.DataFrame(df, index=['RMSE']).T.sort_values('RMSE', ascending=False)\n",
    "    \n",
    "df"
   ]
  },
  {
   "cell_type": "code",
   "execution_count": null,
   "id": "activated-assets",
   "metadata": {},
   "outputs": [],
   "source": [
    "df ={}\n",
    "\n",
    "def get_scores(models, train, y):\n",
    "    for model in models:\n",
    "        model_name = model.__class__.__name__\n",
    "        \n",
    "        X_train, X_test, y_train, y_test = train_test_split(train, y, random_state=random_state, test_size=0.2)\n",
    "        \n",
    "        model.fit(X_train, y_train)\n",
    "        \n",
    "        y_pred = model.predict(X_test)\n",
    "        \n",
    "        df[model_name] = rmse(y_test, y_pred)\n",
    "        \n",
    "        score_df = pd.DataFrame(df, index=['RMSE']).T.sort_values('RMSE', ascending=False)\n",
    "        \n",
    "    return score_df \n",
    "\n",
    "get_scores(models, train, y)"
   ]
  },
  {
   "cell_type": "code",
   "execution_count": null,
   "id": "floppy-imaging",
   "metadata": {},
   "outputs": [],
   "source": []
  },
  {
   "cell_type": "code",
   "execution_count": null,
   "id": "oriental-combine",
   "metadata": {},
   "outputs": [],
   "source": []
  },
  {
   "cell_type": "code",
   "execution_count": 112,
   "id": "lightweight-locator",
   "metadata": {},
   "outputs": [
    {
     "data": {
      "text/html": [
       "<div>\n",
       "<style scoped>\n",
       "    .dataframe tbody tr th:only-of-type {\n",
       "        vertical-align: middle;\n",
       "    }\n",
       "\n",
       "    .dataframe tbody tr th {\n",
       "        vertical-align: top;\n",
       "    }\n",
       "\n",
       "    .dataframe thead th {\n",
       "        text-align: right;\n",
       "    }\n",
       "</style>\n",
       "<table border=\"1\" class=\"dataframe\">\n",
       "  <thead>\n",
       "    <tr style=\"text-align: right;\">\n",
       "      <th></th>\n",
       "      <th>date_block_num</th>\n",
       "      <th>item_id</th>\n",
       "      <th>item_cnt_day</th>\n",
       "    </tr>\n",
       "  </thead>\n",
       "  <tbody>\n",
       "    <tr>\n",
       "      <th>0</th>\n",
       "      <td>0</td>\n",
       "      <td>22154</td>\n",
       "      <td>1.0</td>\n",
       "    </tr>\n",
       "    <tr>\n",
       "      <th>1</th>\n",
       "      <td>0</td>\n",
       "      <td>2552</td>\n",
       "      <td>1.0</td>\n",
       "    </tr>\n",
       "    <tr>\n",
       "      <th>2</th>\n",
       "      <td>0</td>\n",
       "      <td>2552</td>\n",
       "      <td>-1.0</td>\n",
       "    </tr>\n",
       "    <tr>\n",
       "      <th>3</th>\n",
       "      <td>0</td>\n",
       "      <td>2554</td>\n",
       "      <td>1.0</td>\n",
       "    </tr>\n",
       "    <tr>\n",
       "      <th>4</th>\n",
       "      <td>0</td>\n",
       "      <td>2555</td>\n",
       "      <td>1.0</td>\n",
       "    </tr>\n",
       "    <tr>\n",
       "      <th>...</th>\n",
       "      <td>...</td>\n",
       "      <td>...</td>\n",
       "      <td>...</td>\n",
       "    </tr>\n",
       "    <tr>\n",
       "      <th>115685</th>\n",
       "      <td>0</td>\n",
       "      <td>32</td>\n",
       "      <td>1.0</td>\n",
       "    </tr>\n",
       "    <tr>\n",
       "      <th>115686</th>\n",
       "      <td>0</td>\n",
       "      <td>32</td>\n",
       "      <td>1.0</td>\n",
       "    </tr>\n",
       "    <tr>\n",
       "      <th>115687</th>\n",
       "      <td>0</td>\n",
       "      <td>35</td>\n",
       "      <td>2.0</td>\n",
       "    </tr>\n",
       "    <tr>\n",
       "      <th>115688</th>\n",
       "      <td>0</td>\n",
       "      <td>621</td>\n",
       "      <td>1.0</td>\n",
       "    </tr>\n",
       "    <tr>\n",
       "      <th>115689</th>\n",
       "      <td>0</td>\n",
       "      <td>32</td>\n",
       "      <td>1.0</td>\n",
       "    </tr>\n",
       "  </tbody>\n",
       "</table>\n",
       "<p>115690 rows × 3 columns</p>\n",
       "</div>"
      ],
      "text/plain": [
       "        date_block_num  item_id  item_cnt_day\n",
       "0                    0    22154           1.0\n",
       "1                    0     2552           1.0\n",
       "2                    0     2552          -1.0\n",
       "3                    0     2554           1.0\n",
       "4                    0     2555           1.0\n",
       "...                ...      ...           ...\n",
       "115685               0       32           1.0\n",
       "115686               0       32           1.0\n",
       "115687               0       35           2.0\n",
       "115688               0      621           1.0\n",
       "115689               0       32           1.0\n",
       "\n",
       "[115690 rows x 3 columns]"
      ]
     },
     "execution_count": 112,
     "metadata": {},
     "output_type": "execute_result"
    }
   ],
   "source": [
    "# 13_jan\n",
    "tt_cnt_jan = num_item_cnt[num_item_cnt['date_block_num'].isin([0])]\n",
    "tt_cnt_jan"
   ]
  },
  {
   "cell_type": "code",
   "execution_count": 113,
   "id": "light-macedonia",
   "metadata": {},
   "outputs": [
    {
     "data": {
      "text/plain": [
       "array([[ 0.0000e+00,  2.2154e+04,  1.0000e+00],\n",
       "       [ 0.0000e+00,  2.5520e+03,  1.0000e+00],\n",
       "       [ 0.0000e+00,  2.5520e+03, -1.0000e+00],\n",
       "       ...,\n",
       "       [ 0.0000e+00,  3.5000e+01,  2.0000e+00],\n",
       "       [ 0.0000e+00,  6.2100e+02,  1.0000e+00],\n",
       "       [ 0.0000e+00,  3.2000e+01,  1.0000e+00]])"
      ]
     },
     "execution_count": 113,
     "metadata": {},
     "output_type": "execute_result"
    }
   ],
   "source": [
    "tt_cnt_jan = tt_cnt_jan.values\n",
    "tt_cnt_jan"
   ]
  },
  {
   "cell_type": "code",
   "execution_count": 114,
   "id": "cellular-basic",
   "metadata": {},
   "outputs": [
    {
     "data": {
      "text/plain": [
       "array([ 1.,  1., -1., ...,  2.,  1.,  1.])"
      ]
     },
     "execution_count": 114,
     "metadata": {},
     "output_type": "execute_result"
    }
   ],
   "source": [
    "tt_cnt_jan = tt_cnt_jan[:, 2]\n",
    "tt_cnt_jan"
   ]
  },
  {
   "cell_type": "code",
   "execution_count": 116,
   "id": "decimal-motor",
   "metadata": {},
   "outputs": [
    {
     "data": {
      "text/plain": [
       "131479.0"
      ]
     },
     "execution_count": 116,
     "metadata": {},
     "output_type": "execute_result"
    }
   ],
   "source": [
    "tt_cnt_jan = list(tt_cnt_jan)\n",
    "sum(tt_cnt_jan)"
   ]
  },
  {
   "cell_type": "code",
   "execution_count": 117,
   "id": "dense-journal",
   "metadata": {},
   "outputs": [
    {
     "data": {
      "text/plain": [
       "128090.0"
      ]
     },
     "execution_count": 117,
     "metadata": {},
     "output_type": "execute_result"
    }
   ],
   "source": [
    "# 13_feb\n",
    "tt_cnt_feb = num_item_cnt[num_item_cnt['date_block_num'].isin([1])]\n",
    "\n",
    "tt_cnt_feb = tt_cnt_feb.values\n",
    "\n",
    "tt_cnt_feb = tt_cnt_feb[:, 2] \n",
    "\n",
    "sum(tt_cnt_feb)"
   ]
  },
  {
   "cell_type": "code",
   "execution_count": 118,
   "id": "favorite-shakespeare",
   "metadata": {},
   "outputs": [
    {
     "data": {
      "text/plain": [
       "147142.0"
      ]
     },
     "execution_count": 118,
     "metadata": {},
     "output_type": "execute_result"
    }
   ],
   "source": [
    "# 13_mar\n",
    "tt_cnt_mar = num_item_cnt[num_item_cnt['date_block_num'].isin([2])]\n",
    "\n",
    "tt_cnt_mar = tt_cnt_mar.values\n",
    "\n",
    "tt_cnt_mar = tt_cnt_mar[:, 2] \n",
    "\n",
    "sum(tt_cnt_mar)"
   ]
  },
  {
   "cell_type": "code",
   "execution_count": null,
   "id": "veterinary-former",
   "metadata": {},
   "outputs": [],
   "source": []
  },
  {
   "cell_type": "code",
   "execution_count": null,
   "id": "immune-ethiopia",
   "metadata": {},
   "outputs": [],
   "source": []
  },
  {
   "cell_type": "code",
   "execution_count": null,
   "id": "covered-difficulty",
   "metadata": {},
   "outputs": [],
   "source": []
  },
  {
   "cell_type": "code",
   "execution_count": null,
   "id": "healthy-standard",
   "metadata": {},
   "outputs": [],
   "source": []
  },
  {
   "cell_type": "code",
   "execution_count": null,
   "id": "southeast-cooler",
   "metadata": {},
   "outputs": [],
   "source": []
  },
  {
   "cell_type": "code",
   "execution_count": null,
   "id": "planned-croatia",
   "metadata": {},
   "outputs": [],
   "source": []
  },
  {
   "cell_type": "code",
   "execution_count": null,
   "id": "considered-reception",
   "metadata": {},
   "outputs": [],
   "source": []
  },
  {
   "cell_type": "code",
   "execution_count": null,
   "id": "amazing-array",
   "metadata": {},
   "outputs": [],
   "source": []
  },
  {
   "cell_type": "code",
   "execution_count": 104,
   "id": "brilliant-marble",
   "metadata": {},
   "outputs": [
    {
     "data": {
      "text/html": [
       "<div>\n",
       "<style scoped>\n",
       "    .dataframe tbody tr th:only-of-type {\n",
       "        vertical-align: middle;\n",
       "    }\n",
       "\n",
       "    .dataframe tbody tr th {\n",
       "        vertical-align: top;\n",
       "    }\n",
       "\n",
       "    .dataframe thead th {\n",
       "        text-align: right;\n",
       "    }\n",
       "</style>\n",
       "<table border=\"1\" class=\"dataframe\">\n",
       "  <thead>\n",
       "    <tr style=\"text-align: right;\">\n",
       "      <th></th>\n",
       "      <th>date</th>\n",
       "      <th>date_block_num</th>\n",
       "      <th>item_id</th>\n",
       "      <th>item_cnt_day</th>\n",
       "    </tr>\n",
       "  </thead>\n",
       "  <tbody>\n",
       "    <tr>\n",
       "      <th>0</th>\n",
       "      <td>02.01.2013</td>\n",
       "      <td>0</td>\n",
       "      <td>22154</td>\n",
       "      <td>1.0</td>\n",
       "    </tr>\n",
       "    <tr>\n",
       "      <th>1</th>\n",
       "      <td>03.01.2013</td>\n",
       "      <td>0</td>\n",
       "      <td>2552</td>\n",
       "      <td>1.0</td>\n",
       "    </tr>\n",
       "    <tr>\n",
       "      <th>2</th>\n",
       "      <td>05.01.2013</td>\n",
       "      <td>0</td>\n",
       "      <td>2552</td>\n",
       "      <td>-1.0</td>\n",
       "    </tr>\n",
       "    <tr>\n",
       "      <th>3</th>\n",
       "      <td>06.01.2013</td>\n",
       "      <td>0</td>\n",
       "      <td>2554</td>\n",
       "      <td>1.0</td>\n",
       "    </tr>\n",
       "    <tr>\n",
       "      <th>4</th>\n",
       "      <td>15.01.2013</td>\n",
       "      <td>0</td>\n",
       "      <td>2555</td>\n",
       "      <td>1.0</td>\n",
       "    </tr>\n",
       "    <tr>\n",
       "      <th>...</th>\n",
       "      <td>...</td>\n",
       "      <td>...</td>\n",
       "      <td>...</td>\n",
       "      <td>...</td>\n",
       "    </tr>\n",
       "    <tr>\n",
       "      <th>1267557</th>\n",
       "      <td>06.12.2013</td>\n",
       "      <td>11</td>\n",
       "      <td>5671</td>\n",
       "      <td>1.0</td>\n",
       "    </tr>\n",
       "    <tr>\n",
       "      <th>1267558</th>\n",
       "      <td>01.12.2013</td>\n",
       "      <td>11</td>\n",
       "      <td>5671</td>\n",
       "      <td>3.0</td>\n",
       "    </tr>\n",
       "    <tr>\n",
       "      <th>1267559</th>\n",
       "      <td>26.12.2013</td>\n",
       "      <td>11</td>\n",
       "      <td>5669</td>\n",
       "      <td>2.0</td>\n",
       "    </tr>\n",
       "    <tr>\n",
       "      <th>1267560</th>\n",
       "      <td>25.12.2013</td>\n",
       "      <td>11</td>\n",
       "      <td>5669</td>\n",
       "      <td>1.0</td>\n",
       "    </tr>\n",
       "    <tr>\n",
       "      <th>1267561</th>\n",
       "      <td>19.12.2013</td>\n",
       "      <td>11</td>\n",
       "      <td>5671</td>\n",
       "      <td>1.0</td>\n",
       "    </tr>\n",
       "  </tbody>\n",
       "</table>\n",
       "<p>1267562 rows × 4 columns</p>\n",
       "</div>"
      ],
      "text/plain": [
       "               date  date_block_num  item_id  item_cnt_day\n",
       "0        02.01.2013               0    22154           1.0\n",
       "1        03.01.2013               0     2552           1.0\n",
       "2        05.01.2013               0     2552          -1.0\n",
       "3        06.01.2013               0     2554           1.0\n",
       "4        15.01.2013               0     2555           1.0\n",
       "...             ...             ...      ...           ...\n",
       "1267557  06.12.2013              11     5671           1.0\n",
       "1267558  01.12.2013              11     5671           3.0\n",
       "1267559  26.12.2013              11     5669           2.0\n",
       "1267560  25.12.2013              11     5669           1.0\n",
       "1267561  19.12.2013              11     5671           1.0\n",
       "\n",
       "[1267562 rows x 4 columns]"
      ]
     },
     "execution_count": 104,
     "metadata": {},
     "output_type": "execute_result"
    }
   ],
   "source": [
    "# 13년도 판매\n",
    "tt_cnt = num_item_cnt[num_item_cnt['date_block_num'].isin([0,1,2,3,4,5,6,7,8,9,10,11])]\n",
    "tt_cnt"
   ]
  },
  {
   "cell_type": "code",
   "execution_count": 102,
   "id": "democratic-reserve",
   "metadata": {},
   "outputs": [
    {
     "data": {
      "text/html": [
       "<div>\n",
       "<style scoped>\n",
       "    .dataframe tbody tr th:only-of-type {\n",
       "        vertical-align: middle;\n",
       "    }\n",
       "\n",
       "    .dataframe tbody tr th {\n",
       "        vertical-align: top;\n",
       "    }\n",
       "\n",
       "    .dataframe thead th {\n",
       "        text-align: right;\n",
       "    }\n",
       "</style>\n",
       "<table border=\"1\" class=\"dataframe\">\n",
       "  <thead>\n",
       "    <tr style=\"text-align: right;\">\n",
       "      <th></th>\n",
       "      <th>date</th>\n",
       "      <th>date_block_num</th>\n",
       "      <th>item_id</th>\n",
       "      <th>item_cnt_day</th>\n",
       "    </tr>\n",
       "  </thead>\n",
       "  <tbody>\n",
       "    <tr>\n",
       "      <th>0</th>\n",
       "      <td>2013-02-01</td>\n",
       "      <td>0</td>\n",
       "      <td>22154</td>\n",
       "      <td>1.0</td>\n",
       "    </tr>\n",
       "    <tr>\n",
       "      <th>1</th>\n",
       "      <td>2013-03-01</td>\n",
       "      <td>0</td>\n",
       "      <td>2552</td>\n",
       "      <td>1.0</td>\n",
       "    </tr>\n",
       "    <tr>\n",
       "      <th>2</th>\n",
       "      <td>2013-05-01</td>\n",
       "      <td>0</td>\n",
       "      <td>2552</td>\n",
       "      <td>-1.0</td>\n",
       "    </tr>\n",
       "    <tr>\n",
       "      <th>3</th>\n",
       "      <td>2013-06-01</td>\n",
       "      <td>0</td>\n",
       "      <td>2554</td>\n",
       "      <td>1.0</td>\n",
       "    </tr>\n",
       "    <tr>\n",
       "      <th>4</th>\n",
       "      <td>2013-01-15</td>\n",
       "      <td>0</td>\n",
       "      <td>2555</td>\n",
       "      <td>1.0</td>\n",
       "    </tr>\n",
       "    <tr>\n",
       "      <th>...</th>\n",
       "      <td>...</td>\n",
       "      <td>...</td>\n",
       "      <td>...</td>\n",
       "      <td>...</td>\n",
       "    </tr>\n",
       "    <tr>\n",
       "      <th>1267557</th>\n",
       "      <td>2013-06-12</td>\n",
       "      <td>11</td>\n",
       "      <td>5671</td>\n",
       "      <td>1.0</td>\n",
       "    </tr>\n",
       "    <tr>\n",
       "      <th>1267558</th>\n",
       "      <td>2013-01-12</td>\n",
       "      <td>11</td>\n",
       "      <td>5671</td>\n",
       "      <td>3.0</td>\n",
       "    </tr>\n",
       "    <tr>\n",
       "      <th>1267559</th>\n",
       "      <td>2013-12-26</td>\n",
       "      <td>11</td>\n",
       "      <td>5669</td>\n",
       "      <td>2.0</td>\n",
       "    </tr>\n",
       "    <tr>\n",
       "      <th>1267560</th>\n",
       "      <td>2013-12-25</td>\n",
       "      <td>11</td>\n",
       "      <td>5669</td>\n",
       "      <td>1.0</td>\n",
       "    </tr>\n",
       "    <tr>\n",
       "      <th>1267561</th>\n",
       "      <td>2013-12-19</td>\n",
       "      <td>11</td>\n",
       "      <td>5671</td>\n",
       "      <td>1.0</td>\n",
       "    </tr>\n",
       "  </tbody>\n",
       "</table>\n",
       "<p>1267562 rows × 4 columns</p>\n",
       "</div>"
      ],
      "text/plain": [
       "              date  date_block_num  item_id  item_cnt_day\n",
       "0       2013-02-01               0    22154           1.0\n",
       "1       2013-03-01               0     2552           1.0\n",
       "2       2013-05-01               0     2552          -1.0\n",
       "3       2013-06-01               0     2554           1.0\n",
       "4       2013-01-15               0     2555           1.0\n",
       "...            ...             ...      ...           ...\n",
       "1267557 2013-06-12              11     5671           1.0\n",
       "1267558 2013-01-12              11     5671           3.0\n",
       "1267559 2013-12-26              11     5669           2.0\n",
       "1267560 2013-12-25              11     5669           1.0\n",
       "1267561 2013-12-19              11     5671           1.0\n",
       "\n",
       "[1267562 rows x 4 columns]"
      ]
     },
     "execution_count": 102,
     "metadata": {},
     "output_type": "execute_result"
    }
   ],
   "source": [
    "tt_cnt['date'] = pd.to_datetime(tt_cnt[\"date\"])\n",
    "tt_cnt"
   ]
  },
  {
   "cell_type": "code",
   "execution_count": 103,
   "id": "periodic-theta",
   "metadata": {},
   "outputs": [],
   "source": [
    "# tt_cnt = tt_cnt.sort_values(by = ['date_block_num'])\n",
    "# tt_cnt"
   ]
  },
  {
   "cell_type": "code",
   "execution_count": 105,
   "id": "specific-vitamin",
   "metadata": {},
   "outputs": [
    {
     "data": {
      "text/plain": [
       "item_id\n",
       "20949    63748.0\n",
       "2808     12214.0\n",
       "3732     11981.0\n",
       "3734      7649.0\n",
       "16787     6430.0\n",
       "          ...   \n",
       "4591         0.0\n",
       "11871       -1.0\n",
       "18062       -1.0\n",
       "13474       -1.0\n",
       "1590       -11.0\n",
       "Name: item_cnt_day, Length: 14971, dtype: float64"
      ]
     },
     "execution_count": 105,
     "metadata": {},
     "output_type": "execute_result"
    }
   ],
   "source": [
    "tt_items = tt_cnt.groupby(['item_id'])['item_cnt_day'].sum().sort_values(ascending=False)\n",
    "tt_items"
   ]
  },
  {
   "cell_type": "code",
   "execution_count": 106,
   "id": "respiratory-handbook",
   "metadata": {},
   "outputs": [
    {
     "data": {
      "text/plain": [
       "count    14971.000000\n",
       "mean       104.384009\n",
       "std        607.878383\n",
       "min        -11.000000\n",
       "25%          5.000000\n",
       "50%         24.000000\n",
       "75%         79.000000\n",
       "max      63748.000000\n",
       "Name: item_cnt_day, dtype: float64"
      ]
     },
     "execution_count": 106,
     "metadata": {},
     "output_type": "execute_result"
    }
   ],
   "source": [
    "tt_items.describe()"
   ]
  },
  {
   "cell_type": "code",
   "execution_count": 107,
   "id": "convenient-tucson",
   "metadata": {},
   "outputs": [
    {
     "data": {
      "text/plain": [
       "pandas.core.series.Series"
      ]
     },
     "execution_count": 107,
     "metadata": {},
     "output_type": "execute_result"
    }
   ],
   "source": [
    "type(tt_items)"
   ]
  },
  {
   "cell_type": "code",
   "execution_count": 108,
   "id": "lined-saskatchewan",
   "metadata": {},
   "outputs": [
    {
     "data": {
      "text/html": [
       "<div>\n",
       "<style scoped>\n",
       "    .dataframe tbody tr th:only-of-type {\n",
       "        vertical-align: middle;\n",
       "    }\n",
       "\n",
       "    .dataframe tbody tr th {\n",
       "        vertical-align: top;\n",
       "    }\n",
       "\n",
       "    .dataframe thead th {\n",
       "        text-align: right;\n",
       "    }\n",
       "</style>\n",
       "<table border=\"1\" class=\"dataframe\">\n",
       "  <thead>\n",
       "    <tr style=\"text-align: right;\">\n",
       "      <th></th>\n",
       "      <th>item_cnt_day</th>\n",
       "    </tr>\n",
       "    <tr>\n",
       "      <th>item_id</th>\n",
       "      <th></th>\n",
       "    </tr>\n",
       "  </thead>\n",
       "  <tbody>\n",
       "    <tr>\n",
       "      <th>20949</th>\n",
       "      <td>63748.0</td>\n",
       "    </tr>\n",
       "    <tr>\n",
       "      <th>2808</th>\n",
       "      <td>12214.0</td>\n",
       "    </tr>\n",
       "    <tr>\n",
       "      <th>3732</th>\n",
       "      <td>11981.0</td>\n",
       "    </tr>\n",
       "    <tr>\n",
       "      <th>3734</th>\n",
       "      <td>7649.0</td>\n",
       "    </tr>\n",
       "    <tr>\n",
       "      <th>16787</th>\n",
       "      <td>6430.0</td>\n",
       "    </tr>\n",
       "    <tr>\n",
       "      <th>...</th>\n",
       "      <td>...</td>\n",
       "    </tr>\n",
       "    <tr>\n",
       "      <th>4591</th>\n",
       "      <td>0.0</td>\n",
       "    </tr>\n",
       "    <tr>\n",
       "      <th>11871</th>\n",
       "      <td>-1.0</td>\n",
       "    </tr>\n",
       "    <tr>\n",
       "      <th>18062</th>\n",
       "      <td>-1.0</td>\n",
       "    </tr>\n",
       "    <tr>\n",
       "      <th>13474</th>\n",
       "      <td>-1.0</td>\n",
       "    </tr>\n",
       "    <tr>\n",
       "      <th>1590</th>\n",
       "      <td>-11.0</td>\n",
       "    </tr>\n",
       "  </tbody>\n",
       "</table>\n",
       "<p>14971 rows × 1 columns</p>\n",
       "</div>"
      ],
      "text/plain": [
       "         item_cnt_day\n",
       "item_id              \n",
       "20949         63748.0\n",
       "2808          12214.0\n",
       "3732          11981.0\n",
       "3734           7649.0\n",
       "16787          6430.0\n",
       "...               ...\n",
       "4591              0.0\n",
       "11871            -1.0\n",
       "18062            -1.0\n",
       "13474            -1.0\n",
       "1590            -11.0\n",
       "\n",
       "[14971 rows x 1 columns]"
      ]
     },
     "execution_count": 108,
     "metadata": {},
     "output_type": "execute_result"
    }
   ],
   "source": [
    "# series -> dataframe\n",
    "tt_items = tt_items.to_frame()\n",
    "tt_items"
   ]
  },
  {
   "cell_type": "code",
   "execution_count": 91,
   "id": "orange-phenomenon",
   "metadata": {},
   "outputs": [
    {
     "name": "stdout",
     "output_type": "stream",
     "text": [
      "         item_cnt_day\n",
      "item_id              \n",
      "20949         63748.0\n",
      "2808          12214.0\n",
      "3732          11981.0\n",
      "3734           7649.0\n",
      "16787          6430.0\n",
      "...               ...\n",
      "4591              0.0\n",
      "11871            -1.0\n",
      "18062            -1.0\n",
      "13474            -1.0\n",
      "1590            -11.0\n",
      "\n",
      "[14971 rows x 1 columns]\n"
     ]
    }
   ],
   "source": [
    "print(tt_items[['item_cnt_day']])"
   ]
  },
  {
   "cell_type": "code",
   "execution_count": null,
   "id": "stupid-championship",
   "metadata": {},
   "outputs": [],
   "source": []
  },
  {
   "cell_type": "code",
   "execution_count": null,
   "id": "twenty-measurement",
   "metadata": {},
   "outputs": [],
   "source": []
  },
  {
   "cell_type": "code",
   "execution_count": null,
   "id": "improving-birthday",
   "metadata": {},
   "outputs": [],
   "source": []
  },
  {
   "cell_type": "code",
   "execution_count": null,
   "id": "documented-processing",
   "metadata": {},
   "outputs": [],
   "source": []
  },
  {
   "cell_type": "code",
   "execution_count": null,
   "id": "younger-motorcycle",
   "metadata": {},
   "outputs": [],
   "source": []
  },
  {
   "cell_type": "code",
   "execution_count": null,
   "id": "flying-pilot",
   "metadata": {},
   "outputs": [],
   "source": []
  },
  {
   "cell_type": "code",
   "execution_count": null,
   "id": "prescription-basics",
   "metadata": {},
   "outputs": [],
   "source": []
  },
  {
   "cell_type": "code",
   "execution_count": null,
   "id": "introductory-sweet",
   "metadata": {},
   "outputs": [],
   "source": []
  },
  {
   "cell_type": "code",
   "execution_count": null,
   "id": "numerous-japanese",
   "metadata": {},
   "outputs": [],
   "source": []
  },
  {
   "cell_type": "code",
   "execution_count": null,
   "id": "local-reproduction",
   "metadata": {},
   "outputs": [],
   "source": []
  },
  {
   "cell_type": "code",
   "execution_count": null,
   "id": "terminal-tiger",
   "metadata": {},
   "outputs": [],
   "source": []
  },
  {
   "cell_type": "code",
   "execution_count": null,
   "id": "tracked-monster",
   "metadata": {},
   "outputs": [],
   "source": []
  },
  {
   "cell_type": "code",
   "execution_count": null,
   "id": "bulgarian-onion",
   "metadata": {},
   "outputs": [],
   "source": []
  },
  {
   "cell_type": "code",
   "execution_count": null,
   "id": "sunset-killer",
   "metadata": {},
   "outputs": [],
   "source": []
  },
  {
   "cell_type": "code",
   "execution_count": null,
   "id": "fitted-flexibility",
   "metadata": {},
   "outputs": [],
   "source": []
  },
  {
   "cell_type": "code",
   "execution_count": null,
   "id": "supported-window",
   "metadata": {},
   "outputs": [],
   "source": []
  },
  {
   "cell_type": "code",
   "execution_count": null,
   "id": "sharp-excerpt",
   "metadata": {},
   "outputs": [],
   "source": []
  },
  {
   "cell_type": "code",
   "execution_count": null,
   "id": "facial-collar",
   "metadata": {},
   "outputs": [],
   "source": []
  },
  {
   "cell_type": "code",
   "execution_count": null,
   "id": "soviet-chess",
   "metadata": {},
   "outputs": [],
   "source": []
  },
  {
   "cell_type": "code",
   "execution_count": null,
   "id": "greater-portland",
   "metadata": {},
   "outputs": [],
   "source": []
  },
  {
   "cell_type": "code",
   "execution_count": null,
   "id": "historic-mortality",
   "metadata": {},
   "outputs": [],
   "source": []
  },
  {
   "cell_type": "code",
   "execution_count": null,
   "id": "comfortable-career",
   "metadata": {},
   "outputs": [],
   "source": []
  },
  {
   "cell_type": "code",
   "execution_count": null,
   "id": "exclusive-battle",
   "metadata": {},
   "outputs": [],
   "source": []
  },
  {
   "cell_type": "code",
   "execution_count": null,
   "id": "transparent-lucas",
   "metadata": {},
   "outputs": [],
   "source": []
  },
  {
   "cell_type": "code",
   "execution_count": null,
   "id": "mexican-universal",
   "metadata": {},
   "outputs": [],
   "source": []
  },
  {
   "cell_type": "code",
   "execution_count": null,
   "id": "considerable-abuse",
   "metadata": {},
   "outputs": [],
   "source": []
  },
  {
   "cell_type": "code",
   "execution_count": null,
   "id": "worst-canyon",
   "metadata": {},
   "outputs": [],
   "source": []
  },
  {
   "cell_type": "code",
   "execution_count": null,
   "id": "standing-leeds",
   "metadata": {},
   "outputs": [],
   "source": []
  },
  {
   "cell_type": "code",
   "execution_count": null,
   "id": "hearing-tobago",
   "metadata": {},
   "outputs": [],
   "source": []
  },
  {
   "cell_type": "code",
   "execution_count": null,
   "id": "informative-objective",
   "metadata": {},
   "outputs": [],
   "source": []
  },
  {
   "cell_type": "code",
   "execution_count": null,
   "id": "divided-start",
   "metadata": {},
   "outputs": [],
   "source": []
  },
  {
   "cell_type": "code",
   "execution_count": null,
   "id": "formed-alias",
   "metadata": {},
   "outputs": [],
   "source": []
  },
  {
   "cell_type": "code",
   "execution_count": null,
   "id": "domestic-insulation",
   "metadata": {},
   "outputs": [],
   "source": []
  },
  {
   "cell_type": "code",
   "execution_count": null,
   "id": "supported-strain",
   "metadata": {},
   "outputs": [],
   "source": []
  },
  {
   "cell_type": "code",
   "execution_count": null,
   "id": "super-third",
   "metadata": {},
   "outputs": [],
   "source": []
  },
  {
   "cell_type": "code",
   "execution_count": null,
   "id": "relevant-static",
   "metadata": {},
   "outputs": [],
   "source": []
  },
  {
   "cell_type": "code",
   "execution_count": null,
   "id": "competent-being",
   "metadata": {},
   "outputs": [],
   "source": []
  },
  {
   "cell_type": "code",
   "execution_count": null,
   "id": "social-ultimate",
   "metadata": {},
   "outputs": [],
   "source": []
  },
  {
   "cell_type": "code",
   "execution_count": null,
   "id": "experimental-customs",
   "metadata": {},
   "outputs": [],
   "source": []
  },
  {
   "cell_type": "code",
   "execution_count": null,
   "id": "sapphire-soldier",
   "metadata": {},
   "outputs": [],
   "source": []
  },
  {
   "cell_type": "code",
   "execution_count": null,
   "id": "personal-passport",
   "metadata": {},
   "outputs": [],
   "source": []
  },
  {
   "cell_type": "code",
   "execution_count": null,
   "id": "geographic-brush",
   "metadata": {},
   "outputs": [],
   "source": []
  },
  {
   "cell_type": "code",
   "execution_count": null,
   "id": "herbal-vietnamese",
   "metadata": {},
   "outputs": [],
   "source": []
  },
  {
   "cell_type": "code",
   "execution_count": null,
   "id": "surprising-float",
   "metadata": {},
   "outputs": [],
   "source": []
  }
 ],
 "metadata": {
  "kernelspec": {
   "display_name": "aiffel",
   "language": "python",
   "name": "aiffel"
  },
  "language_info": {
   "codemirror_mode": {
    "name": "ipython",
    "version": 3
   },
   "file_extension": ".py",
   "mimetype": "text/x-python",
   "name": "python",
   "nbconvert_exporter": "python",
   "pygments_lexer": "ipython3",
   "version": "3.7.9"
  },
  "toc": {
   "base_numbering": 1,
   "nav_menu": {},
   "number_sections": true,
   "sideBar": true,
   "skip_h1_title": false,
   "title_cell": "Table of Contents",
   "title_sidebar": "Contents",
   "toc_cell": false,
   "toc_position": {
    "height": "calc(100% - 180px)",
    "left": "10px",
    "top": "150px",
    "width": "326.302px"
   },
   "toc_section_display": true,
   "toc_window_display": true
  },
  "varInspector": {
   "cols": {
    "lenName": 16,
    "lenType": 16,
    "lenVar": 40
   },
   "kernels_config": {
    "python": {
     "delete_cmd_postfix": "",
     "delete_cmd_prefix": "del ",
     "library": "var_list.py",
     "varRefreshCmd": "print(var_dic_list())"
    },
    "r": {
     "delete_cmd_postfix": ") ",
     "delete_cmd_prefix": "rm(",
     "library": "var_list.r",
     "varRefreshCmd": "cat(var_dic_list()) "
    }
   },
   "types_to_exclude": [
    "module",
    "function",
    "builtin_function_or_method",
    "instance",
    "_Feature"
   ],
   "window_display": false
  }
 },
 "nbformat": 4,
 "nbformat_minor": 5
}
