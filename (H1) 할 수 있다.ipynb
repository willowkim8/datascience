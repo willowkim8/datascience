{
 "cells": [
  {
   "cell_type": "code",
   "execution_count": 70,
   "id": "formal-cleaning",
   "metadata": {},
   "outputs": [],
   "source": [
    "import matplotlib.pyplot as plt\n",
    "%matplotlib inline\n",
    "%config InlineBackend.figure_format = 'retina'\n",
    "\n",
    "import warnings\n",
    "warnings.filterwarnings(\"ignore\")\n",
    "\n",
    "import os\n",
    "from os.path import join\n",
    "\n",
    "import pandas as pd\n",
    "import numpy as np\n",
    "\n",
    "import missingno as msno\n",
    "\n",
    "from sklearn.ensemble import GradientBoostingRegressor\n",
    "from sklearn.model_selection import KFold, cross_val_score\n",
    "import xgboost as xgb\n",
    "import lightgbm as lgb\n",
    "\n",
    "import matplotlib.pyplot as plt\n",
    "import seaborn as sns"
   ]
  },
  {
   "cell_type": "code",
   "execution_count": 2,
   "id": "encouraging-subscription",
   "metadata": {},
   "outputs": [],
   "source": [
    "data_dir = os.getenv('HOME')+'/aiffel/Exploration/1st_hackathon' \n",
    "\n",
    "train_data_path = join(data_dir, 'sales_train.csv') \n",
    "# sub_data_path = join(data_dir, 'test.csv')"
   ]
  },
  {
   "cell_type": "markdown",
   "id": "independent-chancellor",
   "metadata": {},
   "source": [
    "# data 읽어보기"
   ]
  },
  {
   "cell_type": "code",
   "execution_count": 3,
   "id": "regulated-spell",
   "metadata": {},
   "outputs": [
    {
     "name": "stdout",
     "output_type": "stream",
     "text": [
      "train data dim : (2935849, 6)\n"
     ]
    }
   ],
   "source": [
    "data = pd.read_csv(train_data_path)\n",
    "print('train data dim : {}'.format(data.shape))"
   ]
  },
  {
   "cell_type": "code",
   "execution_count": 4,
   "id": "beautiful-career",
   "metadata": {},
   "outputs": [
    {
     "name": "stdout",
     "output_type": "stream",
     "text": [
      "Index(['date', 'date_block_num', 'shop_id', 'item_id', 'item_price',\n",
      "       'item_cnt_day'],\n",
      "      dtype='object')\n"
     ]
    }
   ],
   "source": [
    "print(data.columns)"
   ]
  },
  {
   "cell_type": "markdown",
   "id": "optical-devon",
   "metadata": {
    "heading_collapsed": true
   },
   "source": [
    "# item 확인하기"
   ]
  },
  {
   "cell_type": "code",
   "execution_count": 5,
   "id": "geological-proposal",
   "metadata": {
    "hidden": true
   },
   "outputs": [
    {
     "data": {
      "text/html": [
       "<div>\n",
       "<style scoped>\n",
       "    .dataframe tbody tr th:only-of-type {\n",
       "        vertical-align: middle;\n",
       "    }\n",
       "\n",
       "    .dataframe tbody tr th {\n",
       "        vertical-align: top;\n",
       "    }\n",
       "\n",
       "    .dataframe thead th {\n",
       "        text-align: right;\n",
       "    }\n",
       "</style>\n",
       "<table border=\"1\" class=\"dataframe\">\n",
       "  <thead>\n",
       "    <tr style=\"text-align: right;\">\n",
       "      <th></th>\n",
       "      <th>item_name</th>\n",
       "      <th>item_id</th>\n",
       "      <th>item_category_id</th>\n",
       "    </tr>\n",
       "  </thead>\n",
       "  <tbody>\n",
       "    <tr>\n",
       "      <th>0</th>\n",
       "      <td>! ВО ВЛАСТИ НАВАЖДЕНИЯ (ПЛАСТ.)         D</td>\n",
       "      <td>0</td>\n",
       "      <td>40</td>\n",
       "    </tr>\n",
       "    <tr>\n",
       "      <th>1</th>\n",
       "      <td>!ABBYY FineReader 12 Professional Edition Full...</td>\n",
       "      <td>1</td>\n",
       "      <td>76</td>\n",
       "    </tr>\n",
       "    <tr>\n",
       "      <th>2</th>\n",
       "      <td>***В ЛУЧАХ СЛАВЫ   (UNV)                    D</td>\n",
       "      <td>2</td>\n",
       "      <td>40</td>\n",
       "    </tr>\n",
       "    <tr>\n",
       "      <th>3</th>\n",
       "      <td>***ГОЛУБАЯ ВОЛНА  (Univ)                      D</td>\n",
       "      <td>3</td>\n",
       "      <td>40</td>\n",
       "    </tr>\n",
       "    <tr>\n",
       "      <th>4</th>\n",
       "      <td>***КОРОБКА (СТЕКЛО)                       D</td>\n",
       "      <td>4</td>\n",
       "      <td>40</td>\n",
       "    </tr>\n",
       "    <tr>\n",
       "      <th>5</th>\n",
       "      <td>***НОВЫЕ АМЕРИКАНСКИЕ ГРАФФИТИ  (UNI)         ...</td>\n",
       "      <td>5</td>\n",
       "      <td>40</td>\n",
       "    </tr>\n",
       "    <tr>\n",
       "      <th>6</th>\n",
       "      <td>***УДАР ПО ВОРОТАМ (UNI)               D</td>\n",
       "      <td>6</td>\n",
       "      <td>40</td>\n",
       "    </tr>\n",
       "    <tr>\n",
       "      <th>7</th>\n",
       "      <td>***УДАР ПО ВОРОТАМ-2 (UNI)               D</td>\n",
       "      <td>7</td>\n",
       "      <td>40</td>\n",
       "    </tr>\n",
       "    <tr>\n",
       "      <th>8</th>\n",
       "      <td>***ЧАЙ С МУССОЛИНИ                     D</td>\n",
       "      <td>8</td>\n",
       "      <td>40</td>\n",
       "    </tr>\n",
       "    <tr>\n",
       "      <th>9</th>\n",
       "      <td>***ШУГАРЛЭНДСКИЙ ЭКСПРЕСС (UNI)             D</td>\n",
       "      <td>9</td>\n",
       "      <td>40</td>\n",
       "    </tr>\n",
       "    <tr>\n",
       "      <th>10</th>\n",
       "      <td>*ЗА ГРАНЬЮ СМЕРТИ                       D</td>\n",
       "      <td>10</td>\n",
       "      <td>40</td>\n",
       "    </tr>\n",
       "    <tr>\n",
       "      <th>11</th>\n",
       "      <td>*ЛИНИЯ СМЕРТИ                           D</td>\n",
       "      <td>11</td>\n",
       "      <td>40</td>\n",
       "    </tr>\n",
       "    <tr>\n",
       "      <th>12</th>\n",
       "      <td>*МИХЕЙ И ДЖУМАНДЖИ  Сука любовь</td>\n",
       "      <td>12</td>\n",
       "      <td>55</td>\n",
       "    </tr>\n",
       "    <tr>\n",
       "      <th>13</th>\n",
       "      <td>*СПАСАЯ ЭМИЛИ                           D</td>\n",
       "      <td>13</td>\n",
       "      <td>40</td>\n",
       "    </tr>\n",
       "    <tr>\n",
       "      <th>14</th>\n",
       "      <td>*ЧОКНУТЫЙ ПРОФЕССОР /МАГИЯ/             D</td>\n",
       "      <td>14</td>\n",
       "      <td>40</td>\n",
       "    </tr>\n",
       "    <tr>\n",
       "      <th>15</th>\n",
       "      <td>//АДРЕНАЛИН: ОДИН ПРОТИВ ВСЕХ (Регион)</td>\n",
       "      <td>15</td>\n",
       "      <td>40</td>\n",
       "    </tr>\n",
       "    <tr>\n",
       "      <th>16</th>\n",
       "      <td>//МОНГОЛ С.Бодров (Регион)</td>\n",
       "      <td>16</td>\n",
       "      <td>40</td>\n",
       "    </tr>\n",
       "    <tr>\n",
       "      <th>17</th>\n",
       "      <td>//НЕ ОСТАВЛЯЮЩИЙ СЛЕДА (Регион)</td>\n",
       "      <td>17</td>\n",
       "      <td>40</td>\n",
       "    </tr>\n",
       "    <tr>\n",
       "      <th>18</th>\n",
       "      <td>/БОМБА ДЛЯ НЕВЕСТЫ /2DVD/               D</td>\n",
       "      <td>18</td>\n",
       "      <td>40</td>\n",
       "    </tr>\n",
       "    <tr>\n",
       "      <th>19</th>\n",
       "      <td>/ЗОЛОТАЯ КОЛЛЕКЦИЯ м/ф-72</td>\n",
       "      <td>19</td>\n",
       "      <td>40</td>\n",
       "    </tr>\n",
       "    <tr>\n",
       "      <th>20</th>\n",
       "      <td>/ОДНАЖДЫ В КИТАЕ-2</td>\n",
       "      <td>20</td>\n",
       "      <td>40</td>\n",
       "    </tr>\n",
       "    <tr>\n",
       "      <th>21</th>\n",
       "      <td>/ПОСЛЕДНИЙ ШАНС</td>\n",
       "      <td>21</td>\n",
       "      <td>40</td>\n",
       "    </tr>\n",
       "    <tr>\n",
       "      <th>22</th>\n",
       "      <td>/ПРОКЛЯТЬЕ ЭЛЬ ЧАРРО</td>\n",
       "      <td>22</td>\n",
       "      <td>40</td>\n",
       "    </tr>\n",
       "    <tr>\n",
       "      <th>23</th>\n",
       "      <td>/СЕВЕР И ЮГ /Ч.2/</td>\n",
       "      <td>23</td>\n",
       "      <td>40</td>\n",
       "    </tr>\n",
       "    <tr>\n",
       "      <th>24</th>\n",
       "      <td>/СМЕРТЕЛЬНЫЙ РАСКЛАД</td>\n",
       "      <td>24</td>\n",
       "      <td>40</td>\n",
       "    </tr>\n",
       "    <tr>\n",
       "      <th>25</th>\n",
       "      <td>/ТЫ  - ТРУП</td>\n",
       "      <td>25</td>\n",
       "      <td>40</td>\n",
       "    </tr>\n",
       "    <tr>\n",
       "      <th>26</th>\n",
       "      <td>/УМНОЖАЮЩИЙ ПЕЧАЛЬ т.2 (сер.3-4)</td>\n",
       "      <td>26</td>\n",
       "      <td>40</td>\n",
       "    </tr>\n",
       "    <tr>\n",
       "      <th>27</th>\n",
       "      <td>007 Legends [PS3, русская версия]</td>\n",
       "      <td>27</td>\n",
       "      <td>19</td>\n",
       "    </tr>\n",
       "    <tr>\n",
       "      <th>28</th>\n",
       "      <td>007 Legends [PС, Jewel, русская версия]</td>\n",
       "      <td>28</td>\n",
       "      <td>30</td>\n",
       "    </tr>\n",
       "    <tr>\n",
       "      <th>29</th>\n",
       "      <td>007 Legends [Xbox 360, русская версия]</td>\n",
       "      <td>29</td>\n",
       "      <td>23</td>\n",
       "    </tr>\n",
       "    <tr>\n",
       "      <th>30</th>\n",
       "      <td>007: КООРДИНАТЫ «СКАЙФОЛЛ»</td>\n",
       "      <td>30</td>\n",
       "      <td>40</td>\n",
       "    </tr>\n",
       "    <tr>\n",
       "      <th>31</th>\n",
       "      <td>007: КООРДИНАТЫ «СКАЙФОЛЛ» (BD)</td>\n",
       "      <td>31</td>\n",
       "      <td>37</td>\n",
       "    </tr>\n",
       "    <tr>\n",
       "      <th>32</th>\n",
       "      <td>1+1</td>\n",
       "      <td>32</td>\n",
       "      <td>40</td>\n",
       "    </tr>\n",
       "    <tr>\n",
       "      <th>33</th>\n",
       "      <td>1+1 (BD)</td>\n",
       "      <td>33</td>\n",
       "      <td>37</td>\n",
       "    </tr>\n",
       "    <tr>\n",
       "      <th>34</th>\n",
       "      <td>10 000 ЛЕТ ДО НАШЕЙ ЭРЫ WB (регион)</td>\n",
       "      <td>34</td>\n",
       "      <td>40</td>\n",
       "    </tr>\n",
       "    <tr>\n",
       "      <th>35</th>\n",
       "      <td>10 ЛЕТ СПУСТЯ</td>\n",
       "      <td>35</td>\n",
       "      <td>40</td>\n",
       "    </tr>\n",
       "    <tr>\n",
       "      <th>36</th>\n",
       "      <td>10 ЛЕТ СПУСТЯ (BD)</td>\n",
       "      <td>36</td>\n",
       "      <td>37</td>\n",
       "    </tr>\n",
       "    <tr>\n",
       "      <th>37</th>\n",
       "      <td>10 ЛЕТ СПУСТЯ (регион)</td>\n",
       "      <td>37</td>\n",
       "      <td>40</td>\n",
       "    </tr>\n",
       "    <tr>\n",
       "      <th>38</th>\n",
       "      <td>10 САМЫХ ПОПУЛЯРНЫХ КИНОКОМЕДИЙ ХХ ВЕКА  10DVD...</td>\n",
       "      <td>38</td>\n",
       "      <td>41</td>\n",
       "    </tr>\n",
       "    <tr>\n",
       "      <th>39</th>\n",
       "      <td>10 САМЫХ ПОПУЛЯРНЫХ ОТЕЧЕСТВЕННЫХ КОМЕДИЙ ХХ В...</td>\n",
       "      <td>39</td>\n",
       "      <td>41</td>\n",
       "    </tr>\n",
       "    <tr>\n",
       "      <th>40</th>\n",
       "      <td>100 Best classical melodies (mp3-CD) (Digipack)</td>\n",
       "      <td>40</td>\n",
       "      <td>57</td>\n",
       "    </tr>\n",
       "    <tr>\n",
       "      <th>41</th>\n",
       "      <td>100 Best relax melodies (mp3-CD) (CD-Digipack)</td>\n",
       "      <td>41</td>\n",
       "      <td>57</td>\n",
       "    </tr>\n",
       "    <tr>\n",
       "      <th>42</th>\n",
       "      <td>100 Best romantic melodies (mp3-CD) (Digipack)</td>\n",
       "      <td>42</td>\n",
       "      <td>57</td>\n",
       "    </tr>\n",
       "    <tr>\n",
       "      <th>43</th>\n",
       "      <td>100 МИЛЛИОНОВ ЕВРО</td>\n",
       "      <td>43</td>\n",
       "      <td>40</td>\n",
       "    </tr>\n",
       "    <tr>\n",
       "      <th>44</th>\n",
       "      <td>100 лучших мелодий против стресса (mp3-CD) (CD...</td>\n",
       "      <td>44</td>\n",
       "      <td>57</td>\n",
       "    </tr>\n",
       "    <tr>\n",
       "      <th>45</th>\n",
       "      <td>100 лучших народных песен (mp3-CD) (CD-Digipack)</td>\n",
       "      <td>45</td>\n",
       "      <td>57</td>\n",
       "    </tr>\n",
       "    <tr>\n",
       "      <th>46</th>\n",
       "      <td>100 лучших произведений Баха (mp3-CD) (Digipack)</td>\n",
       "      <td>46</td>\n",
       "      <td>57</td>\n",
       "    </tr>\n",
       "    <tr>\n",
       "      <th>47</th>\n",
       "      <td>100 лучших произведений Бетховена (mp3-CD) (Di...</td>\n",
       "      <td>47</td>\n",
       "      <td>57</td>\n",
       "    </tr>\n",
       "    <tr>\n",
       "      <th>48</th>\n",
       "      <td>100 лучших произведений Вивальди (mp3-CD) (CD-...</td>\n",
       "      <td>48</td>\n",
       "      <td>57</td>\n",
       "    </tr>\n",
       "    <tr>\n",
       "      <th>49</th>\n",
       "      <td>100 лучших произведений Моцарта (mp3-CD) (Digi...</td>\n",
       "      <td>49</td>\n",
       "      <td>57</td>\n",
       "    </tr>\n",
       "  </tbody>\n",
       "</table>\n",
       "</div>"
      ],
      "text/plain": [
       "                                            item_name  item_id  \\\n",
       "0           ! ВО ВЛАСТИ НАВАЖДЕНИЯ (ПЛАСТ.)         D        0   \n",
       "1   !ABBYY FineReader 12 Professional Edition Full...        1   \n",
       "2       ***В ЛУЧАХ СЛАВЫ   (UNV)                    D        2   \n",
       "3     ***ГОЛУБАЯ ВОЛНА  (Univ)                      D        3   \n",
       "4         ***КОРОБКА (СТЕКЛО)                       D        4   \n",
       "5   ***НОВЫЕ АМЕРИКАНСКИЕ ГРАФФИТИ  (UNI)         ...        5   \n",
       "6            ***УДАР ПО ВОРОТАМ (UNI)               D        6   \n",
       "7          ***УДАР ПО ВОРОТАМ-2 (UNI)               D        7   \n",
       "8            ***ЧАЙ С МУССОЛИНИ                     D        8   \n",
       "9       ***ШУГАРЛЭНДСКИЙ ЭКСПРЕСС (UNI)             D        9   \n",
       "10          *ЗА ГРАНЬЮ СМЕРТИ                       D       10   \n",
       "11          *ЛИНИЯ СМЕРТИ                           D       11   \n",
       "12                    *МИХЕЙ И ДЖУМАНДЖИ  Сука любовь       12   \n",
       "13          *СПАСАЯ ЭМИЛИ                           D       13   \n",
       "14          *ЧОКНУТЫЙ ПРОФЕССОР /МАГИЯ/             D       14   \n",
       "15             //АДРЕНАЛИН: ОДИН ПРОТИВ ВСЕХ (Регион)       15   \n",
       "16                         //МОНГОЛ С.Бодров (Регион)       16   \n",
       "17                    //НЕ ОСТАВЛЯЮЩИЙ СЛЕДА (Регион)       17   \n",
       "18          /БОМБА ДЛЯ НЕВЕСТЫ /2DVD/               D       18   \n",
       "19                          /ЗОЛОТАЯ КОЛЛЕКЦИЯ м/ф-72       19   \n",
       "20                                 /ОДНАЖДЫ В КИТАЕ-2       20   \n",
       "21                                    /ПОСЛЕДНИЙ ШАНС       21   \n",
       "22                               /ПРОКЛЯТЬЕ ЭЛЬ ЧАРРО       22   \n",
       "23                                  /СЕВЕР И ЮГ /Ч.2/       23   \n",
       "24                               /СМЕРТЕЛЬНЫЙ РАСКЛАД       24   \n",
       "25                                        /ТЫ  - ТРУП       25   \n",
       "26                   /УМНОЖАЮЩИЙ ПЕЧАЛЬ т.2 (сер.3-4)       26   \n",
       "27                  007 Legends [PS3, русская версия]       27   \n",
       "28            007 Legends [PС, Jewel, русская версия]       28   \n",
       "29             007 Legends [Xbox 360, русская версия]       29   \n",
       "30                         007: КООРДИНАТЫ «СКАЙФОЛЛ»       30   \n",
       "31                    007: КООРДИНАТЫ «СКАЙФОЛЛ» (BD)       31   \n",
       "32                                                1+1       32   \n",
       "33                                           1+1 (BD)       33   \n",
       "34                10 000 ЛЕТ ДО НАШЕЙ ЭРЫ WB (регион)       34   \n",
       "35                                      10 ЛЕТ СПУСТЯ       35   \n",
       "36                                 10 ЛЕТ СПУСТЯ (BD)       36   \n",
       "37                             10 ЛЕТ СПУСТЯ (регион)       37   \n",
       "38  10 САМЫХ ПОПУЛЯРНЫХ КИНОКОМЕДИЙ ХХ ВЕКА  10DVD...       38   \n",
       "39  10 САМЫХ ПОПУЛЯРНЫХ ОТЕЧЕСТВЕННЫХ КОМЕДИЙ ХХ В...       39   \n",
       "40    100 Best classical melodies (mp3-CD) (Digipack)       40   \n",
       "41     100 Best relax melodies (mp3-CD) (CD-Digipack)       41   \n",
       "42     100 Best romantic melodies (mp3-CD) (Digipack)       42   \n",
       "43                                 100 МИЛЛИОНОВ ЕВРО       43   \n",
       "44  100 лучших мелодий против стресса (mp3-CD) (CD...       44   \n",
       "45   100 лучших народных песен (mp3-CD) (CD-Digipack)       45   \n",
       "46   100 лучших произведений Баха (mp3-CD) (Digipack)       46   \n",
       "47  100 лучших произведений Бетховена (mp3-CD) (Di...       47   \n",
       "48  100 лучших произведений Вивальди (mp3-CD) (CD-...       48   \n",
       "49  100 лучших произведений Моцарта (mp3-CD) (Digi...       49   \n",
       "\n",
       "    item_category_id  \n",
       "0                 40  \n",
       "1                 76  \n",
       "2                 40  \n",
       "3                 40  \n",
       "4                 40  \n",
       "5                 40  \n",
       "6                 40  \n",
       "7                 40  \n",
       "8                 40  \n",
       "9                 40  \n",
       "10                40  \n",
       "11                40  \n",
       "12                55  \n",
       "13                40  \n",
       "14                40  \n",
       "15                40  \n",
       "16                40  \n",
       "17                40  \n",
       "18                40  \n",
       "19                40  \n",
       "20                40  \n",
       "21                40  \n",
       "22                40  \n",
       "23                40  \n",
       "24                40  \n",
       "25                40  \n",
       "26                40  \n",
       "27                19  \n",
       "28                30  \n",
       "29                23  \n",
       "30                40  \n",
       "31                37  \n",
       "32                40  \n",
       "33                37  \n",
       "34                40  \n",
       "35                40  \n",
       "36                37  \n",
       "37                40  \n",
       "38                41  \n",
       "39                41  \n",
       "40                57  \n",
       "41                57  \n",
       "42                57  \n",
       "43                40  \n",
       "44                57  \n",
       "45                57  \n",
       "46                57  \n",
       "47                57  \n",
       "48                57  \n",
       "49                57  "
      ]
     },
     "execution_count": 5,
     "metadata": {},
     "output_type": "execute_result"
    }
   ],
   "source": [
    "# 확인하기\n",
    "items = pd.read_csv('items.csv')\n",
    "items.head(50)"
   ]
  },
  {
   "cell_type": "markdown",
   "id": "wireless-grammar",
   "metadata": {},
   "source": [
    "# test 와 data와의 관계들"
   ]
  },
  {
   "cell_type": "code",
   "execution_count": 6,
   "id": "random-photograph",
   "metadata": {},
   "outputs": [
    {
     "name": "stdout",
     "output_type": "stream",
     "text": [
      "214200\n"
     ]
    },
    {
     "data": {
      "text/html": [
       "<div>\n",
       "<style scoped>\n",
       "    .dataframe tbody tr th:only-of-type {\n",
       "        vertical-align: middle;\n",
       "    }\n",
       "\n",
       "    .dataframe tbody tr th {\n",
       "        vertical-align: top;\n",
       "    }\n",
       "\n",
       "    .dataframe thead th {\n",
       "        text-align: right;\n",
       "    }\n",
       "</style>\n",
       "<table border=\"1\" class=\"dataframe\">\n",
       "  <thead>\n",
       "    <tr style=\"text-align: right;\">\n",
       "      <th></th>\n",
       "      <th>ID</th>\n",
       "      <th>shop_id</th>\n",
       "      <th>item_id</th>\n",
       "    </tr>\n",
       "  </thead>\n",
       "  <tbody>\n",
       "    <tr>\n",
       "      <th>0</th>\n",
       "      <td>0</td>\n",
       "      <td>5</td>\n",
       "      <td>5037</td>\n",
       "    </tr>\n",
       "    <tr>\n",
       "      <th>1</th>\n",
       "      <td>1</td>\n",
       "      <td>5</td>\n",
       "      <td>5320</td>\n",
       "    </tr>\n",
       "    <tr>\n",
       "      <th>2</th>\n",
       "      <td>2</td>\n",
       "      <td>5</td>\n",
       "      <td>5233</td>\n",
       "    </tr>\n",
       "    <tr>\n",
       "      <th>3</th>\n",
       "      <td>3</td>\n",
       "      <td>5</td>\n",
       "      <td>5232</td>\n",
       "    </tr>\n",
       "    <tr>\n",
       "      <th>4</th>\n",
       "      <td>4</td>\n",
       "      <td>5</td>\n",
       "      <td>5268</td>\n",
       "    </tr>\n",
       "    <tr>\n",
       "      <th>...</th>\n",
       "      <td>...</td>\n",
       "      <td>...</td>\n",
       "      <td>...</td>\n",
       "    </tr>\n",
       "    <tr>\n",
       "      <th>214195</th>\n",
       "      <td>214195</td>\n",
       "      <td>45</td>\n",
       "      <td>18454</td>\n",
       "    </tr>\n",
       "    <tr>\n",
       "      <th>214196</th>\n",
       "      <td>214196</td>\n",
       "      <td>45</td>\n",
       "      <td>16188</td>\n",
       "    </tr>\n",
       "    <tr>\n",
       "      <th>214197</th>\n",
       "      <td>214197</td>\n",
       "      <td>45</td>\n",
       "      <td>15757</td>\n",
       "    </tr>\n",
       "    <tr>\n",
       "      <th>214198</th>\n",
       "      <td>214198</td>\n",
       "      <td>45</td>\n",
       "      <td>19648</td>\n",
       "    </tr>\n",
       "    <tr>\n",
       "      <th>214199</th>\n",
       "      <td>214199</td>\n",
       "      <td>45</td>\n",
       "      <td>969</td>\n",
       "    </tr>\n",
       "  </tbody>\n",
       "</table>\n",
       "<p>214200 rows × 3 columns</p>\n",
       "</div>"
      ],
      "text/plain": [
       "            ID  shop_id  item_id\n",
       "0            0        5     5037\n",
       "1            1        5     5320\n",
       "2            2        5     5233\n",
       "3            3        5     5232\n",
       "4            4        5     5268\n",
       "...        ...      ...      ...\n",
       "214195  214195       45    18454\n",
       "214196  214196       45    16188\n",
       "214197  214197       45    15757\n",
       "214198  214198       45    19648\n",
       "214199  214199       45      969\n",
       "\n",
       "[214200 rows x 3 columns]"
      ]
     },
     "execution_count": 6,
     "metadata": {},
     "output_type": "execute_result"
    }
   ],
   "source": [
    "test = pd.read_csv('test.csv')\n",
    "print(len(test)) # test 개수가 바로 추측해야하는 아이템 개수\n",
    "test"
   ]
  },
  {
   "cell_type": "code",
   "execution_count": 7,
   "id": "flying-award",
   "metadata": {},
   "outputs": [
    {
     "data": {
      "text/plain": [
       "array([[     0,      5,   5037],\n",
       "       [     1,      5,   5320],\n",
       "       [     2,      5,   5233],\n",
       "       ...,\n",
       "       [214197,     45,  15757],\n",
       "       [214198,     45,  19648],\n",
       "       [214199,     45,    969]])"
      ]
     },
     "execution_count": 7,
     "metadata": {},
     "output_type": "execute_result"
    }
   ],
   "source": [
    "test_ndarray = test.values\n",
    "test_ndarray"
   ]
  },
  {
   "cell_type": "code",
   "execution_count": 8,
   "id": "spare-religious",
   "metadata": {},
   "outputs": [
    {
     "data": {
      "text/plain": [
       "array([ 5037,  5320,  5233, ..., 15757, 19648,   969])"
      ]
     },
     "execution_count": 8,
     "metadata": {},
     "output_type": "execute_result"
    }
   ],
   "source": [
    "test_item_id = test_ndarray[:, 2]\n",
    "test_item_id"
   ]
  },
  {
   "cell_type": "code",
   "execution_count": 9,
   "id": "stunning-franklin",
   "metadata": {},
   "outputs": [
    {
     "name": "stdout",
     "output_type": "stream",
     "text": [
      "5100\n"
     ]
    },
    {
     "data": {
      "text/plain": [
       "array([   30,    31,    32, ..., 22164, 22166, 22167])"
      ]
     },
     "execution_count": 9,
     "metadata": {},
     "output_type": "execute_result"
    }
   ],
   "source": [
    "test_item_id_uniq = np.unique(test_item_id)\n",
    "print(len(test_item_id_uniq))\n",
    "test_item_id_uniq"
   ]
  },
  {
   "cell_type": "code",
   "execution_count": 10,
   "id": "therapeutic-clark",
   "metadata": {},
   "outputs": [
    {
     "data": {
      "text/plain": [
       "array([['02.01.2013', 0, 59, 22154, 999.0, 1.0],\n",
       "       ['03.01.2013', 0, 25, 2552, 899.0, 1.0],\n",
       "       ['05.01.2013', 0, 25, 2552, 899.0, -1.0],\n",
       "       ...,\n",
       "       ['14.10.2015', 33, 25, 7459, 349.0, 1.0],\n",
       "       ['22.10.2015', 33, 25, 7440, 299.0, 1.0],\n",
       "       ['03.10.2015', 33, 25, 7460, 299.0, 1.0]], dtype=object)"
      ]
     },
     "execution_count": 10,
     "metadata": {},
     "output_type": "execute_result"
    }
   ],
   "source": [
    "data_ndarray = data.values\n",
    "data_ndarray"
   ]
  },
  {
   "cell_type": "code",
   "execution_count": 11,
   "id": "applicable-discrimination",
   "metadata": {},
   "outputs": [
    {
     "name": "stdout",
     "output_type": "stream",
     "text": [
      "2935849\n"
     ]
    },
    {
     "data": {
      "text/plain": [
       "array([22154, 2552, 2552, ..., 7459, 7440, 7460], dtype=object)"
      ]
     },
     "execution_count": 11,
     "metadata": {},
     "output_type": "execute_result"
    }
   ],
   "source": [
    "# item_id만 array로\n",
    "data_item_id = data_ndarray[:, 3]\n",
    "print(len(data_item_id))\n",
    "data_item_id"
   ]
  },
  {
   "cell_type": "code",
   "execution_count": 12,
   "id": "smart-membership",
   "metadata": {},
   "outputs": [
    {
     "name": "stdout",
     "output_type": "stream",
     "text": [
      "21807\n"
     ]
    },
    {
     "data": {
      "text/plain": [
       "array([0, 1, 2, ..., 22167, 22168, 22169], dtype=object)"
      ]
     },
     "execution_count": 12,
     "metadata": {},
     "output_type": "execute_result"
    }
   ],
   "source": [
    "item_id_uniq = np.unique(data_item_id)\n",
    "print(len(item_id_uniq))\n",
    "item_id_uniq"
   ]
  },
  {
   "cell_type": "code",
   "execution_count": 13,
   "id": "mysterious-banking",
   "metadata": {
    "scrolled": true
   },
   "outputs": [
    {
     "name": "stdout",
     "output_type": "stream",
     "text": [
      "363\n"
     ]
    },
    {
     "data": {
      "text/plain": [
       "{83,\n",
       " 140,\n",
       " 168,\n",
       " 173,\n",
       " 204,\n",
       " 237,\n",
       " 249,\n",
       " 254,\n",
       " 302,\n",
       " 402,\n",
       " 428,\n",
       " 430,\n",
       " 454,\n",
       " 480,\n",
       " 566,\n",
       " 639,\n",
       " 640,\n",
       " 762,\n",
       " 892,\n",
       " 900,\n",
       " 907,\n",
       " 1184,\n",
       " 1193,\n",
       " 1246,\n",
       " 1252,\n",
       " 1253,\n",
       " 1254,\n",
       " 1284,\n",
       " 1386,\n",
       " 1394,\n",
       " 1434,\n",
       " 1436,\n",
       " 1437,\n",
       " 1574,\n",
       " 1575,\n",
       " 1577,\n",
       " 1580,\n",
       " 1585,\n",
       " 1679,\n",
       " 1683,\n",
       " 1732,\n",
       " 1864,\n",
       " 1867,\n",
       " 1884,\n",
       " 1885,\n",
       " 2322,\n",
       " 2323,\n",
       " 2324,\n",
       " 2325,\n",
       " 2326,\n",
       " 2327,\n",
       " 2328,\n",
       " 2420,\n",
       " 2426,\n",
       " 2427,\n",
       " 2428,\n",
       " 2434,\n",
       " 2569,\n",
       " 2722,\n",
       " 2966,\n",
       " 3022,\n",
       " 3023,\n",
       " 3271,\n",
       " 3272,\n",
       " 3273,\n",
       " 3282,\n",
       " 3284,\n",
       " 3338,\n",
       " 3349,\n",
       " 3354,\n",
       " 3405,\n",
       " 3407,\n",
       " 3408,\n",
       " 3538,\n",
       " 3571,\n",
       " 3579,\n",
       " 3604,\n",
       " 3627,\n",
       " 3760,\n",
       " 3867,\n",
       " 3908,\n",
       " 3984,\n",
       " 4060,\n",
       " 4156,\n",
       " 4310,\n",
       " 4318,\n",
       " 4412,\n",
       " 4642,\n",
       " 4925,\n",
       " 5025,\n",
       " 5064,\n",
       " 5121,\n",
       " 5248,\n",
       " 5268,\n",
       " 5269,\n",
       " 5320,\n",
       " 5321,\n",
       " 5322,\n",
       " 5441,\n",
       " 5541,\n",
       " 5569,\n",
       " 5667,\n",
       " 5721,\n",
       " 5722,\n",
       " 5812,\n",
       " 5826,\n",
       " 5843,\n",
       " 5844,\n",
       " 5961,\n",
       " 5963,\n",
       " 6152,\n",
       " 6153,\n",
       " 6169,\n",
       " 6259,\n",
       " 6335,\n",
       " 6439,\n",
       " 6519,\n",
       " 6520,\n",
       " 6521,\n",
       " 6522,\n",
       " 6523,\n",
       " 6524,\n",
       " 6525,\n",
       " 6526,\n",
       " 6527,\n",
       " 6528,\n",
       " 6529,\n",
       " 6530,\n",
       " 6531,\n",
       " 6532,\n",
       " 6533,\n",
       " 6645,\n",
       " 6729,\n",
       " 6730,\n",
       " 6731,\n",
       " 6732,\n",
       " 6733,\n",
       " 6734,\n",
       " 6742,\n",
       " 6743,\n",
       " 6863,\n",
       " 6891,\n",
       " 6903,\n",
       " 6996,\n",
       " 7094,\n",
       " 7124,\n",
       " 7572,\n",
       " 7592,\n",
       " 7607,\n",
       " 7646,\n",
       " 7647,\n",
       " 7669,\n",
       " 7727,\n",
       " 7728,\n",
       " 7729,\n",
       " 7730,\n",
       " 7766,\n",
       " 7782,\n",
       " 7862,\n",
       " 7926,\n",
       " 8182,\n",
       " 8191,\n",
       " 8337,\n",
       " 8354,\n",
       " 8355,\n",
       " 8545,\n",
       " 8549,\n",
       " 8551,\n",
       " 8676,\n",
       " 8722,\n",
       " 8760,\n",
       " 8821,\n",
       " 8822,\n",
       " 8823,\n",
       " 8824,\n",
       " 8825,\n",
       " 8826,\n",
       " 8850,\n",
       " 8890,\n",
       " 8957,\n",
       " 8968,\n",
       " 8969,\n",
       " 8993,\n",
       " 9030,\n",
       " 9111,\n",
       " 9344,\n",
       " 9530,\n",
       " 9537,\n",
       " 9767,\n",
       " 9972,\n",
       " 10028,\n",
       " 10045,\n",
       " 10054,\n",
       " 10069,\n",
       " 10176,\n",
       " 10203,\n",
       " 10310,\n",
       " 10372,\n",
       " 10483,\n",
       " 10507,\n",
       " 10747,\n",
       " 10779,\n",
       " 11267,\n",
       " 11385,\n",
       " 11762,\n",
       " 11764,\n",
       " 11765,\n",
       " 11946,\n",
       " 11974,\n",
       " 12117,\n",
       " 12409,\n",
       " 12441,\n",
       " 12468,\n",
       " 12469,\n",
       " 12470,\n",
       " 12471,\n",
       " 12568,\n",
       " 12574,\n",
       " 12591,\n",
       " 12802,\n",
       " 12890,\n",
       " 12920,\n",
       " 12961,\n",
       " 13047,\n",
       " 13096,\n",
       " 13209,\n",
       " 13231,\n",
       " 13232,\n",
       " 13242,\n",
       " 13249,\n",
       " 13250,\n",
       " 13251,\n",
       " 13257,\n",
       " 13263,\n",
       " 13264,\n",
       " 13271,\n",
       " 13273,\n",
       " 13275,\n",
       " 13284,\n",
       " 13295,\n",
       " 13303,\n",
       " 13309,\n",
       " 13310,\n",
       " 13313,\n",
       " 13338,\n",
       " 13392,\n",
       " 13394,\n",
       " 13402,\n",
       " 13445,\n",
       " 13446,\n",
       " 13447,\n",
       " 13558,\n",
       " 13559,\n",
       " 13745,\n",
       " 13804,\n",
       " 13805,\n",
       " 13846,\n",
       " 14383,\n",
       " 14521,\n",
       " 14647,\n",
       " 14648,\n",
       " 14662,\n",
       " 14739,\n",
       " 14760,\n",
       " 14765,\n",
       " 14784,\n",
       " 14832,\n",
       " 14959,\n",
       " 14972,\n",
       " 15033,\n",
       " 15034,\n",
       " 15183,\n",
       " 15329,\n",
       " 15330,\n",
       " 15418,\n",
       " 15467,\n",
       " 15553,\n",
       " 15564,\n",
       " 15566,\n",
       " 15586,\n",
       " 15665,\n",
       " 15667,\n",
       " 16051,\n",
       " 16095,\n",
       " 16096,\n",
       " 16097,\n",
       " 16099,\n",
       " 16139,\n",
       " 16141,\n",
       " 16157,\n",
       " 16193,\n",
       " 16498,\n",
       " 16601,\n",
       " 16675,\n",
       " 16811,\n",
       " 16813,\n",
       " 16976,\n",
       " 17030,\n",
       " 17117,\n",
       " 17757,\n",
       " 17858,\n",
       " 17929,\n",
       " 18174,\n",
       " 18560,\n",
       " 18627,\n",
       " 18913,\n",
       " 18979,\n",
       " 19048,\n",
       " 19085,\n",
       " 19155,\n",
       " 19210,\n",
       " 19219,\n",
       " 19252,\n",
       " 19417,\n",
       " 19651,\n",
       " 19773,\n",
       " 19775,\n",
       " 19966,\n",
       " 19973,\n",
       " 20196,\n",
       " 20378,\n",
       " 20400,\n",
       " 20401,\n",
       " 20403,\n",
       " 20439,\n",
       " 20461,\n",
       " 20476,\n",
       " 20486,\n",
       " 20535,\n",
       " 20560,\n",
       " 20561,\n",
       " 20577,\n",
       " 20594,\n",
       " 20599,\n",
       " 20600,\n",
       " 20677,\n",
       " 20680,\n",
       " 20760,\n",
       " 20796,\n",
       " 20836,\n",
       " 20837,\n",
       " 20843,\n",
       " 20845,\n",
       " 20863,\n",
       " 20878,\n",
       " 20879,\n",
       " 20880,\n",
       " 20996,\n",
       " 21196,\n",
       " 21214,\n",
       " 21354,\n",
       " 21397,\n",
       " 21453,\n",
       " 21467,\n",
       " 21708,\n",
       " 21828,\n",
       " 21829,\n",
       " 21953,\n",
       " 21974,\n",
       " 21975,\n",
       " 22022,\n",
       " 22035,\n",
       " 22137}"
      ]
     },
     "execution_count": 13,
     "metadata": {},
     "output_type": "execute_result"
    }
   ],
   "source": [
    "test_only = set(test_item_id_uniq) - set(item_id_uniq)\n",
    "print(len(test_only))\n",
    "test_only"
   ]
  },
  {
   "cell_type": "markdown",
   "id": "confidential-cabin",
   "metadata": {},
   "source": [
    "test에만 있고 train에만 있는 것 \n",
    "11월 신상품이 363개이다. \n",
    "\n",
    "어떻게 해야 신상품의 첫 달 판매량을 구할 수 있을까\n",
    "노가다?\n",
    "10 -> 15년 11월\n",
    "21 -> 16년 11월 \n",
    "신상품을 알아보자 "
   ]
  },
  {
   "cell_type": "markdown",
   "id": "structural-complement",
   "metadata": {},
   "source": [
    "# 13년 11월 신상품"
   ]
  },
  {
   "cell_type": "code",
   "execution_count": 14,
   "id": "formal-prediction",
   "metadata": {},
   "outputs": [
    {
     "data": {
      "text/html": [
       "<div>\n",
       "<style scoped>\n",
       "    .dataframe tbody tr th:only-of-type {\n",
       "        vertical-align: middle;\n",
       "    }\n",
       "\n",
       "    .dataframe tbody tr th {\n",
       "        vertical-align: top;\n",
       "    }\n",
       "\n",
       "    .dataframe thead th {\n",
       "        text-align: right;\n",
       "    }\n",
       "</style>\n",
       "<table border=\"1\" class=\"dataframe\">\n",
       "  <thead>\n",
       "    <tr style=\"text-align: right;\">\n",
       "      <th></th>\n",
       "      <th>date</th>\n",
       "      <th>date_block_num</th>\n",
       "      <th>shop_id</th>\n",
       "      <th>item_id</th>\n",
       "      <th>item_price</th>\n",
       "      <th>item_cnt_day</th>\n",
       "    </tr>\n",
       "  </thead>\n",
       "  <tbody>\n",
       "    <tr>\n",
       "      <th>0</th>\n",
       "      <td>02.01.2013</td>\n",
       "      <td>0</td>\n",
       "      <td>59</td>\n",
       "      <td>22154</td>\n",
       "      <td>999.00</td>\n",
       "      <td>1.0</td>\n",
       "    </tr>\n",
       "    <tr>\n",
       "      <th>1</th>\n",
       "      <td>03.01.2013</td>\n",
       "      <td>0</td>\n",
       "      <td>25</td>\n",
       "      <td>2552</td>\n",
       "      <td>899.00</td>\n",
       "      <td>1.0</td>\n",
       "    </tr>\n",
       "    <tr>\n",
       "      <th>2</th>\n",
       "      <td>05.01.2013</td>\n",
       "      <td>0</td>\n",
       "      <td>25</td>\n",
       "      <td>2552</td>\n",
       "      <td>899.00</td>\n",
       "      <td>-1.0</td>\n",
       "    </tr>\n",
       "    <tr>\n",
       "      <th>3</th>\n",
       "      <td>06.01.2013</td>\n",
       "      <td>0</td>\n",
       "      <td>25</td>\n",
       "      <td>2554</td>\n",
       "      <td>1709.05</td>\n",
       "      <td>1.0</td>\n",
       "    </tr>\n",
       "    <tr>\n",
       "      <th>4</th>\n",
       "      <td>15.01.2013</td>\n",
       "      <td>0</td>\n",
       "      <td>25</td>\n",
       "      <td>2555</td>\n",
       "      <td>1099.00</td>\n",
       "      <td>1.0</td>\n",
       "    </tr>\n",
       "    <tr>\n",
       "      <th>...</th>\n",
       "      <td>...</td>\n",
       "      <td>...</td>\n",
       "      <td>...</td>\n",
       "      <td>...</td>\n",
       "      <td>...</td>\n",
       "      <td>...</td>\n",
       "    </tr>\n",
       "    <tr>\n",
       "      <th>2935844</th>\n",
       "      <td>10.10.2015</td>\n",
       "      <td>33</td>\n",
       "      <td>25</td>\n",
       "      <td>7409</td>\n",
       "      <td>299.00</td>\n",
       "      <td>1.0</td>\n",
       "    </tr>\n",
       "    <tr>\n",
       "      <th>2935845</th>\n",
       "      <td>09.10.2015</td>\n",
       "      <td>33</td>\n",
       "      <td>25</td>\n",
       "      <td>7460</td>\n",
       "      <td>299.00</td>\n",
       "      <td>1.0</td>\n",
       "    </tr>\n",
       "    <tr>\n",
       "      <th>2935846</th>\n",
       "      <td>14.10.2015</td>\n",
       "      <td>33</td>\n",
       "      <td>25</td>\n",
       "      <td>7459</td>\n",
       "      <td>349.00</td>\n",
       "      <td>1.0</td>\n",
       "    </tr>\n",
       "    <tr>\n",
       "      <th>2935847</th>\n",
       "      <td>22.10.2015</td>\n",
       "      <td>33</td>\n",
       "      <td>25</td>\n",
       "      <td>7440</td>\n",
       "      <td>299.00</td>\n",
       "      <td>1.0</td>\n",
       "    </tr>\n",
       "    <tr>\n",
       "      <th>2935848</th>\n",
       "      <td>03.10.2015</td>\n",
       "      <td>33</td>\n",
       "      <td>25</td>\n",
       "      <td>7460</td>\n",
       "      <td>299.00</td>\n",
       "      <td>1.0</td>\n",
       "    </tr>\n",
       "  </tbody>\n",
       "</table>\n",
       "<p>2935849 rows × 6 columns</p>\n",
       "</div>"
      ],
      "text/plain": [
       "               date  date_block_num  shop_id  item_id  item_price  \\\n",
       "0        02.01.2013               0       59    22154      999.00   \n",
       "1        03.01.2013               0       25     2552      899.00   \n",
       "2        05.01.2013               0       25     2552      899.00   \n",
       "3        06.01.2013               0       25     2554     1709.05   \n",
       "4        15.01.2013               0       25     2555     1099.00   \n",
       "...             ...             ...      ...      ...         ...   \n",
       "2935844  10.10.2015              33       25     7409      299.00   \n",
       "2935845  09.10.2015              33       25     7460      299.00   \n",
       "2935846  14.10.2015              33       25     7459      349.00   \n",
       "2935847  22.10.2015              33       25     7440      299.00   \n",
       "2935848  03.10.2015              33       25     7460      299.00   \n",
       "\n",
       "         item_cnt_day  \n",
       "0                 1.0  \n",
       "1                 1.0  \n",
       "2                -1.0  \n",
       "3                 1.0  \n",
       "4                 1.0  \n",
       "...               ...  \n",
       "2935844           1.0  \n",
       "2935845           1.0  \n",
       "2935846           1.0  \n",
       "2935847           1.0  \n",
       "2935848           1.0  \n",
       "\n",
       "[2935849 rows x 6 columns]"
      ]
     },
     "execution_count": 14,
     "metadata": {},
     "output_type": "execute_result"
    }
   ],
   "source": [
    "data"
   ]
  },
  {
   "cell_type": "code",
   "execution_count": 15,
   "id": "broad-cambodia",
   "metadata": {},
   "outputs": [
    {
     "data": {
      "text/html": [
       "<div>\n",
       "<style scoped>\n",
       "    .dataframe tbody tr th:only-of-type {\n",
       "        vertical-align: middle;\n",
       "    }\n",
       "\n",
       "    .dataframe tbody tr th {\n",
       "        vertical-align: top;\n",
       "    }\n",
       "\n",
       "    .dataframe thead th {\n",
       "        text-align: right;\n",
       "    }\n",
       "</style>\n",
       "<table border=\"1\" class=\"dataframe\">\n",
       "  <thead>\n",
       "    <tr style=\"text-align: right;\">\n",
       "      <th></th>\n",
       "      <th>date_block_num</th>\n",
       "      <th>item_id</th>\n",
       "    </tr>\n",
       "  </thead>\n",
       "  <tbody>\n",
       "    <tr>\n",
       "      <th>0</th>\n",
       "      <td>0</td>\n",
       "      <td>22154</td>\n",
       "    </tr>\n",
       "    <tr>\n",
       "      <th>1</th>\n",
       "      <td>0</td>\n",
       "      <td>2552</td>\n",
       "    </tr>\n",
       "    <tr>\n",
       "      <th>2</th>\n",
       "      <td>0</td>\n",
       "      <td>2552</td>\n",
       "    </tr>\n",
       "    <tr>\n",
       "      <th>3</th>\n",
       "      <td>0</td>\n",
       "      <td>2554</td>\n",
       "    </tr>\n",
       "    <tr>\n",
       "      <th>4</th>\n",
       "      <td>0</td>\n",
       "      <td>2555</td>\n",
       "    </tr>\n",
       "    <tr>\n",
       "      <th>...</th>\n",
       "      <td>...</td>\n",
       "      <td>...</td>\n",
       "    </tr>\n",
       "    <tr>\n",
       "      <th>2935844</th>\n",
       "      <td>33</td>\n",
       "      <td>7409</td>\n",
       "    </tr>\n",
       "    <tr>\n",
       "      <th>2935845</th>\n",
       "      <td>33</td>\n",
       "      <td>7460</td>\n",
       "    </tr>\n",
       "    <tr>\n",
       "      <th>2935846</th>\n",
       "      <td>33</td>\n",
       "      <td>7459</td>\n",
       "    </tr>\n",
       "    <tr>\n",
       "      <th>2935847</th>\n",
       "      <td>33</td>\n",
       "      <td>7440</td>\n",
       "    </tr>\n",
       "    <tr>\n",
       "      <th>2935848</th>\n",
       "      <td>33</td>\n",
       "      <td>7460</td>\n",
       "    </tr>\n",
       "  </tbody>\n",
       "</table>\n",
       "<p>2935849 rows × 2 columns</p>\n",
       "</div>"
      ],
      "text/plain": [
       "         date_block_num  item_id\n",
       "0                     0    22154\n",
       "1                     0     2552\n",
       "2                     0     2552\n",
       "3                     0     2554\n",
       "4                     0     2555\n",
       "...                 ...      ...\n",
       "2935844              33     7409\n",
       "2935845              33     7460\n",
       "2935846              33     7459\n",
       "2935847              33     7440\n",
       "2935848              33     7460\n",
       "\n",
       "[2935849 rows x 2 columns]"
      ]
     },
     "execution_count": 15,
     "metadata": {},
     "output_type": "execute_result"
    }
   ],
   "source": [
    "num_item_id = data.loc[:, ['date_block_num', 'item_id']]\n",
    "num_item_id"
   ]
  },
  {
   "cell_type": "markdown",
   "id": "public-insider",
   "metadata": {},
   "source": [
    "## 13년 10월"
   ]
  },
  {
   "cell_type": "code",
   "execution_count": 16,
   "id": "colored-dispute",
   "metadata": {},
   "outputs": [
    {
     "data": {
      "text/html": [
       "<div>\n",
       "<style scoped>\n",
       "    .dataframe tbody tr th:only-of-type {\n",
       "        vertical-align: middle;\n",
       "    }\n",
       "\n",
       "    .dataframe tbody tr th {\n",
       "        vertical-align: top;\n",
       "    }\n",
       "\n",
       "    .dataframe thead th {\n",
       "        text-align: right;\n",
       "    }\n",
       "</style>\n",
       "<table border=\"1\" class=\"dataframe\">\n",
       "  <thead>\n",
       "    <tr style=\"text-align: right;\">\n",
       "      <th></th>\n",
       "      <th>date_block_num</th>\n",
       "      <th>item_id</th>\n",
       "    </tr>\n",
       "  </thead>\n",
       "  <tbody>\n",
       "    <tr>\n",
       "      <th>0</th>\n",
       "      <td>0</td>\n",
       "      <td>22154</td>\n",
       "    </tr>\n",
       "    <tr>\n",
       "      <th>1</th>\n",
       "      <td>0</td>\n",
       "      <td>2552</td>\n",
       "    </tr>\n",
       "    <tr>\n",
       "      <th>2</th>\n",
       "      <td>0</td>\n",
       "      <td>2552</td>\n",
       "    </tr>\n",
       "    <tr>\n",
       "      <th>3</th>\n",
       "      <td>0</td>\n",
       "      <td>2554</td>\n",
       "    </tr>\n",
       "    <tr>\n",
       "      <th>4</th>\n",
       "      <td>0</td>\n",
       "      <td>2555</td>\n",
       "    </tr>\n",
       "    <tr>\n",
       "      <th>...</th>\n",
       "      <td>...</td>\n",
       "      <td>...</td>\n",
       "    </tr>\n",
       "    <tr>\n",
       "      <th>1027575</th>\n",
       "      <td>9</td>\n",
       "      <td>11812</td>\n",
       "    </tr>\n",
       "    <tr>\n",
       "      <th>1027576</th>\n",
       "      <td>9</td>\n",
       "      <td>11811</td>\n",
       "    </tr>\n",
       "    <tr>\n",
       "      <th>1027577</th>\n",
       "      <td>9</td>\n",
       "      <td>11623</td>\n",
       "    </tr>\n",
       "    <tr>\n",
       "      <th>1027578</th>\n",
       "      <td>9</td>\n",
       "      <td>5680</td>\n",
       "    </tr>\n",
       "    <tr>\n",
       "      <th>1027579</th>\n",
       "      <td>9</td>\n",
       "      <td>5682</td>\n",
       "    </tr>\n",
       "  </tbody>\n",
       "</table>\n",
       "<p>1027580 rows × 2 columns</p>\n",
       "</div>"
      ],
      "text/plain": [
       "         date_block_num  item_id\n",
       "0                     0    22154\n",
       "1                     0     2552\n",
       "2                     0     2552\n",
       "3                     0     2554\n",
       "4                     0     2555\n",
       "...                 ...      ...\n",
       "1027575               9    11812\n",
       "1027576               9    11811\n",
       "1027577               9    11623\n",
       "1027578               9     5680\n",
       "1027579               9     5682\n",
       "\n",
       "[1027580 rows x 2 columns]"
      ]
     },
     "execution_count": 16,
     "metadata": {},
     "output_type": "execute_result"
    }
   ],
   "source": [
    "# 13년 10월\n",
    "tt_oct = num_item_id[num_item_id['date_block_num'].isin([0,1,2,3,4,5,6,7,8,9])]\n",
    "tt_oct"
   ]
  },
  {
   "cell_type": "code",
   "execution_count": 17,
   "id": "average-convention",
   "metadata": {},
   "outputs": [
    {
     "data": {
      "text/plain": [
       "array([[    0, 22154],\n",
       "       [    0,  2552],\n",
       "       [    0,  2552],\n",
       "       ...,\n",
       "       [    9, 11623],\n",
       "       [    9,  5680],\n",
       "       [    9,  5682]])"
      ]
     },
     "execution_count": 17,
     "metadata": {},
     "output_type": "execute_result"
    }
   ],
   "source": [
    "# 13 oct -> array\n",
    "tt_oct_array = tt_oct.values\n",
    "tt_oct_array"
   ]
  },
  {
   "cell_type": "code",
   "execution_count": 18,
   "id": "perceived-defendant",
   "metadata": {},
   "outputs": [
    {
     "name": "stdout",
     "output_type": "stream",
     "text": [
      "1027580\n"
     ]
    },
    {
     "data": {
      "text/plain": [
       "array([22154,  2552,  2552, ..., 11623,  5680,  5682])"
      ]
     },
     "execution_count": 18,
     "metadata": {},
     "output_type": "execute_result"
    }
   ],
   "source": [
    "# 13 oct array에서 추출 \n",
    "tt_oct_item = tt_oct_array[:, 1]\n",
    "print(len(tt_oct_item))\n",
    "tt_oct_item"
   ]
  },
  {
   "cell_type": "code",
   "execution_count": 19,
   "id": "medium-relief",
   "metadata": {},
   "outputs": [
    {
     "name": "stdout",
     "output_type": "stream",
     "text": [
      "13946\n"
     ]
    },
    {
     "data": {
      "text/plain": [
       "array([   12,    19,    27, ..., 22166, 22167, 22168])"
      ]
     },
     "execution_count": 19,
     "metadata": {},
     "output_type": "execute_result"
    }
   ],
   "source": [
    "# 중복제거\n",
    "tt_oct_item_uniq = np.unique(tt_oct_item)\n",
    "print(len(tt_oct_item_uniq))\n",
    "tt_oct_item_uniq"
   ]
  },
  {
   "cell_type": "markdown",
   "id": "weird-professor",
   "metadata": {},
   "source": [
    "## 13년 11월"
   ]
  },
  {
   "cell_type": "code",
   "execution_count": 20,
   "id": "comfortable-somewhere",
   "metadata": {},
   "outputs": [
    {
     "data": {
      "text/html": [
       "<div>\n",
       "<style scoped>\n",
       "    .dataframe tbody tr th:only-of-type {\n",
       "        vertical-align: middle;\n",
       "    }\n",
       "\n",
       "    .dataframe tbody tr th {\n",
       "        vertical-align: top;\n",
       "    }\n",
       "\n",
       "    .dataframe thead th {\n",
       "        text-align: right;\n",
       "    }\n",
       "</style>\n",
       "<table border=\"1\" class=\"dataframe\">\n",
       "  <thead>\n",
       "    <tr style=\"text-align: right;\">\n",
       "      <th></th>\n",
       "      <th>date_block_num</th>\n",
       "      <th>item_id</th>\n",
       "    </tr>\n",
       "  </thead>\n",
       "  <tbody>\n",
       "    <tr>\n",
       "      <th>1027580</th>\n",
       "      <td>10</td>\n",
       "      <td>4420</td>\n",
       "    </tr>\n",
       "    <tr>\n",
       "      <th>1027581</th>\n",
       "      <td>10</td>\n",
       "      <td>10033</td>\n",
       "    </tr>\n",
       "    <tr>\n",
       "      <th>1027582</th>\n",
       "      <td>10</td>\n",
       "      <td>10051</td>\n",
       "    </tr>\n",
       "    <tr>\n",
       "      <th>1027583</th>\n",
       "      <td>10</td>\n",
       "      <td>10051</td>\n",
       "    </tr>\n",
       "    <tr>\n",
       "      <th>1027584</th>\n",
       "      <td>10</td>\n",
       "      <td>10051</td>\n",
       "    </tr>\n",
       "    <tr>\n",
       "      <th>...</th>\n",
       "      <td>...</td>\n",
       "      <td>...</td>\n",
       "    </tr>\n",
       "    <tr>\n",
       "      <th>1124311</th>\n",
       "      <td>10</td>\n",
       "      <td>3734</td>\n",
       "    </tr>\n",
       "    <tr>\n",
       "      <th>1124312</th>\n",
       "      <td>10</td>\n",
       "      <td>3734</td>\n",
       "    </tr>\n",
       "    <tr>\n",
       "      <th>1124313</th>\n",
       "      <td>10</td>\n",
       "      <td>3743</td>\n",
       "    </tr>\n",
       "    <tr>\n",
       "      <th>1124314</th>\n",
       "      <td>10</td>\n",
       "      <td>3743</td>\n",
       "    </tr>\n",
       "    <tr>\n",
       "      <th>1124315</th>\n",
       "      <td>10</td>\n",
       "      <td>3734</td>\n",
       "    </tr>\n",
       "  </tbody>\n",
       "</table>\n",
       "<p>96736 rows × 2 columns</p>\n",
       "</div>"
      ],
      "text/plain": [
       "         date_block_num  item_id\n",
       "1027580              10     4420\n",
       "1027581              10    10033\n",
       "1027582              10    10051\n",
       "1027583              10    10051\n",
       "1027584              10    10051\n",
       "...                 ...      ...\n",
       "1124311              10     3734\n",
       "1124312              10     3734\n",
       "1124313              10     3743\n",
       "1124314              10     3743\n",
       "1124315              10     3734\n",
       "\n",
       "[96736 rows x 2 columns]"
      ]
     },
     "execution_count": 20,
     "metadata": {},
     "output_type": "execute_result"
    }
   ],
   "source": [
    "# 13년 11월\n",
    "tt_nov = num_item_id[num_item_id['date_block_num'] == 10]\n",
    "tt_nov"
   ]
  },
  {
   "cell_type": "code",
   "execution_count": 21,
   "id": "painted-deadline",
   "metadata": {},
   "outputs": [
    {
     "data": {
      "text/plain": [
       "array([[   10,  4420],\n",
       "       [   10, 10033],\n",
       "       [   10, 10051],\n",
       "       ...,\n",
       "       [   10,  3743],\n",
       "       [   10,  3743],\n",
       "       [   10,  3734]])"
      ]
     },
     "execution_count": 21,
     "metadata": {},
     "output_type": "execute_result"
    }
   ],
   "source": [
    "# 13 nov -> array\n",
    "tt_nov_array = tt_nov.values\n",
    "tt_nov_array"
   ]
  },
  {
   "cell_type": "code",
   "execution_count": 22,
   "id": "false-utility",
   "metadata": {},
   "outputs": [
    {
     "name": "stdout",
     "output_type": "stream",
     "text": [
      "96736\n"
     ]
    },
    {
     "data": {
      "text/plain": [
       "array([ 4420, 10033, 10051, ...,  3743,  3743,  3734])"
      ]
     },
     "execution_count": 22,
     "metadata": {},
     "output_type": "execute_result"
    }
   ],
   "source": [
    "# 13 nov array에서 추출 \n",
    "tt_nov_item = tt_nov_array[:, 1]\n",
    "print(len(tt_nov_item))\n",
    "tt_nov_item"
   ]
  },
  {
   "cell_type": "code",
   "execution_count": 23,
   "id": "collected-retailer",
   "metadata": {},
   "outputs": [
    {
     "name": "stdout",
     "output_type": "stream",
     "text": [
      "8089\n"
     ]
    },
    {
     "data": {
      "text/plain": [
       "array([   27,    28,    30, ..., 22155, 22166, 22167])"
      ]
     },
     "execution_count": 23,
     "metadata": {},
     "output_type": "execute_result"
    }
   ],
   "source": [
    "# 중복제거\n",
    "tt_nov_item_uniq = np.unique(tt_nov_item)\n",
    "print(len(tt_nov_item_uniq))\n",
    "tt_nov_item_uniq"
   ]
  },
  {
   "cell_type": "code",
   "execution_count": 24,
   "id": "bulgarian-playback",
   "metadata": {},
   "outputs": [
    {
     "name": "stdout",
     "output_type": "stream",
     "text": [
      "13년 11월 신상품 : 489\n",
      "<class 'set'>\n"
     ]
    },
    {
     "data": {
      "text/plain": [
       "{58,\n",
       " 74,\n",
       " 87,\n",
       " 99,\n",
       " 294,\n",
       " 342,\n",
       " 499,\n",
       " 514,\n",
       " 517,\n",
       " 540,\n",
       " 568,\n",
       " 643,\n",
       " 658,\n",
       " 669,\n",
       " 673,\n",
       " 681,\n",
       " 693,\n",
       " 704,\n",
       " 714,\n",
       " 721,\n",
       " 722,\n",
       " 725,\n",
       " 770,\n",
       " 773,\n",
       " 781,\n",
       " 815,\n",
       " 843,\n",
       " 910,\n",
       " 1139,\n",
       " 1152,\n",
       " 1209,\n",
       " 1413,\n",
       " 1414,\n",
       " 1426,\n",
       " 1449,\n",
       " 1495,\n",
       " 1498,\n",
       " 1502,\n",
       " 1505,\n",
       " 1506,\n",
       " 1507,\n",
       " 1510,\n",
       " 1511,\n",
       " 1514,\n",
       " 1519,\n",
       " 1639,\n",
       " 1723,\n",
       " 1724,\n",
       " 1785,\n",
       " 1852,\n",
       " 1853,\n",
       " 1927,\n",
       " 1950,\n",
       " 1961,\n",
       " 1967,\n",
       " 1994,\n",
       " 1996,\n",
       " 2000,\n",
       " 2001,\n",
       " 2002,\n",
       " 2003,\n",
       " 2004,\n",
       " 2005,\n",
       " 2006,\n",
       " 2013,\n",
       " 2019,\n",
       " 2025,\n",
       " 2263,\n",
       " 2267,\n",
       " 2269,\n",
       " 2270,\n",
       " 2273,\n",
       " 2274,\n",
       " 2278,\n",
       " 2279,\n",
       " 2331,\n",
       " 2357,\n",
       " 2358,\n",
       " 2407,\n",
       " 2408,\n",
       " 2409,\n",
       " 2625,\n",
       " 2648,\n",
       " 2658,\n",
       " 2714,\n",
       " 2796,\n",
       " 2797,\n",
       " 2806,\n",
       " 2830,\n",
       " 2888,\n",
       " 2896,\n",
       " 2899,\n",
       " 2906,\n",
       " 2908,\n",
       " 2990,\n",
       " 2992,\n",
       " 2995,\n",
       " 3108,\n",
       " 3117,\n",
       " 3119,\n",
       " 3333,\n",
       " 3525,\n",
       " 3573,\n",
       " 3594,\n",
       " 3807,\n",
       " 3899,\n",
       " 3904,\n",
       " 3930,\n",
       " 4196,\n",
       " 4231,\n",
       " 4271,\n",
       " 4285,\n",
       " 4286,\n",
       " 4303,\n",
       " 4311,\n",
       " 4351,\n",
       " 4352,\n",
       " 4353,\n",
       " 4355,\n",
       " 4427,\n",
       " 4428,\n",
       " 4563,\n",
       " 4568,\n",
       " 4591,\n",
       " 4647,\n",
       " 4670,\n",
       " 4679,\n",
       " 4718,\n",
       " 4737,\n",
       " 4928,\n",
       " 4933,\n",
       " 4949,\n",
       " 5050,\n",
       " 5058,\n",
       " 5071,\n",
       " 5083,\n",
       " 5094,\n",
       " 5100,\n",
       " 5103,\n",
       " 5104,\n",
       " 5127,\n",
       " 5137,\n",
       " 5149,\n",
       " 5154,\n",
       " 5161,\n",
       " 5163,\n",
       " 5166,\n",
       " 5169,\n",
       " 5188,\n",
       " 5210,\n",
       " 5235,\n",
       " 5236,\n",
       " 5238,\n",
       " 5295,\n",
       " 5323,\n",
       " 5437,\n",
       " 5439,\n",
       " 5444,\n",
       " 5479,\n",
       " 5565,\n",
       " 5568,\n",
       " 5577,\n",
       " 5615,\n",
       " 5671,\n",
       " 5672,\n",
       " 5725,\n",
       " 5754,\n",
       " 5785,\n",
       " 5789,\n",
       " 5857,\n",
       " 5898,\n",
       " 5917,\n",
       " 5920,\n",
       " 5942,\n",
       " 6075,\n",
       " 6285,\n",
       " 6339,\n",
       " 6358,\n",
       " 6367,\n",
       " 6419,\n",
       " 6428,\n",
       " 6459,\n",
       " 6641,\n",
       " 6675,\n",
       " 6737,\n",
       " 6758,\n",
       " 6786,\n",
       " 6869,\n",
       " 6889,\n",
       " 6905,\n",
       " 6908,\n",
       " 6945,\n",
       " 6972,\n",
       " 7017,\n",
       " 7099,\n",
       " 7104,\n",
       " 7155,\n",
       " 7161,\n",
       " 7185,\n",
       " 7188,\n",
       " 7297,\n",
       " 7368,\n",
       " 7432,\n",
       " 7451,\n",
       " 7468,\n",
       " 7474,\n",
       " 7477,\n",
       " 7503,\n",
       " 7506,\n",
       " 7515,\n",
       " 7546,\n",
       " 7555,\n",
       " 7565,\n",
       " 7718,\n",
       " 7719,\n",
       " 7720,\n",
       " 7721,\n",
       " 7731,\n",
       " 7736,\n",
       " 7750,\n",
       " 7751,\n",
       " 7752,\n",
       " 7753,\n",
       " 7754,\n",
       " 7755,\n",
       " 7757,\n",
       " 7758,\n",
       " 7759,\n",
       " 7760,\n",
       " 7761,\n",
       " 7762,\n",
       " 7763,\n",
       " 7764,\n",
       " 7765,\n",
       " 7767,\n",
       " 7768,\n",
       " 7851,\n",
       " 7852,\n",
       " 7871,\n",
       " 7872,\n",
       " 7917,\n",
       " 7963,\n",
       " 7980,\n",
       " 8029,\n",
       " 8043,\n",
       " 8112,\n",
       " 8206,\n",
       " 8207,\n",
       " 8349,\n",
       " 8411,\n",
       " 8489,\n",
       " 8523,\n",
       " 8605,\n",
       " 8606,\n",
       " 8670,\n",
       " 8720,\n",
       " 8739,\n",
       " 8744,\n",
       " 8793,\n",
       " 8818,\n",
       " 8976,\n",
       " 9011,\n",
       " 9017,\n",
       " 9077,\n",
       " 9109,\n",
       " 9240,\n",
       " 9284,\n",
       " 9303,\n",
       " 9538,\n",
       " 9554,\n",
       " 9595,\n",
       " 9596,\n",
       " 9654,\n",
       " 9668,\n",
       " 9847,\n",
       " 9850,\n",
       " 9901,\n",
       " 9944,\n",
       " 10050,\n",
       " 10143,\n",
       " 10144,\n",
       " 10218,\n",
       " 10248,\n",
       " 10297,\n",
       " 10299,\n",
       " 10346,\n",
       " 10351,\n",
       " 10543,\n",
       " 10570,\n",
       " 10665,\n",
       " 10690,\n",
       " 10736,\n",
       " 10771,\n",
       " 10799,\n",
       " 10805,\n",
       " 10961,\n",
       " 10993,\n",
       " 10994,\n",
       " 11010,\n",
       " 11022,\n",
       " 11023,\n",
       " 11034,\n",
       " 11075,\n",
       " 11555,\n",
       " 11664,\n",
       " 11754,\n",
       " 11817,\n",
       " 11887,\n",
       " 11973,\n",
       " 12005,\n",
       " 12028,\n",
       " 12110,\n",
       " 12226,\n",
       " 12321,\n",
       " 12322,\n",
       " 12356,\n",
       " 12357,\n",
       " 12380,\n",
       " 12692,\n",
       " 12763,\n",
       " 12764,\n",
       " 12846,\n",
       " 13183,\n",
       " 13479,\n",
       " 13481,\n",
       " 13512,\n",
       " 13518,\n",
       " 13577,\n",
       " 13750,\n",
       " 13873,\n",
       " 13930,\n",
       " 13931,\n",
       " 14068,\n",
       " 14122,\n",
       " 14123,\n",
       " 14145,\n",
       " 14168,\n",
       " 14175,\n",
       " 14227,\n",
       " 14228,\n",
       " 14229,\n",
       " 14275,\n",
       " 14296,\n",
       " 14310,\n",
       " 14427,\n",
       " 14441,\n",
       " 14451,\n",
       " 14454,\n",
       " 14554,\n",
       " 14557,\n",
       " 14657,\n",
       " 14740,\n",
       " 14893,\n",
       " 14934,\n",
       " 15085,\n",
       " 15375,\n",
       " 15521,\n",
       " 15576,\n",
       " 15591,\n",
       " 15718,\n",
       " 15851,\n",
       " 15862,\n",
       " 15863,\n",
       " 15942,\n",
       " 16008,\n",
       " 16101,\n",
       " 16207,\n",
       " 16220,\n",
       " 16275,\n",
       " 16286,\n",
       " 16329,\n",
       " 16389,\n",
       " 16442,\n",
       " 16443,\n",
       " 16527,\n",
       " 16528,\n",
       " 16548,\n",
       " 16591,\n",
       " 16758,\n",
       " 16837,\n",
       " 16925,\n",
       " 16926,\n",
       " 16933,\n",
       " 17174,\n",
       " 17346,\n",
       " 17347,\n",
       " 17642,\n",
       " 17649,\n",
       " 17763,\n",
       " 17886,\n",
       " 17911,\n",
       " 17912,\n",
       " 17933,\n",
       " 17956,\n",
       " 17957,\n",
       " 17958,\n",
       " 18004,\n",
       " 18153,\n",
       " 18154,\n",
       " 18237,\n",
       " 18301,\n",
       " 18359,\n",
       " 18360,\n",
       " 18394,\n",
       " 18402,\n",
       " 18403,\n",
       " 18484,\n",
       " 18485,\n",
       " 18590,\n",
       " 18623,\n",
       " 18702,\n",
       " 18703,\n",
       " 18801,\n",
       " 18804,\n",
       " 18810,\n",
       " 18813,\n",
       " 18815,\n",
       " 18837,\n",
       " 18838,\n",
       " 18839,\n",
       " 18850,\n",
       " 18858,\n",
       " 18884,\n",
       " 18886,\n",
       " 18922,\n",
       " 18954,\n",
       " 18963,\n",
       " 19004,\n",
       " 19076,\n",
       " 19126,\n",
       " 19246,\n",
       " 19303,\n",
       " 19324,\n",
       " 19359,\n",
       " 19377,\n",
       " 19419,\n",
       " 19430,\n",
       " 19513,\n",
       " 19596,\n",
       " 19665,\n",
       " 19687,\n",
       " 19688,\n",
       " 19689,\n",
       " 19690,\n",
       " 19691,\n",
       " 19698,\n",
       " 19837,\n",
       " 19900,\n",
       " 19901,\n",
       " 19902,\n",
       " 19907,\n",
       " 19996,\n",
       " 20000,\n",
       " 20047,\n",
       " 20080,\n",
       " 20088,\n",
       " 20089,\n",
       " 20090,\n",
       " 20203,\n",
       " 20204,\n",
       " 20276,\n",
       " 20385,\n",
       " 20448,\n",
       " 20492,\n",
       " 20499,\n",
       " 20546,\n",
       " 20724,\n",
       " 20792,\n",
       " 20822,\n",
       " 20824,\n",
       " 20826,\n",
       " 20866,\n",
       " 20901,\n",
       " 20902,\n",
       " 21343,\n",
       " 21360,\n",
       " 21378,\n",
       " 21380,\n",
       " 21406,\n",
       " 21407,\n",
       " 21481,\n",
       " 21502,\n",
       " 21503,\n",
       " 21530,\n",
       " 21622,\n",
       " 21625,\n",
       " 21678,\n",
       " 21720,\n",
       " 21721}"
      ]
     },
     "execution_count": 24,
     "metadata": {},
     "output_type": "execute_result"
    }
   ],
   "source": [
    "# tt nov only\n",
    "tt_nov_only = set(tt_nov_item_uniq) - set(tt_oct_item_uniq)\n",
    "print('13년 11월 신상품 :', len(tt_nov_only))\n",
    "print(type(tt_nov_only))\n",
    "tt_nov_only"
   ]
  },
  {
   "cell_type": "code",
   "execution_count": 25,
   "id": "uniform-paint",
   "metadata": {},
   "outputs": [
    {
     "data": {
      "text/plain": [
       "[16389,\n",
       " 10248,\n",
       " 20492,\n",
       " 8206,\n",
       " 8207,\n",
       " 20499,\n",
       " 12321,\n",
       " 12322,\n",
       " 18484,\n",
       " 18485,\n",
       " 10297,\n",
       " 58,\n",
       " 10299,\n",
       " 16442,\n",
       " 16443,\n",
       " 20546,\n",
       " 12356,\n",
       " 12357,\n",
       " 74,\n",
       " 87,\n",
       " 14427,\n",
       " 12380,\n",
       " 99,\n",
       " 4196,\n",
       " 14441,\n",
       " 10346,\n",
       " 10351,\n",
       " 14451,\n",
       " 14454,\n",
       " 4231,\n",
       " 6285,\n",
       " 16527,\n",
       " 16528,\n",
       " 8349,\n",
       " 18590,\n",
       " 16548,\n",
       " 4271,\n",
       " 4285,\n",
       " 4286,\n",
       " 18623,\n",
       " 6339,\n",
       " 4303,\n",
       " 16591,\n",
       " 6358,\n",
       " 2263,\n",
       " 4311,\n",
       " 14554,\n",
       " 2267,\n",
       " 8411,\n",
       " 2269,\n",
       " 2270,\n",
       " 6367,\n",
       " 14557,\n",
       " 2273,\n",
       " 2274,\n",
       " 2278,\n",
       " 2279,\n",
       " 20724,\n",
       " 4351,\n",
       " 4352,\n",
       " 4353,\n",
       " 4355,\n",
       " 18702,\n",
       " 18703,\n",
       " 6419,\n",
       " 2331,\n",
       " 6428,\n",
       " 294,\n",
       " 8489,\n",
       " 10543,\n",
       " 2357,\n",
       " 2358,\n",
       " 20792,\n",
       " 6459,\n",
       " 14657,\n",
       " 10570,\n",
       " 4427,\n",
       " 4428,\n",
       " 8523,\n",
       " 342,\n",
       " 20822,\n",
       " 20824,\n",
       " 20826,\n",
       " 2407,\n",
       " 2408,\n",
       " 2409,\n",
       " 18801,\n",
       " 18804,\n",
       " 16758,\n",
       " 18810,\n",
       " 18813,\n",
       " 18815,\n",
       " 20866,\n",
       " 12692,\n",
       " 14740,\n",
       " 18837,\n",
       " 18838,\n",
       " 18839,\n",
       " 8605,\n",
       " 8606,\n",
       " 18850,\n",
       " 20901,\n",
       " 20902,\n",
       " 10665,\n",
       " 18858,\n",
       " 10690,\n",
       " 18884,\n",
       " 16837,\n",
       " 18886,\n",
       " 4563,\n",
       " 4568,\n",
       " 12763,\n",
       " 12764,\n",
       " 8670,\n",
       " 18922,\n",
       " 4591,\n",
       " 10736,\n",
       " 6641,\n",
       " 499,\n",
       " 20047,\n",
       " 514,\n",
       " 517,\n",
       " 18954,\n",
       " 8720,\n",
       " 6675,\n",
       " 10771,\n",
       " 18963,\n",
       " 540,\n",
       " 16925,\n",
       " 16926,\n",
       " 8739,\n",
       " 16933,\n",
       " 4647,\n",
       " 8744,\n",
       " 14893,\n",
       " 12846,\n",
       " 10799,\n",
       " 10805,\n",
       " 568,\n",
       " 19004,\n",
       " 4670,\n",
       " 2625,\n",
       " 4679,\n",
       " 6737,\n",
       " 14934,\n",
       " 2648,\n",
       " 8793,\n",
       " 2658,\n",
       " 6758,\n",
       " 4718,\n",
       " 8818,\n",
       " 4737,\n",
       " 6786,\n",
       " 643,\n",
       " 19076,\n",
       " 658,\n",
       " 2714,\n",
       " 669,\n",
       " 673,\n",
       " 681,\n",
       " 693,\n",
       " 19126,\n",
       " 704,\n",
       " 714,\n",
       " 721,\n",
       " 722,\n",
       " 10961,\n",
       " 725,\n",
       " 6869,\n",
       " 6889,\n",
       " 2796,\n",
       " 2797,\n",
       " 15085,\n",
       " 10993,\n",
       " 10994,\n",
       " 2806,\n",
       " 6905,\n",
       " 6908,\n",
       " 770,\n",
       " 11010,\n",
       " 773,\n",
       " 781,\n",
       " 2830,\n",
       " 11022,\n",
       " 8976,\n",
       " 11023,\n",
       " 17174,\n",
       " 11034,\n",
       " 6945,\n",
       " 19246,\n",
       " 815,\n",
       " 9011,\n",
       " 9017,\n",
       " 6972,\n",
       " 4928,\n",
       " 11075,\n",
       " 4933,\n",
       " 2888,\n",
       " 843,\n",
       " 2896,\n",
       " 2899,\n",
       " 4949,\n",
       " 2906,\n",
       " 2908,\n",
       " 21343,\n",
       " 19303,\n",
       " 7017,\n",
       " 21360,\n",
       " 9077,\n",
       " 19324,\n",
       " 13183,\n",
       " 21378,\n",
       " 21380,\n",
       " 910,\n",
       " 9109,\n",
       " 21406,\n",
       " 19359,\n",
       " 21407,\n",
       " 2990,\n",
       " 2992,\n",
       " 19377,\n",
       " 2995,\n",
       " 5050,\n",
       " 7099,\n",
       " 7104,\n",
       " 5058,\n",
       " 17346,\n",
       " 17347,\n",
       " 5071,\n",
       " 5083,\n",
       " 19419,\n",
       " 5094,\n",
       " 19430,\n",
       " 21481,\n",
       " 5100,\n",
       " 5103,\n",
       " 5104,\n",
       " 7155,\n",
       " 7161,\n",
       " 21502,\n",
       " 21503,\n",
       " 5127,\n",
       " 15375,\n",
       " 5137,\n",
       " 7185,\n",
       " 7188,\n",
       " 9240,\n",
       " 21530,\n",
       " 5149,\n",
       " 5154,\n",
       " 3108,\n",
       " 5161,\n",
       " 5163,\n",
       " 3117,\n",
       " 5166,\n",
       " 3119,\n",
       " 5169,\n",
       " 19513,\n",
       " 5188,\n",
       " 9284,\n",
       " 9303,\n",
       " 5210,\n",
       " 1139,\n",
       " 5235,\n",
       " 5236,\n",
       " 5238,\n",
       " 21622,\n",
       " 21625,\n",
       " 1152,\n",
       " 7297,\n",
       " 19596,\n",
       " 15521,\n",
       " 13479,\n",
       " 13481,\n",
       " 21678,\n",
       " 5295,\n",
       " 1209,\n",
       " 7368,\n",
       " 13512,\n",
       " 5323,\n",
       " 13518,\n",
       " 19665,\n",
       " 15576,\n",
       " 21720,\n",
       " 21721,\n",
       " 15591,\n",
       " 19687,\n",
       " 19688,\n",
       " 17642,\n",
       " 19689,\n",
       " 19690,\n",
       " 19691,\n",
       " 17649,\n",
       " 19698,\n",
       " 3333,\n",
       " 7432,\n",
       " 13577,\n",
       " 7451,\n",
       " 11555,\n",
       " 7468,\n",
       " 7474,\n",
       " 7477,\n",
       " 5437,\n",
       " 5439,\n",
       " 9538,\n",
       " 5444,\n",
       " 7503,\n",
       " 7506,\n",
       " 9554,\n",
       " 7515,\n",
       " 17763,\n",
       " 15718,\n",
       " 5479,\n",
       " 7546,\n",
       " 9595,\n",
       " 9596,\n",
       " 19837,\n",
       " 7555,\n",
       " 1413,\n",
       " 1414,\n",
       " 7565,\n",
       " 11664,\n",
       " 1426,\n",
       " 1449,\n",
       " 9654,\n",
       " 13750,\n",
       " 19900,\n",
       " 5565,\n",
       " 19901,\n",
       " 19902,\n",
       " 5568,\n",
       " 19907,\n",
       " 9668,\n",
       " 3525,\n",
       " 5577,\n",
       " 1495,\n",
       " 1498,\n",
       " 1502,\n",
       " 17886,\n",
       " 1505,\n",
       " 1506,\n",
       " 1507,\n",
       " 1510,\n",
       " 1511,\n",
       " 1514,\n",
       " 11754,\n",
       " 15851,\n",
       " 1519,\n",
       " 5615,\n",
       " 3573,\n",
       " 15862,\n",
       " 15863,\n",
       " 17911,\n",
       " 17912,\n",
       " 3594,\n",
       " 17933,\n",
       " 19996,\n",
       " 20000,\n",
       " 17956,\n",
       " 17957,\n",
       " 7718,\n",
       " 5671,\n",
       " 5672,\n",
       " 7719,\n",
       " 7720,\n",
       " 7721,\n",
       " 11817,\n",
       " 17958,\n",
       " 13873,\n",
       " 7731,\n",
       " 7736,\n",
       " 7750,\n",
       " 7751,\n",
       " 7752,\n",
       " 7753,\n",
       " 7754,\n",
       " 7755,\n",
       " 15942,\n",
       " 7757,\n",
       " 7758,\n",
       " 7759,\n",
       " 7760,\n",
       " 7761,\n",
       " 7762,\n",
       " 7763,\n",
       " 7764,\n",
       " 7765,\n",
       " 18004,\n",
       " 7767,\n",
       " 7768,\n",
       " 5725,\n",
       " 1639,\n",
       " 13930,\n",
       " 13931,\n",
       " 11887,\n",
       " 20080,\n",
       " 9847,\n",
       " 20088,\n",
       " 20089,\n",
       " 5754,\n",
       " 9850,\n",
       " 20090,\n",
       " 16008,\n",
       " 5785,\n",
       " 5789,\n",
       " 7851,\n",
       " 7852,\n",
       " 9901,\n",
       " 1723,\n",
       " 1724,\n",
       " 7871,\n",
       " 7872,\n",
       " 11973,\n",
       " 9944,\n",
       " 3807,\n",
       " 5857,\n",
       " 12005,\n",
       " 16101,\n",
       " 18153,\n",
       " 18154,\n",
       " 20203,\n",
       " 20204,\n",
       " 7917,\n",
       " 14068,\n",
       " 1785,\n",
       " 12028,\n",
       " 5898,\n",
       " 7963,\n",
       " 5917,\n",
       " 5920,\n",
       " 14122,\n",
       " 14123,\n",
       " 7980,\n",
       " 20276,\n",
       " 5942,\n",
       " 3899,\n",
       " 1852,\n",
       " 1853,\n",
       " 18237,\n",
       " 3904,\n",
       " 14145,\n",
       " 10050,\n",
       " 12110,\n",
       " 16207,\n",
       " 14168,\n",
       " 3930,\n",
       " 16220,\n",
       " 8029,\n",
       " 14175,\n",
       " 8043,\n",
       " 18301,\n",
       " 1927,\n",
       " 14227,\n",
       " 14228,\n",
       " 14229,\n",
       " 16275,\n",
       " 1950,\n",
       " 10143,\n",
       " 10144,\n",
       " 16286,\n",
       " 20385,\n",
       " 1961,\n",
       " 1967,\n",
       " 8112,\n",
       " 18359,\n",
       " 18360,\n",
       " 6075,\n",
       " 12226,\n",
       " 14275,\n",
       " 16329,\n",
       " 1994,\n",
       " 1996,\n",
       " 2000,\n",
       " 2001,\n",
       " 2002,\n",
       " 2003,\n",
       " 2004,\n",
       " 2005,\n",
       " 2006,\n",
       " 14296,\n",
       " 18394,\n",
       " 2013,\n",
       " 20448,\n",
       " 18402,\n",
       " 2019,\n",
       " 18403,\n",
       " 14310,\n",
       " 2025,\n",
       " 10218]"
      ]
     },
     "execution_count": 25,
     "metadata": {},
     "output_type": "execute_result"
    }
   ],
   "source": [
    "lst_tt_nov_only = list(tt_nov_only)\n",
    "lst_tt_nov_only"
   ]
  },
  {
   "cell_type": "markdown",
   "id": "veterinary-platform",
   "metadata": {},
   "source": [
    "## 13년 11월 신상품 얼마인지 dict이나 dataframe으로 그리고 가격"
   ]
  },
  {
   "cell_type": "code",
   "execution_count": 26,
   "id": "secure-synthesis",
   "metadata": {},
   "outputs": [
    {
     "data": {
      "text/html": [
       "<div>\n",
       "<style scoped>\n",
       "    .dataframe tbody tr th:only-of-type {\n",
       "        vertical-align: middle;\n",
       "    }\n",
       "\n",
       "    .dataframe tbody tr th {\n",
       "        vertical-align: top;\n",
       "    }\n",
       "\n",
       "    .dataframe thead th {\n",
       "        text-align: right;\n",
       "    }\n",
       "</style>\n",
       "<table border=\"1\" class=\"dataframe\">\n",
       "  <thead>\n",
       "    <tr style=\"text-align: right;\">\n",
       "      <th></th>\n",
       "      <th>date</th>\n",
       "      <th>date_block_num</th>\n",
       "      <th>shop_id</th>\n",
       "      <th>item_id</th>\n",
       "      <th>item_price</th>\n",
       "      <th>item_cnt_day</th>\n",
       "    </tr>\n",
       "  </thead>\n",
       "  <tbody>\n",
       "    <tr>\n",
       "      <th>1027637</th>\n",
       "      <td>30.11.2013</td>\n",
       "      <td>10</td>\n",
       "      <td>28</td>\n",
       "      <td>10297</td>\n",
       "      <td>749.0</td>\n",
       "      <td>1.0</td>\n",
       "    </tr>\n",
       "    <tr>\n",
       "      <th>1027690</th>\n",
       "      <td>30.11.2013</td>\n",
       "      <td>10</td>\n",
       "      <td>28</td>\n",
       "      <td>10299</td>\n",
       "      <td>1399.0</td>\n",
       "      <td>1.0</td>\n",
       "    </tr>\n",
       "    <tr>\n",
       "      <th>1027713</th>\n",
       "      <td>21.11.2013</td>\n",
       "      <td>10</td>\n",
       "      <td>28</td>\n",
       "      <td>9077</td>\n",
       "      <td>299.0</td>\n",
       "      <td>1.0</td>\n",
       "    </tr>\n",
       "    <tr>\n",
       "      <th>1027714</th>\n",
       "      <td>24.11.2013</td>\n",
       "      <td>10</td>\n",
       "      <td>28</td>\n",
       "      <td>9077</td>\n",
       "      <td>299.0</td>\n",
       "      <td>1.0</td>\n",
       "    </tr>\n",
       "    <tr>\n",
       "      <th>1027715</th>\n",
       "      <td>30.11.2013</td>\n",
       "      <td>10</td>\n",
       "      <td>28</td>\n",
       "      <td>9077</td>\n",
       "      <td>299.0</td>\n",
       "      <td>1.0</td>\n",
       "    </tr>\n",
       "    <tr>\n",
       "      <th>...</th>\n",
       "      <td>...</td>\n",
       "      <td>...</td>\n",
       "      <td>...</td>\n",
       "      <td>...</td>\n",
       "      <td>...</td>\n",
       "      <td>...</td>\n",
       "    </tr>\n",
       "    <tr>\n",
       "      <th>1124068</th>\n",
       "      <td>29.11.2013</td>\n",
       "      <td>10</td>\n",
       "      <td>50</td>\n",
       "      <td>3333</td>\n",
       "      <td>2599.0</td>\n",
       "      <td>8.0</td>\n",
       "    </tr>\n",
       "    <tr>\n",
       "      <th>1124125</th>\n",
       "      <td>29.11.2013</td>\n",
       "      <td>10</td>\n",
       "      <td>50</td>\n",
       "      <td>4271</td>\n",
       "      <td>2799.0</td>\n",
       "      <td>7.0</td>\n",
       "    </tr>\n",
       "    <tr>\n",
       "      <th>1124196</th>\n",
       "      <td>30.11.2013</td>\n",
       "      <td>10</td>\n",
       "      <td>50</td>\n",
       "      <td>3899</td>\n",
       "      <td>299.0</td>\n",
       "      <td>1.0</td>\n",
       "    </tr>\n",
       "    <tr>\n",
       "      <th>1124234</th>\n",
       "      <td>29.11.2013</td>\n",
       "      <td>10</td>\n",
       "      <td>50</td>\n",
       "      <td>4231</td>\n",
       "      <td>2799.0</td>\n",
       "      <td>25.0</td>\n",
       "    </tr>\n",
       "    <tr>\n",
       "      <th>1124235</th>\n",
       "      <td>30.11.2013</td>\n",
       "      <td>10</td>\n",
       "      <td>50</td>\n",
       "      <td>4231</td>\n",
       "      <td>2799.0</td>\n",
       "      <td>6.0</td>\n",
       "    </tr>\n",
       "  </tbody>\n",
       "</table>\n",
       "<p>13760 rows × 6 columns</p>\n",
       "</div>"
      ],
      "text/plain": [
       "               date  date_block_num  shop_id  item_id  item_price  \\\n",
       "1027637  30.11.2013              10       28    10297       749.0   \n",
       "1027690  30.11.2013              10       28    10299      1399.0   \n",
       "1027713  21.11.2013              10       28     9077       299.0   \n",
       "1027714  24.11.2013              10       28     9077       299.0   \n",
       "1027715  30.11.2013              10       28     9077       299.0   \n",
       "...             ...             ...      ...      ...         ...   \n",
       "1124068  29.11.2013              10       50     3333      2599.0   \n",
       "1124125  29.11.2013              10       50     4271      2799.0   \n",
       "1124196  30.11.2013              10       50     3899       299.0   \n",
       "1124234  29.11.2013              10       50     4231      2799.0   \n",
       "1124235  30.11.2013              10       50     4231      2799.0   \n",
       "\n",
       "         item_cnt_day  \n",
       "1027637           1.0  \n",
       "1027690           1.0  \n",
       "1027713           1.0  \n",
       "1027714           1.0  \n",
       "1027715           1.0  \n",
       "...               ...  \n",
       "1124068           8.0  \n",
       "1124125           7.0  \n",
       "1124196           1.0  \n",
       "1124234          25.0  \n",
       "1124235           6.0  \n",
       "\n",
       "[13760 rows x 6 columns]"
      ]
     },
     "execution_count": 26,
     "metadata": {},
     "output_type": "execute_result"
    }
   ],
   "source": [
    "# 13년 11월\n",
    "tt_nov_new = data[data['item_id'].isin(lst_tt_nov_only)]\n",
    "tt_nov_new = tt_nov_new[tt_nov_new['date_block_num'] == 10]\n",
    "tt_nov_new"
   ]
  },
  {
   "cell_type": "code",
   "execution_count": 27,
   "id": "hispanic-tribe",
   "metadata": {},
   "outputs": [
    {
     "data": {
      "text/plain": [
       "82976"
      ]
     },
     "execution_count": 27,
     "metadata": {},
     "output_type": "execute_result"
    }
   ],
   "source": [
    "len(tt_nov_item) - len(tt_nov_new)"
   ]
  },
  {
   "cell_type": "markdown",
   "id": "chief-panel",
   "metadata": {},
   "source": [
    "82976개는 기존에도 팔던거,  \n",
    "13760개는 11월 신상품"
   ]
  },
  {
   "cell_type": "code",
   "execution_count": 28,
   "id": "twenty-original",
   "metadata": {},
   "outputs": [
    {
     "name": "stdout",
     "output_type": "stream",
     "text": [
      "count    13760.000000\n",
      "mean      1128.557608\n",
      "std       1693.105961\n",
      "min         22.400000\n",
      "25%        399.000000\n",
      "50%        699.000000\n",
      "75%       1399.000000\n",
      "max      18665.000000\n",
      "Name: item_price, dtype: float64\n"
     ]
    }
   ],
   "source": [
    "print(tt_nov_new['item_price'].describe())"
   ]
  },
  {
   "cell_type": "markdown",
   "id": "organized-holly",
   "metadata": {},
   "source": [
    "13년 11월 신상품의 가격 평균은 1128.56 이다."
   ]
  },
  {
   "cell_type": "markdown",
   "id": "processed-astronomy",
   "metadata": {},
   "source": [
    "# 14년 11월 신상품"
   ]
  },
  {
   "cell_type": "markdown",
   "id": "enormous-donor",
   "metadata": {},
   "source": [
    "## 14년 10월까지 팔렸던 상품들"
   ]
  },
  {
   "cell_type": "code",
   "execution_count": 29,
   "id": "designing-richards",
   "metadata": {},
   "outputs": [
    {
     "data": {
      "text/html": [
       "<div>\n",
       "<style scoped>\n",
       "    .dataframe tbody tr th:only-of-type {\n",
       "        vertical-align: middle;\n",
       "    }\n",
       "\n",
       "    .dataframe tbody tr th {\n",
       "        vertical-align: top;\n",
       "    }\n",
       "\n",
       "    .dataframe thead th {\n",
       "        text-align: right;\n",
       "    }\n",
       "</style>\n",
       "<table border=\"1\" class=\"dataframe\">\n",
       "  <thead>\n",
       "    <tr style=\"text-align: right;\">\n",
       "      <th></th>\n",
       "      <th>date_block_num</th>\n",
       "      <th>item_id</th>\n",
       "    </tr>\n",
       "  </thead>\n",
       "  <tbody>\n",
       "    <tr>\n",
       "      <th>0</th>\n",
       "      <td>0</td>\n",
       "      <td>22154</td>\n",
       "    </tr>\n",
       "    <tr>\n",
       "      <th>1</th>\n",
       "      <td>0</td>\n",
       "      <td>2552</td>\n",
       "    </tr>\n",
       "    <tr>\n",
       "      <th>2</th>\n",
       "      <td>0</td>\n",
       "      <td>2552</td>\n",
       "    </tr>\n",
       "    <tr>\n",
       "      <th>3</th>\n",
       "      <td>0</td>\n",
       "      <td>2554</td>\n",
       "    </tr>\n",
       "    <tr>\n",
       "      <th>4</th>\n",
       "      <td>0</td>\n",
       "      <td>2555</td>\n",
       "    </tr>\n",
       "    <tr>\n",
       "      <th>...</th>\n",
       "      <td>...</td>\n",
       "      <td>...</td>\n",
       "    </tr>\n",
       "    <tr>\n",
       "      <th>2106204</th>\n",
       "      <td>21</td>\n",
       "      <td>7351</td>\n",
       "    </tr>\n",
       "    <tr>\n",
       "      <th>2106205</th>\n",
       "      <td>21</td>\n",
       "      <td>7492</td>\n",
       "    </tr>\n",
       "    <tr>\n",
       "      <th>2106206</th>\n",
       "      <td>21</td>\n",
       "      <td>7215</td>\n",
       "    </tr>\n",
       "    <tr>\n",
       "      <th>2106207</th>\n",
       "      <td>21</td>\n",
       "      <td>12596</td>\n",
       "    </tr>\n",
       "    <tr>\n",
       "      <th>2106208</th>\n",
       "      <td>21</td>\n",
       "      <td>18335</td>\n",
       "    </tr>\n",
       "  </tbody>\n",
       "</table>\n",
       "<p>2106209 rows × 2 columns</p>\n",
       "</div>"
      ],
      "text/plain": [
       "         date_block_num  item_id\n",
       "0                     0    22154\n",
       "1                     0     2552\n",
       "2                     0     2552\n",
       "3                     0     2554\n",
       "4                     0     2555\n",
       "...                 ...      ...\n",
       "2106204              21     7351\n",
       "2106205              21     7492\n",
       "2106206              21     7215\n",
       "2106207              21    12596\n",
       "2106208              21    18335\n",
       "\n",
       "[2106209 rows x 2 columns]"
      ]
     },
     "execution_count": 29,
     "metadata": {},
     "output_type": "execute_result"
    }
   ],
   "source": [
    "# 14년 10월까지\n",
    "ft_oct = num_item_id[num_item_id['date_block_num'].isin([0,1,2,3,4,5,6,7,8,9,10,11,\n",
    "                                                         12,13,14,15,16,17,18,19,20,21])]\n",
    "ft_oct"
   ]
  },
  {
   "cell_type": "code",
   "execution_count": 30,
   "id": "applied-chancellor",
   "metadata": {},
   "outputs": [
    {
     "data": {
      "text/plain": [
       "array([[    0, 22154],\n",
       "       [    0,  2552],\n",
       "       [    0,  2552],\n",
       "       ...,\n",
       "       [   21,  7215],\n",
       "       [   21, 12596],\n",
       "       [   21, 18335]])"
      ]
     },
     "execution_count": 30,
     "metadata": {},
     "output_type": "execute_result"
    }
   ],
   "source": [
    "# 14 oct -> array\n",
    "ft_oct_array = ft_oct.values\n",
    "ft_oct_array"
   ]
  },
  {
   "cell_type": "code",
   "execution_count": 31,
   "id": "numerical-skirt",
   "metadata": {},
   "outputs": [
    {
     "name": "stdout",
     "output_type": "stream",
     "text": [
      "2106209\n"
     ]
    },
    {
     "data": {
      "text/plain": [
       "array([22154,  2552,  2552, ...,  7215, 12596, 18335])"
      ]
     },
     "execution_count": 31,
     "metadata": {},
     "output_type": "execute_result"
    }
   ],
   "source": [
    "# 14 oct array에서 추출 \n",
    "ft_oct_item = ft_oct_array[:, 1]\n",
    "print(len(ft_oct_item))\n",
    "ft_oct_item"
   ]
  },
  {
   "cell_type": "code",
   "execution_count": 32,
   "id": "annual-celebrity",
   "metadata": {},
   "outputs": [
    {
     "name": "stdout",
     "output_type": "stream",
     "text": [
      "18115\n"
     ]
    },
    {
     "data": {
      "text/plain": [
       "array([    0,     1,     2, ..., 22167, 22168, 22169])"
      ]
     },
     "execution_count": 32,
     "metadata": {},
     "output_type": "execute_result"
    }
   ],
   "source": [
    "# 중복제거\n",
    "ft_oct_item_uniq = np.unique(ft_oct_item)\n",
    "print(len(ft_oct_item_uniq))\n",
    "ft_oct_item_uniq"
   ]
  },
  {
   "cell_type": "markdown",
   "id": "vulnerable-estimate",
   "metadata": {},
   "source": [
    "## 14년 11월 신상품"
   ]
  },
  {
   "cell_type": "code",
   "execution_count": 33,
   "id": "under-corruption",
   "metadata": {},
   "outputs": [
    {
     "data": {
      "text/html": [
       "<div>\n",
       "<style scoped>\n",
       "    .dataframe tbody tr th:only-of-type {\n",
       "        vertical-align: middle;\n",
       "    }\n",
       "\n",
       "    .dataframe tbody tr th {\n",
       "        vertical-align: top;\n",
       "    }\n",
       "\n",
       "    .dataframe thead th {\n",
       "        text-align: right;\n",
       "    }\n",
       "</style>\n",
       "<table border=\"1\" class=\"dataframe\">\n",
       "  <thead>\n",
       "    <tr style=\"text-align: right;\">\n",
       "      <th></th>\n",
       "      <th>date_block_num</th>\n",
       "      <th>item_id</th>\n",
       "    </tr>\n",
       "  </thead>\n",
       "  <tbody>\n",
       "    <tr>\n",
       "      <th>2106209</th>\n",
       "      <td>22</td>\n",
       "      <td>3460</td>\n",
       "    </tr>\n",
       "    <tr>\n",
       "      <th>2106210</th>\n",
       "      <td>22</td>\n",
       "      <td>4615</td>\n",
       "    </tr>\n",
       "    <tr>\n",
       "      <th>2106211</th>\n",
       "      <td>22</td>\n",
       "      <td>4870</td>\n",
       "    </tr>\n",
       "    <tr>\n",
       "      <th>2106212</th>\n",
       "      <td>22</td>\n",
       "      <td>4870</td>\n",
       "    </tr>\n",
       "    <tr>\n",
       "      <th>2106213</th>\n",
       "      <td>22</td>\n",
       "      <td>4870</td>\n",
       "    </tr>\n",
       "    <tr>\n",
       "      <th>...</th>\n",
       "      <td>...</td>\n",
       "      <td>...</td>\n",
       "    </tr>\n",
       "    <tr>\n",
       "      <th>2192632</th>\n",
       "      <td>22</td>\n",
       "      <td>59</td>\n",
       "    </tr>\n",
       "    <tr>\n",
       "      <th>2192633</th>\n",
       "      <td>22</td>\n",
       "      <td>59</td>\n",
       "    </tr>\n",
       "    <tr>\n",
       "      <th>2192634</th>\n",
       "      <td>22</td>\n",
       "      <td>77</td>\n",
       "    </tr>\n",
       "    <tr>\n",
       "      <th>2192635</th>\n",
       "      <td>22</td>\n",
       "      <td>32</td>\n",
       "    </tr>\n",
       "    <tr>\n",
       "      <th>2192636</th>\n",
       "      <td>22</td>\n",
       "      <td>32</td>\n",
       "    </tr>\n",
       "  </tbody>\n",
       "</table>\n",
       "<p>86428 rows × 2 columns</p>\n",
       "</div>"
      ],
      "text/plain": [
       "         date_block_num  item_id\n",
       "2106209              22     3460\n",
       "2106210              22     4615\n",
       "2106211              22     4870\n",
       "2106212              22     4870\n",
       "2106213              22     4870\n",
       "...                 ...      ...\n",
       "2192632              22       59\n",
       "2192633              22       59\n",
       "2192634              22       77\n",
       "2192635              22       32\n",
       "2192636              22       32\n",
       "\n",
       "[86428 rows x 2 columns]"
      ]
     },
     "execution_count": 33,
     "metadata": {},
     "output_type": "execute_result"
    }
   ],
   "source": [
    "# 14년 11월\n",
    "ft_nov = num_item_id[num_item_id['date_block_num'] == 22]\n",
    "ft_nov"
   ]
  },
  {
   "cell_type": "code",
   "execution_count": 34,
   "id": "integral-matthew",
   "metadata": {},
   "outputs": [
    {
     "data": {
      "text/plain": [
       "array([[  22, 3460],\n",
       "       [  22, 4615],\n",
       "       [  22, 4870],\n",
       "       ...,\n",
       "       [  22,   77],\n",
       "       [  22,   32],\n",
       "       [  22,   32]])"
      ]
     },
     "execution_count": 34,
     "metadata": {},
     "output_type": "execute_result"
    }
   ],
   "source": [
    "# 14 nov -> array\n",
    "ft_nov_array = ft_nov.values\n",
    "ft_nov_array"
   ]
  },
  {
   "cell_type": "code",
   "execution_count": 35,
   "id": "critical-funds",
   "metadata": {},
   "outputs": [
    {
     "name": "stdout",
     "output_type": "stream",
     "text": [
      "86428\n"
     ]
    },
    {
     "data": {
      "text/plain": [
       "array([3460, 4615, 4870, ...,   77,   32,   32])"
      ]
     },
     "execution_count": 35,
     "metadata": {},
     "output_type": "execute_result"
    }
   ],
   "source": [
    "# 14 nov array에서 추출 \n",
    "ft_nov_item = ft_nov_array[:, 1]\n",
    "print(len(ft_nov_item))\n",
    "ft_nov_item"
   ]
  },
  {
   "cell_type": "code",
   "execution_count": 36,
   "id": "ongoing-principle",
   "metadata": {},
   "outputs": [
    {
     "name": "stdout",
     "output_type": "stream",
     "text": [
      "6322\n"
     ]
    },
    {
     "data": {
      "text/plain": [
       "array([    2,    11,    15, ..., 22146, 22166, 22167])"
      ]
     },
     "execution_count": 36,
     "metadata": {},
     "output_type": "execute_result"
    }
   ],
   "source": [
    "# 중복제거\n",
    "ft_nov_item_uniq = np.unique(ft_nov_item)\n",
    "print(len(ft_nov_item_uniq))\n",
    "ft_nov_item_uniq"
   ]
  },
  {
   "cell_type": "code",
   "execution_count": 37,
   "id": "reliable-steps",
   "metadata": {},
   "outputs": [
    {
     "name": "stdout",
     "output_type": "stream",
     "text": [
      "14년 11월 신상품 : 460\n",
      "<class 'set'>\n"
     ]
    },
    {
     "data": {
      "text/plain": [
       "{11,\n",
       " 15,\n",
       " 107,\n",
       " 108,\n",
       " 179,\n",
       " 220,\n",
       " 236,\n",
       " 270,\n",
       " 396,\n",
       " 757,\n",
       " 856,\n",
       " 962,\n",
       " 1185,\n",
       " 1450,\n",
       " 1534,\n",
       " 1535,\n",
       " 1542,\n",
       " 1543,\n",
       " 1548,\n",
       " 1549,\n",
       " 1550,\n",
       " 1553,\n",
       " 1555,\n",
       " 1556,\n",
       " 1557,\n",
       " 1559,\n",
       " 1564,\n",
       " 1565,\n",
       " 1569,\n",
       " 1570,\n",
       " 1774,\n",
       " 1784,\n",
       " 1789,\n",
       " 1792,\n",
       " 1794,\n",
       " 1797,\n",
       " 1798,\n",
       " 2261,\n",
       " 2283,\n",
       " 2284,\n",
       " 2285,\n",
       " 2286,\n",
       " 2287,\n",
       " 2288,\n",
       " 2289,\n",
       " 2290,\n",
       " 2291,\n",
       " 2292,\n",
       " 2293,\n",
       " 2294,\n",
       " 2295,\n",
       " 2296,\n",
       " 2297,\n",
       " 2347,\n",
       " 2418,\n",
       " 2591,\n",
       " 2592,\n",
       " 2597,\n",
       " 2643,\n",
       " 2651,\n",
       " 2729,\n",
       " 2834,\n",
       " 2837,\n",
       " 2841,\n",
       " 2842,\n",
       " 2928,\n",
       " 2970,\n",
       " 2978,\n",
       " 3026,\n",
       " 3027,\n",
       " 3028,\n",
       " 3029,\n",
       " 3030,\n",
       " 3031,\n",
       " 3032,\n",
       " 3033,\n",
       " 3216,\n",
       " 3217,\n",
       " 3218,\n",
       " 3241,\n",
       " 3257,\n",
       " 3258,\n",
       " 3259,\n",
       " 3396,\n",
       " 3398,\n",
       " 3403,\n",
       " 3411,\n",
       " 3447,\n",
       " 3448,\n",
       " 3449,\n",
       " 3450,\n",
       " 3451,\n",
       " 3452,\n",
       " 3455,\n",
       " 3460,\n",
       " 3461,\n",
       " 3462,\n",
       " 3463,\n",
       " 3464,\n",
       " 3466,\n",
       " 3537,\n",
       " 3602,\n",
       " 3641,\n",
       " 3672,\n",
       " 3675,\n",
       " 3733,\n",
       " 3735,\n",
       " 3774,\n",
       " 3789,\n",
       " 3791,\n",
       " 3841,\n",
       " 3842,\n",
       " 3891,\n",
       " 3931,\n",
       " 4011,\n",
       " 4191,\n",
       " 4198,\n",
       " 4217,\n",
       " 4219,\n",
       " 4334,\n",
       " 4335,\n",
       " 4336,\n",
       " 4337,\n",
       " 4338,\n",
       " 4339,\n",
       " 4341,\n",
       " 4342,\n",
       " 4346,\n",
       " 4369,\n",
       " 4424,\n",
       " 4478,\n",
       " 4479,\n",
       " 4491,\n",
       " 4494,\n",
       " 4495,\n",
       " 4730,\n",
       " 4854,\n",
       " 4871,\n",
       " 4881,\n",
       " 4903,\n",
       " 4905,\n",
       " 4917,\n",
       " 4951,\n",
       " 4954,\n",
       " 5010,\n",
       " 5011,\n",
       " 5020,\n",
       " 5046,\n",
       " 5049,\n",
       " 5053,\n",
       " 5076,\n",
       " 5105,\n",
       " 5124,\n",
       " 5130,\n",
       " 5140,\n",
       " 5153,\n",
       " 5167,\n",
       " 5184,\n",
       " 5247,\n",
       " 5281,\n",
       " 5282,\n",
       " 5319,\n",
       " 5411,\n",
       " 5488,\n",
       " 5489,\n",
       " 5490,\n",
       " 5684,\n",
       " 5763,\n",
       " 5765,\n",
       " 5832,\n",
       " 5833,\n",
       " 5834,\n",
       " 5835,\n",
       " 5836,\n",
       " 5900,\n",
       " 5901,\n",
       " 5902,\n",
       " 5903,\n",
       " 5904,\n",
       " 5971,\n",
       " 6051,\n",
       " 6062,\n",
       " 6063,\n",
       " 6064,\n",
       " 6145,\n",
       " 6170,\n",
       " 6171,\n",
       " 6173,\n",
       " 6225,\n",
       " 6226,\n",
       " 6234,\n",
       " 6276,\n",
       " 6308,\n",
       " 6398,\n",
       " 6411,\n",
       " 6420,\n",
       " 6421,\n",
       " 6426,\n",
       " 6509,\n",
       " 6946,\n",
       " 6947,\n",
       " 6948,\n",
       " 6955,\n",
       " 6956,\n",
       " 6957,\n",
       " 6958,\n",
       " 7086,\n",
       " 7095,\n",
       " 7103,\n",
       " 7433,\n",
       " 7542,\n",
       " 7618,\n",
       " 7624,\n",
       " 7625,\n",
       " 7650,\n",
       " 7712,\n",
       " 7723,\n",
       " 7724,\n",
       " 7725,\n",
       " 7810,\n",
       " 7833,\n",
       " 7839,\n",
       " 7861,\n",
       " 7863,\n",
       " 7927,\n",
       " 7928,\n",
       " 7929,\n",
       " 7935,\n",
       " 7936,\n",
       " 8008,\n",
       " 8146,\n",
       " 8187,\n",
       " 8218,\n",
       " 8221,\n",
       " 8227,\n",
       " 8348,\n",
       " 8366,\n",
       " 8410,\n",
       " 8417,\n",
       " 8472,\n",
       " 8527,\n",
       " 8615,\n",
       " 8658,\n",
       " 8970,\n",
       " 9004,\n",
       " 9095,\n",
       " 9096,\n",
       " 9102,\n",
       " 9110,\n",
       " 9115,\n",
       " 9187,\n",
       " 9206,\n",
       " 9208,\n",
       " 9209,\n",
       " 9233,\n",
       " 9456,\n",
       " 9536,\n",
       " 9815,\n",
       " 9835,\n",
       " 9869,\n",
       " 9938,\n",
       " 10131,\n",
       " 10132,\n",
       " 10205,\n",
       " 10402,\n",
       " 10518,\n",
       " 10596,\n",
       " 10675,\n",
       " 10793,\n",
       " 10868,\n",
       " 10870,\n",
       " 10905,\n",
       " 10931,\n",
       " 10934,\n",
       " 10936,\n",
       " 10937,\n",
       " 11109,\n",
       " 11112,\n",
       " 11178,\n",
       " 11179,\n",
       " 11185,\n",
       " 11401,\n",
       " 11412,\n",
       " 11413,\n",
       " 11414,\n",
       " 11677,\n",
       " 11876,\n",
       " 11904,\n",
       " 12054,\n",
       " 12193,\n",
       " 12194,\n",
       " 12399,\n",
       " 12407,\n",
       " 12411,\n",
       " 12480,\n",
       " 12496,\n",
       " 12693,\n",
       " 12704,\n",
       " 12814,\n",
       " 12867,\n",
       " 12889,\n",
       " 13367,\n",
       " 13381,\n",
       " 13399,\n",
       " 13401,\n",
       " 13422,\n",
       " 13442,\n",
       " 13443,\n",
       " 13560,\n",
       " 13591,\n",
       " 13592,\n",
       " 13746,\n",
       " 13747,\n",
       " 13968,\n",
       " 14033,\n",
       " 14166,\n",
       " 14173,\n",
       " 14442,\n",
       " 14458,\n",
       " 14663,\n",
       " 14705,\n",
       " 14707,\n",
       " 14710,\n",
       " 15000,\n",
       " 15001,\n",
       " 15086,\n",
       " 15093,\n",
       " 15103,\n",
       " 15173,\n",
       " 15182,\n",
       " 15283,\n",
       " 15286,\n",
       " 15289,\n",
       " 15296,\n",
       " 15345,\n",
       " 15393,\n",
       " 15400,\n",
       " 15403,\n",
       " 15404,\n",
       " 15503,\n",
       " 15504,\n",
       " 15544,\n",
       " 15545,\n",
       " 15691,\n",
       " 15704,\n",
       " 15705,\n",
       " 15764,\n",
       " 15783,\n",
       " 15796,\n",
       " 15797,\n",
       " 15850,\n",
       " 15885,\n",
       " 15934,\n",
       " 15935,\n",
       " 15936,\n",
       " 15937,\n",
       " 15940,\n",
       " 15995,\n",
       " 15998,\n",
       " 15999,\n",
       " 16065,\n",
       " 16119,\n",
       " 16133,\n",
       " 16349,\n",
       " 16350,\n",
       " 16351,\n",
       " 16352,\n",
       " 16378,\n",
       " 16628,\n",
       " 16629,\n",
       " 16798,\n",
       " 16806,\n",
       " 16809,\n",
       " 16814,\n",
       " 16911,\n",
       " 16951,\n",
       " 17104,\n",
       " 17105,\n",
       " 17106,\n",
       " 17107,\n",
       " 17108,\n",
       " 17123,\n",
       " 17138,\n",
       " 17169,\n",
       " 17235,\n",
       " 17296,\n",
       " 17297,\n",
       " 17607,\n",
       " 17662,\n",
       " 17789,\n",
       " 17817,\n",
       " 18057,\n",
       " 18135,\n",
       " 18148,\n",
       " 18149,\n",
       " 18163,\n",
       " 18441,\n",
       " 18594,\n",
       " 18635,\n",
       " 18796,\n",
       " 18831,\n",
       " 18834,\n",
       " 18840,\n",
       " 18851,\n",
       " 18887,\n",
       " 19036,\n",
       " 19087,\n",
       " 19098,\n",
       " 19113,\n",
       " 19116,\n",
       " 19117,\n",
       " 19118,\n",
       " 19158,\n",
       " 19159,\n",
       " 19180,\n",
       " 19248,\n",
       " 19249,\n",
       " 19250,\n",
       " 19251,\n",
       " 19423,\n",
       " 19428,\n",
       " 19438,\n",
       " 19509,\n",
       " 19571,\n",
       " 19667,\n",
       " 19668,\n",
       " 19760,\n",
       " 19884,\n",
       " 19916,\n",
       " 20018,\n",
       " 20025,\n",
       " 20404,\n",
       " 20405,\n",
       " 20463,\n",
       " 20475,\n",
       " 20587,\n",
       " 20631,\n",
       " 20644,\n",
       " 20670,\n",
       " 20703,\n",
       " 20848,\n",
       " 20857,\n",
       " 20911,\n",
       " 20922,\n",
       " 20923,\n",
       " 20926,\n",
       " 21075,\n",
       " 21387,\n",
       " 21388,\n",
       " 21389,\n",
       " 21430,\n",
       " 21483,\n",
       " 21608,\n",
       " 21627,\n",
       " 21628,\n",
       " 21630,\n",
       " 21670,\n",
       " 21682,\n",
       " 21686,\n",
       " 21976}"
      ]
     },
     "execution_count": 37,
     "metadata": {},
     "output_type": "execute_result"
    }
   ],
   "source": [
    "# ft nov only\n",
    "ft_nov_only = set(ft_nov_item_uniq) - set(ft_oct_item_uniq)\n",
    "print('14년 11월 신상품 :', len(ft_nov_only))\n",
    "print(type(ft_nov_only))\n",
    "ft_nov_only"
   ]
  },
  {
   "cell_type": "code",
   "execution_count": 38,
   "id": "dental-swiss",
   "metadata": {},
   "outputs": [
    {
     "data": {
      "text/plain": [
       "[6145,\n",
       " 18441,\n",
       " 11,\n",
       " 15,\n",
       " 6170,\n",
       " 6171,\n",
       " 8218,\n",
       " 6173,\n",
       " 8221,\n",
       " 8227,\n",
       " 6225,\n",
       " 6226,\n",
       " 6234,\n",
       " 4191,\n",
       " 4198,\n",
       " 14442,\n",
       " 107,\n",
       " 108,\n",
       " 20587,\n",
       " 12399,\n",
       " 12407,\n",
       " 4217,\n",
       " 14458,\n",
       " 4219,\n",
       " 12411,\n",
       " 6276,\n",
       " 20631,\n",
       " 8348,\n",
       " 10402,\n",
       " 18594,\n",
       " 6308,\n",
       " 20644,\n",
       " 8366,\n",
       " 179,\n",
       " 20670,\n",
       " 12480,\n",
       " 18635,\n",
       " 12496,\n",
       " 2261,\n",
       " 8410,\n",
       " 220,\n",
       " 20703,\n",
       " 8417,\n",
       " 2283,\n",
       " 236,\n",
       " 2284,\n",
       " 2285,\n",
       " 2286,\n",
       " 2287,\n",
       " 2288,\n",
       " 2289,\n",
       " 2290,\n",
       " 2291,\n",
       " 2292,\n",
       " 2293,\n",
       " 2295,\n",
       " 2296,\n",
       " 2297,\n",
       " 2294,\n",
       " 4342,\n",
       " 4339,\n",
       " 4341,\n",
       " 6398,\n",
       " 4346,\n",
       " 6411,\n",
       " 270,\n",
       " 4369,\n",
       " 6420,\n",
       " 6421,\n",
       " 10518,\n",
       " 8472,\n",
       " 6426,\n",
       " 2347,\n",
       " 14663,\n",
       " 4424,\n",
       " 8527,\n",
       " 10596,\n",
       " 18796,\n",
       " 6509,\n",
       " 20848,\n",
       " 14705,\n",
       " 2418,\n",
       " 14707,\n",
       " 14710,\n",
       " 20857,\n",
       " 4478,\n",
       " 4479,\n",
       " 4491,\n",
       " 396,\n",
       " 4494,\n",
       " 4495,\n",
       " 18831,\n",
       " 18834,\n",
       " 12693,\n",
       " 18840,\n",
       " 16798,\n",
       " 12704,\n",
       " 18851,\n",
       " 16806,\n",
       " 8615,\n",
       " 16809,\n",
       " 16814,\n",
       " 20911,\n",
       " 10675,\n",
       " 20922,\n",
       " 20923,\n",
       " 20926,\n",
       " 18887,\n",
       " 8658,\n",
       " 12814,\n",
       " 16911,\n",
       " 2591,\n",
       " 2592,\n",
       " 2597,\n",
       " 10793,\n",
       " 16951,\n",
       " 12867,\n",
       " 2643,\n",
       " 21075,\n",
       " 12889,\n",
       " 2651,\n",
       " 19036,\n",
       " 20475,\n",
       " 10868,\n",
       " 10870,\n",
       " 4730,\n",
       " 19087,\n",
       " 15000,\n",
       " 10905,\n",
       " 15001,\n",
       " 19098,\n",
       " 2729,\n",
       " 19113,\n",
       " 19116,\n",
       " 19117,\n",
       " 19118,\n",
       " 10931,\n",
       " 10934,\n",
       " 10936,\n",
       " 10937,\n",
       " 17104,\n",
       " 17105,\n",
       " 17106,\n",
       " 17107,\n",
       " 17108,\n",
       " 19158,\n",
       " 19159,\n",
       " 17123,\n",
       " 19180,\n",
       " 15086,\n",
       " 17138,\n",
       " 757,\n",
       " 4854,\n",
       " 15093,\n",
       " 15103,\n",
       " 4871,\n",
       " 8970,\n",
       " 4881,\n",
       " 2834,\n",
       " 17169,\n",
       " 2837,\n",
       " 2841,\n",
       " 2842,\n",
       " 6946,\n",
       " 6947,\n",
       " 6948,\n",
       " 4903,\n",
       " 4905,\n",
       " 6955,\n",
       " 6956,\n",
       " 6957,\n",
       " 6958,\n",
       " 9004,\n",
       " 19248,\n",
       " 19249,\n",
       " 19250,\n",
       " 19251,\n",
       " 4917,\n",
       " 15173,\n",
       " 15182,\n",
       " 17235,\n",
       " 4951,\n",
       " 856,\n",
       " 4954,\n",
       " 11109,\n",
       " 11112,\n",
       " 2928,\n",
       " 9095,\n",
       " 9096,\n",
       " 21387,\n",
       " 21388,\n",
       " 21389,\n",
       " 9102,\n",
       " 17296,\n",
       " 17297,\n",
       " 5010,\n",
       " 5011,\n",
       " 9110,\n",
       " 2970,\n",
       " 9115,\n",
       " 5020,\n",
       " 2978,\n",
       " 11178,\n",
       " 11179,\n",
       " 7086,\n",
       " 11185,\n",
       " 15283,\n",
       " 5046,\n",
       " 7095,\n",
       " 15286,\n",
       " 5049,\n",
       " 15289,\n",
       " 21430,\n",
       " 5053,\n",
       " 7103,\n",
       " 15296,\n",
       " 962,\n",
       " 3026,\n",
       " 3027,\n",
       " 3028,\n",
       " 3029,\n",
       " 3030,\n",
       " 3031,\n",
       " 3032,\n",
       " 3033,\n",
       " 5076,\n",
       " 19423,\n",
       " 9187,\n",
       " 19428,\n",
       " 21483,\n",
       " 19438,\n",
       " 5105,\n",
       " 15345,\n",
       " 9206,\n",
       " 9208,\n",
       " 9209,\n",
       " 5124,\n",
       " 5130,\n",
       " 9233,\n",
       " 5140,\n",
       " 5153,\n",
       " 15393,\n",
       " 15400,\n",
       " 15403,\n",
       " 15404,\n",
       " 5167,\n",
       " 19509,\n",
       " 13367,\n",
       " 5184,\n",
       " 13381,\n",
       " 13399,\n",
       " 13401,\n",
       " 21608,\n",
       " 13422,\n",
       " 19571,\n",
       " 21627,\n",
       " 21628,\n",
       " 21630,\n",
       " 5247,\n",
       " 13442,\n",
       " 13443,\n",
       " 11401,\n",
       " 15503,\n",
       " 3216,\n",
       " 3217,\n",
       " 3218,\n",
       " 15504,\n",
       " 11412,\n",
       " 11413,\n",
       " 11414,\n",
       " 1185,\n",
       " 5281,\n",
       " 5282,\n",
       " 21670,\n",
       " 3241,\n",
       " 21682,\n",
       " 21686,\n",
       " 15544,\n",
       " 3257,\n",
       " 3258,\n",
       " 3259,\n",
       " 15545,\n",
       " 5319,\n",
       " 17607,\n",
       " 19667,\n",
       " 19668,\n",
       " 9456,\n",
       " 13560,\n",
       " 17662,\n",
       " 7433,\n",
       " 13591,\n",
       " 13592,\n",
       " 5411,\n",
       " 4334,\n",
       " 19760,\n",
       " 4335,\n",
       " 4336,\n",
       " 4337,\n",
       " 9536,\n",
       " 4338,\n",
       " 3396,\n",
       " 3398,\n",
       " 3403,\n",
       " 15691,\n",
       " 3411,\n",
       " 15704,\n",
       " 15705,\n",
       " 5488,\n",
       " 5489,\n",
       " 5490,\n",
       " 7542,\n",
       " 3447,\n",
       " 3448,\n",
       " 3449,\n",
       " 3450,\n",
       " 3451,\n",
       " 3452,\n",
       " 17789,\n",
       " 3455,\n",
       " 3460,\n",
       " 3461,\n",
       " 3462,\n",
       " 3463,\n",
       " 3464,\n",
       " 3466,\n",
       " 15764,\n",
       " 17817,\n",
       " 11677,\n",
       " 15783,\n",
       " 1450,\n",
       " 19884,\n",
       " 13746,\n",
       " 13747,\n",
       " 15796,\n",
       " 15797,\n",
       " 7618,\n",
       " 7624,\n",
       " 7625,\n",
       " 19916,\n",
       " 3537,\n",
       " 21976,\n",
       " 7650,\n",
       " 15850,\n",
       " 1534,\n",
       " 1535,\n",
       " 1542,\n",
       " 1543,\n",
       " 1548,\n",
       " 1549,\n",
       " 1550,\n",
       " 15885,\n",
       " 1553,\n",
       " 3602,\n",
       " 1555,\n",
       " 1556,\n",
       " 1557,\n",
       " 1559,\n",
       " 1564,\n",
       " 1565,\n",
       " 7712,\n",
       " 1569,\n",
       " 1570,\n",
       " 7723,\n",
       " 7724,\n",
       " 7725,\n",
       " 20018,\n",
       " 5684,\n",
       " 3641,\n",
       " 20025,\n",
       " 15934,\n",
       " 15935,\n",
       " 15936,\n",
       " 15937,\n",
       " 15940,\n",
       " 9815,\n",
       " 3672,\n",
       " 3675,\n",
       " 11876,\n",
       " 9835,\n",
       " 15995,\n",
       " 15998,\n",
       " 15999,\n",
       " 11904,\n",
       " 7810,\n",
       " 5763,\n",
       " 5765,\n",
       " 18057,\n",
       " 9869,\n",
       " 13968,\n",
       " 3733,\n",
       " 3735,\n",
       " 7833,\n",
       " 7839,\n",
       " 7861,\n",
       " 7863,\n",
       " 3774,\n",
       " 16065,\n",
       " 5832,\n",
       " 5833,\n",
       " 5834,\n",
       " 5835,\n",
       " 5836,\n",
       " 3789,\n",
       " 16628,\n",
       " 3791,\n",
       " 14033,\n",
       " 9938,\n",
       " 16629,\n",
       " 18135,\n",
       " 18148,\n",
       " 18149,\n",
       " 1774,\n",
       " 18163,\n",
       " 7927,\n",
       " 1784,\n",
       " 7928,\n",
       " 7929,\n",
       " 16119,\n",
       " 1789,\n",
       " 7935,\n",
       " 1792,\n",
       " 3841,\n",
       " 1794,\n",
       " 3842,\n",
       " 7936,\n",
       " 1797,\n",
       " 1798,\n",
       " 16133,\n",
       " 5900,\n",
       " 5901,\n",
       " 5902,\n",
       " 5903,\n",
       " 5904,\n",
       " 12054,\n",
       " 3891,\n",
       " 8008,\n",
       " 5971,\n",
       " 14166,\n",
       " 3931,\n",
       " 14173,\n",
       " 10131,\n",
       " 10132,\n",
       " 12193,\n",
       " 12194,\n",
       " 6051,\n",
       " 4011,\n",
       " 6062,\n",
       " 6063,\n",
       " 6064,\n",
       " 20404,\n",
       " 20405,\n",
       " 8146,\n",
       " 10205,\n",
       " 16349,\n",
       " 16350,\n",
       " 16351,\n",
       " 16352,\n",
       " 20463,\n",
       " 16378,\n",
       " 8187]"
      ]
     },
     "execution_count": 38,
     "metadata": {},
     "output_type": "execute_result"
    }
   ],
   "source": [
    "# list로 만들기 \n",
    "lst_ft_nov_only = list(ft_nov_only)\n",
    "lst_ft_nov_only"
   ]
  },
  {
   "cell_type": "markdown",
   "id": "permanent-continent",
   "metadata": {},
   "source": [
    "## 14년 11월 신상품 얼마인지 dict이나 dataframe으로 그리고 가격"
   ]
  },
  {
   "cell_type": "code",
   "execution_count": 39,
   "id": "impressive-emission",
   "metadata": {},
   "outputs": [
    {
     "data": {
      "text/html": [
       "<div>\n",
       "<style scoped>\n",
       "    .dataframe tbody tr th:only-of-type {\n",
       "        vertical-align: middle;\n",
       "    }\n",
       "\n",
       "    .dataframe tbody tr th {\n",
       "        vertical-align: top;\n",
       "    }\n",
       "\n",
       "    .dataframe thead th {\n",
       "        text-align: right;\n",
       "    }\n",
       "</style>\n",
       "<table border=\"1\" class=\"dataframe\">\n",
       "  <thead>\n",
       "    <tr style=\"text-align: right;\">\n",
       "      <th></th>\n",
       "      <th>date</th>\n",
       "      <th>date_block_num</th>\n",
       "      <th>shop_id</th>\n",
       "      <th>item_id</th>\n",
       "      <th>item_price</th>\n",
       "      <th>item_cnt_day</th>\n",
       "    </tr>\n",
       "  </thead>\n",
       "  <tbody>\n",
       "    <tr>\n",
       "      <th>2106209</th>\n",
       "      <td>19.11.2014</td>\n",
       "      <td>22</td>\n",
       "      <td>37</td>\n",
       "      <td>3460</td>\n",
       "      <td>1299.0</td>\n",
       "      <td>3.0</td>\n",
       "    </tr>\n",
       "    <tr>\n",
       "      <th>2106256</th>\n",
       "      <td>21.11.2014</td>\n",
       "      <td>22</td>\n",
       "      <td>33</td>\n",
       "      <td>4334</td>\n",
       "      <td>799.0</td>\n",
       "      <td>1.0</td>\n",
       "    </tr>\n",
       "    <tr>\n",
       "      <th>2106257</th>\n",
       "      <td>28.11.2014</td>\n",
       "      <td>22</td>\n",
       "      <td>33</td>\n",
       "      <td>4334</td>\n",
       "      <td>799.0</td>\n",
       "      <td>1.0</td>\n",
       "    </tr>\n",
       "    <tr>\n",
       "      <th>2106259</th>\n",
       "      <td>23.11.2014</td>\n",
       "      <td>22</td>\n",
       "      <td>33</td>\n",
       "      <td>4337</td>\n",
       "      <td>2999.0</td>\n",
       "      <td>1.0</td>\n",
       "    </tr>\n",
       "    <tr>\n",
       "      <th>2106270</th>\n",
       "      <td>26.11.2014</td>\n",
       "      <td>22</td>\n",
       "      <td>33</td>\n",
       "      <td>4478</td>\n",
       "      <td>2499.0</td>\n",
       "      <td>1.0</td>\n",
       "    </tr>\n",
       "    <tr>\n",
       "      <th>...</th>\n",
       "      <td>...</td>\n",
       "      <td>...</td>\n",
       "      <td>...</td>\n",
       "      <td>...</td>\n",
       "      <td>...</td>\n",
       "      <td>...</td>\n",
       "    </tr>\n",
       "    <tr>\n",
       "      <th>2192494</th>\n",
       "      <td>21.11.2014</td>\n",
       "      <td>22</td>\n",
       "      <td>46</td>\n",
       "      <td>21387</td>\n",
       "      <td>1529.0</td>\n",
       "      <td>1.0</td>\n",
       "    </tr>\n",
       "    <tr>\n",
       "      <th>2192495</th>\n",
       "      <td>20.11.2014</td>\n",
       "      <td>22</td>\n",
       "      <td>46</td>\n",
       "      <td>21387</td>\n",
       "      <td>1444.0</td>\n",
       "      <td>2.0</td>\n",
       "    </tr>\n",
       "    <tr>\n",
       "      <th>2192498</th>\n",
       "      <td>21.11.2014</td>\n",
       "      <td>22</td>\n",
       "      <td>46</td>\n",
       "      <td>21430</td>\n",
       "      <td>799.0</td>\n",
       "      <td>1.0</td>\n",
       "    </tr>\n",
       "    <tr>\n",
       "      <th>2192500</th>\n",
       "      <td>28.11.2014</td>\n",
       "      <td>22</td>\n",
       "      <td>46</td>\n",
       "      <td>21976</td>\n",
       "      <td>1349.0</td>\n",
       "      <td>1.0</td>\n",
       "    </tr>\n",
       "    <tr>\n",
       "      <th>2192501</th>\n",
       "      <td>22.11.2014</td>\n",
       "      <td>22</td>\n",
       "      <td>46</td>\n",
       "      <td>21976</td>\n",
       "      <td>1349.0</td>\n",
       "      <td>1.0</td>\n",
       "    </tr>\n",
       "  </tbody>\n",
       "</table>\n",
       "<p>15644 rows × 6 columns</p>\n",
       "</div>"
      ],
      "text/plain": [
       "               date  date_block_num  shop_id  item_id  item_price  \\\n",
       "2106209  19.11.2014              22       37     3460      1299.0   \n",
       "2106256  21.11.2014              22       33     4334       799.0   \n",
       "2106257  28.11.2014              22       33     4334       799.0   \n",
       "2106259  23.11.2014              22       33     4337      2999.0   \n",
       "2106270  26.11.2014              22       33     4478      2499.0   \n",
       "...             ...             ...      ...      ...         ...   \n",
       "2192494  21.11.2014              22       46    21387      1529.0   \n",
       "2192495  20.11.2014              22       46    21387      1444.0   \n",
       "2192498  21.11.2014              22       46    21430       799.0   \n",
       "2192500  28.11.2014              22       46    21976      1349.0   \n",
       "2192501  22.11.2014              22       46    21976      1349.0   \n",
       "\n",
       "         item_cnt_day  \n",
       "2106209           3.0  \n",
       "2106256           1.0  \n",
       "2106257           1.0  \n",
       "2106259           1.0  \n",
       "2106270           1.0  \n",
       "...               ...  \n",
       "2192494           1.0  \n",
       "2192495           2.0  \n",
       "2192498           1.0  \n",
       "2192500           1.0  \n",
       "2192501           1.0  \n",
       "\n",
       "[15644 rows x 6 columns]"
      ]
     },
     "execution_count": 39,
     "metadata": {},
     "output_type": "execute_result"
    }
   ],
   "source": [
    "# 14년 11월\n",
    "ft_nov_new = data[data['item_id'].isin(lst_ft_nov_only)]\n",
    "ft_nov_new = ft_nov_new[ft_nov_new['date_block_num'] == 22]\n",
    "ft_nov_new"
   ]
  },
  {
   "cell_type": "code",
   "execution_count": 40,
   "id": "upset-cooking",
   "metadata": {},
   "outputs": [
    {
     "data": {
      "text/plain": [
       "70784"
      ]
     },
     "execution_count": 40,
     "metadata": {},
     "output_type": "execute_result"
    }
   ],
   "source": [
    "len(ft_nov_item) - len(ft_nov_new)"
   ]
  },
  {
   "cell_type": "markdown",
   "id": "effective-funeral",
   "metadata": {},
   "source": [
    "70784 기존 제품 판매량  \n",
    "15644 신상품 460개에 대한 판매량"
   ]
  },
  {
   "cell_type": "code",
   "execution_count": 41,
   "id": "adopted-raising",
   "metadata": {},
   "outputs": [
    {
     "name": "stdout",
     "output_type": "stream",
     "text": [
      "count    15644.000000\n",
      "mean      2096.400350\n",
      "std       2606.630176\n",
      "min         10.000000\n",
      "25%        699.000000\n",
      "50%       1619.000000\n",
      "75%       2999.000000\n",
      "max      40900.000000\n",
      "Name: item_price, dtype: float64\n"
     ]
    }
   ],
   "source": [
    "print(ft_nov_new['item_price'].describe())"
   ]
  },
  {
   "cell_type": "code",
   "execution_count": 42,
   "id": "greater-prisoner",
   "metadata": {},
   "outputs": [
    {
     "name": "stdout",
     "output_type": "stream",
     "text": [
      "count    15644.000000\n",
      "mean      2096.400350\n",
      "std       2606.630176\n",
      "min         10.000000\n",
      "25%        699.000000\n",
      "50%       1619.000000\n",
      "75%       2999.000000\n",
      "max      40900.000000\n",
      "Name: item_price, dtype: float64\n"
     ]
    }
   ],
   "source": [
    "print(ft_nov_new['item_price'].describe())"
   ]
  },
  {
   "cell_type": "markdown",
   "id": "familiar-nurse",
   "metadata": {},
   "source": [
    "각 년도의 11월 신상품에 대한 평균 가격 차이가 많이 난다."
   ]
  },
  {
   "cell_type": "markdown",
   "id": "running-newsletter",
   "metadata": {},
   "source": [
    "# 신상품에 대한 평균적 판매량"
   ]
  },
  {
   "cell_type": "code",
   "execution_count": 43,
   "id": "olympic-adjustment",
   "metadata": {},
   "outputs": [
    {
     "name": "stdout",
     "output_type": "stream",
     "text": [
      "count    13760.000000\n",
      "mean         2.039026\n",
      "std          3.889715\n",
      "min         -2.000000\n",
      "25%          1.000000\n",
      "50%          1.000000\n",
      "75%          2.000000\n",
      "max        126.000000\n",
      "Name: item_cnt_day, dtype: float64\n"
     ]
    }
   ],
   "source": [
    "print(tt_nov_new['item_cnt_day'].describe())"
   ]
  },
  {
   "cell_type": "code",
   "execution_count": 44,
   "id": "elegant-peninsula",
   "metadata": {},
   "outputs": [
    {
     "name": "stdout",
     "output_type": "stream",
     "text": [
      "count    15644.000000\n",
      "mean         2.006328\n",
      "std          4.250637\n",
      "min         -1.000000\n",
      "25%          1.000000\n",
      "50%          1.000000\n",
      "75%          2.000000\n",
      "max        167.000000\n",
      "Name: item_cnt_day, dtype: float64\n"
     ]
    }
   ],
   "source": [
    "print(ft_nov_new['item_cnt_day'].describe())"
   ]
  },
  {
   "cell_type": "markdown",
   "id": "crucial-guatemala",
   "metadata": {},
   "source": [
    "판매량의 평균은 2개로 동일  \n",
    "oh oh goog"
   ]
  },
  {
   "cell_type": "markdown",
   "id": "present-questionnaire",
   "metadata": {},
   "source": [
    "# 34개월 동안 판매량 describe"
   ]
  },
  {
   "cell_type": "code",
   "execution_count": 45,
   "id": "economic-headquarters",
   "metadata": {},
   "outputs": [
    {
     "name": "stdout",
     "output_type": "stream",
     "text": [
      "count    2.935849e+06\n",
      "mean     1.242641e+00\n",
      "std      2.618834e+00\n",
      "min     -2.200000e+01\n",
      "25%      1.000000e+00\n",
      "50%      1.000000e+00\n",
      "75%      1.000000e+00\n",
      "max      2.169000e+03\n",
      "Name: item_cnt_day, dtype: float64\n"
     ]
    }
   ],
   "source": [
    "print(data['item_cnt_day'].describe())"
   ]
  },
  {
   "cell_type": "markdown",
   "id": "institutional-rating",
   "metadata": {},
   "source": [
    "아이템 별 판매 수량이 -22 부터 2169가 팔린것을 확인 할 수 있다. "
   ]
  },
  {
   "cell_type": "markdown",
   "id": "devoted-portuguese",
   "metadata": {},
   "source": [
    "# 어떤 아이템이 제일 많이 팔렸는지 궁금해"
   ]
  },
  {
   "cell_type": "code",
   "execution_count": 46,
   "id": "responsible-tomato",
   "metadata": {},
   "outputs": [
    {
     "data": {
      "text/plain": [
       "array([['02.01.2013', 0, 59, 22154, 999.0, 1.0],\n",
       "       ['03.01.2013', 0, 25, 2552, 899.0, 1.0],\n",
       "       ['05.01.2013', 0, 25, 2552, 899.0, -1.0],\n",
       "       ...,\n",
       "       ['14.10.2015', 33, 25, 7459, 349.0, 1.0],\n",
       "       ['22.10.2015', 33, 25, 7440, 299.0, 1.0],\n",
       "       ['03.10.2015', 33, 25, 7460, 299.0, 1.0]], dtype=object)"
      ]
     },
     "execution_count": 46,
     "metadata": {},
     "output_type": "execute_result"
    }
   ],
   "source": [
    "# dataframe -> ndarray\n",
    "data_ndarray = data.values\n",
    "data_ndarray"
   ]
  },
  {
   "cell_type": "code",
   "execution_count": 47,
   "id": "drawn-motor",
   "metadata": {},
   "outputs": [],
   "source": [
    "org_data = data\n",
    "del data['date']\n",
    "del data['date_block_num']\n",
    "del data['shop_id']\n",
    "del data['item_cnt_day']\n",
    "\n",
    "id_and_price = data"
   ]
  },
  {
   "cell_type": "code",
   "execution_count": 48,
   "id": "comprehensive-poland",
   "metadata": {},
   "outputs": [
    {
     "data": {
      "text/html": [
       "<div>\n",
       "<style scoped>\n",
       "    .dataframe tbody tr th:only-of-type {\n",
       "        vertical-align: middle;\n",
       "    }\n",
       "\n",
       "    .dataframe tbody tr th {\n",
       "        vertical-align: top;\n",
       "    }\n",
       "\n",
       "    .dataframe thead th {\n",
       "        text-align: right;\n",
       "    }\n",
       "</style>\n",
       "<table border=\"1\" class=\"dataframe\">\n",
       "  <thead>\n",
       "    <tr style=\"text-align: right;\">\n",
       "      <th></th>\n",
       "      <th>item_id</th>\n",
       "      <th>item_price</th>\n",
       "    </tr>\n",
       "  </thead>\n",
       "  <tbody>\n",
       "    <tr>\n",
       "      <th>0</th>\n",
       "      <td>22154</td>\n",
       "      <td>999.00</td>\n",
       "    </tr>\n",
       "    <tr>\n",
       "      <th>1</th>\n",
       "      <td>2552</td>\n",
       "      <td>899.00</td>\n",
       "    </tr>\n",
       "    <tr>\n",
       "      <th>2</th>\n",
       "      <td>2552</td>\n",
       "      <td>899.00</td>\n",
       "    </tr>\n",
       "    <tr>\n",
       "      <th>3</th>\n",
       "      <td>2554</td>\n",
       "      <td>1709.05</td>\n",
       "    </tr>\n",
       "    <tr>\n",
       "      <th>4</th>\n",
       "      <td>2555</td>\n",
       "      <td>1099.00</td>\n",
       "    </tr>\n",
       "  </tbody>\n",
       "</table>\n",
       "</div>"
      ],
      "text/plain": [
       "   item_id  item_price\n",
       "0    22154      999.00\n",
       "1     2552      899.00\n",
       "2     2552      899.00\n",
       "3     2554     1709.05\n",
       "4     2555     1099.00"
      ]
     },
     "execution_count": 48,
     "metadata": {},
     "output_type": "execute_result"
    }
   ],
   "source": [
    "id_and_price.head()"
   ]
  },
  {
   "cell_type": "code",
   "execution_count": 49,
   "id": "suburban-protein",
   "metadata": {},
   "outputs": [
    {
     "name": "stdout",
     "output_type": "stream",
     "text": [
      "         item_price\n",
      "item_id            \n",
      "20949         31340\n",
      "5822           9408\n",
      "17717          9067\n",
      "2808           7479\n",
      "4181           6853\n",
      "...             ...\n",
      "10752             1\n",
      "10753             1\n",
      "10799             1\n",
      "10835             1\n",
      "22169             1\n",
      "\n",
      "[21807 rows x 1 columns]\n"
     ]
    }
   ],
   "source": [
    "print(id_and_price.groupby(data['item_id']).count().sort_values(['item_price'], ascending=False))"
   ]
  },
  {
   "cell_type": "code",
   "execution_count": 52,
   "id": "alpha-clark",
   "metadata": {},
   "outputs": [
    {
     "name": "stdout",
     "output_type": "stream",
     "text": [
      "         item_price\n",
      "item_id            \n",
      "0                 1\n",
      "1                 6\n",
      "2                 2\n",
      "3                 2\n",
      "4                 1\n",
      "...             ...\n",
      "22165             2\n",
      "22166           270\n",
      "22167          1114\n",
      "22168             6\n",
      "22169             1\n",
      "\n",
      "[21807 rows x 1 columns]\n"
     ]
    }
   ],
   "source": [
    "print(id_and_price.groupby(data['item_id']).count())"
   ]
  },
  {
   "cell_type": "markdown",
   "id": "industrial-pixel",
   "metadata": {},
   "source": [
    "\\#20949가 압도적으로 많이 팔렸다. 가격을 확인해보자."
   ]
  },
  {
   "cell_type": "markdown",
   "id": "coated-homework",
   "metadata": {},
   "source": [
    "# 각 년도별 판매 추이 \n",
    "- 사실 2015년은 메르스가 유행했던 시절이다. 러시아 사람들이 공공보건을 잘 지켰을 지는 모르겠지만 판매품들은 대부분 소프트웨어와 하드웨어와 관련된 제품들이다. 이에 **년도와 판매 추이의 관련성**이 존재하는지 증명하려고 한다. "
   ]
  },
  {
   "cell_type": "markdown",
   "id": "resistant-optimum",
   "metadata": {},
   "source": [
    "## 13년도"
   ]
  },
  {
   "cell_type": "code",
   "execution_count": 109,
   "id": "sufficient-stadium",
   "metadata": {},
   "outputs": [
    {
     "data": {
      "text/html": [
       "<div>\n",
       "<style scoped>\n",
       "    .dataframe tbody tr th:only-of-type {\n",
       "        vertical-align: middle;\n",
       "    }\n",
       "\n",
       "    .dataframe tbody tr th {\n",
       "        vertical-align: top;\n",
       "    }\n",
       "\n",
       "    .dataframe thead th {\n",
       "        text-align: right;\n",
       "    }\n",
       "</style>\n",
       "<table border=\"1\" class=\"dataframe\">\n",
       "  <thead>\n",
       "    <tr style=\"text-align: right;\">\n",
       "      <th></th>\n",
       "      <th>date_block_num</th>\n",
       "      <th>item_id</th>\n",
       "      <th>item_cnt_day</th>\n",
       "    </tr>\n",
       "  </thead>\n",
       "  <tbody>\n",
       "    <tr>\n",
       "      <th>0</th>\n",
       "      <td>0</td>\n",
       "      <td>22154</td>\n",
       "      <td>1.0</td>\n",
       "    </tr>\n",
       "    <tr>\n",
       "      <th>1</th>\n",
       "      <td>0</td>\n",
       "      <td>2552</td>\n",
       "      <td>1.0</td>\n",
       "    </tr>\n",
       "    <tr>\n",
       "      <th>2</th>\n",
       "      <td>0</td>\n",
       "      <td>2552</td>\n",
       "      <td>-1.0</td>\n",
       "    </tr>\n",
       "    <tr>\n",
       "      <th>3</th>\n",
       "      <td>0</td>\n",
       "      <td>2554</td>\n",
       "      <td>1.0</td>\n",
       "    </tr>\n",
       "    <tr>\n",
       "      <th>4</th>\n",
       "      <td>0</td>\n",
       "      <td>2555</td>\n",
       "      <td>1.0</td>\n",
       "    </tr>\n",
       "    <tr>\n",
       "      <th>...</th>\n",
       "      <td>...</td>\n",
       "      <td>...</td>\n",
       "      <td>...</td>\n",
       "    </tr>\n",
       "    <tr>\n",
       "      <th>2935844</th>\n",
       "      <td>33</td>\n",
       "      <td>7409</td>\n",
       "      <td>1.0</td>\n",
       "    </tr>\n",
       "    <tr>\n",
       "      <th>2935845</th>\n",
       "      <td>33</td>\n",
       "      <td>7460</td>\n",
       "      <td>1.0</td>\n",
       "    </tr>\n",
       "    <tr>\n",
       "      <th>2935846</th>\n",
       "      <td>33</td>\n",
       "      <td>7459</td>\n",
       "      <td>1.0</td>\n",
       "    </tr>\n",
       "    <tr>\n",
       "      <th>2935847</th>\n",
       "      <td>33</td>\n",
       "      <td>7440</td>\n",
       "      <td>1.0</td>\n",
       "    </tr>\n",
       "    <tr>\n",
       "      <th>2935848</th>\n",
       "      <td>33</td>\n",
       "      <td>7460</td>\n",
       "      <td>1.0</td>\n",
       "    </tr>\n",
       "  </tbody>\n",
       "</table>\n",
       "<p>2935849 rows × 3 columns</p>\n",
       "</div>"
      ],
      "text/plain": [
       "         date_block_num  item_id  item_cnt_day\n",
       "0                     0    22154           1.0\n",
       "1                     0     2552           1.0\n",
       "2                     0     2552          -1.0\n",
       "3                     0     2554           1.0\n",
       "4                     0     2555           1.0\n",
       "...                 ...      ...           ...\n",
       "2935844              33     7409           1.0\n",
       "2935845              33     7460           1.0\n",
       "2935846              33     7459           1.0\n",
       "2935847              33     7440           1.0\n",
       "2935848              33     7460           1.0\n",
       "\n",
       "[2935849 rows x 3 columns]"
      ]
     },
     "execution_count": 109,
     "metadata": {},
     "output_type": "execute_result"
    }
   ],
   "source": [
    "data = pd.read_csv(train_data_path)\n",
    "num_item_cnt = data.loc[:, ['date_block_num', 'item_id', 'item_cnt_day']]\n",
    "num_item_cnt"
   ]
  },
  {
   "cell_type": "code",
   "execution_count": 199,
   "id": "concerned-trace",
   "metadata": {},
   "outputs": [
    {
     "data": {
      "text/plain": [
       "131479.0"
      ]
     },
     "execution_count": 199,
     "metadata": {},
     "output_type": "execute_result"
    }
   ],
   "source": [
    "# 13_jan\n",
    "tt_cnt_jan = num_item_cnt[num_item_cnt['date_block_num'].isin([0])]\n",
    "num_item_cnt_jan = tt_cnt_jan['item_cnt_day'].sum(axis=0) # axis=0 -> 세로합\n",
    "num_item_cnt_jan"
   ]
  },
  {
   "cell_type": "code",
   "execution_count": 200,
   "id": "informative-commissioner",
   "metadata": {
    "code_folding": []
   },
   "outputs": [
    {
     "data": {
      "text/plain": [
       "128090.0"
      ]
     },
     "execution_count": 200,
     "metadata": {},
     "output_type": "execute_result"
    }
   ],
   "source": [
    "# 13_feb\n",
    "tt_cnt_feb = num_item_cnt[num_item_cnt['date_block_num'].isin([1])]\n",
    "num_item_cnt_feb = tt_cnt_feb['item_cnt_day'].sum(axis=0) # axis=0 -> 세로합\n",
    "num_item_cnt_feb"
   ]
  },
  {
   "cell_type": "code",
   "execution_count": 201,
   "id": "occasional-might",
   "metadata": {},
   "outputs": [
    {
     "data": {
      "text/plain": [
       "147142.0"
      ]
     },
     "execution_count": 201,
     "metadata": {},
     "output_type": "execute_result"
    }
   ],
   "source": [
    "# 13_mar\n",
    "tt_cnt_mar = num_item_cnt[num_item_cnt['date_block_num'].isin([2])]\n",
    "num_item_cnt_mar = tt_cnt_mar['item_cnt_day'].sum(axis=0) # axis=0 -> 세로합\n",
    "num_item_cnt_mar"
   ]
  },
  {
   "cell_type": "code",
   "execution_count": 202,
   "id": "dramatic-spencer",
   "metadata": {},
   "outputs": [
    {
     "data": {
      "text/plain": [
       "107190.0"
      ]
     },
     "execution_count": 202,
     "metadata": {},
     "output_type": "execute_result"
    }
   ],
   "source": [
    "# 13_apr\n",
    "tt_cnt_apr = num_item_cnt[num_item_cnt['date_block_num'].isin([3])]\n",
    "num_item_cnt_apr = tt_cnt_apr['item_cnt_day'].sum(axis=0) # axis=0 -> 세로합\n",
    "num_item_cnt_apr"
   ]
  },
  {
   "cell_type": "code",
   "execution_count": 203,
   "id": "lesbian-chamber",
   "metadata": {},
   "outputs": [
    {
     "data": {
      "text/plain": [
       "106970.0"
      ]
     },
     "execution_count": 203,
     "metadata": {},
     "output_type": "execute_result"
    }
   ],
   "source": [
    "# 13_may\n",
    "tt_cnt_may = num_item_cnt[num_item_cnt['date_block_num'].isin([4])]\n",
    "num_item_cnt_may = tt_cnt_may['item_cnt_day'].sum(axis=0) # axis=0 -> 세로합\n",
    "num_item_cnt_may"
   ]
  },
  {
   "cell_type": "code",
   "execution_count": 204,
   "id": "listed-civilian",
   "metadata": {},
   "outputs": [
    {
     "data": {
      "text/plain": [
       "125381.0"
      ]
     },
     "execution_count": 204,
     "metadata": {},
     "output_type": "execute_result"
    }
   ],
   "source": [
    "# 13_jun\n",
    "tt_cnt_jun = num_item_cnt[num_item_cnt['date_block_num'].isin([5])]\n",
    "num_item_cnt_jun = tt_cnt_jun['item_cnt_day'].sum(axis=0) # axis=0 -> 세로합\n",
    "num_item_cnt_jun"
   ]
  },
  {
   "cell_type": "code",
   "execution_count": 205,
   "id": "wrong-athens",
   "metadata": {},
   "outputs": [
    {
     "data": {
      "text/plain": [
       "116966.0"
      ]
     },
     "execution_count": 205,
     "metadata": {},
     "output_type": "execute_result"
    }
   ],
   "source": [
    "# 13_jul\n",
    "tt_cnt_jul = num_item_cnt[num_item_cnt['date_block_num'].isin([6])]\n",
    "num_item_cnt_jul = tt_cnt_jul['item_cnt_day'].sum(axis=0) # axis=0 -> 세로합\n",
    "num_item_cnt_jul"
   ]
  },
  {
   "cell_type": "code",
   "execution_count": 206,
   "id": "furnished-freedom",
   "metadata": {
    "scrolled": true
   },
   "outputs": [
    {
     "data": {
      "text/plain": [
       "125291.0"
      ]
     },
     "execution_count": 206,
     "metadata": {},
     "output_type": "execute_result"
    }
   ],
   "source": [
    "# 13_aug\n",
    "tt_cnt_aug = num_item_cnt[num_item_cnt['date_block_num'].isin([7])]\n",
    "num_item_cnt_aug = tt_cnt_aug['item_cnt_day'].sum(axis=0) # axis=0 -> 세로합\n",
    "num_item_cnt_aug"
   ]
  },
  {
   "cell_type": "code",
   "execution_count": 207,
   "id": "driving-playlist",
   "metadata": {},
   "outputs": [
    {
     "data": {
      "text/plain": [
       "133332.0"
      ]
     },
     "execution_count": 207,
     "metadata": {},
     "output_type": "execute_result"
    }
   ],
   "source": [
    "# 13_sep\n",
    "tt_cnt_sep = num_item_cnt[num_item_cnt['date_block_num'].isin([8])]\n",
    "num_item_cnt_sep = tt_cnt_sep['item_cnt_day'].sum(axis=0) # axis=0 -> 세로합\n",
    "num_item_cnt_sep"
   ]
  },
  {
   "cell_type": "code",
   "execution_count": 208,
   "id": "reported-isolation",
   "metadata": {},
   "outputs": [
    {
     "data": {
      "text/plain": [
       "127541.0"
      ]
     },
     "execution_count": 208,
     "metadata": {},
     "output_type": "execute_result"
    }
   ],
   "source": [
    "# 13_oct\n",
    "tt_cnt_oct = num_item_cnt[num_item_cnt['date_block_num'].isin([9])]\n",
    "num_item_cnt_oct = tt_cnt_oct['item_cnt_day'].sum(axis=0) # axis=0 -> 세로합\n",
    "num_item_cnt_oct"
   ]
  },
  {
   "cell_type": "code",
   "execution_count": 209,
   "id": "liberal-reliance",
   "metadata": {},
   "outputs": [
    {
     "data": {
      "text/plain": [
       "130009.0"
      ]
     },
     "execution_count": 209,
     "metadata": {},
     "output_type": "execute_result"
    }
   ],
   "source": [
    "# 13_nov\n",
    "tt_cnt_nov = num_item_cnt[num_item_cnt['date_block_num'].isin([10])]\n",
    "num_item_cnt_nov = tt_cnt_nov['item_cnt_day'].sum(axis=0) # axis=0 -> 세로합\n",
    "num_item_cnt_nov"
   ]
  },
  {
   "cell_type": "code",
   "execution_count": 210,
   "id": "focused-carrier",
   "metadata": {},
   "outputs": [
    {
     "data": {
      "text/plain": [
       "183342.0"
      ]
     },
     "execution_count": 210,
     "metadata": {},
     "output_type": "execute_result"
    }
   ],
   "source": [
    "# 13_dec\n",
    "tt_cnt_dec = num_item_cnt[num_item_cnt['date_block_num'].isin([11])]\n",
    "num_item_cnt_dec = tt_cnt_dec['item_cnt_day'].sum(axis=0) # axis=0 -> 세로합\n",
    "num_item_cnt_dec"
   ]
  },
  {
   "cell_type": "code",
   "execution_count": 211,
   "id": "olympic-safety",
   "metadata": {},
   "outputs": [],
   "source": [
    "cnt_per_month = (num_item_cnt_jan,\n",
    "                     num_item_cnt_feb,\n",
    "                     num_item_cnt_mar,\n",
    "                     num_item_cnt_apr,\n",
    "                     num_item_cnt_may,\n",
    "                     num_item_cnt_jun,\n",
    "                     num_item_cnt_jul,\n",
    "                     num_item_cnt_aug,\n",
    "                     num_item_cnt_sep,\n",
    "                     num_item_cnt_oct,\n",
    "                     num_item_cnt_nov,\n",
    "                     num_item_cnt_dec)"
   ]
  },
  {
   "cell_type": "code",
   "execution_count": 212,
   "id": "empirical-message",
   "metadata": {},
   "outputs": [
    {
     "data": {
      "text/plain": [
       "tuple"
      ]
     },
     "execution_count": 212,
     "metadata": {},
     "output_type": "execute_result"
    }
   ],
   "source": [
    "type(cnt_per_month)"
   ]
  },
  {
   "cell_type": "code",
   "execution_count": 213,
   "id": "independent-connection",
   "metadata": {},
   "outputs": [
    {
     "data": {
      "text/plain": [
       "list"
      ]
     },
     "execution_count": 213,
     "metadata": {},
     "output_type": "execute_result"
    }
   ],
   "source": [
    "cnt_per_month = list(cnt_per_month)\n",
    "type(cnt_per_month)"
   ]
  },
  {
   "cell_type": "code",
   "execution_count": 214,
   "id": "formal-symphony",
   "metadata": {},
   "outputs": [
    {
     "data": {
      "image/png": "[encoded data removed]",
      "text/plain": [
       "<Figure size 432x288 with 1 Axes>"
      ]
     },
     "metadata": {
      "image/png": {
       "height": 248,
       "width": 394
      },
      "needs_background": "light"
     },
     "output_type": "display_data"
    }
   ],
   "source": [
    "plt.plot(cnt_per_month)\n",
    "plt.show()"
   ]
  },
  {
   "cell_type": "markdown",
   "id": "pacific-separation",
   "metadata": {},
   "source": [
    "## 14년도"
   ]
  },
  {
   "cell_type": "code",
   "execution_count": 164,
   "id": "friendly-mapping",
   "metadata": {},
   "outputs": [
    {
     "data": {
      "text/plain": [
       "116899.0"
      ]
     },
     "execution_count": 164,
     "metadata": {},
     "output_type": "execute_result"
    }
   ],
   "source": [
    "# 14_jan\n",
    "ft_cnt_jan = num_item_cnt[num_item_cnt['date_block_num'].isin([12])]\n",
    "ft_num_item_cnt_jan = ft_cnt_jan['item_cnt_day'].sum(axis=0) # axis=0 -> 세로합\n",
    "ft_num_item_cnt_jan"
   ]
  },
  {
   "cell_type": "code",
   "execution_count": 165,
   "id": "modular-artist",
   "metadata": {
    "code_folding": []
   },
   "outputs": [
    {
     "data": {
      "text/plain": [
       "109687.0"
      ]
     },
     "execution_count": 165,
     "metadata": {},
     "output_type": "execute_result"
    }
   ],
   "source": [
    "# 14_feb\n",
    "ft_cnt_feb = num_item_cnt[num_item_cnt['date_block_num'].isin([13])]\n",
    "ft_num_item_cnt_feb = ft_cnt_feb['item_cnt_day'].sum(axis=0) # axis=0 -> 세로합\n",
    "ft_num_item_cnt_feb"
   ]
  },
  {
   "cell_type": "code",
   "execution_count": 166,
   "id": "involved-orlando",
   "metadata": {
    "scrolled": true
   },
   "outputs": [
    {
     "data": {
      "text/plain": [
       "115297.0"
      ]
     },
     "execution_count": 166,
     "metadata": {},
     "output_type": "execute_result"
    }
   ],
   "source": [
    "# 14_mar\n",
    "ft_cnt_mar = num_item_cnt[num_item_cnt['date_block_num'].isin([14])]\n",
    "ft_num_item_cnt_mar = ft_cnt_mar['item_cnt_day'].sum(axis=0) # axis=0 -> 세로합\n",
    "ft_num_item_cnt_mar"
   ]
  },
  {
   "cell_type": "code",
   "execution_count": 167,
   "id": "raised-macro",
   "metadata": {
    "scrolled": true
   },
   "outputs": [
    {
     "data": {
      "text/plain": [
       "96556.0"
      ]
     },
     "execution_count": 167,
     "metadata": {},
     "output_type": "execute_result"
    }
   ],
   "source": [
    "# 14_apr\n",
    "ft_cnt_apr = num_item_cnt[num_item_cnt['date_block_num'].isin([15])]\n",
    "ft_num_item_cnt_apr = ft_cnt_apr['item_cnt_day'].sum(axis=0) # axis=0 -> 세로합\n",
    "ft_num_item_cnt_apr"
   ]
  },
  {
   "cell_type": "code",
   "execution_count": 168,
   "id": "postal-nitrogen",
   "metadata": {},
   "outputs": [
    {
     "data": {
      "text/plain": [
       "97790.0"
      ]
     },
     "execution_count": 168,
     "metadata": {},
     "output_type": "execute_result"
    }
   ],
   "source": [
    "# 14_may\n",
    "ft_cnt_may = num_item_cnt[num_item_cnt['date_block_num'].isin([16])]\n",
    "ft_num_item_cnt_may = ft_cnt_may['item_cnt_day'].sum(axis=0) # axis=0 -> 세로합\n",
    "ft_num_item_cnt_may"
   ]
  },
  {
   "cell_type": "code",
   "execution_count": 169,
   "id": "metropolitan-effects",
   "metadata": {},
   "outputs": [
    {
     "data": {
      "text/plain": [
       "97429.0"
      ]
     },
     "execution_count": 169,
     "metadata": {},
     "output_type": "execute_result"
    }
   ],
   "source": [
    "# 14_jun\n",
    "ft_cnt_jun = num_item_cnt[num_item_cnt['date_block_num'].isin([17])]\n",
    "ft_num_item_cnt_jun = ft_cnt_jun['item_cnt_day'].sum(axis=0) # axis=0 -> 세로합\n",
    "ft_num_item_cnt_jun"
   ]
  },
  {
   "cell_type": "code",
   "execution_count": 170,
   "id": "broke-buffalo",
   "metadata": {},
   "outputs": [
    {
     "data": {
      "text/plain": [
       "91280.0"
      ]
     },
     "execution_count": 170,
     "metadata": {},
     "output_type": "execute_result"
    }
   ],
   "source": [
    "# 14_jul\n",
    "ft_cnt_jul = num_item_cnt[num_item_cnt['date_block_num'].isin([18])]\n",
    "ft_num_item_cnt_jul = ft_cnt_jul['item_cnt_day'].sum(axis=0) # axis=0 -> 세로합\n",
    "ft_num_item_cnt_jul"
   ]
  },
  {
   "cell_type": "code",
   "execution_count": 171,
   "id": "buried-aerospace",
   "metadata": {
    "scrolled": true
   },
   "outputs": [
    {
     "data": {
      "text/plain": [
       "102721.0"
      ]
     },
     "execution_count": 171,
     "metadata": {},
     "output_type": "execute_result"
    }
   ],
   "source": [
    "# 14_aug\n",
    "ft_cnt_aug = num_item_cnt[num_item_cnt['date_block_num'].isin([19])]\n",
    "ft_num_item_cnt_aug = ft_cnt_aug['item_cnt_day'].sum(axis=0) # axis=0 -> 세로합\n",
    "ft_num_item_cnt_aug"
   ]
  },
  {
   "cell_type": "code",
   "execution_count": 172,
   "id": "cordless-newfoundland",
   "metadata": {},
   "outputs": [
    {
     "data": {
      "text/plain": [
       "99208.0"
      ]
     },
     "execution_count": 172,
     "metadata": {},
     "output_type": "execute_result"
    }
   ],
   "source": [
    "# 14_sep\n",
    "ft_cnt_sep = num_item_cnt[num_item_cnt['date_block_num'].isin([20])]\n",
    "ft_num_item_cnt_sep = ft_cnt_sep['item_cnt_day'].sum(axis=0) # axis=0 -> 세로합\n",
    "ft_num_item_cnt_sep"
   ]
  },
  {
   "cell_type": "code",
   "execution_count": 173,
   "id": "optimum-bicycle",
   "metadata": {},
   "outputs": [
    {
     "data": {
      "text/plain": [
       "107422.0"
      ]
     },
     "execution_count": 173,
     "metadata": {},
     "output_type": "execute_result"
    }
   ],
   "source": [
    "# 14_oct\n",
    "ft_cnt_oct = num_item_cnt[num_item_cnt['date_block_num'].isin([21])]\n",
    "ft_num_item_cnt_oct = ft_cnt_oct['item_cnt_day'].sum(axis=0) # axis=0 -> 세로합\n",
    "ft_num_item_cnt_oct"
   ]
  },
  {
   "cell_type": "code",
   "execution_count": 174,
   "id": "atomic-scale",
   "metadata": {
    "scrolled": true
   },
   "outputs": [
    {
     "data": {
      "text/plain": [
       "117845.0"
      ]
     },
     "execution_count": 174,
     "metadata": {},
     "output_type": "execute_result"
    }
   ],
   "source": [
    "# 14_nov\n",
    "ft_cnt_nov = num_item_cnt[num_item_cnt['date_block_num'].isin([22])]\n",
    "ft_num_item_cnt_nov = ft_cnt_nov['item_cnt_day'].sum(axis=0) # axis=0 -> 세로합\n",
    "ft_num_item_cnt_nov"
   ]
  },
  {
   "cell_type": "code",
   "execution_count": 175,
   "id": "junior-boating",
   "metadata": {},
   "outputs": [
    {
     "data": {
      "text/plain": [
       "168755.0"
      ]
     },
     "execution_count": 175,
     "metadata": {},
     "output_type": "execute_result"
    }
   ],
   "source": [
    "# 14_dec\n",
    "ft_cnt_dec = num_item_cnt[num_item_cnt['date_block_num'].isin([23])]\n",
    "ft_num_item_cnt_dec = ft_cnt_dec['item_cnt_day'].sum(axis=0) # axis=0 -> 세로합\n",
    "ft_num_item_cnt_dec"
   ]
  },
  {
   "cell_type": "code",
   "execution_count": 176,
   "id": "north-motor",
   "metadata": {},
   "outputs": [],
   "source": [
    "ft_cnt_per_month = (ft_num_item_cnt_jan,\n",
    "                     ft_num_item_cnt_feb,\n",
    "                     ft_num_item_cnt_mar,\n",
    "                     ft_num_item_cnt_apr,\n",
    "                     ft_num_item_cnt_may,\n",
    "                     ft_num_item_cnt_jun,\n",
    "                     ft_num_item_cnt_jul,\n",
    "                     ft_num_item_cnt_aug,\n",
    "                     ft_num_item_cnt_sep,\n",
    "                     ft_num_item_cnt_oct,\n",
    "                     ft_num_item_cnt_nov,\n",
    "                     ft_num_item_cnt_dec)"
   ]
  },
  {
   "cell_type": "code",
   "execution_count": 177,
   "id": "formal-supervisor",
   "metadata": {},
   "outputs": [
    {
     "data": {
      "text/plain": [
       "tuple"
      ]
     },
     "execution_count": 177,
     "metadata": {},
     "output_type": "execute_result"
    }
   ],
   "source": [
    "type(ft_cnt_per_month)"
   ]
  },
  {
   "cell_type": "code",
   "execution_count": 178,
   "id": "single-cassette",
   "metadata": {
    "scrolled": true
   },
   "outputs": [
    {
     "data": {
      "text/plain": [
       "list"
      ]
     },
     "execution_count": 178,
     "metadata": {},
     "output_type": "execute_result"
    }
   ],
   "source": [
    "ft_cnt_per_month = list(ft_cnt_per_month)\n",
    "type(ft_cnt_per_month)"
   ]
  },
  {
   "cell_type": "code",
   "execution_count": 179,
   "id": "frequent-settlement",
   "metadata": {},
   "outputs": [
    {
     "data": {
      "image/png": "[encoded data removed]",
      "text/plain": [
       "<Figure size 432x288 with 1 Axes>"
      ]
     },
     "metadata": {
      "image/png": {
       "height": 248,
       "width": 394
      },
      "needs_background": "light"
     },
     "output_type": "display_data"
    }
   ],
   "source": [
    "plt.plot(ft_cnt_per_month)\n",
    "plt.show()"
   ]
  },
  {
   "cell_type": "markdown",
   "id": "parliamentary-render",
   "metadata": {},
   "source": [
    "## 15년도"
   ]
  },
  {
   "cell_type": "code",
   "execution_count": 180,
   "id": "corresponding-thousand",
   "metadata": {},
   "outputs": [
    {
     "data": {
      "text/plain": [
       "110971.0"
      ]
     },
     "execution_count": 180,
     "metadata": {},
     "output_type": "execute_result"
    }
   ],
   "source": [
    "# 15_jan\n",
    "fft_cnt_jan = num_item_cnt[num_item_cnt['date_block_num'].isin([24])]\n",
    "fft_num_item_cnt_jan = fft_cnt_jan['item_cnt_day'].sum(axis=0) # axis=0 -> 세로합\n",
    "fft_num_item_cnt_jan"
   ]
  },
  {
   "cell_type": "code",
   "execution_count": 181,
   "id": "analyzed-incident",
   "metadata": {
    "code_folding": []
   },
   "outputs": [
    {
     "data": {
      "text/plain": [
       "84198.0"
      ]
     },
     "execution_count": 181,
     "metadata": {},
     "output_type": "execute_result"
    }
   ],
   "source": [
    "# 15_feb\n",
    "fft_cnt_feb = num_item_cnt[num_item_cnt['date_block_num'].isin([25])]\n",
    "fft_num_item_cnt_feb = fft_cnt_feb['item_cnt_day'].sum(axis=0) # axis=0 -> 세로합\n",
    "fft_num_item_cnt_feb"
   ]
  },
  {
   "cell_type": "code",
   "execution_count": 182,
   "id": "correct-injection",
   "metadata": {
    "scrolled": true
   },
   "outputs": [
    {
     "data": {
      "text/plain": [
       "82014.0"
      ]
     },
     "execution_count": 182,
     "metadata": {},
     "output_type": "execute_result"
    }
   ],
   "source": [
    "# 15_mar\n",
    "fft_cnt_mar = num_item_cnt[num_item_cnt['date_block_num'].isin([26])]\n",
    "fft_num_item_cnt_mar = fft_cnt_mar['item_cnt_day'].sum(axis=0) # axis=0 -> 세로합\n",
    "fft_num_item_cnt_mar"
   ]
  },
  {
   "cell_type": "code",
   "execution_count": 183,
   "id": "dirty-nature",
   "metadata": {
    "scrolled": true
   },
   "outputs": [
    {
     "data": {
      "text/plain": [
       "77827.0"
      ]
     },
     "execution_count": 183,
     "metadata": {},
     "output_type": "execute_result"
    }
   ],
   "source": [
    "# 15_apr\n",
    "fft_cnt_apr = num_item_cnt[num_item_cnt['date_block_num'].isin([27])]\n",
    "fft_num_item_cnt_apr = fft_cnt_apr['item_cnt_day'].sum(axis=0) # axis=0 -> 세로합\n",
    "fft_num_item_cnt_apr"
   ]
  },
  {
   "cell_type": "code",
   "execution_count": 184,
   "id": "jewish-vacation",
   "metadata": {},
   "outputs": [
    {
     "data": {
      "text/plain": [
       "72295.0"
      ]
     },
     "execution_count": 184,
     "metadata": {},
     "output_type": "execute_result"
    }
   ],
   "source": [
    "# 15_may\n",
    "fft_cnt_may = num_item_cnt[num_item_cnt['date_block_num'].isin([28])]\n",
    "fft_num_item_cnt_may = fft_cnt_may['item_cnt_day'].sum(axis=0) # axis=0 -> 세로합\n",
    "fft_num_item_cnt_may"
   ]
  },
  {
   "cell_type": "code",
   "execution_count": 185,
   "id": "collected-ukraine",
   "metadata": {},
   "outputs": [
    {
     "data": {
      "text/plain": [
       "64114.0"
      ]
     },
     "execution_count": 185,
     "metadata": {},
     "output_type": "execute_result"
    }
   ],
   "source": [
    "# 15_jun\n",
    "fft_cnt_jun = num_item_cnt[num_item_cnt['date_block_num'].isin([29])]\n",
    "fft_num_item_cnt_jun = fft_cnt_jun['item_cnt_day'].sum(axis=0) # axis=0 -> 세로합\n",
    "fft_num_item_cnt_jun"
   ]
  },
  {
   "cell_type": "code",
   "execution_count": 186,
   "id": "specified-september",
   "metadata": {},
   "outputs": [
    {
     "data": {
      "text/plain": [
       "63187.0"
      ]
     },
     "execution_count": 186,
     "metadata": {},
     "output_type": "execute_result"
    }
   ],
   "source": [
    "# 15_jul\n",
    "fft_cnt_jul = num_item_cnt[num_item_cnt['date_block_num'].isin([30])]\n",
    "fft_num_item_cnt_jul = fft_cnt_jul['item_cnt_day'].sum(axis=0) # axis=0 -> 세로합\n",
    "fft_num_item_cnt_jul"
   ]
  },
  {
   "cell_type": "code",
   "execution_count": 187,
   "id": "handmade-racing",
   "metadata": {
    "scrolled": true
   },
   "outputs": [
    {
     "data": {
      "text/plain": [
       "66079.0"
      ]
     },
     "execution_count": 187,
     "metadata": {},
     "output_type": "execute_result"
    }
   ],
   "source": [
    "# 15_aug\n",
    "fft_cnt_aug = num_item_cnt[num_item_cnt['date_block_num'].isin([31])]\n",
    "fft_num_item_cnt_aug = fft_cnt_aug['item_cnt_day'].sum(axis=0) # axis=0 -> 세로합\n",
    "fft_num_item_cnt_aug"
   ]
  },
  {
   "cell_type": "code",
   "execution_count": 188,
   "id": "accepted-western",
   "metadata": {},
   "outputs": [
    {
     "data": {
      "text/plain": [
       "72843.0"
      ]
     },
     "execution_count": 188,
     "metadata": {},
     "output_type": "execute_result"
    }
   ],
   "source": [
    "# 15_sep\n",
    "fft_cnt_sep = num_item_cnt[num_item_cnt['date_block_num'].isin([32])]\n",
    "fft_num_item_cnt_sep = fft_cnt_sep['item_cnt_day'].sum(axis=0) # axis=0 -> 세로합\n",
    "fft_num_item_cnt_sep"
   ]
  },
  {
   "cell_type": "code",
   "execution_count": 189,
   "id": "suspended-syntax",
   "metadata": {},
   "outputs": [
    {
     "data": {
      "text/plain": [
       "71056.0"
      ]
     },
     "execution_count": 189,
     "metadata": {},
     "output_type": "execute_result"
    }
   ],
   "source": [
    "# 15_oct\n",
    "fft_cnt_oct = num_item_cnt[num_item_cnt['date_block_num'].isin([33])]\n",
    "fft_num_item_cnt_oct = fft_cnt_oct['item_cnt_day'].sum(axis=0) # axis=0 -> 세로합\n",
    "fft_num_item_cnt_oct"
   ]
  },
  {
   "cell_type": "code",
   "execution_count": 190,
   "id": "democratic-geometry",
   "metadata": {},
   "outputs": [],
   "source": [
    "fft_cnt_per_month = (fft_num_item_cnt_jan,\n",
    "                     fft_num_item_cnt_feb,\n",
    "                     fft_num_item_cnt_mar,\n",
    "                     fft_num_item_cnt_apr,\n",
    "                     fft_num_item_cnt_may,\n",
    "                     fft_num_item_cnt_jun,\n",
    "                     fft_num_item_cnt_jul,\n",
    "                     fft_num_item_cnt_aug,\n",
    "                     fft_num_item_cnt_sep,\n",
    "                     fft_num_item_cnt_oct)"
   ]
  },
  {
   "cell_type": "code",
   "execution_count": 191,
   "id": "noble-egypt",
   "metadata": {},
   "outputs": [
    {
     "data": {
      "text/plain": [
       "tuple"
      ]
     },
     "execution_count": 191,
     "metadata": {},
     "output_type": "execute_result"
    }
   ],
   "source": [
    "type(fft_cnt_per_month)"
   ]
  },
  {
   "cell_type": "code",
   "execution_count": 192,
   "id": "indie-judge",
   "metadata": {
    "scrolled": true
   },
   "outputs": [
    {
     "data": {
      "text/plain": [
       "list"
      ]
     },
     "execution_count": 192,
     "metadata": {},
     "output_type": "execute_result"
    }
   ],
   "source": [
    "fft_cnt_per_month = list(fft_cnt_per_month)\n",
    "type(fft_cnt_per_month)"
   ]
  },
  {
   "cell_type": "code",
   "execution_count": 193,
   "id": "emotional-certificate",
   "metadata": {},
   "outputs": [
    {
     "data": {
      "image/png": "[encoded data removed]",
      "text/plain": [
       "<Figure size 432x288 with 1 Axes>"
      ]
     },
     "metadata": {
      "image/png": {
       "height": 248,
       "width": 394
      },
      "needs_background": "light"
     },
     "output_type": "display_data"
    }
   ],
   "source": [
    "plt.plot(fft_cnt_per_month)\n",
    "plt.show()"
   ]
  },
  {
   "cell_type": "markdown",
   "id": "quick-mandate",
   "metadata": {},
   "source": [
    "## 모음"
   ]
  },
  {
   "cell_type": "code",
   "execution_count": 215,
   "id": "comparable-nightlife",
   "metadata": {},
   "outputs": [
    {
     "data": {
      "image/png": "[encoded data removed]",
      "text/plain": [
       "<Figure size 432x288 with 1 Axes>"
      ]
     },
     "metadata": {
      "image/png": {
       "height": 248,
       "width": 394
      },
      "needs_background": "light"
     },
     "output_type": "display_data"
    }
   ],
   "source": [
    "plt.plot(cnt_per_month)\n",
    "plt.show()"
   ]
  },
  {
   "cell_type": "code",
   "execution_count": 198,
   "id": "permanent-proceeding",
   "metadata": {},
   "outputs": [
    {
     "data": {
      "image/png": "[encoded data removed]",
      "text/plain": [
       "<Figure size 432x288 with 1 Axes>"
      ]
     },
     "metadata": {
      "image/png": {
       "height": 248,
       "width": 394
      },
      "needs_background": "light"
     },
     "output_type": "display_data"
    }
   ],
   "source": [
    "plt.plot(ft_cnt_per_month)\n",
    "plt.show()"
   ]
  },
  {
   "cell_type": "code",
   "execution_count": 196,
   "id": "gorgeous-updating",
   "metadata": {},
   "outputs": [
    {
     "data": {
      "image/png": "[encoded data removed]",
      "text/plain": [
       "<Figure size 432x288 with 1 Axes>"
      ]
     },
     "metadata": {
      "image/png": {
       "height": 248,
       "width": 394
      },
      "needs_background": "light"
     },
     "output_type": "display_data"
    }
   ],
   "source": [
    "plt.plot(fft_cnt_per_month)\n",
    "plt.show()"
   ]
  },
  {
   "cell_type": "code",
   "execution_count": null,
   "id": "small-harvard",
   "metadata": {},
   "outputs": [],
   "source": []
  },
  {
   "cell_type": "code",
   "execution_count": null,
   "id": "metric-personality",
   "metadata": {},
   "outputs": [],
   "source": []
  },
  {
   "cell_type": "code",
   "execution_count": null,
   "id": "golden-sample",
   "metadata": {},
   "outputs": [],
   "source": []
  },
  {
   "cell_type": "code",
   "execution_count": null,
   "id": "australian-saskatchewan",
   "metadata": {},
   "outputs": [],
   "source": []
  },
  {
   "cell_type": "code",
   "execution_count": null,
   "id": "romantic-portland",
   "metadata": {},
   "outputs": [],
   "source": []
  },
  {
   "cell_type": "code",
   "execution_count": null,
   "id": "documentary-accident",
   "metadata": {},
   "outputs": [],
   "source": []
  },
  {
   "cell_type": "code",
   "execution_count": null,
   "id": "fresh-hacker",
   "metadata": {},
   "outputs": [],
   "source": []
  },
  {
   "cell_type": "code",
   "execution_count": null,
   "id": "hispanic-segment",
   "metadata": {},
   "outputs": [],
   "source": []
  },
  {
   "cell_type": "code",
   "execution_count": null,
   "id": "speaking-assessment",
   "metadata": {},
   "outputs": [],
   "source": []
  },
  {
   "cell_type": "code",
   "execution_count": 112,
   "id": "established-electronics",
   "metadata": {},
   "outputs": [
    {
     "data": {
      "text/html": [
       "<div>\n",
       "<style scoped>\n",
       "    .dataframe tbody tr th:only-of-type {\n",
       "        vertical-align: middle;\n",
       "    }\n",
       "\n",
       "    .dataframe tbody tr th {\n",
       "        vertical-align: top;\n",
       "    }\n",
       "\n",
       "    .dataframe thead th {\n",
       "        text-align: right;\n",
       "    }\n",
       "</style>\n",
       "<table border=\"1\" class=\"dataframe\">\n",
       "  <thead>\n",
       "    <tr style=\"text-align: right;\">\n",
       "      <th></th>\n",
       "      <th>date_block_num</th>\n",
       "      <th>item_id</th>\n",
       "      <th>item_cnt_day</th>\n",
       "    </tr>\n",
       "  </thead>\n",
       "  <tbody>\n",
       "    <tr>\n",
       "      <th>0</th>\n",
       "      <td>0</td>\n",
       "      <td>22154</td>\n",
       "      <td>1.0</td>\n",
       "    </tr>\n",
       "    <tr>\n",
       "      <th>1</th>\n",
       "      <td>0</td>\n",
       "      <td>2552</td>\n",
       "      <td>1.0</td>\n",
       "    </tr>\n",
       "    <tr>\n",
       "      <th>2</th>\n",
       "      <td>0</td>\n",
       "      <td>2552</td>\n",
       "      <td>-1.0</td>\n",
       "    </tr>\n",
       "    <tr>\n",
       "      <th>3</th>\n",
       "      <td>0</td>\n",
       "      <td>2554</td>\n",
       "      <td>1.0</td>\n",
       "    </tr>\n",
       "    <tr>\n",
       "      <th>4</th>\n",
       "      <td>0</td>\n",
       "      <td>2555</td>\n",
       "      <td>1.0</td>\n",
       "    </tr>\n",
       "    <tr>\n",
       "      <th>...</th>\n",
       "      <td>...</td>\n",
       "      <td>...</td>\n",
       "      <td>...</td>\n",
       "    </tr>\n",
       "    <tr>\n",
       "      <th>115685</th>\n",
       "      <td>0</td>\n",
       "      <td>32</td>\n",
       "      <td>1.0</td>\n",
       "    </tr>\n",
       "    <tr>\n",
       "      <th>115686</th>\n",
       "      <td>0</td>\n",
       "      <td>32</td>\n",
       "      <td>1.0</td>\n",
       "    </tr>\n",
       "    <tr>\n",
       "      <th>115687</th>\n",
       "      <td>0</td>\n",
       "      <td>35</td>\n",
       "      <td>2.0</td>\n",
       "    </tr>\n",
       "    <tr>\n",
       "      <th>115688</th>\n",
       "      <td>0</td>\n",
       "      <td>621</td>\n",
       "      <td>1.0</td>\n",
       "    </tr>\n",
       "    <tr>\n",
       "      <th>115689</th>\n",
       "      <td>0</td>\n",
       "      <td>32</td>\n",
       "      <td>1.0</td>\n",
       "    </tr>\n",
       "  </tbody>\n",
       "</table>\n",
       "<p>115690 rows × 3 columns</p>\n",
       "</div>"
      ],
      "text/plain": [
       "        date_block_num  item_id  item_cnt_day\n",
       "0                    0    22154           1.0\n",
       "1                    0     2552           1.0\n",
       "2                    0     2552          -1.0\n",
       "3                    0     2554           1.0\n",
       "4                    0     2555           1.0\n",
       "...                ...      ...           ...\n",
       "115685               0       32           1.0\n",
       "115686               0       32           1.0\n",
       "115687               0       35           2.0\n",
       "115688               0      621           1.0\n",
       "115689               0       32           1.0\n",
       "\n",
       "[115690 rows x 3 columns]"
      ]
     },
     "execution_count": 112,
     "metadata": {},
     "output_type": "execute_result"
    }
   ],
   "source": [
    "# 13_jan\n",
    "tt_cnt_jan = num_item_cnt[num_item_cnt['date_block_num'].isin([0])]\n",
    "tt_cnt_jan"
   ]
  },
  {
   "cell_type": "code",
   "execution_count": 113,
   "id": "grand-mailman",
   "metadata": {},
   "outputs": [
    {
     "data": {
      "text/plain": [
       "array([[ 0.0000e+00,  2.2154e+04,  1.0000e+00],\n",
       "       [ 0.0000e+00,  2.5520e+03,  1.0000e+00],\n",
       "       [ 0.0000e+00,  2.5520e+03, -1.0000e+00],\n",
       "       ...,\n",
       "       [ 0.0000e+00,  3.5000e+01,  2.0000e+00],\n",
       "       [ 0.0000e+00,  6.2100e+02,  1.0000e+00],\n",
       "       [ 0.0000e+00,  3.2000e+01,  1.0000e+00]])"
      ]
     },
     "execution_count": 113,
     "metadata": {},
     "output_type": "execute_result"
    }
   ],
   "source": [
    "tt_cnt_jan = tt_cnt_jan.values\n",
    "tt_cnt_jan"
   ]
  },
  {
   "cell_type": "code",
   "execution_count": 114,
   "id": "serious-liverpool",
   "metadata": {},
   "outputs": [
    {
     "data": {
      "text/plain": [
       "array([ 1.,  1., -1., ...,  2.,  1.,  1.])"
      ]
     },
     "execution_count": 114,
     "metadata": {},
     "output_type": "execute_result"
    }
   ],
   "source": [
    "tt_cnt_jan = tt_cnt_jan[:, 2]\n",
    "tt_cnt_jan"
   ]
  },
  {
   "cell_type": "code",
   "execution_count": 116,
   "id": "miniature-smoke",
   "metadata": {},
   "outputs": [
    {
     "data": {
      "text/plain": [
       "131479.0"
      ]
     },
     "execution_count": 116,
     "metadata": {},
     "output_type": "execute_result"
    }
   ],
   "source": [
    "tt_cnt_jan = list(tt_cnt_jan)\n",
    "sum(tt_cnt_jan)"
   ]
  },
  {
   "cell_type": "code",
   "execution_count": 117,
   "id": "moderate-giant",
   "metadata": {},
   "outputs": [
    {
     "data": {
      "text/plain": [
       "128090.0"
      ]
     },
     "execution_count": 117,
     "metadata": {},
     "output_type": "execute_result"
    }
   ],
   "source": [
    "# 13_feb\n",
    "tt_cnt_feb = num_item_cnt[num_item_cnt['date_block_num'].isin([1])]\n",
    "\n",
    "tt_cnt_feb = tt_cnt_feb.values\n",
    "\n",
    "tt_cnt_feb = tt_cnt_feb[:, 2] \n",
    "\n",
    "sum(tt_cnt_feb)"
   ]
  },
  {
   "cell_type": "code",
   "execution_count": 118,
   "id": "excellent-mainland",
   "metadata": {},
   "outputs": [
    {
     "data": {
      "text/plain": [
       "147142.0"
      ]
     },
     "execution_count": 118,
     "metadata": {},
     "output_type": "execute_result"
    }
   ],
   "source": [
    "# 13_mar\n",
    "tt_cnt_mar = num_item_cnt[num_item_cnt['date_block_num'].isin([2])]\n",
    "\n",
    "tt_cnt_mar = tt_cnt_mar.values\n",
    "\n",
    "tt_cnt_mar = tt_cnt_mar[:, 2] \n",
    "\n",
    "sum(tt_cnt_mar)"
   ]
  },
  {
   "cell_type": "code",
   "execution_count": null,
   "id": "colonial-slave",
   "metadata": {},
   "outputs": [],
   "source": []
  },
  {
   "cell_type": "code",
   "execution_count": null,
   "id": "continental-company",
   "metadata": {},
   "outputs": [],
   "source": []
  },
  {
   "cell_type": "code",
   "execution_count": null,
   "id": "imported-affairs",
   "metadata": {},
   "outputs": [],
   "source": []
  },
  {
   "cell_type": "code",
   "execution_count": null,
   "id": "compound-deposit",
   "metadata": {},
   "outputs": [],
   "source": []
  },
  {
   "cell_type": "code",
   "execution_count": null,
   "id": "binding-cycle",
   "metadata": {},
   "outputs": [],
   "source": []
  },
  {
   "cell_type": "code",
   "execution_count": null,
   "id": "complimentary-technician",
   "metadata": {},
   "outputs": [],
   "source": []
  },
  {
   "cell_type": "code",
   "execution_count": null,
   "id": "civilian-sugar",
   "metadata": {},
   "outputs": [],
   "source": []
  },
  {
   "cell_type": "code",
   "execution_count": null,
   "id": "mature-encyclopedia",
   "metadata": {},
   "outputs": [],
   "source": []
  },
  {
   "cell_type": "code",
   "execution_count": 104,
   "id": "processed-percentage",
   "metadata": {},
   "outputs": [
    {
     "data": {
      "text/html": [
       "<div>\n",
       "<style scoped>\n",
       "    .dataframe tbody tr th:only-of-type {\n",
       "        vertical-align: middle;\n",
       "    }\n",
       "\n",
       "    .dataframe tbody tr th {\n",
       "        vertical-align: top;\n",
       "    }\n",
       "\n",
       "    .dataframe thead th {\n",
       "        text-align: right;\n",
       "    }\n",
       "</style>\n",
       "<table border=\"1\" class=\"dataframe\">\n",
       "  <thead>\n",
       "    <tr style=\"text-align: right;\">\n",
       "      <th></th>\n",
       "      <th>date</th>\n",
       "      <th>date_block_num</th>\n",
       "      <th>item_id</th>\n",
       "      <th>item_cnt_day</th>\n",
       "    </tr>\n",
       "  </thead>\n",
       "  <tbody>\n",
       "    <tr>\n",
       "      <th>0</th>\n",
       "      <td>02.01.2013</td>\n",
       "      <td>0</td>\n",
       "      <td>22154</td>\n",
       "      <td>1.0</td>\n",
       "    </tr>\n",
       "    <tr>\n",
       "      <th>1</th>\n",
       "      <td>03.01.2013</td>\n",
       "      <td>0</td>\n",
       "      <td>2552</td>\n",
       "      <td>1.0</td>\n",
       "    </tr>\n",
       "    <tr>\n",
       "      <th>2</th>\n",
       "      <td>05.01.2013</td>\n",
       "      <td>0</td>\n",
       "      <td>2552</td>\n",
       "      <td>-1.0</td>\n",
       "    </tr>\n",
       "    <tr>\n",
       "      <th>3</th>\n",
       "      <td>06.01.2013</td>\n",
       "      <td>0</td>\n",
       "      <td>2554</td>\n",
       "      <td>1.0</td>\n",
       "    </tr>\n",
       "    <tr>\n",
       "      <th>4</th>\n",
       "      <td>15.01.2013</td>\n",
       "      <td>0</td>\n",
       "      <td>2555</td>\n",
       "      <td>1.0</td>\n",
       "    </tr>\n",
       "    <tr>\n",
       "      <th>...</th>\n",
       "      <td>...</td>\n",
       "      <td>...</td>\n",
       "      <td>...</td>\n",
       "      <td>...</td>\n",
       "    </tr>\n",
       "    <tr>\n",
       "      <th>1267557</th>\n",
       "      <td>06.12.2013</td>\n",
       "      <td>11</td>\n",
       "      <td>5671</td>\n",
       "      <td>1.0</td>\n",
       "    </tr>\n",
       "    <tr>\n",
       "      <th>1267558</th>\n",
       "      <td>01.12.2013</td>\n",
       "      <td>11</td>\n",
       "      <td>5671</td>\n",
       "      <td>3.0</td>\n",
       "    </tr>\n",
       "    <tr>\n",
       "      <th>1267559</th>\n",
       "      <td>26.12.2013</td>\n",
       "      <td>11</td>\n",
       "      <td>5669</td>\n",
       "      <td>2.0</td>\n",
       "    </tr>\n",
       "    <tr>\n",
       "      <th>1267560</th>\n",
       "      <td>25.12.2013</td>\n",
       "      <td>11</td>\n",
       "      <td>5669</td>\n",
       "      <td>1.0</td>\n",
       "    </tr>\n",
       "    <tr>\n",
       "      <th>1267561</th>\n",
       "      <td>19.12.2013</td>\n",
       "      <td>11</td>\n",
       "      <td>5671</td>\n",
       "      <td>1.0</td>\n",
       "    </tr>\n",
       "  </tbody>\n",
       "</table>\n",
       "<p>1267562 rows × 4 columns</p>\n",
       "</div>"
      ],
      "text/plain": [
       "               date  date_block_num  item_id  item_cnt_day\n",
       "0        02.01.2013               0    22154           1.0\n",
       "1        03.01.2013               0     2552           1.0\n",
       "2        05.01.2013               0     2552          -1.0\n",
       "3        06.01.2013               0     2554           1.0\n",
       "4        15.01.2013               0     2555           1.0\n",
       "...             ...             ...      ...           ...\n",
       "1267557  06.12.2013              11     5671           1.0\n",
       "1267558  01.12.2013              11     5671           3.0\n",
       "1267559  26.12.2013              11     5669           2.0\n",
       "1267560  25.12.2013              11     5669           1.0\n",
       "1267561  19.12.2013              11     5671           1.0\n",
       "\n",
       "[1267562 rows x 4 columns]"
      ]
     },
     "execution_count": 104,
     "metadata": {},
     "output_type": "execute_result"
    }
   ],
   "source": [
    "# 13년도 판매\n",
    "tt_cnt = num_item_cnt[num_item_cnt['date_block_num'].isin([0,1,2,3,4,5,6,7,8,9,10,11])]\n",
    "tt_cnt"
   ]
  },
  {
   "cell_type": "code",
   "execution_count": 102,
   "id": "norman-oxide",
   "metadata": {},
   "outputs": [
    {
     "data": {
      "text/html": [
       "<div>\n",
       "<style scoped>\n",
       "    .dataframe tbody tr th:only-of-type {\n",
       "        vertical-align: middle;\n",
       "    }\n",
       "\n",
       "    .dataframe tbody tr th {\n",
       "        vertical-align: top;\n",
       "    }\n",
       "\n",
       "    .dataframe thead th {\n",
       "        text-align: right;\n",
       "    }\n",
       "</style>\n",
       "<table border=\"1\" class=\"dataframe\">\n",
       "  <thead>\n",
       "    <tr style=\"text-align: right;\">\n",
       "      <th></th>\n",
       "      <th>date</th>\n",
       "      <th>date_block_num</th>\n",
       "      <th>item_id</th>\n",
       "      <th>item_cnt_day</th>\n",
       "    </tr>\n",
       "  </thead>\n",
       "  <tbody>\n",
       "    <tr>\n",
       "      <th>0</th>\n",
       "      <td>2013-02-01</td>\n",
       "      <td>0</td>\n",
       "      <td>22154</td>\n",
       "      <td>1.0</td>\n",
       "    </tr>\n",
       "    <tr>\n",
       "      <th>1</th>\n",
       "      <td>2013-03-01</td>\n",
       "      <td>0</td>\n",
       "      <td>2552</td>\n",
       "      <td>1.0</td>\n",
       "    </tr>\n",
       "    <tr>\n",
       "      <th>2</th>\n",
       "      <td>2013-05-01</td>\n",
       "      <td>0</td>\n",
       "      <td>2552</td>\n",
       "      <td>-1.0</td>\n",
       "    </tr>\n",
       "    <tr>\n",
       "      <th>3</th>\n",
       "      <td>2013-06-01</td>\n",
       "      <td>0</td>\n",
       "      <td>2554</td>\n",
       "      <td>1.0</td>\n",
       "    </tr>\n",
       "    <tr>\n",
       "      <th>4</th>\n",
       "      <td>2013-01-15</td>\n",
       "      <td>0</td>\n",
       "      <td>2555</td>\n",
       "      <td>1.0</td>\n",
       "    </tr>\n",
       "    <tr>\n",
       "      <th>...</th>\n",
       "      <td>...</td>\n",
       "      <td>...</td>\n",
       "      <td>...</td>\n",
       "      <td>...</td>\n",
       "    </tr>\n",
       "    <tr>\n",
       "      <th>1267557</th>\n",
       "      <td>2013-06-12</td>\n",
       "      <td>11</td>\n",
       "      <td>5671</td>\n",
       "      <td>1.0</td>\n",
       "    </tr>\n",
       "    <tr>\n",
       "      <th>1267558</th>\n",
       "      <td>2013-01-12</td>\n",
       "      <td>11</td>\n",
       "      <td>5671</td>\n",
       "      <td>3.0</td>\n",
       "    </tr>\n",
       "    <tr>\n",
       "      <th>1267559</th>\n",
       "      <td>2013-12-26</td>\n",
       "      <td>11</td>\n",
       "      <td>5669</td>\n",
       "      <td>2.0</td>\n",
       "    </tr>\n",
       "    <tr>\n",
       "      <th>1267560</th>\n",
       "      <td>2013-12-25</td>\n",
       "      <td>11</td>\n",
       "      <td>5669</td>\n",
       "      <td>1.0</td>\n",
       "    </tr>\n",
       "    <tr>\n",
       "      <th>1267561</th>\n",
       "      <td>2013-12-19</td>\n",
       "      <td>11</td>\n",
       "      <td>5671</td>\n",
       "      <td>1.0</td>\n",
       "    </tr>\n",
       "  </tbody>\n",
       "</table>\n",
       "<p>1267562 rows × 4 columns</p>\n",
       "</div>"
      ],
      "text/plain": [
       "              date  date_block_num  item_id  item_cnt_day\n",
       "0       2013-02-01               0    22154           1.0\n",
       "1       2013-03-01               0     2552           1.0\n",
       "2       2013-05-01               0     2552          -1.0\n",
       "3       2013-06-01               0     2554           1.0\n",
       "4       2013-01-15               0     2555           1.0\n",
       "...            ...             ...      ...           ...\n",
       "1267557 2013-06-12              11     5671           1.0\n",
       "1267558 2013-01-12              11     5671           3.0\n",
       "1267559 2013-12-26              11     5669           2.0\n",
       "1267560 2013-12-25              11     5669           1.0\n",
       "1267561 2013-12-19              11     5671           1.0\n",
       "\n",
       "[1267562 rows x 4 columns]"
      ]
     },
     "execution_count": 102,
     "metadata": {},
     "output_type": "execute_result"
    }
   ],
   "source": [
    "tt_cnt['date'] = pd.to_datetime(tt_cnt[\"date\"])\n",
    "tt_cnt"
   ]
  },
  {
   "cell_type": "code",
   "execution_count": 103,
   "id": "mexican-phase",
   "metadata": {},
   "outputs": [],
   "source": [
    "# tt_cnt = tt_cnt.sort_values(by = ['date_block_num'])\n",
    "# tt_cnt"
   ]
  },
  {
   "cell_type": "code",
   "execution_count": 105,
   "id": "traditional-plain",
   "metadata": {},
   "outputs": [
    {
     "data": {
      "text/plain": [
       "item_id\n",
       "20949    63748.0\n",
       "2808     12214.0\n",
       "3732     11981.0\n",
       "3734      7649.0\n",
       "16787     6430.0\n",
       "          ...   \n",
       "4591         0.0\n",
       "11871       -1.0\n",
       "18062       -1.0\n",
       "13474       -1.0\n",
       "1590       -11.0\n",
       "Name: item_cnt_day, Length: 14971, dtype: float64"
      ]
     },
     "execution_count": 105,
     "metadata": {},
     "output_type": "execute_result"
    }
   ],
   "source": [
    "tt_items = tt_cnt.groupby(['item_id'])['item_cnt_day'].sum().sort_values(ascending=False)\n",
    "tt_items"
   ]
  },
  {
   "cell_type": "code",
   "execution_count": 106,
   "id": "stopped-cardiff",
   "metadata": {},
   "outputs": [
    {
     "data": {
      "text/plain": [
       "count    14971.000000\n",
       "mean       104.384009\n",
       "std        607.878383\n",
       "min        -11.000000\n",
       "25%          5.000000\n",
       "50%         24.000000\n",
       "75%         79.000000\n",
       "max      63748.000000\n",
       "Name: item_cnt_day, dtype: float64"
      ]
     },
     "execution_count": 106,
     "metadata": {},
     "output_type": "execute_result"
    }
   ],
   "source": [
    "tt_items.describe()"
   ]
  },
  {
   "cell_type": "code",
   "execution_count": 107,
   "id": "finnish-tattoo",
   "metadata": {},
   "outputs": [
    {
     "data": {
      "text/plain": [
       "pandas.core.series.Series"
      ]
     },
     "execution_count": 107,
     "metadata": {},
     "output_type": "execute_result"
    }
   ],
   "source": [
    "type(tt_items)"
   ]
  },
  {
   "cell_type": "code",
   "execution_count": 108,
   "id": "swedish-completion",
   "metadata": {},
   "outputs": [
    {
     "data": {
      "text/html": [
       "<div>\n",
       "<style scoped>\n",
       "    .dataframe tbody tr th:only-of-type {\n",
       "        vertical-align: middle;\n",
       "    }\n",
       "\n",
       "    .dataframe tbody tr th {\n",
       "        vertical-align: top;\n",
       "    }\n",
       "\n",
       "    .dataframe thead th {\n",
       "        text-align: right;\n",
       "    }\n",
       "</style>\n",
       "<table border=\"1\" class=\"dataframe\">\n",
       "  <thead>\n",
       "    <tr style=\"text-align: right;\">\n",
       "      <th></th>\n",
       "      <th>item_cnt_day</th>\n",
       "    </tr>\n",
       "    <tr>\n",
       "      <th>item_id</th>\n",
       "      <th></th>\n",
       "    </tr>\n",
       "  </thead>\n",
       "  <tbody>\n",
       "    <tr>\n",
       "      <th>20949</th>\n",
       "      <td>63748.0</td>\n",
       "    </tr>\n",
       "    <tr>\n",
       "      <th>2808</th>\n",
       "      <td>12214.0</td>\n",
       "    </tr>\n",
       "    <tr>\n",
       "      <th>3732</th>\n",
       "      <td>11981.0</td>\n",
       "    </tr>\n",
       "    <tr>\n",
       "      <th>3734</th>\n",
       "      <td>7649.0</td>\n",
       "    </tr>\n",
       "    <tr>\n",
       "      <th>16787</th>\n",
       "      <td>6430.0</td>\n",
       "    </tr>\n",
       "    <tr>\n",
       "      <th>...</th>\n",
       "      <td>...</td>\n",
       "    </tr>\n",
       "    <tr>\n",
       "      <th>4591</th>\n",
       "      <td>0.0</td>\n",
       "    </tr>\n",
       "    <tr>\n",
       "      <th>11871</th>\n",
       "      <td>-1.0</td>\n",
       "    </tr>\n",
       "    <tr>\n",
       "      <th>18062</th>\n",
       "      <td>-1.0</td>\n",
       "    </tr>\n",
       "    <tr>\n",
       "      <th>13474</th>\n",
       "      <td>-1.0</td>\n",
       "    </tr>\n",
       "    <tr>\n",
       "      <th>1590</th>\n",
       "      <td>-11.0</td>\n",
       "    </tr>\n",
       "  </tbody>\n",
       "</table>\n",
       "<p>14971 rows × 1 columns</p>\n",
       "</div>"
      ],
      "text/plain": [
       "         item_cnt_day\n",
       "item_id              \n",
       "20949         63748.0\n",
       "2808          12214.0\n",
       "3732          11981.0\n",
       "3734           7649.0\n",
       "16787          6430.0\n",
       "...               ...\n",
       "4591              0.0\n",
       "11871            -1.0\n",
       "18062            -1.0\n",
       "13474            -1.0\n",
       "1590            -11.0\n",
       "\n",
       "[14971 rows x 1 columns]"
      ]
     },
     "execution_count": 108,
     "metadata": {},
     "output_type": "execute_result"
    }
   ],
   "source": [
    "# series -> dataframe\n",
    "tt_items = tt_items.to_frame()\n",
    "tt_items"
   ]
  },
  {
   "cell_type": "code",
   "execution_count": 91,
   "id": "formed-wonder",
   "metadata": {},
   "outputs": [
    {
     "name": "stdout",
     "output_type": "stream",
     "text": [
      "         item_cnt_day\n",
      "item_id              \n",
      "20949         63748.0\n",
      "2808          12214.0\n",
      "3732          11981.0\n",
      "3734           7649.0\n",
      "16787          6430.0\n",
      "...               ...\n",
      "4591              0.0\n",
      "11871            -1.0\n",
      "18062            -1.0\n",
      "13474            -1.0\n",
      "1590            -11.0\n",
      "\n",
      "[14971 rows x 1 columns]\n"
     ]
    }
   ],
   "source": [
    "print(tt_items[['item_cnt_day']])"
   ]
  },
  {
   "cell_type": "code",
   "execution_count": 93,
   "id": "alleged-monitor",
   "metadata": {},
   "outputs": [
    {
     "data": {
      "image/png": "[encoded data removed]",
      "text/plain": [
       "<Figure size 432x288 with 1 Axes>"
      ]
     },
     "metadata": {
      "image/png": {
       "height": 248,
       "width": 388
      },
      "needs_background": "light"
     },
     "output_type": "display_data"
    }
   ],
   "source": [
    "plt.plot(tt_items['item_cnt_day'])\n",
    "plt.show()"
   ]
  },
  {
   "cell_type": "code",
   "execution_count": 79,
   "id": "severe-advertising",
   "metadata": {},
   "outputs": [
    {
     "ename": "KeyError",
     "evalue": "('item_id', 'item_cnt_day')",
     "output_type": "error",
     "traceback": [
      "\u001b[0;31m---------------------------------------------------------------------------\u001b[0m",
      "\u001b[0;31mKeyError\u001b[0m                                  Traceback (most recent call last)",
      "\u001b[0;32m~/anaconda3/envs/aiffel/lib/python3.7/site-packages/pandas/core/indexes/base.py\u001b[0m in \u001b[0;36mget_loc\u001b[0;34m(self, key, method, tolerance)\u001b[0m\n\u001b[1;32m   2894\u001b[0m             \u001b[0;32mtry\u001b[0m\u001b[0;34m:\u001b[0m\u001b[0;34m\u001b[0m\u001b[0;34m\u001b[0m\u001b[0m\n\u001b[0;32m-> 2895\u001b[0;31m                 \u001b[0;32mreturn\u001b[0m \u001b[0mself\u001b[0m\u001b[0;34m.\u001b[0m\u001b[0m_engine\u001b[0m\u001b[0;34m.\u001b[0m\u001b[0mget_loc\u001b[0m\u001b[0;34m(\u001b[0m\u001b[0mcasted_key\u001b[0m\u001b[0;34m)\u001b[0m\u001b[0;34m\u001b[0m\u001b[0;34m\u001b[0m\u001b[0m\n\u001b[0m\u001b[1;32m   2896\u001b[0m             \u001b[0;32mexcept\u001b[0m \u001b[0mKeyError\u001b[0m \u001b[0;32mas\u001b[0m \u001b[0merr\u001b[0m\u001b[0;34m:\u001b[0m\u001b[0;34m\u001b[0m\u001b[0;34m\u001b[0m\u001b[0m\n",
      "\u001b[0;32mpandas/_libs/index.pyx\u001b[0m in \u001b[0;36mpandas._libs.index.IndexEngine.get_loc\u001b[0;34m()\u001b[0m\n",
      "\u001b[0;32mpandas/_libs/index.pyx\u001b[0m in \u001b[0;36mpandas._libs.index.IndexEngine.get_loc\u001b[0;34m()\u001b[0m\n",
      "\u001b[0;32mpandas/_libs/hashtable_class_helper.pxi\u001b[0m in \u001b[0;36mpandas._libs.hashtable.PyObjectHashTable.get_item\u001b[0;34m()\u001b[0m\n",
      "\u001b[0;32mpandas/_libs/hashtable_class_helper.pxi\u001b[0m in \u001b[0;36mpandas._libs.hashtable.PyObjectHashTable.get_item\u001b[0;34m()\u001b[0m\n",
      "\u001b[0;31mKeyError\u001b[0m: ('item_id', 'item_cnt_day')",
      "\nThe above exception was the direct cause of the following exception:\n",
      "\u001b[0;31mKeyError\u001b[0m                                  Traceback (most recent call last)",
      "\u001b[0;32m<ipython-input-79-c1ea71c7d23f>\u001b[0m in \u001b[0;36m<module>\u001b[0;34m\u001b[0m\n\u001b[0;32m----> 1\u001b[0;31m \u001b[0mprint\u001b[0m\u001b[0;34m(\u001b[0m\u001b[0mtt_items\u001b[0m\u001b[0;34m[\u001b[0m\u001b[0;34m'item_id'\u001b[0m\u001b[0;34m,\u001b[0m \u001b[0;34m'item_cnt_day'\u001b[0m\u001b[0;34m]\u001b[0m\u001b[0;34m)\u001b[0m\u001b[0;34m\u001b[0m\u001b[0;34m\u001b[0m\u001b[0m\n\u001b[0m\u001b[1;32m      2\u001b[0m \u001b[0;34m\u001b[0m\u001b[0m\n\u001b[1;32m      3\u001b[0m \u001b[0mplt\u001b[0m\u001b[0;34m.\u001b[0m\u001b[0mplot\u001b[0m\u001b[0;34m(\u001b[0m\u001b[0mtt_items\u001b[0m\u001b[0;34m[\u001b[0m\u001b[0;34m'item_id'\u001b[0m\u001b[0;34m]\u001b[0m\u001b[0;34m,\u001b[0m\u001b[0mtt_items\u001b[0m\u001b[0;34m[\u001b[0m\u001b[0;34m'item_cnt_day'\u001b[0m\u001b[0;34m]\u001b[0m\u001b[0;34m)\u001b[0m\u001b[0;34m\u001b[0m\u001b[0;34m\u001b[0m\u001b[0m\n\u001b[1;32m      4\u001b[0m \u001b[0mplt\u001b[0m\u001b[0;34m.\u001b[0m\u001b[0mshow\u001b[0m\u001b[0;34m(\u001b[0m\u001b[0;34m)\u001b[0m\u001b[0;34m\u001b[0m\u001b[0;34m\u001b[0m\u001b[0m\n",
      "\u001b[0;32m~/anaconda3/envs/aiffel/lib/python3.7/site-packages/pandas/core/frame.py\u001b[0m in \u001b[0;36m__getitem__\u001b[0;34m(self, key)\u001b[0m\n\u001b[1;32m   2904\u001b[0m             \u001b[0;32mif\u001b[0m \u001b[0mself\u001b[0m\u001b[0;34m.\u001b[0m\u001b[0mcolumns\u001b[0m\u001b[0;34m.\u001b[0m\u001b[0mnlevels\u001b[0m \u001b[0;34m>\u001b[0m \u001b[0;36m1\u001b[0m\u001b[0;34m:\u001b[0m\u001b[0;34m\u001b[0m\u001b[0;34m\u001b[0m\u001b[0m\n\u001b[1;32m   2905\u001b[0m                 \u001b[0;32mreturn\u001b[0m \u001b[0mself\u001b[0m\u001b[0;34m.\u001b[0m\u001b[0m_getitem_multilevel\u001b[0m\u001b[0;34m(\u001b[0m\u001b[0mkey\u001b[0m\u001b[0;34m)\u001b[0m\u001b[0;34m\u001b[0m\u001b[0;34m\u001b[0m\u001b[0m\n\u001b[0;32m-> 2906\u001b[0;31m             \u001b[0mindexer\u001b[0m \u001b[0;34m=\u001b[0m \u001b[0mself\u001b[0m\u001b[0;34m.\u001b[0m\u001b[0mcolumns\u001b[0m\u001b[0;34m.\u001b[0m\u001b[0mget_loc\u001b[0m\u001b[0;34m(\u001b[0m\u001b[0mkey\u001b[0m\u001b[0;34m)\u001b[0m\u001b[0;34m\u001b[0m\u001b[0;34m\u001b[0m\u001b[0m\n\u001b[0m\u001b[1;32m   2907\u001b[0m             \u001b[0;32mif\u001b[0m \u001b[0mis_integer\u001b[0m\u001b[0;34m(\u001b[0m\u001b[0mindexer\u001b[0m\u001b[0;34m)\u001b[0m\u001b[0;34m:\u001b[0m\u001b[0;34m\u001b[0m\u001b[0;34m\u001b[0m\u001b[0m\n\u001b[1;32m   2908\u001b[0m                 \u001b[0mindexer\u001b[0m \u001b[0;34m=\u001b[0m \u001b[0;34m[\u001b[0m\u001b[0mindexer\u001b[0m\u001b[0;34m]\u001b[0m\u001b[0;34m\u001b[0m\u001b[0;34m\u001b[0m\u001b[0m\n",
      "\u001b[0;32m~/anaconda3/envs/aiffel/lib/python3.7/site-packages/pandas/core/indexes/base.py\u001b[0m in \u001b[0;36mget_loc\u001b[0;34m(self, key, method, tolerance)\u001b[0m\n\u001b[1;32m   2895\u001b[0m                 \u001b[0;32mreturn\u001b[0m \u001b[0mself\u001b[0m\u001b[0;34m.\u001b[0m\u001b[0m_engine\u001b[0m\u001b[0;34m.\u001b[0m\u001b[0mget_loc\u001b[0m\u001b[0;34m(\u001b[0m\u001b[0mcasted_key\u001b[0m\u001b[0;34m)\u001b[0m\u001b[0;34m\u001b[0m\u001b[0;34m\u001b[0m\u001b[0m\n\u001b[1;32m   2896\u001b[0m             \u001b[0;32mexcept\u001b[0m \u001b[0mKeyError\u001b[0m \u001b[0;32mas\u001b[0m \u001b[0merr\u001b[0m\u001b[0;34m:\u001b[0m\u001b[0;34m\u001b[0m\u001b[0;34m\u001b[0m\u001b[0m\n\u001b[0;32m-> 2897\u001b[0;31m                 \u001b[0;32mraise\u001b[0m \u001b[0mKeyError\u001b[0m\u001b[0;34m(\u001b[0m\u001b[0mkey\u001b[0m\u001b[0;34m)\u001b[0m \u001b[0;32mfrom\u001b[0m \u001b[0merr\u001b[0m\u001b[0;34m\u001b[0m\u001b[0;34m\u001b[0m\u001b[0m\n\u001b[0m\u001b[1;32m   2898\u001b[0m \u001b[0;34m\u001b[0m\u001b[0m\n\u001b[1;32m   2899\u001b[0m         \u001b[0;32mif\u001b[0m \u001b[0mtolerance\u001b[0m \u001b[0;32mis\u001b[0m \u001b[0;32mnot\u001b[0m \u001b[0;32mNone\u001b[0m\u001b[0;34m:\u001b[0m\u001b[0;34m\u001b[0m\u001b[0;34m\u001b[0m\u001b[0m\n",
      "\u001b[0;31mKeyError\u001b[0m: ('item_id', 'item_cnt_day')"
     ]
    }
   ],
   "source": [
    "print(tt_items['item_id', 'item_cnt_day'])\n",
    "\n",
    "plt.plot(tt_items['item_id'],tt_items['item_cnt_day'])\n",
    "plt.show()"
   ]
  },
  {
   "cell_type": "code",
   "execution_count": null,
   "id": "biological-paste",
   "metadata": {},
   "outputs": [],
   "source": []
  },
  {
   "cell_type": "code",
   "execution_count": null,
   "id": "smooth-buffalo",
   "metadata": {},
   "outputs": [],
   "source": []
  },
  {
   "cell_type": "code",
   "execution_count": null,
   "id": "rational-angel",
   "metadata": {},
   "outputs": [],
   "source": []
  },
  {
   "cell_type": "code",
   "execution_count": null,
   "id": "collect-article",
   "metadata": {},
   "outputs": [],
   "source": []
  },
  {
   "cell_type": "code",
   "execution_count": null,
   "id": "distinguished-salvation",
   "metadata": {},
   "outputs": [],
   "source": []
  },
  {
   "cell_type": "code",
   "execution_count": null,
   "id": "elect-cable",
   "metadata": {},
   "outputs": [],
   "source": []
  },
  {
   "cell_type": "code",
   "execution_count": null,
   "id": "bigger-marina",
   "metadata": {},
   "outputs": [],
   "source": []
  },
  {
   "cell_type": "code",
   "execution_count": null,
   "id": "gothic-cambridge",
   "metadata": {},
   "outputs": [],
   "source": []
  },
  {
   "cell_type": "code",
   "execution_count": null,
   "id": "combined-continent",
   "metadata": {},
   "outputs": [],
   "source": []
  },
  {
   "cell_type": "code",
   "execution_count": null,
   "id": "perfect-amino",
   "metadata": {},
   "outputs": [],
   "source": []
  },
  {
   "cell_type": "code",
   "execution_count": null,
   "id": "comfortable-differential",
   "metadata": {},
   "outputs": [],
   "source": []
  },
  {
   "cell_type": "code",
   "execution_count": null,
   "id": "understanding-detroit",
   "metadata": {},
   "outputs": [],
   "source": []
  },
  {
   "cell_type": "code",
   "execution_count": null,
   "id": "dynamic-worker",
   "metadata": {},
   "outputs": [],
   "source": []
  },
  {
   "cell_type": "code",
   "execution_count": null,
   "id": "lucky-pakistan",
   "metadata": {},
   "outputs": [],
   "source": []
  },
  {
   "cell_type": "code",
   "execution_count": null,
   "id": "pursuant-diagram",
   "metadata": {},
   "outputs": [],
   "source": []
  },
  {
   "cell_type": "code",
   "execution_count": null,
   "id": "square-tobacco",
   "metadata": {},
   "outputs": [],
   "source": []
  },
  {
   "cell_type": "code",
   "execution_count": null,
   "id": "apparent-convergence",
   "metadata": {},
   "outputs": [],
   "source": []
  },
  {
   "cell_type": "code",
   "execution_count": null,
   "id": "royal-essence",
   "metadata": {},
   "outputs": [],
   "source": []
  },
  {
   "cell_type": "code",
   "execution_count": null,
   "id": "complicated-future",
   "metadata": {},
   "outputs": [],
   "source": []
  },
  {
   "cell_type": "code",
   "execution_count": null,
   "id": "sporting-introduction",
   "metadata": {},
   "outputs": [],
   "source": []
  },
  {
   "cell_type": "code",
   "execution_count": null,
   "id": "returning-survivor",
   "metadata": {},
   "outputs": [],
   "source": []
  },
  {
   "cell_type": "code",
   "execution_count": null,
   "id": "domestic-aurora",
   "metadata": {},
   "outputs": [],
   "source": []
  },
  {
   "cell_type": "code",
   "execution_count": null,
   "id": "clean-stanley",
   "metadata": {},
   "outputs": [],
   "source": []
  },
  {
   "cell_type": "code",
   "execution_count": null,
   "id": "oriented-belgium",
   "metadata": {},
   "outputs": [],
   "source": []
  },
  {
   "cell_type": "code",
   "execution_count": null,
   "id": "serial-detection",
   "metadata": {},
   "outputs": [],
   "source": []
  },
  {
   "cell_type": "code",
   "execution_count": null,
   "id": "moral-motion",
   "metadata": {},
   "outputs": [],
   "source": []
  },
  {
   "cell_type": "code",
   "execution_count": null,
   "id": "acute-stockholm",
   "metadata": {},
   "outputs": [],
   "source": []
  },
  {
   "cell_type": "code",
   "execution_count": null,
   "id": "medium-departure",
   "metadata": {},
   "outputs": [],
   "source": []
  },
  {
   "cell_type": "code",
   "execution_count": null,
   "id": "thick-analyst",
   "metadata": {},
   "outputs": [],
   "source": []
  },
  {
   "cell_type": "code",
   "execution_count": null,
   "id": "hearing-portal",
   "metadata": {},
   "outputs": [],
   "source": []
  },
  {
   "cell_type": "code",
   "execution_count": null,
   "id": "transsexual-fault",
   "metadata": {},
   "outputs": [],
   "source": []
  },
  {
   "cell_type": "code",
   "execution_count": null,
   "id": "driven-buddy",
   "metadata": {},
   "outputs": [],
   "source": []
  },
  {
   "cell_type": "code",
   "execution_count": null,
   "id": "optional-bottom",
   "metadata": {},
   "outputs": [],
   "source": []
  },
  {
   "cell_type": "code",
   "execution_count": null,
   "id": "italic-powder",
   "metadata": {},
   "outputs": [],
   "source": []
  },
  {
   "cell_type": "code",
   "execution_count": null,
   "id": "accessory-singles",
   "metadata": {},
   "outputs": [],
   "source": []
  },
  {
   "cell_type": "code",
   "execution_count": null,
   "id": "muslim-stress",
   "metadata": {},
   "outputs": [],
   "source": []
  },
  {
   "cell_type": "code",
   "execution_count": null,
   "id": "dramatic-tampa",
   "metadata": {},
   "outputs": [],
   "source": []
  },
  {
   "cell_type": "code",
   "execution_count": null,
   "id": "potential-weekly",
   "metadata": {},
   "outputs": [],
   "source": []
  },
  {
   "cell_type": "code",
   "execution_count": null,
   "id": "contrary-throat",
   "metadata": {},
   "outputs": [],
   "source": []
  },
  {
   "cell_type": "code",
   "execution_count": null,
   "id": "downtown-treasury",
   "metadata": {},
   "outputs": [],
   "source": []
  },
  {
   "cell_type": "code",
   "execution_count": null,
   "id": "material-auction",
   "metadata": {},
   "outputs": [],
   "source": []
  },
  {
   "cell_type": "code",
   "execution_count": null,
   "id": "geographic-brush",
   "metadata": {},
   "outputs": [],
   "source": []
  },
  {
   "cell_type": "code",
   "execution_count": null,
   "id": "herbal-vietnamese",
   "metadata": {},
   "outputs": [],
   "source": []
  },
  {
   "cell_type": "code",
   "execution_count": null,
   "id": "surprising-float",
   "metadata": {},
   "outputs": [],
   "source": []
  }
 ],
 "metadata": {
  "kernelspec": {
   "display_name": "aiffel",
   "language": "python",
   "name": "aiffel"
  },
  "language_info": {
   "codemirror_mode": {
    "name": "ipython",
    "version": 3
   },
   "file_extension": ".py",
   "mimetype": "text/x-python",
   "name": "python",
   "nbconvert_exporter": "python",
   "pygments_lexer": "ipython3",
   "version": "3.7.9"
  },
  "toc": {
   "base_numbering": 1,
   "nav_menu": {},
   "number_sections": true,
   "sideBar": true,
   "skip_h1_title": false,
   "title_cell": "Table of Contents",
   "title_sidebar": "Contents",
   "toc_cell": false,
   "toc_position": {
    "height": "calc(100% - 180px)",
    "left": "10px",
    "top": "150px",
    "width": "326.319px"
   },
   "toc_section_display": true,
   "toc_window_display": true
  },
  "varInspector": {
   "cols": {
    "lenName": 16,
    "lenType": 16,
    "lenVar": 40
   },
   "kernels_config": {
    "python": {
     "delete_cmd_postfix": "",
     "delete_cmd_prefix": "del ",
     "library": "var_list.py",
     "varRefreshCmd": "print(var_dic_list())"
    },
    "r": {
     "delete_cmd_postfix": ") ",
     "delete_cmd_prefix": "rm(",
     "library": "var_list.r",
     "varRefreshCmd": "cat(var_dic_list()) "
    }
   },
   "types_to_exclude": [
    "module",
    "function",
    "builtin_function_or_method",
    "instance",
    "_Feature"
   ],
   "window_display": false
  }
 },
 "nbformat": 4,
 "nbformat_minor": 5
}
